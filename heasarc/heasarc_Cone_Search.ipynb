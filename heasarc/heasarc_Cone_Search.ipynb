{
 "cells": [
  {
   "cell_type": "markdown",
   "metadata": {},
   "source": [
    "# Simple Cone Search of HEASARC catalogs"
   ]
  },
  {
   "cell_type": "markdown",
   "metadata": {},
   "source": [
    "# 1. Finding HEASARC SCS services\n",
    "First, find out what catalogs HEASARC has available for cone searches.  To do this, we use the Table Access Protocol (TAP); see the TAP notebook for details."
   ]
  },
  {
   "cell_type": "code",
   "execution_count": 1,
   "metadata": {},
   "outputs": [],
   "source": [
    "import requests, io\n",
    "from astropy.table import Table"
   ]
  },
  {
   "cell_type": "code",
   "execution_count": 2,
   "metadata": {},
   "outputs": [
    {
     "name": "stderr",
     "output_type": "stream",
     "text": [
      "WARNING: W42: None:2:0: W42: No XML namespace specified [astropy.io.votable.tree]\n",
      "WARNING: W32: None:8:3: W32: Duplicate ID 'value' renamed to 'value_2' to ensure uniqueness [astropy.io.votable.tree]\n",
      "WARNING: W33: None:8:3: W33: Column name 'value' renamed to 'value 2' to ensure uniqueness [astropy.io.votable.tree]\n"
     ]
    },
    {
     "data": {
      "text/html": [
       "&lt;Table masked=True length=15&gt;\n",
       "<table id=\"table4520535824\" class=\"table-striped table-bordered table-condensed\">\n",
       "<thead><tr><th>value</th><th>value_2</th></tr></thead>\n",
       "<thead><tr><th>object</th><th>object</th></tr></thead>\n",
       "<tr><td>ascamaster</td><td>ASCA Master Catalog</td></tr>\n",
       "<tr><td>ascasis</td><td>ASCA SIS Source Catalog</td></tr>\n",
       "<tr><td>chanmaster</td><td>Chandra Observations</td></tr>\n",
       "<tr><td>numaster</td><td>NuSTAR Master Catalog</td></tr>\n",
       "<tr><td>rassmaster</td><td>ROSAT All-Sky Survey Archival Data</td></tr>\n",
       "<tr><td>roshri</td><td>ROSAT Results Archive Sources for the HRI</td></tr>\n",
       "<tr><td>roshritotal</td><td>ROSAT Complete Results Archive Sources for the HRI</td></tr>\n",
       "<tr><td>rosmaster</td><td>ROSAT Archival Data</td></tr>\n",
       "<tr><td>rospspc</td><td>ROSAT Results Archive Sources for the PSPC</td></tr>\n",
       "<tr><td>suzamaster</td><td>Suzaku Master Catalog</td></tr>\n",
       "<tr><td>swiftbalog</td><td>Swift BAT Instrument Log</td></tr>\n",
       "<tr><td>swiftuvlog</td><td>Swift UVOT Instrument Log</td></tr>\n",
       "<tr><td>swiftxrlog</td><td>Swift XRT Instrument Log</td></tr>\n",
       "<tr><td>tartarus</td><td>Tartarus: Reduced ASCA AGN Data (Version 3.1)</td></tr>\n",
       "<tr><td>xmmmaster</td><td>XMM-Newton Master Log &amp; Public Archive</td></tr>\n",
       "</table>"
      ],
      "text/plain": [
       "<Table masked=True length=15>\n",
       "   value                         value_2                      \n",
       "   object                         object                      \n",
       "----------- --------------------------------------------------\n",
       " ascamaster                                ASCA Master Catalog\n",
       "    ascasis                            ASCA SIS Source Catalog\n",
       " chanmaster                               Chandra Observations\n",
       "   numaster                              NuSTAR Master Catalog\n",
       " rassmaster                 ROSAT All-Sky Survey Archival Data\n",
       "     roshri          ROSAT Results Archive Sources for the HRI\n",
       "roshritotal ROSAT Complete Results Archive Sources for the HRI\n",
       "  rosmaster                                ROSAT Archival Data\n",
       "    rospspc         ROSAT Results Archive Sources for the PSPC\n",
       " suzamaster                              Suzaku Master Catalog\n",
       " swiftbalog                           Swift BAT Instrument Log\n",
       " swiftuvlog                          Swift UVOT Instrument Log\n",
       " swiftxrlog                           Swift XRT Instrument Log\n",
       "   tartarus      Tartarus: Reduced ASCA AGN Data (Version 3.1)\n",
       "  xmmmaster             XMM-Newton Master Log & Public Archive"
      ]
     },
     "execution_count": 2,
     "metadata": {},
     "output_type": "execute_result"
    }
   ],
   "source": [
    "tap_params = {\n",
    "    \"request\":\"doQuery\",\n",
    "    \"lang\":\"ADQL\",\n",
    "    \"query\":\n",
    "    \"\"\"\n",
    "    select distinct a.value,b.value\n",
    "       from metainfo a, metainfo b\n",
    "       where\n",
    "         a.type='sialink' and a.relation='table' and\n",
    "         b.type='table' and b.relation='description' and\n",
    "         a.value=b.name\n",
    "       order by a.value\n",
    "       \"\"\"\n",
    "    }\n",
    "r = requests.get('https://heasarc.gsfc.nasa.gov/xamin/vo/tap/sync', params=tap_params)\n",
    "table=Table.read(io.BytesIO(r.content))\n",
    "table"
   ]
  },
  {
   "cell_type": "markdown",
   "metadata": {},
   "source": [
    "<a id=\"scs\"></a>\n",
    "# 2. SCS:  Using the Simple Cone Search \n",
    "The __[Simple Cone Search (SCS) protocol](http://www.ivoa.net/documents/latest/ConeSearch.html)__ is used to search a given table with a given position and radius, getting again a VOTable XML result.  "
   ]
  },
  {
   "cell_type": "markdown",
   "metadata": {},
   "source": [
    "<a id=\"scs1\"></a>\n",
    "The SCS is quite straightforward.  Using ``requests``, send a query to https://heasarc.gsfc.nasa.gov/cgi-bin/vo/cone/coneGet.pl with a parameter dictionary containing the short name of the HEASARC table, the position of interest, and the search radius in degrees, as follows:"
   ]
  },
  {
   "cell_type": "code",
   "execution_count": 4,
   "metadata": {},
   "outputs": [
    {
     "name": "stdout",
     "output_type": "stream",
     "text": [
      "obsid  status    name       ra    ... type     pi    public_date Search_Offset\n",
      "                           deg    ...                    mjd                  \n",
      "----- -------- -------- --------- ... ---- --------- ----------- -------------\n",
      " 6786 archived  UGC8499 202.54750 ...   GO   Capetti       54292       29.9179\n",
      "12668 archived SN2011dh 202.52133 ...  TOO Soderberg       56112       23.6067\n",
      "12562 archived PTF11eon 202.52117 ...  TOO    Pooley       56091       23.6036\n",
      " 1622 archived      M51 202.46792 ...  GTO    Wilson       52464       22.5119\n",
      "  353 archived      M51 202.46792 ...  GTO    Wilson       52017       22.5135\n",
      "  354 archived      M51 202.46792 ...  GTO    Wilson       52095       22.5135\n",
      "13812 archived      M51 202.50000 ...   GO     Kuntz       56576       23.6863\n",
      "13813 archived      M51 202.50000 ...   GO     Kuntz       56576       23.6863\n",
      "13814 archived      M51 202.50000 ...   GO     Kuntz       56576       23.6863\n",
      "13815 archived      M51 202.50000 ...   GO     Kuntz       56576       23.6863\n",
      "13816 archived      M51 202.50000 ...   GO     Kuntz       56576       23.6863\n",
      "15496 archived      M51 202.50000 ...   GO     Kuntz       56576       23.6863\n",
      "15553 archived      M51 202.50000 ...   GO     Kuntz       56576       23.6863\n",
      " 3932 archived      M51 202.48333 ...   GO Terashima       53229       23.6343\n",
      "19522 observed      M51 202.48417 ...   GO Brightman       58196       24.1304\n",
      "  414 archived NGC 5195 202.49458 ...  GTO   Garmire       52004       25.8005\n"
     ]
    },
    {
     "name": "stderr",
     "output_type": "stream",
     "text": [
      "WARNING: W03: None:4:2: W03: Implicitly generating an ID from a name 'Info:Name resolution' -> 'Info_Name_resolution' [astropy.io.votable.xmlutil]\n",
      "WARNING: W50: None:22:3: W50: Invalid unit string 'mjd' [astropy.io.votable.tree]\n",
      "WARNING: W50: None:40:3: W50: Invalid unit string 'mjd' [astropy.io.votable.tree]\n"
     ]
    }
   ],
   "source": [
    "params = {'table': 'chanmaster', 'RA': 202., 'DEC': 47, 'SR':1}\n",
    "r = requests.get('https://heasarc.gsfc.nasa.gov/cgi-bin/vo/cone/coneGet.pl', params=params)\n",
    "table=Table.read(io.BytesIO(r.content))\n",
    "print(table)               "
   ]
  },
  {
   "cell_type": "code",
   "execution_count": null,
   "metadata": {
    "collapsed": true
   },
   "outputs": [],
   "source": []
  }
 ],
 "metadata": {
  "anaconda-cloud": {},
  "kernelspec": {
   "display_name": "Python 3",
   "language": "python",
   "name": "python3"
  },
  "language_info": {
   "codemirror_mode": {
    "name": "ipython",
    "version": 3
   },
   "file_extension": ".py",
   "mimetype": "text/x-python",
   "name": "python",
   "nbconvert_exporter": "python",
   "pygments_lexer": "ipython3",
   "version": "3.6.4"
  },
  "nav_menu": {},
  "toc": {
   "navigate_menu": true,
   "number_sections": false,
   "sideBar": true,
   "threshold": 6,
   "toc_cell": false,
   "toc_section_display": "block",
   "toc_window_display": true
  }
 },
 "nbformat": 4,
 "nbformat_minor": 1
}
