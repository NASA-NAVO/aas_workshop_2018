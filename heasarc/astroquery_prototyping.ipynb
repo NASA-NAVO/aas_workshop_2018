{
 "cells": [
  {
   "cell_type": "markdown",
   "metadata": {},
   "source": [
    "Ideally, go so far as to prototype it, making functions that hardwire the notebook examples so you can see how it would work. Think about how it could work not as below with astroquery.heasarc.list_sia_services(), for example, but just as astroquery.list_sia_services(). The whole point is the user should care which site it comes from.\n",
    "\n",
    "If HEASARC takes over astroquery.heasarc, we could use things like:\n",
    "\n",
    "TAP:  \n",
    "\n",
    "    astroquery.heasarc.list_sia_services() \n",
    "\n",
    "TAP:  \n",
    "\n",
    "    astroquery.heasarc.surveys_like(\"Redshift”)\n",
    "\n",
    "SIA:  \n",
    "    \n",
    "    astroquery.heasarc.query_skyview()\n",
    "\n",
    "SIA:  \n",
    "    \n",
    "    astroquery.heasarc.query_image()  # Xamin instead\n",
    "\n",
    "\n",
    " notes on Vandana’s collected workshop notebook:\n"
   ]
  },
  {
   "cell_type": "code",
   "execution_count": 4,
   "metadata": {},
   "outputs": [],
   "source": [
    "import matplotlib\n",
    "import matplotlib.pyplot as plt\n",
    "%matplotlib inline  \n",
    "import requests, io, astropy\n",
    "from IPython.display import Image, display\n",
    "\n",
    "## For handling ordinary astropy Tables\n",
    "from astropy.table import Table\n",
    "\n",
    "## For reading FITS files\n",
    "import astropy.io.fits as apfits\n",
    "\n",
    "## There are a number of relatively unimportant warnings that \n",
    "## show up, so for now, suppress them:\n",
    "import warnings\n",
    "warnings.filterwarnings(\"ignore\")"
   ]
  },
  {
   "cell_type": "code",
   "execution_count": null,
   "metadata": {
    "collapsed": true
   },
   "outputs": [],
   "source": []
  },
  {
   "cell_type": "markdown",
   "metadata": {},
   "source": [
    "General use regtap function for use internally only, i.e. users shouldn't need to see this:"
   ]
  },
  {
   "cell_type": "code",
   "execution_count": 5,
   "metadata": {
    "collapsed": true
   },
   "outputs": [],
   "source": [
    "def regtap_get_service( source='' , service_type='' ):\n",
    "    \n",
    "    regtap_url='http://vao.stsci.edu/RegTAP/TapService.aspx/sync'\n",
    "    if 'image' in service_type:\n",
    "        service_type='simpleimageaccess'\n",
    "    elif 'cone' in service_type: \n",
    "        service_type=\"conesearch\"\n",
    "    elif 'spectr' in service_type:\n",
    "        service_type='simplespectralaccess'\n",
    "    else:\n",
    "        print(\"ERROR: don't recognize the requested service type\")\n",
    "        raise\n",
    "        \n",
    "\n",
    "    criteria=\"where a.cap_type='{}'\".format(service_type)    \n",
    "    if source is not '':\n",
    "        criteria=criteria + \" and a.ivoid like 'ivo://%{}%'\".format(source)\n",
    "\n",
    "    # Warning:  'query' is bizarrely case-sensitive:\n",
    "    tap_params = {\n",
    "        \"request\":\"doQuery\",\n",
    "        \"lang\":\"ADQL\",\n",
    "        \"query\":\"\"\"\n",
    "            select b.short_name,b.res_description, c.access_url \n",
    "            from rr.capability a natural join rr.resource b natural join rr.interface c\n",
    "            {} \n",
    "            order by short_name;\n",
    "        \"\"\".format(criteria)\n",
    "        }\n",
    "\n",
    "    r = requests.post(regtap_url, data=tap_params)\n",
    "    ## The astropy.table  module will read this VO Table formatted result into an astropy Table:\n",
    "    return Table.read(io.BytesIO(r.content))\n",
    "    \n"
   ]
  },
  {
   "cell_type": "code",
   "execution_count": null,
   "metadata": {
    "collapsed": true
   },
   "outputs": [],
   "source": []
  },
  {
   "cell_type": "markdown",
   "metadata": {},
   "source": [
    "3 NED example cone search:  \n",
    "\n",
    "Instead of searching NED ‘manually’, a generic cone search that you can give a list of ras, decs, and radii (or just one obviously) and optionally specify that you want ‘ned’ results or some other IVOID substring. If you ask for known things like ‘ned’, it has hard-wired (?) base URL and query path. If not, it queries the RegTAP to find out what cone searches are available that match a given ivoid_string.  So the user would call:\n",
    "\n",
    "    cone_results = astroquery.cone_search(ras, decs, radii, [source={‘heasarc’, ‘irsa’,’stsci’,’ned’,’ivoid_string'}] ) \n",
    "\n",
    "where ras, decs, and radii can be floats or arrays of floats, get back table of NED objects (or all?), including the column ACREF  that the user doesn’t want to have to know about. Or one function that calls a cone search for a single position and returns the info for all objects found in a list of tables:\n",
    "\n",
    "    ned_info = astroquery.get_ned_info( ra, dec, radii )\n",
    "\n",
    "calls the cone search and passes the ACREF for each match to NED again. \n",
    "\n",
    "Questions: HEASARC cone search doesn’t return an ACREF. Why not? The columns returned aren’t part of the standard? Ned returns ObjectName, NumberPhotometricPoints, and ACREF. HEASARC’s chanmaster returns obsid, status, name, ra, dec, time, detector, … So these things aren’t in any way standard, only the way you ask for ra, dec, and radius? In which case, the get_ned_info() couldn’t be generalized. \n"
   ]
  },
  {
   "cell_type": "code",
   "execution_count": null,
   "metadata": {
    "collapsed": true
   },
   "outputs": [],
   "source": [
    "\n",
    "def cone_search( ras, decs, radii, source='' ):\n",
    "    # Define a list of URLs to query. If source given, use \n",
    "    return Table()"
   ]
  },
  {
   "cell_type": "markdown",
   "metadata": {},
   "source": [
    "4 TAP:  \n",
    "\n",
    "    sia_services = astroquery.list_sia_services( [source={‘heasarc’, ‘irsa’,’stsci’,’ned’,’ivoid_string'}] , [name_like=‘allwise’], [description_like=‘whatever’] ) \n",
    "\n",
    "This one can easily be generalized so you can get images from any service (or a chosen one) that have a short name substring, or description substring. (Or perhaps just string_like=‘whatever’ and it searches both short name as well as description?) It returns a table of information, including the ‘access_url’ that you can then plug into another generic function\n",
    "\n",
    "\n"
   ]
  },
  {
   "cell_type": "code",
   "execution_count": null,
   "metadata": {
    "collapsed": true
   },
   "outputs": [],
   "source": [
    "def list_sia_services( source='', name_like=''):\n",
    "    return Table()"
   ]
  },
  {
   "cell_type": "markdown",
   "metadata": {},
   "source": [
    "5 SIA\n",
    "\n",
    "    sia_results = astroquery.get_image( access_url=sia_services[20][‘access_url’], pos=‘185.47873,4.47365', size=‘0’]\n",
    "\n",
    "or perhaps\n",
    "\n",
    "    sia_results = astroquery.get_image_info( access_url=sia_services[:][‘access_url’], pos=‘185.47873,4.47365', size=‘0’, naxis=‘300,300’]\n",
    "\n",
    "to get a table list of all images in a list of services that contain that point. But combining the columns from the different services is again annoying. Need to use a function that combines them using the UCD? Eg., HEASARC uses “sia_url”, and this is the UCD “VOX:Image_AccessReference”, so something inside would have transparently translate from each different archive’s column names to something standardized. (The UCD itself? Or something we define, e.g., “image_url”?)\n",
    "\n"
   ]
  },
  {
   "cell_type": "code",
   "execution_count": null,
   "metadata": {
    "collapsed": true
   },
   "outputs": [],
   "source": [
    "def get_image_info( access_url, pos, size, naxis=''):\n",
    "    return Table()\n",
    "\n"
   ]
  },
  {
   "cell_type": "markdown",
   "metadata": {},
   "source": [
    "7  Then get it with a trivial wrapper of urllib.request ? For HEASARC SkyView, can get FITS or JPEG. Others? Generalized?\n",
    "\n",
    "    astroquery.download_image( sia_results[0][‘image_url’], [filename,] format={‘fits’,’jpeg’} )\n",
    "\n",
    "With the option to rename it. Or better to read it in immediately? \n",
    "\n",
    "    fits_image = astroquery.get_image( sia_results[0][‘image_url’] )\n",
    "    plt.imshow( fits_image )\n",
    "\n",
    "and fits_image is the data array from the image extension itself. Or should we get the HUD list itself?\n",
    "\n",
    "    fits_image =  astroquery.get_image( sia_results[0][‘image_url’] )\n",
    "    plt.imshow( fits_image[0].data )\n",
    "\n"
   ]
  },
  {
   "cell_type": "code",
   "execution_count": null,
   "metadata": {
    "collapsed": true
   },
   "outputs": [],
   "source": []
  },
  {
   "cell_type": "markdown",
   "metadata": {},
   "source": [
    "8\n",
    "\n",
    "This is complex but can use the above. \n",
    "\n",
    "    galex_sia_services = astroquery.list_sia_services( name_like=“galex”) \n",
    "    2mass_sia_services = astroquery.list_sia_services( name_like=“2mass”) \n",
    "    allwise_sia_services = astroquery.list_sia_services( name_like=“allwise”) \n",
    "    \n",
    "    query_urls=galex_sia_services[:][’access_url’]\n",
    "    query_urls.extend( 2mass_sia_services[:][’access_url’])\n",
    "    query_urls.extend( allwise_sia_services[:][’access_url’])\n",
    "    \n",
    "    for url in query_urls:\n",
    "    \n",
    "\n",
    "\n",
    "\n",
    "    "
   ]
  }
 ],
 "metadata": {
  "kernelspec": {
   "display_name": "Python 3",
   "language": "python",
   "name": "python3"
  },
  "language_info": {
   "codemirror_mode": {
    "name": "ipython",
    "version": 3
   },
   "file_extension": ".py",
   "mimetype": "text/x-python",
   "name": "python",
   "nbconvert_exporter": "python",
   "pygments_lexer": "ipython3",
   "version": "3.6.3"
  }
 },
 "nbformat": 4,
 "nbformat_minor": 2
}
