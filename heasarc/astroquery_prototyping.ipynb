{
 "cells": [
  {
   "cell_type": "markdown",
   "metadata": {},
   "source": [
    "In the following, the code cells are the prototypes of the code we need. What the user would actually have to type is shown in the text cells. \n",
    "\n",
    "Ideally, go so far as to prototype it, making functions that hardwire the notebook examples so you can see how it would work. Think about how it could work not as below with astroquery.heasarc.list_sia_services(), for example, but just as astroquery.list_sia_services(). The whole point is the user should care which site it comes from.\n",
    "\n",
    "If HEASARC takes over astroquery.heasarc, we could use things like:\n",
    "\n",
    "TAP:  \n",
    "\n",
    "    astroquery.list_image_services(source='heasarc') \n",
    "\n",
    "TAP:  \n",
    "\n",
    "    astroquery.surveys_like(\"Redshift”,source='heasarc')\n",
    "\n",
    "SIA:  \n",
    "    \n",
    "    astroquery.get_image() # skyview vs xamin? \n",
    "\n",
    "\n",
    " notes on Vandana’s collected workshop notebook:\n"
   ]
  },
  {
   "cell_type": "code",
   "execution_count": 4,
   "metadata": {},
   "outputs": [],
   "source": [
    "import matplotlib\n",
    "import matplotlib.pyplot as plt\n",
    "%matplotlib inline  \n",
    "import requests, io, astropy\n",
    "from IPython.display import Image, display\n",
    "\n",
    "## For handling ordinary astropy Tables\n",
    "from astropy.table import Table\n",
    "\n",
    "## For reading FITS files\n",
    "import astropy.io.fits as apfits\n",
    "\n",
    "## There are a number of relatively unimportant warnings that \n",
    "## show up, so for now, suppress them:\n",
    "import warnings\n",
    "warnings.filterwarnings(\"ignore\")"
   ]
  },
  {
   "cell_type": "code",
   "execution_count": null,
   "metadata": {
    "collapsed": true
   },
   "outputs": [],
   "source": []
  },
  {
   "cell_type": "markdown",
   "metadata": {},
   "source": [
    "General use regtap function for use internally only, i.e. users shouldn't need to see this:"
   ]
  },
  {
   "cell_type": "code",
   "execution_count": 18,
   "metadata": {
    "collapsed": true
   },
   "outputs": [],
   "source": [
    "def regtap_query_string(service_type, source='',name_like=''):\n",
    "    ''' Wrapper for RegTAP queries, returns short_name, res_description, and access_url\n",
    "   \n",
    "    This should have a lot of options. Search for wavebands etc.?   \n",
    "    '''\n",
    "    criteria=\"where a.cap_type='{}'\".format(service_type)    \n",
    "    if source is not '':\n",
    "        criteria=criteria + \" and a.ivoid like 'ivo://%{}%'\".format(source)\n",
    "    if name_like is not '':\n",
    "        criteria=criteria + \" and b.short_name like %{}%\".format(name_like)\n",
    "    return {\n",
    "        \"request\":\"doQuery\",\n",
    "        \"lang\":\"ADQL\",\n",
    "        \"query\":\"\"\"\n",
    "            select b.short_name,b.res_description, c.access_url \n",
    "            from rr.capability a natural join rr.resource b natural join rr.interface c\n",
    "            {} \n",
    "            order by short_name;\n",
    "        \"\"\".format(criteria)\n",
    "        }\n",
    "\n",
    "def request2table(url,data,params):\n",
    "    \"\"\"Just wraps the requests.get() and converts to astropy table\"\"\"\n",
    "    r=requests.get(url,data=data,params=params)\n",
    "    return Table.read(io.BytesIO(r.content))\n",
    "\n",
    "def regtap_get_service( source='' , service_type='' ):\n",
    "    \"\"\"Query regtap for a service of the given type and optional source.\"\"\"\n",
    "    regtap_url='http://vao.stsci.edu/RegTAP/TapService.aspx/sync'\n",
    "    if 'image' in service_type:\n",
    "        service_type='simpleimageaccess'\n",
    "    elif 'cone' in service_type: \n",
    "        service_type=\"conesearch\"\n",
    "    elif 'spectr' in service_type:\n",
    "        service_type='simplespectralaccess'\n",
    "    else:\n",
    "        print(\"ERROR: don't recognize the requested service type\")\n",
    "        raise\n",
    "        \n",
    "    # Warning:  'query' is bizarrely case-sensitive:\n",
    "    tap_params = astroquery.regtap_query_string(service_type, source )\n",
    "    return astroquery.request2table( regtap_url, data=tap_params )\n",
    "\n"
   ]
  },
  {
   "cell_type": "markdown",
   "metadata": {},
   "source": [
    "Combining the columns from the different services is again annoying. Need to use a function that combines them using the UCD? Eg., in some places HEASARC uses the column name “sia_url”, and this is the UCD “VOX:Image_AccessReference”, so something inside would have transparently translate from each different archive’s column names to something standardized. (The UCD itself? Or something we define, e.g., “image_url”?)\n",
    "\n",
    "We should just use UCDs or UTYPEs and even just **ignore** all column names that we get back and immediately rename everything with the UCD and use only that internally. Then to hand it back to the user, we define our own astroquery column names that are obvious, like “URL”, etc., though storing the history (the UCD and the original service-specific column name) in the column’s meta data.\n",
    "\n",
    "We need to keep the ucd information around, however. It's in the VOTable XML that we should get back from any service. And it IS kept in the astropy table as, e.g., uvot_table['Ra'].meta['ucd'] or uvot_table['URL'].meta['ucd']. So we can use these.\n",
    "\n",
    "So under the hood, we would take any table we get back and rename each column with its UCD. Then to give things to the user, define simple dictionaries of the common columns such as:"
   ]
  },
  {
   "cell_type": "code",
   "execution_count": 23,
   "metadata": {
    "collapsed": true
   },
   "outputs": [],
   "source": [
    "# Somehow have this overloaded for objects of type SIA, SSA, etc.? Or just one list if there are no ambiguities? \n",
    "def ucd2col(ucd):\n",
    "    u2c={\n",
    "        \"VOX:Image_AccessReference\":\"URL\",\n",
    "        \"meta.ref.url\":\"URL\"\n",
    "    }\n",
    "    return u2c[ucd]\n",
    "    \n",
    "def col2ucd(col):\n",
    "    # But these aren't unique. \n",
    "    c2u={\n",
    "        \"URL\":[\"VOX:Image_AccessReference\",\"meta.ref.url\"]        \n",
    "    }\n",
    "    return c2f[col]\n",
    "    \n",
    "    \n",
    "def standardize( list_of_tables):\n",
    "    \"\"\"Take a list of astropy tables that have all different columns and convert to one standard astropy table\n",
    "    \n",
    "    Use the list_of_tables[table_number][column].meta['ucd'] to identify the standard columns we want.\n",
    "    \n",
    "    \"\"\"\n",
    "    return astropy_table, metadata"
   ]
  },
  {
   "cell_type": "code",
   "execution_count": null,
   "metadata": {
    "collapsed": true
   },
   "outputs": [],
   "source": []
  },
  {
   "cell_type": "code",
   "execution_count": null,
   "metadata": {
    "collapsed": true
   },
   "outputs": [],
   "source": []
  },
  {
   "cell_type": "markdown",
   "metadata": {},
   "source": [
    "3 NED example cone search:  \n",
    "\n",
    "Instead of searching NED ‘manually’, a generic cone search that you can give a list of ras, decs, and radii (or just one obviously) and optionally specify that you want ‘ned’ results or some other IVOID substring. If you ask for known things like ‘ned’, it has hard-wired (?) base URL and query path. If not, it queries the RegTAP to find out what cone searches are available that match a given ivoid_string.  So the user would call:\n",
    "\n",
    "    cone_results, meta = astroquery.cone_search(ras, decs, radii, [source=’some_ivoid_string_eg_ned']) \n",
    "\n",
    "where ras, decs, and radii can be floats or arrays of floats, get back table of objects for a specified source or list of tables, one for each matching source? Since every table will return different columns, need to return some kind of meta data result as well. Separate object or attached to each result column's meta data? \n",
    "\n",
    "Started to define a function for the second part of this cell in the workshop notebook that got the pass bands from NED. This is very NED-specific. Any way to generalize?\n",
    "\n",
    "    ned_info = astroquery.get_ned_info( ra, dec, radii )\n",
    "\n",
    "calls the cone search and passes the ACREF for each match to NED again to get the info. But ACREF isn't a required value returned by a cone search. All that's required is the ID, RA, and DEC. So I don't think this can be generalized.\n"
   ]
  },
  {
   "cell_type": "code",
   "execution_count": 20,
   "metadata": {},
   "outputs": [],
   "source": [
    "\n",
    "def one_cone_search( ra, dec, radius, source):\n",
    "    params = {'RA': RA, 'DEC': DEC, 'SR':radius}\n",
    "    r=requests.get(service,params=params)\n",
    "    return Table.read(io.BytesIO(r.content))\n",
    "\n",
    "def cone_search( ras, decs, radius, source='' ):\n",
    "    \"\"\" This is based on the AAS workshop example. Haven't yet looked at the vo_conesearch() that exists, etc.\"\"\"\n",
    "    # Define a list of URLs to query. \n",
    "    services=astroquery.regtap_get_service(source=source,type=\"cone\")\n",
    "    # For each service, the returned columns are different. \n",
    "    # So cannot make one big astropy table, instead start with a list \n",
    "    # of tables, one per service.\n",
    "    all_results=[]\n",
    "    for service in services:\n",
    "        # Start an astropy table for this service? Not sure of the initialization\n",
    "        service_results=astropy.Table()\n",
    "        for i in range(0,len(ras)):\n",
    "            # Not sure of the extension. \n",
    "            service_results.extend( astroquery.one_cone_search(ras[i],decs[i],radius,service) )\n",
    "            # Get some meta data.\n",
    "        # Now that we've done all the searches for this service, append this one astropy table to the *list*\n",
    "        #  of astropy tables in the results.\n",
    "        all_results.append(service_results)\n",
    "        \n",
    "    return astroquery.standardize(all_results) \n",
    "\n"
   ]
  },
  {
   "cell_type": "markdown",
   "metadata": {},
   "source": [
    "4 TAP:  \n",
    "\n",
    "    sia_services = astroquery.list_sia_services( [source=’ivoid_string_eg_heasarc'] , [name_like=‘allwise’], [description_like=‘whatever’] ) \n",
    "\n",
    "This one can easily be generalized so you can get images from any service (or a chosen one) that have a short name substring, or description substring. (Or perhaps just string_like=‘whatever’ and it searches both short name as well as description?) It returns a table of information, including the ‘access_url’ that you can then plug into another generic function\n",
    "\n",
    "\n"
   ]
  },
  {
   "cell_type": "code",
   "execution_count": 22,
   "metadata": {
    "collapsed": true
   },
   "outputs": [],
   "source": [
    "def list_image_services( source='', name_like=''):\n",
    "    service=astroquery.regtap_get_service(service_type=\"image\",source=source,name_like=name_like)\n",
    "    return request2table(url=service,)\n",
    "def list_spectra_serices():\n",
    "    service=astroquery.regtap_get_service(service_type=\"spectra\",source=source,name_like=name_like)\n",
    "    return request2table(url=service,)\n",
    "def list_cone_serices():\n",
    "    service=astroquery.regtap_get_service(service_type=\"cone\",source=source,name_like=name_like)\n",
    "    return request2table(url=service,)\n"
   ]
  },
  {
   "cell_type": "markdown",
   "metadata": {},
   "source": [
    "5 SIA\n",
    "\n",
    "Then pick one of the listed services (say number 20, after you looked at the descriptions) and query it to get an image.\n",
    "\n",
    "    image_url = astroquery.get_image_url( access_url=sia_services[20][‘access_url’], pos=‘185.47873,4.47365', size=‘0’]\n",
    "\n",
    "or perhaps you don't know which service is quite what you want, so get info for all of them:\n",
    "\n",
    "    images_info = astroquery.get_images_info( access_url=sia_services[:][‘access_url’], pos=‘185.47873,4.47365', size=‘0’, naxis=‘300,300’]\n",
    "\n",
    "to get a table list of all images in a list of services that contain that point. Then standardize them as above.\n",
    "\n"
   ]
  },
  {
   "cell_type": "code",
   "execution_count": 25,
   "metadata": {},
   "outputs": [],
   "source": [
    "def get_image_url( access_url, pos, size, naxis='',format='fits'):\n",
    "    \"\"\"Return a single image url\n",
    "    \n",
    "    For some services, you have to specify the format, e.g., SkyView. Is this standard?\"\"\"\n",
    "    # Send the query to get the URLs to any matching images\n",
    "    result_table=astroquery.standardize(\n",
    "        astroquery.request2table( url=access_url, params = {'pos': pos, 'size': size, 'naxis':naxis})\n",
    "    )\n",
    "    # Find the FITS image url. For SkyView, there will be 2 URLs, one FITS and one JPEG\n",
    "    return result_table[the_right_one]['url']\n",
    "\n",
    "def get_images_info( access_urls, pos, size, naxis=''):\n",
    "    \"\"\"Return the URLs etc. for images available from a list of services.\"\"\"\n",
    "    # Since the columns differ, first get a list of astropy tables.\n",
    "    results=[] \n",
    "    for service_url in access_urls:\n",
    "        results.append( astroquery.get_image( access_url=service_url, pos=pos,size=size,naxis=naxis) )\n",
    "    return astroquery.standardize(results)\n",
    "\n",
    " "
   ]
  },
  {
   "cell_type": "markdown",
   "metadata": {},
   "source": [
    "7.\n",
    "\n",
    "You can look at the images_info and pick one to download:\n",
    "\n",
    "    astroquery.download_image( images_info[6]['url'], filename='my_file.fits')\n",
    "    \n",
    "or get the image data to hand to the plotter:\n",
    "\n",
    "    image=astroquery.get_image( images_info[6]['url'] )\n",
    "    plt.imshow( image,  cmap='gray', origin='lower',vmax=0.02 )\n",
    "    \n",
    "    \n",
    "\n"
   ]
  },
  {
   "cell_type": "code",
   "execution_count": null,
   "metadata": {
    "collapsed": true
   },
   "outputs": [],
   "source": [
    "                                   \n",
    "def download_image( image_url, filename=''):\n",
    "    \"\"\"Download the image and optionally rename \"\"\"\n",
    "    urllib.request.urlretrieve(image_url, filename)\n",
    "    return \n",
    "\n",
    "def get_image( image_url ):\n",
    "    \"\"\"Returns the data that can be handed to plt.imshow() from a URL\"\"\"\n",
    "    astroquery.download_image( image_url, filename='tmp.fits')\n",
    "    hdus=astropy.io.fits.open('tmp.fits')\n",
    "    return hdus[0].data\n",
    "\n"
   ]
  },
  {
   "cell_type": "markdown",
   "metadata": {},
   "source": [
    "8\n",
    "\n",
    "This is complex but can use the above. \n",
    "\n",
    "    galex_sia_services = astroquery.list_sia_services( name_like=“galex”) \n",
    "    2mass_sia_services = astroquery.list_sia_services( name_like=“2mass”) \n",
    "    allwise_sia_services = astroquery.list_sia_services( name_like=“allwise”) \n",
    "    \n",
    "    query_urls=galex_sia_services[:][’access_url’]\n",
    "    query_urls.extend( 2mass_sia_services[:][’access_url’])\n",
    "    query_urls.extend( allwise_sia_services[:][’access_url’])\n",
    "    \n",
    "    for url in query_urls:\n",
    "    \n",
    "\n",
    "\n",
    "\n",
    "    "
   ]
  }
 ],
 "metadata": {
  "kernelspec": {
   "display_name": "Python 3",
   "language": "python",
   "name": "python3"
  },
  "language_info": {
   "codemirror_mode": {
    "name": "ipython",
    "version": 3
   },
   "file_extension": ".py",
   "mimetype": "text/x-python",
   "name": "python",
   "nbconvert_exporter": "python",
   "pygments_lexer": "ipython3",
   "version": "3.6.3"
  }
 },
 "nbformat": 4,
 "nbformat_minor": 2
}
