{
 "cells": [
  {
   "cell_type": "markdown",
   "metadata": {},
   "source": [
    "# Using VO Tables from HEASARC "
   ]
  },
  {
   "cell_type": "markdown",
   "metadata": {},
   "source": [
    "In this notebook, we show how to list, fetch and look at VO tables from the HEASARC archive and also how to create your own VO Table, which can be used to cross-correlate with other VO Tables.  \n",
    "\n",
    "*  [1. Retrieving](#retrieve) a catalog as a VO Table\n",
    "*  [2. Creating](#create) a VOTable from scratch\n",
    "*  [3. Uploading](#upload) our VOTable file for cross-correlation"
   ]
  },
  {
   "cell_type": "code",
   "execution_count": 1,
   "metadata": {},
   "outputs": [],
   "source": [
    "## The main HTTP request tool we will use:\n",
    "import requests, io, numpy\n",
    "## \n",
    "from astropy import table as aptable"
   ]
  },
  {
   "cell_type": "markdown",
   "metadata": {},
   "source": [
    "<a id=\"retrieve\"></a>\n",
    "\n",
    "# 1. Retrieving a catalog as a VO Table\n",
    "\n",
    "We can use __[Browse](https://heasarc.gsfc.nasa.gov/cgi-bin/W3Browse/w3browse.pl)__ to get any HEASARC catalog.  Browse can be used to retrieve tables in a number of formats, one of which is a VOTable in XML as defined by the __[IVOA reference](http://www.ivoa.net/documents/VOTable/)__.  \n",
    "\n",
    "The requests package of python is a generic interface to web services.  The requests.get() method formats the given parameters for you and returns the results of the HTTP request in a useful object.  In this case, the result is a string containing the VOTable XML.  The standard astropy.table package can read these into the standard Table objec.\n",
    "\n",
    "This fetches the entire rosmaster catalog, so give it a few seconds:"
   ]
  },
  {
   "cell_type": "code",
   "execution_count": 2,
   "metadata": {},
   "outputs": [],
   "source": [
    "params = {'name': 'rosmaster'}\n",
    "r = requests.get('http://heasarc.gsfc.nasa.gov/cgi-bin/W3Browse/getvotable.pl', params=params)\n"
   ]
  },
  {
   "cell_type": "markdown",
   "metadata": {},
   "source": [
    "The astropy.table package can read the VOTable's XML and create a usual Table object (with some warnings that we can ignore):"
   ]
  },
  {
   "cell_type": "code",
   "execution_count": 4,
   "metadata": {},
   "outputs": [
    {
     "name": "stderr",
     "output_type": "stream",
     "text": [
      "WARNING: W42: None:2:0: W42: No XML namespace specified [astropy.io.votable.tree]\n",
      "WARNING: W15: None:13:6: W15: PARAM element missing required 'name' attribute [astropy.io.votable.tree]\n",
      "WARNING: W15: None:14:6: W15: PARAM element missing required 'name' attribute [astropy.io.votable.tree]\n",
      "WARNING: W15: None:15:6: W15: PARAM element missing required 'name' attribute [astropy.io.votable.tree]\n",
      "WARNING: W49: None:149:141: W49: Empty cell illegal for integer fields. [astropy.io.votable.converters]\n",
      "WARNING: W49: None:152:143: W49: Empty cell illegal for integer fields. [astropy.io.votable.converters]\n",
      "WARNING: W49: None:155:144: W49: Empty cell illegal for integer fields. [astropy.io.votable.converters]\n",
      "WARNING: W49: None:158:143: W49: Empty cell illegal for integer fields. [astropy.io.votable.converters]\n",
      "WARNING: W49: None:164:146: W49: Empty cell illegal for integer fields. [astropy.io.votable.converters]\n",
      "WARNING: W49: None:167:145: W49: Empty cell illegal for integer fields. [astropy.io.votable.converters]\n",
      "WARNING: W49: None:170:146: W49: Empty cell illegal for integer fields. [astropy.io.votable.converters]\n",
      "WARNING: W49: None:362:144: W49: Empty cell illegal for integer fields. [astropy.io.votable.converters]\n",
      "WARNING: W49: None:374:145: W49: Empty cell illegal for integer fields. [astropy.io.votable.converters]\n",
      "WARNING: W49: None:377:144: W49: Empty cell illegal for integer fields. (suppressing further warnings of this type...) [astropy.io.votable.converters]\n"
     ]
    }
   ],
   "source": [
    "table=aptable.Table.read(io.BytesIO(r.content))"
   ]
  },
  {
   "cell_type": "code",
   "execution_count": 6,
   "metadata": {
    "scrolled": true
   },
   "outputs": [
    {
     "data": {
      "text/html": [
       "&lt;Table masked=True length=20&gt;\n",
       "<table id=\"table4529270176\" class=\"table-striped table-bordered table-condensed\">\n",
       "<thead><tr><th>col1</th><th>col2</th><th>col3</th><th>col4</th><th>col5</th><th>col6</th><th>col7</th><th>col8</th><th>col9</th><th>col10</th><th>col11</th><th>col12</th><th>col13</th><th>col14</th><th>col15</th><th>col16</th><th>col17</th><th>col18</th><th>col19</th><th>col20</th><th>col21</th><th>col22</th><th>col23</th><th>col24</th><th>col25</th><th>col26</th><th>col27</th><th>col28</th></tr></thead>\n",
       "<thead><tr><th></th><th>deg</th><th>deg</th><th>deg</th><th>deg</th><th></th><th></th><th></th><th>s</th><th>s</th><th></th><th>MJD</th><th>MJD</th><th></th><th></th><th></th><th></th><th></th><th></th><th></th><th></th><th></th><th></th><th></th><th>deg</th><th>d</th><th>d</th><th></th></tr></thead>\n",
       "<thead><tr><th>bytes16</th><th>float64</th><th>float64</th><th>float64</th><th>float64</th><th>bytes6</th><th>bytes2</th><th>bytes4</th><th>int32</th><th>int32</th><th>bytes10</th><th>float64</th><th>float64</th><th>bytes20</th><th>bytes16</th><th>bytes14</th><th>int32</th><th>bytes4</th><th>int16</th><th>int16</th><th>bytes120</th><th>int32</th><th>int16</th><th>int32</th><th>int16</th><th>int32</th><th>int32</th><th>int16</th></tr></thead>\n",
       "<tr><td>RH202299N00</td><td>49.3200</td><td>-85.5400</td><td>299.8517</td><td>-30.6815</td><td>HRI</td><td>N</td><td>MPE</td><td>36146</td><td>70000</td><td>RDF 4_2</td><td>50174.496192129598</td><td>50187.986747685201</td><td>RE J0317-853</td><td>BURLEIGH</td><td>MATTHEW</td><td>202299</td><td>n00</td><td>2</td><td>2</td><td>RE J0317-853</td><td>24302</td><td>6</td><td>7128</td><td>307</td><td>2163</td><td>2177</td><td>2900</td></tr>\n",
       "<tr><td>RH202299A01</td><td>49.3200</td><td>-85.5400</td><td>299.8517</td><td>-30.6815</td><td>HRI</td><td>N</td><td>MPE</td><td>43683</td><td>70000</td><td>RDF 3_6</td><td>50324.742534722202</td><td>50377.477592592601</td><td>RE J0317-853</td><td>BURLEIGH</td><td>MATTHEW</td><td>202299</td><td>a01</td><td>2</td><td>2</td><td>RE J0317-853</td><td>24301</td><td>6</td><td>7128</td><td>162</td><td>2316</td><td>2369</td><td>2900</td></tr>\n",
       "<tr><td>RP200594N00</td><td>151.8800</td><td>-85.0800</td><td>299.4192</td><td>-23.3707</td><td>PSPCB</td><td>N</td><td>MPE</td><td>4231</td><td>5000</td><td>RDF 3_4</td><td>48682.1389583333</td><td>48690.983333333301</td><td>HD 89499</td><td>FLEMING</td><td>THOMAS</td><td>200594</td><td>n00</td><td>2</td><td>2</td><td>HD 89499</td><td>17171</td><td>2</td><td>3532</td><td>66</td><td>648</td><td>657</td><td>2900</td></tr>\n",
       "<tr><td>RH201328N00</td><td>107.9100</td><td>-84.4700</td><td>296.7740</td><td>-26.5072</td><td>HRI</td><td>N</td><td>MPE</td><td>2332</td><td>2000</td><td>RDF 3_4</td><td>48880.838020833296</td><td>48881.780729166698</td><td>HD 60102 AB</td><td>ZINNECKER</td><td>HANS</td><td>201328</td><td>n00</td><td>2</td><td>2</td><td>HD 60102 AB</td><td>22560</td><td>3</td><td>4268</td><td>215</td><td>850</td><td>851</td><td>2900</td></tr>\n",
       "<tr><td>RH400876A01</td><td>193.9400</td><td>-83.3700</td><td>303.0651</td><td>-20.4994</td><td>HRI</td><td>N</td><td>GSFC</td><td>19075</td><td>20000</td><td>RDF 4_2</td><td>50702.423530092601</td><td>50735.172557870399</td><td>2EG J1248-8306 POS 3</td><td>HALPERN</td><td>JULES</td><td>400876</td><td>a01</td><td>4</td><td>2</td><td>2EG J1248-8306 POS 3</td><td>25116</td><td>7</td><td>2460</td><td>299</td><td>2699</td><td>2733</td><td>9999</td></tr>\n",
       "<tr><td>RH400876N00</td><td>193.9400</td><td>-83.3700</td><td>303.0651</td><td>-20.4994</td><td>HRI</td><td>N</td><td>GSFC</td><td>1059</td><td>20000</td><td>RDF 4_0</td><td>50548.2425</td><td>50548.255474537</td><td>2EG J1248-8306 POS 3</td><td>HALPERN</td><td>JULES</td><td>400876</td><td>n00</td><td>4</td><td>2</td><td>2EG J1248-8306 POS 3</td><td>19808</td><td>7</td><td>2460</td><td>85</td><td>2543</td><td>2543</td><td>9999</td></tr>\n",
       "<tr><td>RH400877A02</td><td>190.1700</td><td>-83.3600</td><td>302.6001</td><td>-20.4952</td><td>HRI</td><td>N</td><td>GSFC</td><td>19384</td><td>20000</td><td>RDF 4_2</td><td>50893.248460648101</td><td>50895.138969907399</td><td>2EG J1248-8306 POS 4</td><td>HALPERN</td><td>JULES</td><td>400877</td><td>a02</td><td>4</td><td>2</td><td>2EG J1248-8306 POS 4</td><td>24927</td><td>7</td><td>2460</td><td>90</td><td>2893</td><td>2895</td><td>9999</td></tr>\n",
       "<tr><td>RH400877A01</td><td>190.1700</td><td>-83.3600</td><td>302.6001</td><td>-20.4952</td><td>HRI</td><td>N</td><td>GSFC</td><td>2363</td><td>20000</td><td>RDF 4_2</td><td>50735.5647916667</td><td>50735.574120370402</td><td>2EG J1248-8306 POS 4</td><td>HALPERN</td><td>JULES</td><td>400877</td><td>a01</td><td>4</td><td>2</td><td>2EG J1248-8306 POS 4</td><td>25115</td><td>7</td><td>2460</td><td>260</td><td>2733</td><td>2733</td><td>9999</td></tr>\n",
       "<tr><td>RH400877N00</td><td>190.1700</td><td>-83.3600</td><td>302.6001</td><td>-20.4952</td><td>HRI</td><td>N</td><td>GSFC</td><td>1250</td><td>20000</td><td>RDF 4_0</td><td>50548.770254629599</td><td>50548.785879629599</td><td>2EG J1248-8306 POS 4</td><td>HALPERN</td><td>JULES</td><td>400877</td><td>n00</td><td>4</td><td>2</td><td>2EG J1248-8306 POS 4</td><td>19809</td><td>7</td><td>2460</td><td>81</td><td>2543</td><td>2543</td><td>9999</td></tr>\n",
       "<tr><td>RH400874N00</td><td>193.9400</td><td>-82.9200</td><td>303.0737</td><td>-20.0494</td><td>HRI</td><td>N</td><td>GSFC</td><td>1177</td><td>20000</td><td>RDF 4_0</td><td>50543.865555555603</td><td>50543.8800694444</td><td>2EG J1248-8306 POS 1</td><td>HALPERN</td><td>JULES</td><td>400874</td><td>n00</td><td>4</td><td>2</td><td>2EG J1248-8306 POS 1</td><td>19651</td><td>7</td><td>2460</td><td>89</td><td>2538</td><td>2538</td><td>9999</td></tr>\n",
       "<tr><td>RH400874A01</td><td>193.9400</td><td>-82.9200</td><td>303.0737</td><td>-20.0494</td><td>HRI</td><td>N</td><td>GSFC</td><td>14497</td><td>20000</td><td>RDF 4_2</td><td>50728.866550925901</td><td>50732.658148148097</td><td>2EG J1248-8306 POS 1</td><td>HALPERN</td><td>JULES</td><td>400874</td><td>a01</td><td>4</td><td>2</td><td>2EG J1248-8306 POS 1</td><td>24637</td><td>7</td><td>2460</td><td>269</td><td>2726</td><td>2730</td><td>9999</td></tr>\n",
       "<tr><td>RH400875A01</td><td>190.1700</td><td>-82.9200</td><td>302.5792</td><td>-20.0556</td><td>HRI</td><td>N</td><td>GSFC</td><td>16493</td><td>20000</td><td>RDF 4_2</td><td>50725.2176273148</td><td>50730.2015509259</td><td>2EG J1248-8306 POS 2</td><td>HALPERN</td><td>JULES</td><td>400875</td><td>a01</td><td>4</td><td>2</td><td>2EG J1248-8306 POS 2</td><td>24631</td><td>7</td><td>2460</td><td>264</td><td>2722</td><td>2727</td><td>9999</td></tr>\n",
       "<tr><td>RH400875N00</td><td>190.1700</td><td>-82.9200</td><td>302.5792</td><td>-20.0556</td><td>HRI</td><td>N</td><td>GSFC</td><td>3656</td><td>20000</td><td>RDF 4_0</td><td>50542.871331018498</td><td>50546.796979166698</td><td>2EG J1248-8306 POS 2</td><td>HALPERN</td><td>JULES</td><td>400875</td><td>n00</td><td>4</td><td>2</td><td>2EG J1248-8306 POS 2</td><td>19807</td><td>7</td><td>2460</td><td>86</td><td>2537</td><td>2541</td><td>9999</td></tr>\n",
       "<tr><td>RP300026N00</td><td>93.1800</td><td>-81.8400</td><td>293.7966</td><td>-28.2036</td><td>PSPCB</td><td>N</td><td>GSFC</td><td>9907</td><td>15000</td><td>RDF 3_6</td><td>48365.042835648099</td><td>48367.325011574103</td><td>1H0551-819</td><td>BUCKLEY</td><td>DAVID</td><td>300026</td><td>n00</td><td>3</td><td>2</td><td>1H0551-819</td><td>17454</td><td>1</td><td>339</td><td>325</td><td>326</td><td>329</td><td>1600</td></tr>\n",
       "<tr><td>RP150093N00</td><td>93.1800</td><td>-81.8300</td><td>293.7853</td><td>-28.2046</td><td>PSPCC</td><td>N</td><td>GSFC</td><td>3169</td><td>15000</td><td>RDF 3_6</td><td>48102.0797453704</td><td>48102.205902777801</td><td>1H0551-819</td><td>BUCKLEY</td><td>DAVID</td><td>150093</td><td>n00</td><td>3</td><td>2</td><td>1H0551-819</td><td>16387</td><td>0</td><td>339</td><td>69</td><td>59</td><td>59</td><td>1600</td></tr>\n",
       "<tr><td>RH150094N00</td><td>93.1800</td><td>-81.8300</td><td>293.7853</td><td>-28.2046</td><td>HRI</td><td>N</td><td>MPE</td><td>0</td><td>0</td><td>RFITS V4.</td><td>48101.926192129598</td><td>48101.956238425897</td><td>Calibration Source</td><td>MPE</td><td>ROSAT-TEAM</td><td>150094</td><td>n00</td><td>1</td><td>2</td><td>CALIBRATION SOURCE</td><td>70047</td><td>0</td><td>0</td><td>240</td><td>59</td><td>59</td><td>2900</td></tr>\n",
       "<tr><td>RH999996A01</td><td>84.2900</td><td>-80.4700</td><td>292.5145</td><td>-29.7763</td><td>HRI</td><td>N</td><td>GSFC</td><td>73</td><td>0</td><td>RDF 3_4</td><td>48555.093136574098</td><td>48555.094097222202</td><td>Idle Point</td><td>MPE</td><td>ROSAT-TEAM</td><td>999996</td><td>a01</td><td>9</td><td>2</td><td>IDLE POINT</td><td>12334</td><td>0</td><td>0</td><td>132</td><td>519</td><td>519</td><td>3900</td></tr>\n",
       "<tr><td>RH999996A00</td><td>84.2900</td><td>-80.4700</td><td>292.5145</td><td>-29.7763</td><td>HRI</td><td>N</td><td>GSFC</td><td>287</td><td>0</td><td>RDF 3_6</td><td>48334.726446759298</td><td>48334.732187499998</td><td>Idle Point</td><td>MPE</td><td>ROSAT-TEAM</td><td>999996</td><td>a00</td><td>9</td><td>2</td><td>IDLE POINT</td><td>17330</td><td>0</td><td>0</td><td>10</td><td>296</td><td>296</td><td>3900</td></tr>\n",
       "<tr><td>RP999998A02</td><td>84.2900</td><td>-80.4700</td><td>292.5145</td><td>-29.7763</td><td>PSPCB</td><td>N</td><td>MPE</td><td>0</td><td>0</td><td>RDF 3_4</td><td>48549.172129629602</td><td>48561.947025463</td><td>Idle Point</td><td>MPE</td><td>ROSAT-TEAM</td><td>999998</td><td>a02</td><td>9</td><td>2</td><td>IDLE POINT</td><td>14515</td><td>0</td><td>0</td><td>135</td><td>513</td><td>526</td><td>3900</td></tr>\n",
       "<tr><td>RP180278N00</td><td>84.2900</td><td>-80.4700</td><td>292.5145</td><td>-29.7763</td><td>PSPCB</td><td>N</td><td>MPE</td><td>880</td><td>2000</td><td>RFITS V4.</td><td>51159.569803240702</td><td>51159.5843171296</td><td></td><td>SCHMITT</td><td>JUERGEN</td><td>180278</td><td>n00</td><td>1</td><td>2</td><td>PI MENSAE</td><td>60018</td><td>9</td><td>9201</td><td>95</td><td>3163</td><td>3163</td><td>2900</td></tr>\n",
       "</table>"
      ],
      "text/plain": [
       "<Table masked=True length=20>\n",
       "    col1      col2     col3     col4     col5   ... col25 col26 col27 col28\n",
       "              deg      deg      deg      deg    ...  deg    d     d        \n",
       "  bytes16   float64  float64  float64  float64  ... int16 int32 int32 int16\n",
       "----------- -------- -------- -------- -------- ... ----- ----- ----- -----\n",
       "RH202299N00  49.3200 -85.5400 299.8517 -30.6815 ...   307  2163  2177  2900\n",
       "RH202299A01  49.3200 -85.5400 299.8517 -30.6815 ...   162  2316  2369  2900\n",
       "RP200594N00 151.8800 -85.0800 299.4192 -23.3707 ...    66   648   657  2900\n",
       "RH201328N00 107.9100 -84.4700 296.7740 -26.5072 ...   215   850   851  2900\n",
       "RH400876A01 193.9400 -83.3700 303.0651 -20.4994 ...   299  2699  2733  9999\n",
       "RH400876N00 193.9400 -83.3700 303.0651 -20.4994 ...    85  2543  2543  9999\n",
       "RH400877A02 190.1700 -83.3600 302.6001 -20.4952 ...    90  2893  2895  9999\n",
       "RH400877A01 190.1700 -83.3600 302.6001 -20.4952 ...   260  2733  2733  9999\n",
       "RH400877N00 190.1700 -83.3600 302.6001 -20.4952 ...    81  2543  2543  9999\n",
       "RH400874N00 193.9400 -82.9200 303.0737 -20.0494 ...    89  2538  2538  9999\n",
       "RH400874A01 193.9400 -82.9200 303.0737 -20.0494 ...   269  2726  2730  9999\n",
       "RH400875A01 190.1700 -82.9200 302.5792 -20.0556 ...   264  2722  2727  9999\n",
       "RH400875N00 190.1700 -82.9200 302.5792 -20.0556 ...    86  2537  2541  9999\n",
       "RP300026N00  93.1800 -81.8400 293.7966 -28.2036 ...   325   326   329  1600\n",
       "RP150093N00  93.1800 -81.8300 293.7853 -28.2046 ...    69    59    59  1600\n",
       "RH150094N00  93.1800 -81.8300 293.7853 -28.2046 ...   240    59    59  2900\n",
       "RH999996A01  84.2900 -80.4700 292.5145 -29.7763 ...   132   519   519  3900\n",
       "RH999996A00  84.2900 -80.4700 292.5145 -29.7763 ...    10   296   296  3900\n",
       "RP999998A02  84.2900 -80.4700 292.5145 -29.7763 ...   135   513   526  3900\n",
       "RP180278N00  84.2900 -80.4700 292.5145 -29.7763 ...    95  3163  3163  2900"
      ]
     },
     "execution_count": 6,
     "metadata": {},
     "output_type": "execute_result"
    }
   ],
   "source": [
    "table[0:20]"
   ]
  },
  {
   "cell_type": "markdown",
   "metadata": {},
   "source": [
    "The current astroquery.heasarc package has limited functionality, but it will return astropy Tables from object queries to HEASARC catalogs.  (It does not currently use the VO interface.)  For example:"
   ]
  },
  {
   "cell_type": "code",
   "execution_count": 7,
   "metadata": {
    "scrolled": true
   },
   "outputs": [
    {
     "ename": "ModuleNotFoundError",
     "evalue": "No module named 'astroquery.heasarc'",
     "output_type": "error",
     "traceback": [
      "\u001b[0;31m---------------------------------------------------------------------------\u001b[0m",
      "\u001b[0;31mModuleNotFoundError\u001b[0m                       Traceback (most recent call last)",
      "\u001b[0;32m<ipython-input-7-63b83fd47bb1>\u001b[0m in \u001b[0;36m<module>\u001b[0;34m()\u001b[0m\n\u001b[0;32m----> 1\u001b[0;31m \u001b[0;32mfrom\u001b[0m \u001b[0mastroquery\u001b[0m\u001b[0;34m.\u001b[0m\u001b[0mheasarc\u001b[0m \u001b[0;32mimport\u001b[0m \u001b[0mHeasarc\u001b[0m\u001b[0;34m\u001b[0m\u001b[0m\n\u001b[0m\u001b[1;32m      2\u001b[0m \u001b[0mheasarc\u001b[0m\u001b[0;34m=\u001b[0m\u001b[0mHeasarc\u001b[0m\u001b[0;34m(\u001b[0m\u001b[0;34m)\u001b[0m\u001b[0;34m\u001b[0m\u001b[0m\n\u001b[1;32m      3\u001b[0m \u001b[0mheasarc\u001b[0m\u001b[0;34m.\u001b[0m\u001b[0mquery_object\u001b[0m\u001b[0;34m(\u001b[0m\u001b[0;34m'3c273'\u001b[0m\u001b[0;34m,\u001b[0m\u001b[0;34m\"rosmaster\"\u001b[0m\u001b[0;34m)\u001b[0m\u001b[0;34m\u001b[0m\u001b[0m\n",
      "\u001b[0;31mModuleNotFoundError\u001b[0m: No module named 'astroquery.heasarc'"
     ]
    }
   ],
   "source": [
    "from astroquery.heasarc import Heasarc\n",
    "heasarc=Heasarc()\n",
    "heasarc.query_object('3c273',\"rosmaster\")"
   ]
  },
  {
   "cell_type": "code",
   "execution_count": null,
   "metadata": {
    "collapsed": true
   },
   "outputs": [],
   "source": []
  },
  {
   "cell_type": "markdown",
   "metadata": {
    "collapsed": true
   },
   "source": [
    "<a id=\"create\"></a>\n",
    "# 2. Creating a VO Table from scratch"
   ]
  },
  {
   "cell_type": "markdown",
   "metadata": {},
   "source": [
    "Alternatively, we can create a table from scratch using an array of values named whatever we want.  \n",
    "\n",
    "There are several ways of doing this, and there are a few object layers here, which can be confusing.  There are standard astropy Table objects, there are votable Table objects, and there are votable VOTableFile objects that might contain multiple votable Tables. Though some things can be done with generic astropy Tables, other VO operations can only be done with VO Tables or VOTableFile objects.  \n",
    "\n",
    "This is easiest to see with an example.  "
   ]
  },
  {
   "cell_type": "code",
   "execution_count": 9,
   "metadata": {},
   "outputs": [
    {
     "name": "stdout",
     "output_type": "stream",
     "text": [
      "<class 'astropy.table.table.Table'>\n",
      "   ra      dec  \n",
      "-------- -------\n",
      " 19.0186 46.7304\n",
      " 20.2887 40.4703\n",
      "125.8860 21.3377\n",
      "136.0020 21.9679\n",
      "141.0570 40.6372\n",
      "146.7000 22.0116\n",
      "148.7850 14.2922\n",
      "149.7510 17.8168\n",
      "175.0390 15.3270\n",
      "191.5420 30.7317\n",
      "194.9130 28.8959\n",
      "199.0260 41.5011\n",
      "206.5770 43.8511\n",
      "209.9630 38.1821\n",
      "213.5560 15.6214\n",
      "219.9670 42.7421\n",
      "226.6930 12.8502\n",
      "237.4890 20.8057\n",
      "241.5190 20.8014\n",
      "317.0880 18.2002\n",
      "329.2350  6.6485\n",
      "333.8300 37.3012\n"
     ]
    }
   ],
   "source": [
    "##  Create a table with only two columns starting from an astropy Table:  \n",
    "myaptable=aptable.Table(\n",
    "    numpy.array([\n",
    "            [19.0186,       46.7304],\n",
    "            [20.2887,       40.4703],\n",
    "            [125.886,       21.3377],\n",
    "            [136.002,       21.9679],\n",
    "            [141.057,       40.6372],\n",
    "            [146.700,       22.0116],\n",
    "            [148.785,       14.2922],\n",
    "            [149.751,       17.8168],\n",
    "            [175.039,       15.3270],\n",
    "            [191.542,       30.7317],\n",
    "            [194.913,       28.8959],\n",
    "            [199.026,       41.5011],\n",
    "            [206.577,       43.8511],\n",
    "            [209.963,       38.1821],\n",
    "            [213.556,       15.6214],\n",
    "            [219.967,       42.7421],\n",
    "            [226.693,       12.8502],\n",
    "            [237.489,       20.8057],\n",
    "            [241.519,       20.8014],\n",
    "            [317.088,       18.2002],\n",
    "            [329.235,       6.64845],\n",
    "            [333.830,       37.3012] ]), \n",
    "    names=[\"ra\",\"dec\"])\n",
    "print(type(myaptable))\n",
    "myaptable['ra'].format='.4f'\n",
    "myaptable['dec'].format='.4f'\n",
    "print(myaptable)\n"
   ]
  },
  {
   "cell_type": "code",
   "execution_count": 10,
   "metadata": {},
   "outputs": [
    {
     "name": "stdout",
     "output_type": "stream",
     "text": [
      "<class 'astropy.io.votable.tree.VOTableFile'>\n",
      "        ra                dec        \n",
      "------------------ ------------------\n",
      "19.018599999999999 46.730400000000003\n",
      "20.288699999999999 40.470300000000002\n",
      "           125.886 21.337700000000002\n",
      "136.00200000000001            21.9679\n",
      "141.05699999999999            40.6372\n",
      "146.69999999999999 22.011600000000001\n",
      "           148.785 14.292199999999999\n",
      "           149.751 17.816800000000001\n",
      "175.03899999999999             15.327\n",
      "           191.542            30.7317\n",
      "194.91300000000001 28.895900000000001\n",
      "199.02600000000001 41.501100000000001\n",
      "           206.577 43.851100000000002\n",
      "209.96299999999999 38.182099999999998\n",
      "213.55600000000001            15.6214\n",
      "219.96700000000001 42.742100000000001\n",
      "226.69300000000001 12.850199999999999\n",
      "           237.489 20.805700000000002\n",
      "241.51900000000001 20.801400000000001\n",
      "317.08800000000002 18.200199999999999\n",
      "329.23500000000001 6.6484500000000004\n",
      "333.82999999999998 37.301200000000001\n"
     ]
    }
   ],
   "source": [
    "from astropy.io import votable as apvot\n",
    "\n",
    "## Then convert this to a VOTableFile object.\n",
    "myvotablefile = apvot.from_table(myaptable)\n",
    "print(type(myvotablefile))\n",
    "## Which contains a nested set of RESOURCES\n",
    "for r in myvotablefile.resources:\n",
    "    ## And tables (in this case, only one of each)\n",
    "    mytable=r\n",
    "    for t in r.tables:\n",
    "        print(t)\n"
   ]
  },
  {
   "cell_type": "markdown",
   "metadata": {},
   "source": [
    "<a id=\"upload\"></a>\n",
    "\n",
    "# 3. Uploading our VOTable file to cross-correlate\n",
    "\n",
    "The reason we might want not just an astropy Table object but a votable Table object is that we might want to cross-correlate our list of objects with another catalog.  In this case, we would use the __[Table Access Protocol](http://www.ivoa.net/documents/TAP/)__ discussed more extensively in a different notebook.  \n",
    "\n",
    "Here, we simply show an example of how to hand our VOTable object to the HEASARC TAP service.\n",
    "\n",
    "We start by writing the votablefile object to a \"file-like\" object (using BytesIO) that requests will be able to upload (alternatively we could write it to disk, but why?):"
   ]
  },
  {
   "cell_type": "code",
   "execution_count": 14,
   "metadata": {},
   "outputs": [],
   "source": [
    "## In memory only, use an IO stream. \n",
    "vot_obj=io.BytesIO()\n",
    "apvot.writeto(myvotablefile,vot_obj)\n",
    "vot_obj.seek(0) # Reset seek to beginning of buffer\n",
    "## 'uplt' is what we'll call it (for 'upload table') \n",
    "##   in the requests parameters below, or what you will:\n",
    "files={'uplt':vot_obj}"
   ]
  },
  {
   "cell_type": "code",
   "execution_count": 12,
   "metadata": {
    "collapsed": true
   },
   "outputs": [],
   "source": [
    "## Alternatively, write it to a file:\n",
    "#apvot.writeto(votablefile, \"new_votable.xml\")\n",
    "#files={'uplt':open('new_votable.xml', 'rb')}"
   ]
  },
  {
   "cell_type": "markdown",
   "metadata": {},
   "source": [
    "For more information on how to construct the TAP query, see its dedicated notebook.  For our purposes here, this is simply to demonstrate that we can use our VOTable to cross-correlate with, e.g., the CfA Redshift Catalog (zcat).  In other words, the follow retrieves every entry in the zcat that is within a radius of 0.1deg of each of our 30 sources, returning the zcat entries for RA, DEC, and Radial_Velocity.  "
   ]
  },
  {
   "cell_type": "markdown",
   "metadata": {},
   "source": [
    "(This takes a good 20 seconds. If you need to rerun this cell, rerun the one above that defines the upload.  The IO object needs to be reset.) "
   ]
  },
  {
   "cell_type": "code",
   "execution_count": 15,
   "metadata": {
    "scrolled": true
   },
   "outputs": [
    {
     "name": "stderr",
     "output_type": "stream",
     "text": [
      "WARNING: W42: None:2:0: W42: No XML namespace specified [astropy.io.votable.tree]\n"
     ]
    },
    {
     "data": {
      "text/html": [
       "&lt;Table masked=True length=39&gt;\n",
       "<table id=\"table4529268552\" class=\"table-striped table-bordered table-condensed\">\n",
       "<thead><tr><th>ra</th><th>dec</th><th>radial_velocity</th></tr></thead>\n",
       "<thead><tr><th>float64</th><th>float64</th><th>int32</th></tr></thead>\n",
       "<tr><td>19.0684</td><td>46.7400</td><td>5081</td></tr>\n",
       "<tr><td>19.0864</td><td>46.7472</td><td>5188</td></tr>\n",
       "<tr><td>20.3348</td><td>40.4877</td><td>5859</td></tr>\n",
       "<tr><td>125.9044</td><td>21.3382</td><td>5219</td></tr>\n",
       "<tr><td>125.9044</td><td>21.3382</td><td>5364</td></tr>\n",
       "<tr><td>135.9942</td><td>21.9010</td><td>3157</td></tr>\n",
       "<tr><td>136.0007</td><td>21.9679</td><td>3093</td></tr>\n",
       "<tr><td>141.0915</td><td>40.6838</td><td>8267</td></tr>\n",
       "<tr><td>146.7033</td><td>22.0183</td><td>7446</td></tr>\n",
       "<tr><td>146.7033</td><td>22.0183</td><td>7597</td></tr>\n",
       "<tr><td>...</td><td>...</td><td>...</td></tr>\n",
       "<tr><td>237.5816</td><td>20.7630</td><td>10926</td></tr>\n",
       "<tr><td>241.5228</td><td>20.7828</td><td>4584</td></tr>\n",
       "<tr><td>241.5228</td><td>20.7828</td><td>4602</td></tr>\n",
       "<tr><td>241.5228</td><td>20.7828</td><td>4798</td></tr>\n",
       "<tr><td>317.1035</td><td>18.2030</td><td>4826</td></tr>\n",
       "<tr><td>317.1148</td><td>18.1919</td><td>5054</td></tr>\n",
       "<tr><td>329.2493</td><td>6.6552</td><td>7857</td></tr>\n",
       "<tr><td>333.8217</td><td>37.2992</td><td>5207</td></tr>\n",
       "<tr><td>333.8468</td><td>37.2826</td><td>5984</td></tr>\n",
       "<tr><td>333.9149</td><td>37.3003</td><td>5684</td></tr>\n",
       "</table>"
      ],
      "text/plain": [
       "<Table masked=True length=39>\n",
       "   ra      dec   radial_velocity\n",
       "float64  float64      int32     \n",
       "-------- ------- ---------------\n",
       " 19.0684 46.7400            5081\n",
       " 19.0864 46.7472            5188\n",
       " 20.3348 40.4877            5859\n",
       "125.9044 21.3382            5219\n",
       "125.9044 21.3382            5364\n",
       "135.9942 21.9010            3157\n",
       "136.0007 21.9679            3093\n",
       "141.0915 40.6838            8267\n",
       "146.7033 22.0183            7446\n",
       "146.7033 22.0183            7597\n",
       "     ...     ...             ...\n",
       "237.5816 20.7630           10926\n",
       "241.5228 20.7828            4584\n",
       "241.5228 20.7828            4602\n",
       "241.5228 20.7828            4798\n",
       "317.1035 18.2030            4826\n",
       "317.1148 18.1919            5054\n",
       "329.2493  6.6552            7857\n",
       "333.8217 37.2992            5207\n",
       "333.8468 37.2826            5984\n",
       "333.9149 37.3003            5684"
      ]
     },
     "execution_count": 15,
     "metadata": {},
     "output_type": "execute_result"
    }
   ],
   "source": [
    "## These parameters are defined in the TAP standard.  \n",
    "##  The string 'uplt' is what we set above as the name\n",
    "##  of the parameter containing this data, and\n",
    "##  the string 'mysources' is how we refer to it in \n",
    "##  the ADQL query string:\n",
    "cc_params={\n",
    "    'lang': 'ADQL', \n",
    "    'request': 'doQuery',\n",
    "    'upload':'mysources,param:uplt'\n",
    "    }\n",
    "cc_params[\"query\"]=\"\"\"\n",
    "    SELECT cat.ra, cat.dec, Radial_Velocity \n",
    "    FROM zcat cat, tap_upload.mysources mt \n",
    "    WHERE\n",
    "    contains(point('ICRS',cat.ra,cat.dec),circle('ICRS',mt.ra,mt.dec,0.1))=1\n",
    "    and Radial_Velocity > 0\n",
    "    ORDER by cat.ra\"\"\"\n",
    "r = requests.post('https://heasarc.gsfc.nasa.gov/xamin/vo/tap/sync',data=cc_params,stream=True,files=files)\n",
    "mytable=aptable.Table.read(io.BytesIO(r.content))\n",
    "mytable['ra'].format='.4f'\n",
    "mytable['dec'].format='.4f'\n",
    "mytable"
   ]
  },
  {
   "cell_type": "code",
   "execution_count": null,
   "metadata": {
    "collapsed": true
   },
   "outputs": [],
   "source": []
  }
 ],
 "metadata": {
  "anaconda-cloud": {},
  "kernelspec": {
   "display_name": "Python 3",
   "language": "python",
   "name": "python3"
  },
  "language_info": {
   "codemirror_mode": {
    "name": "ipython",
    "version": 3
   },
   "file_extension": ".py",
   "mimetype": "text/x-python",
   "name": "python",
   "nbconvert_exporter": "python",
   "pygments_lexer": "ipython3",
   "version": "3.6.4"
  },
  "nav_menu": {},
  "toc": {
   "navigate_menu": true,
   "number_sections": true,
   "sideBar": true,
   "threshold": 6,
   "toc_cell": false,
   "toc_section_display": "block",
   "toc_window_display": false
  }
 },
 "nbformat": 4,
 "nbformat_minor": 1
}
