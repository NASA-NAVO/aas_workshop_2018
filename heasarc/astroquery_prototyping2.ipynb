{
 "cells": [
  {
   "cell_type": "markdown",
   "metadata": {},
   "source": [
    "In the following, the code cells are the prototypes of the code we need. What the user would actually have to type is shown in the text cells. \n",
    "\n",
    "Ideally, go so far as to prototype it, making functions that hardwire the notebook examples so you can see how it would work. Think about how it could work not as below with astroquery.heasarc.list_sia_services(), for example, but just as astroquery.list_sia_services(). The whole point is the user should care which site it comes from.\n",
    "\n",
    "If NAVO develops astroquery.vo, we could use things like:\n",
    "\n",
    "TAP:  \n",
    "\n",
    "    astroquery.vo.Registry.query( ... lots of options ...)\n",
    "    astroquery.vo.Registry.list_image_services(source='heasarc') \n",
    "\n",
    "TAP:  \n",
    "\n",
    "    astroquery.vo.Registry.surveys_like(\"Redshift”,source='heasarc')\n",
    "\n",
    "SIA:  \n",
    "    \n",
    "    astroquery.vo.Image.get_image() # skyview vs xamin? \n",
    "\n",
    "\n",
    " notes on Vandana’s collected workshop notebook:\n"
   ]
  },
  {
   "cell_type": "code",
   "execution_count": 2,
   "metadata": {},
   "outputs": [],
   "source": [
    "import matplotlib\n",
    "import matplotlib.pyplot as plt\n",
    "%matplotlib inline  \n",
    "import requests, io, astropy\n",
    "from IPython.display import Image, display\n",
    "\n",
    "## For handling ordinary astropy Tables\n",
    "from astropy.table import Table\n",
    "\n",
    "## For reading FITS files\n",
    "import astropy.io.fits as apfits\n",
    "\n",
    "## There are a number of relatively unimportant warnings that \n",
    "## show up, so for now, suppress them:\n",
    "import warnings\n",
    "warnings.filterwarnings(\"ignore\")\n",
    "\n",
    "## our stuff\n",
    "import sys\n",
    "# Use the NASA_NAVO/astroquery\n",
    "sys.path.insert(0,'../../astroquery/')\n",
    "import astroquery\n",
    "from astroquery.vo import Registry"
   ]
  },
  {
   "cell_type": "markdown",
   "metadata": {
    "collapsed": true
   },
   "source": [
    "Registry queries already coded by TomD and TJ in astroquery.vo.Registry() class. So you can, for example, if you already know you want to search NED, get it's URL as follows. Unfortunately, *with the current implementation, you get two results, where the second isn't NED but has \"ned\" in the ivoid (\"shela_combined\"). Not sure what to do about that.* Could hard-wire things like \"ned\", \"heasarc\", etc. But that's not ideal. "
   ]
  },
  {
   "cell_type": "code",
   "execution_count": 3,
   "metadata": {},
   "outputs": [
    {
     "name": "stdout",
     "output_type": "stream",
     "text": [
      "Registry:  sending query ADQL = \n",
      "          select res.waveband,res.short_name,cap.ivoid,res.res_description,\n",
      "          int.access_url, res.reference_url\n",
      "           from rr.capability cap\n",
      "           natural join rr.resource res\n",
      "           natural join rr.interface int\n",
      "           where cap.cap_type='conesearch' and cap.ivoid like '%ned%'\n",
      "\n",
      "Queried: https://vao.stsci.edu/RegTAP/TapService.aspx/sync\n",
      "\n",
      "Found 2 results:\n",
      "                                                 access_url                                                \n",
      "-----------------------------------------------------------------------------------------------------------\n",
      "http://ned.ipac.caltech.edu/cgi-bin/NEDobjsearch?search_type=Near+Position+Search&amp;of=xml_main&amp;&amp;\n",
      "                                                     https://irsa.ipac.caltech.edu/SCS?table=shelacomb&amp;\n",
      "ivo://irsa.ipac/spitzer/catalog/shela/shela_combined\n",
      "<TableColumns names=('waveband','short_name','ivoid','res_description','access_url','reference_url')>\n"
     ]
    }
   ],
   "source": [
    "results = Registry.query(source='ned', service_type='cone',debug=True)\n",
    "print('Found {} results:'.format(len(results)))\n",
    "print(results[:]['access_url'])\n",
    "print(results[1]['ivoid'])\n",
    "print(results.columns)"
   ]
  },
  {
   "cell_type": "markdown",
   "metadata": {},
   "source": [
    "The Registry.query() method takes arguments (passed to internal function _build_adql):  \n",
    "\n",
    "    service_type   : \"image\", \"cone\", or \"spectr\"\n",
    "    keyword        : any keyword contained in ivoid, title, or description\n",
    "    waveband       : waveband string\n",
    "    source         : any substring in ivoid\n",
    "    order_by       : what field to order it by, but then you have to know the names, currently\n",
    "                      (\"waveband\",\"short_name\",\"ivoid\",\"res_description\", \"access_url\", \"reference_url\")\n",
    "    logic_string   : any other string you want to add to the ADQL where clause, should start with \" and \"\n",
    "\n",
    "The results are already in an astropy table from Tom's _astropy_table_from_votable_response(). \n",
    "\n",
    "**But note that the URLs are escaped and should not be by the time we get them back. How to fix?**"
   ]
  },
  {
   "cell_type": "code",
   "execution_count": 4,
   "metadata": {},
   "outputs": [
    {
     "name": "stdout",
     "output_type": "stream",
     "text": [
      "http://ned.ipac.caltech.edu/cgi-bin/NEDobjsearch?search_type=Near+Position+Search&of=xml_main&&\n"
     ]
    }
   ],
   "source": [
    "import html\n",
    "print(html.unescape(results[0]['access_url']))"
   ]
  },
  {
   "cell_type": "code",
   "execution_count": null,
   "metadata": {
    "collapsed": true
   },
   "outputs": [],
   "source": []
  },
  {
   "cell_type": "code",
   "execution_count": null,
   "metadata": {
    "collapsed": true
   },
   "outputs": [],
   "source": []
  },
  {
   "cell_type": "markdown",
   "metadata": {},
   "source": [
    "### 3. Workshop section on data discovery using NED's Cone search. \n",
    "\n",
    "Instead of searching NED ‘manually’, a generic cone search that you can give a list of ras, decs, and radii (or just one obviously) and optionally specify that you want ‘ned’ results or some other IVOID substring. If you ask for known things like ‘ned’, it has hard-wired (?) base URL and query path. If not, it queries the RegTAP to find out what cone searches are available that match a given ivoid_string. (Is there a way to get the NED URL dynamically from RegTAP without the above ambiguity? A special case if the ivoid requested is \"ned\"?) So the user would call:\n",
    "\n",
    "    cone_results = astroquery.cone_search(ras, decs, radii, [source=’some_ivoid_string_eg_ned']) \n",
    "\n",
    "where ras, decs, and radii can be floats, strings, or arrays of either. If a single source (i.e., ivoid), then get back a table of objects; if several matching sources (which will have different columns), get back a list of tables, one for each matching source? Since every table will return different columns, need to return some kind of meta data result as well. Separate object or attached to each result column's meta data? \n",
    "\n",
    "So like the Registry, we need a Cone() that could work as follows:"
   ]
  },
  {
   "cell_type": "code",
   "execution_count": 9,
   "metadata": {},
   "outputs": [],
   "source": [
    "from astroquery.query import BaseQuery\n",
    "import html # to unescape, which shouldn't be neccessary but currently is\n",
    "class ConeClass(BaseQuery):\n",
    "    def __init__(self):\n",
    "        super(ConeClass, self).__init__()\n",
    "\n",
    "    def query(self, inra, indec, inradius, **kwargs):\n",
    "        # Get the list of URLs that provide matching cone searches \n",
    "        services=Registry.query(service_type='cone',**kwargs)\n",
    "        results=[]\n",
    "        # If there's more than one service URL found, then what? Loop over those?\n",
    "        print(\"Found {} services to query.\".format(len(services)))\n",
    "        for service in services:\n",
    "            print(\"    Querying service {}\".format(html.unescape(service['access_url'])))\n",
    "            #  TO BE FIXED: should work if inra is a single float *or* string:\n",
    "            for i,ra in enumerate(inra):\n",
    "                # Construct params ... For now, hard wire:\n",
    "                dec=indec[i]\n",
    "                if len(inradius) > 1: \n",
    "                    radius=inradius[i]\n",
    "                else:\n",
    "                    radius=inradius\n",
    "                result=self._one_cone_search(ra,dec,radius,html.unescape(service['access_url']))\n",
    "                # Need a test that we got something back. Shouldn't error if not, just be empty\n",
    "                if len(result) > 0:\n",
    "                    # Extend requires that all the columns be the same. \n",
    "                    # (The meta data for the result columns are lost because assumed to be the same.)\n",
    "                    # The \"cone_table_from_votable\" should do that but for now, append to a list.\n",
    "                    #from IPython.core.debugger import Tracer; Tracer()() \n",
    "                    print(\"    Got {} results for source number {}\".format(len(result),i))\n",
    "                    results.append(result)\n",
    "                else:\n",
    "                    print(\"    (Got no results for source number {})\".format(i))\n",
    "        return results\n",
    "\n",
    "    def _one_cone_search(self, ra, dec, radius, service):\n",
    "        params = {'RA': ra, 'DEC': dec, 'SR':radius}\n",
    "        # For some reason, this has to be a GET not a POST?\n",
    "        response=self._request('GET',service,params=params)\n",
    "        return self._astropy_cone_table_from_votable_response(response)\n",
    "    \n",
    "    def _astropy_cone_table_from_votable_response(self,response):\n",
    "        \"\"\"Need one of these for each class to make standard tables using UCDs etc.\n",
    "        \n",
    "        For now, just simple conversion\"\"\"\n",
    "        try:\n",
    "            table= Table.read(io.BytesIO(response.content))\n",
    "            #from IPython.core.debugger import Tracer; Tracer()() \n",
    "            table.meta['xml_raw']=response.content\n",
    "            table.meta['url']=response.url\n",
    "            return table\n",
    "        except:\n",
    "            return Table()\n",
    "\n",
    "Cone=ConeClass()\n"
   ]
  },
  {
   "cell_type": "code",
   "execution_count": 11,
   "metadata": {},
   "outputs": [
    {
     "name": "stdout",
     "output_type": "stream",
     "text": [
      "Found 2 services to query.\n",
      "    Querying service http://ned.ipac.caltech.edu/cgi-bin/NEDobjsearch?search_type=Near+Position+Search&of=xml_main&&\n",
      "    Got 494 results for source number 0\n",
      "    Got 6 results for source number 1\n",
      "    Querying service https://irsa.ipac.caltech.edu/SCS?table=shelacomb&\n",
      "    (Got no results for source number 0)\n",
      "    (Got no results for source number 1)\n",
      "http://ned.ipac.caltech.edu/cgi-bin/NEDobjsearch?search_type=Near+Position+Search&of=xml_main&&&RA=185.47873&DEC=4.47365&SR=0.03\n",
      "POS_EQ_RA_MAIN\n"
     ]
    }
   ],
   "source": [
    "#from astroquery.vo import Cone\n",
    "#  Single arguments:  should take floats or strings, converts floats to string for the query.\n",
    "#  For now, make them all arrays until we sort the above issue\n",
    "ras=[185.47873,35.323]\n",
    "decs=[4.47365,6.934]\n",
    "radius=[0.03]\n",
    "# List arguments:  should take list of floats or strings, converts floats to strings, loops over them. \n",
    "#  Length of ras and decs should be the same, radius should be either same length or single value.\n",
    "ned_results=Cone.query(ras,decs,radius,source='ned')\n",
    "print(ned_results[0].meta['url'])\n",
    "print(ned_results[0]['main_col3'].meta['ucd'])"
   ]
  },
  {
   "cell_type": "markdown",
   "metadata": {},
   "source": [
    "Switching the cell below to use GET works, but POST doesn't work. So the problem is the query method used in astroquery.query.BaseQuery"
   ]
  },
  {
   "cell_type": "code",
   "execution_count": null,
   "metadata": {
    "collapsed": true
   },
   "outputs": [],
   "source": []
  },
  {
   "cell_type": "code",
   "execution_count": null,
   "metadata": {},
   "outputs": [],
   "source": [
    "# But why does that find nothing? Test 'manually':\n",
    "# This URL doesn't work because it's escaped! \n",
    "#url='http://ned.ipac.caltech.edu/cgi-bin/NEDobjsearch?search_type=Near+Position+Search&amp;of=xml_main&amp;&amp;'\n",
    "url='http://ned.ipac.caltech.edu/cgi-bin/NEDobjsearch?search_type=Near+Position+Search&of=xml_main&&'\n",
    "response=Cone._request('GET',url,\n",
    "#                       params={'RA':353.23,'DEC':6.934,'SR':0.05})\n",
    "                        params={'RA':185.47873,'DEC':4.47365,'SR':0.03})\n",
    "#                       params={'POS':'185.47873,4.47365','SIZE':3})\n",
    "print(response.url)\n",
    "print(response.content)\n",
    "table=Table.read(io.BytesIO(response.content))\n",
    "print(len(table))\n",
    "# This doesn't even return xml. WTF? This isn't a VO service? But it's in the RegTAP! WTF? "
   ]
  },
  {
   "cell_type": "markdown",
   "metadata": {},
   "source": [
    "Or if you don't know what the source is but you want to do a cone search on all catalogs related to gammas:"
   ]
  },
  {
   "cell_type": "code",
   "execution_count": null,
   "metadata": {},
   "outputs": [],
   "source": [
    "radio_results=Cone.query([185.47873],[4.47365],[0.1],waveband='gamma')\n",
    "print(len(radio_results))"
   ]
  },
  {
   "cell_type": "code",
   "execution_count": null,
   "metadata": {},
   "outputs": [],
   "source": [
    "print(radio_results[1982].meta['url'])"
   ]
  },
  {
   "cell_type": "markdown",
   "metadata": {
    "collapsed": true
   },
   "source": [
    "*Notes: the _astropy_table_from_votable_response() should then be generic, not just in Registry class*"
   ]
  },
  {
   "cell_type": "code",
   "execution_count": null,
   "metadata": {},
   "outputs": [],
   "source": [
    "print(radio_results)"
   ]
  },
  {
   "cell_type": "markdown",
   "metadata": {},
   "source": [
    "But these come with different columns:"
   ]
  },
  {
   "cell_type": "code",
   "execution_count": null,
   "metadata": {},
   "outputs": [],
   "source": [
    "print(radio_results[0].columns)\n",
    "print(radio_results[402].meta)\n"
   ]
  },
  {
   "cell_type": "code",
   "execution_count": null,
   "metadata": {},
   "outputs": [],
   "source": [
    "# Just testing how to get meta data back from queries. From an image search, there's a ucd in the column\n",
    "#  meta data. \n",
    "# A Cone search:\n",
    "url='https://heasarc.gsfc.nasa.gov/cgi-bin/vo/cone/coneGet.pl?table=osse&amp;'\n",
    "response=Cone._request('POST',url,\n",
    "                       params={'RA':185.47873,'DEC':4.47365,'SR':3})\n",
    "print(response.content)\n",
    "table= Table.read(io.BytesIO(response.content))\n",
    "print(table['target'].meta['ucd'])\n"
   ]
  },
  {
   "cell_type": "code",
   "execution_count": null,
   "metadata": {
    "scrolled": true
   },
   "outputs": [],
   "source": [
    "\n",
    "# A TAP query?\n",
    "url='https://heasarc.gsfc.nasa.gov/xamin/vo/tap/sync'\n",
    "params={\n",
    "    \"request\":\"doQuery\",  # for requests, specify the request type\n",
    "    \"lang\":\"ADQL\",        # the language\n",
    "    \"query\":              # and the query expressed in that language\n",
    "    \"\"\"SELECT ra, dec, Radial_Velocity FROM zcat as cat where \n",
    "    contains(point('ICRS',cat.ra,cat.dec),circle('ICRS',{0},{1},{2}))=1 and\n",
    "    cat.bmag < 14\n",
    "    order by cat.radial_velocity_error\n",
    "    \"\"\".format(185.47873,4.47365,3.0)\n",
    "    }\n",
    "r = Cone._request('GET','https://heasarc.gsfc.nasa.gov/xamin/vo/tap/sync', params=params)\n",
    "r.content"
   ]
  },
  {
   "cell_type": "markdown",
   "metadata": {},
   "source": [
    "And there's no ucd in the meta data for the fields. TomM says this isn't required but it should have been there and he'll make a note."
   ]
  },
  {
   "cell_type": "code",
   "execution_count": null,
   "metadata": {},
   "outputs": [],
   "source": [
    "print(r.url)\n",
    "print(r.request)"
   ]
  },
  {
   "cell_type": "markdown",
   "metadata": {},
   "source": [
    "Combining the columns from the different services is again annoying. Need to use a function that combines them using the UCD? But UCDs aren't always there. Eg., in some places HEASARC uses the column name “sia_url”, and this is the UCD “VOX:Image_AccessReference”, so something inside would have transparently translate from each different archive’s column names to something standardized. (The UCD itself? Or something we define, e.g., “image_url”?)\n",
    "\n",
    "We should just use UCDs or UTYPEs and even just **ignore** all column names that we get back and immediately rename everything with the UCD and use only that internally. Then to hand it back to the user, we define our own astroquery column names that are obvious, like “URL”, etc., though storing the history (the UCD and the original service-specific column name) in the column’s meta data.\n",
    "\n",
    "We need to keep the ucd information around, however. It's in the VOTable XML that we should get back from any service. And it IS kept in the astropy table as, e.g., uvot_table['Ra'].meta['ucd'] or uvot_table['URL'].meta['ucd']. So we can use these.\n",
    "\n",
    "So under the hood, we would take any table we get back and rename each column with its UCD. Then to give things to the user, define simple dictionaries of the common columns such as:"
   ]
  },
  {
   "cell_type": "markdown",
   "metadata": {
    "collapsed": true
   },
   "source": [
    "\n",
    "Started to define a function for the second part of this cell in the workshop notebook that got the pass bands from NED. This is very NED-specific. Any way to generalize?\n",
    "\n",
    "    ned_info = astroquery.get_ned_info( ra, dec, radii )\n",
    "\n",
    "calls the cone search and passes the ACREF for each match to NED again to get the info. But ACREF isn't a required value returned by a cone search. All that's required is the ID, RA, and DEC. So I don't think this can be generalized.\n"
   ]
  },
  {
   "cell_type": "code",
   "execution_count": null,
   "metadata": {
    "collapsed": true
   },
   "outputs": [],
   "source": []
  },
  {
   "cell_type": "code",
   "execution_count": null,
   "metadata": {
    "collapsed": true
   },
   "outputs": [],
   "source": [
    "# Somehow have this overloaded for objects of type SIA, SSA, etc.? Or just one list if there are no ambiguities? \n",
    "def ucd2col(ucd):\n",
    "    u2c={\n",
    "        \"VOX:Image_AccessReference\":\"URL\",\n",
    "        \"meta.ref.url\":\"URL\"\n",
    "    }\n",
    "    return u2c[ucd]\n",
    "    \n",
    "def col2ucd(col):\n",
    "    # But these aren't unique. \n",
    "    c2u={\n",
    "        \"URL\":[\"VOX:Image_AccessReference\",\"meta.ref.url\"]        \n",
    "    }\n",
    "    return c2f[col]\n",
    "    \n",
    "    \n",
    "def standardize( list_of_tables):\n",
    "    \"\"\"Take a list of astropy tables that have all different columns and convert to one standard astropy table\n",
    "    \n",
    "    Use the list_of_tables[table_number][column].meta['ucd'] to identify the standard columns we want.\n",
    "    \n",
    "    \"\"\"\n",
    "    return astropy_table, metadata"
   ]
  },
  {
   "cell_type": "code",
   "execution_count": null,
   "metadata": {
    "collapsed": true
   },
   "outputs": [],
   "source": []
  },
  {
   "cell_type": "code",
   "execution_count": null,
   "metadata": {
    "collapsed": true
   },
   "outputs": [],
   "source": []
  },
  {
   "cell_type": "markdown",
   "metadata": {},
   "source": [
    "4 TAP:  \n",
    "\n",
    "    sia_services = astroquery.list_sia_services( [source=’ivoid_string_eg_heasarc'] , [name_like=‘allwise’], [description_like=‘whatever’] ) \n",
    "\n",
    "This one can easily be generalized so you can get images from any service (or a chosen one) that have a short name substring, or description substring. (Or perhaps just string_like=‘whatever’ and it searches both short name as well as description?) It returns a table of information, including the ‘access_url’ that you can then plug into another generic function\n",
    "\n",
    "\n"
   ]
  },
  {
   "cell_type": "code",
   "execution_count": null,
   "metadata": {
    "collapsed": true
   },
   "outputs": [],
   "source": [
    "def list_image_services( source='', name_like=''):\n",
    "    service=astroquery.regtap_get_service(service_type=\"image\",source=source,name_like=name_like)\n",
    "    return request2table(url=service,)\n",
    "def list_spectra_serices():\n",
    "    service=astroquery.regtap_get_service(service_type=\"spectra\",source=source,name_like=name_like)\n",
    "    return request2table(url=service,)\n",
    "def list_cone_serices():\n",
    "    service=astroquery.regtap_get_service(service_type=\"cone\",source=source,name_like=name_like)\n",
    "    return request2table(url=service,)\n"
   ]
  },
  {
   "cell_type": "markdown",
   "metadata": {},
   "source": [
    "5 SIA\n",
    "\n",
    "Then pick one of the listed services (say number 20, after you looked at the descriptions) and query it to get an image.\n",
    "\n",
    "    image_url = astroquery.get_image_url( access_url=sia_services[20][‘access_url’], pos=‘185.47873,4.47365', size=‘0’]\n",
    "\n",
    "or perhaps you don't know which service is quite what you want, so get info for all of them:\n",
    "\n",
    "    images_info = astroquery.get_images_info( access_url=sia_services[:][‘access_url’], pos=‘185.47873,4.47365', size=‘0’, naxis=‘300,300’]\n",
    "\n",
    "to get a table list of all images in a list of services that contain that point. Then standardize them as above.\n",
    "\n"
   ]
  },
  {
   "cell_type": "code",
   "execution_count": null,
   "metadata": {
    "collapsed": true
   },
   "outputs": [],
   "source": [
    "def get_image_url( access_url, pos, size, naxis='',format='fits'):\n",
    "    \"\"\"Return a single image url\n",
    "    \n",
    "    For some services, you have to specify the format, e.g., SkyView. Is this standard?\"\"\"\n",
    "    # Send the query to get the URLs to any matching images\n",
    "    result_table=astroquery.standardize(\n",
    "        astroquery.request2table( url=access_url, params = {'pos': pos, 'size': size, 'naxis':naxis})\n",
    "    )\n",
    "    # Find the FITS image url. For SkyView, there will be 2 URLs, one FITS and one JPEG\n",
    "    return result_table[the_right_one]['url']\n",
    "\n",
    "def get_images_info( access_urls, pos, size, naxis=''):\n",
    "    \"\"\"Return the URLs etc. for images available from a list of services.\"\"\"\n",
    "    # Since the columns differ, first get a list of astropy tables.\n",
    "    results=[] \n",
    "    for service_url in access_urls:\n",
    "        results.append( astroquery.get_image( access_url=service_url, pos=pos,size=size,naxis=naxis) )\n",
    "    return astroquery.standardize(results)\n",
    "\n",
    " "
   ]
  },
  {
   "cell_type": "markdown",
   "metadata": {},
   "source": [
    "7.\n",
    "\n",
    "You can look at the images_info and pick one to download:\n",
    "\n",
    "    astroquery.download_image( images_info[6]['url'], filename='my_file.fits')\n",
    "    \n",
    "or get the image data to hand to the plotter:\n",
    "\n",
    "    image=astroquery.get_image( images_info[6]['url'] )\n",
    "    plt.imshow( image,  cmap='gray', origin='lower',vmax=0.02 )\n",
    "    \n",
    "    \n",
    "\n"
   ]
  },
  {
   "cell_type": "code",
   "execution_count": null,
   "metadata": {
    "collapsed": true
   },
   "outputs": [],
   "source": [
    "                                   \n",
    "def download_image( image_url, filename=''):\n",
    "    \"\"\"Download the image and optionally rename \"\"\"\n",
    "    urllib.request.urlretrieve(image_url, filename)\n",
    "    return \n",
    "\n",
    "def get_image( image_url ):\n",
    "    \"\"\"Returns the data that can be handed to plt.imshow() from a URL\"\"\"\n",
    "    astroquery.download_image( image_url, filename='tmp.fits')\n",
    "    hdus=astropy.io.fits.open('tmp.fits')\n",
    "    return hdus[0].data\n",
    "\n"
   ]
  },
  {
   "cell_type": "markdown",
   "metadata": {},
   "source": [
    "8\n",
    "\n",
    "This is complex but can use the above. \n",
    "\n",
    "    galex_image_services = astroquery.list_image_services( name_like=“galex”) \n",
    "    2mass_image_services = astroquery.list_image_services( name_like=“2mass”) \n",
    "    allwise_image_services = astroquery.list_image_services( name_like=“allwise”) \n",
    "    \n",
    "    query_urls=galex_image_services[:][’access_url’]\n",
    "    query_urls.extend( 2mass_sia_services[:][’access_url’])\n",
    "    query_urls.extend( allwise_sia_services[:][’access_url’])\n",
    "    \n",
    "    for url in query_urls:\n",
    "    \n",
    "\n",
    "\n",
    "\n",
    "    "
   ]
  }
 ],
 "metadata": {
  "kernelspec": {
   "display_name": "Python 3",
   "language": "python",
   "name": "python3"
  },
  "language_info": {
   "codemirror_mode": {
    "name": "ipython",
    "version": 3
   },
   "file_extension": ".py",
   "mimetype": "text/x-python",
   "name": "python",
   "nbconvert_exporter": "python",
   "pygments_lexer": "ipython3",
   "version": "3.6.3"
  }
 },
 "nbformat": 4,
 "nbformat_minor": 2
}
