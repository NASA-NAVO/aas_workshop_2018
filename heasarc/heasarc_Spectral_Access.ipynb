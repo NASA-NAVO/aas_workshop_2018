{
 "cells": [
  {
   "cell_type": "markdown",
   "metadata": {},
   "source": [
    "# Retrieve spectra from HEASARC using Simple Spectral Access protocol\n",
    "\n",
    "This notebook is one of a set produced by the HEASARC to demonstrate data access with python tools. If you have not already, start with the [overview notebook](heasarc_queries_Overview.ipynb)"
   ]
  },
  {
   "cell_type": "code",
   "execution_count": 1,
   "metadata": {},
   "outputs": [],
   "source": [
    "import matplotlib\n",
    "import matplotlib.pyplot as plt\n",
    "\n",
    "%matplotlib inline  \n",
    "import requests, io\n",
    "from astropy.table import Table\n",
    "\n",
    "import xspec\n",
    "## For capturing Xspec terminal output\n",
    "##  See https://github.com/minrk/wurlitzer\n",
    "from wurlitzer import sys_pipes\n",
    "## Hide annoying warnings\n",
    "import warnings\n",
    "warnings.filterwarnings(\"ignore\")\n",
    "\n",
    "from astropy.coordinates import SkyCoord\n"
   ]
  },
  {
   "cell_type": "markdown",
   "metadata": {},
   "source": [
    "## Find out what catalogs of spectra can be queried with HEASARC's SSA service:"
   ]
  },
  {
   "cell_type": "code",
   "execution_count": 2,
   "metadata": {},
   "outputs": [
    {
     "data": {
      "text/html": [
       "&lt;Table masked=True length=4&gt;\n",
       "<table id=\"table4534193936\" class=\"table-striped table-bordered table-condensed\">\n",
       "<thead><tr><th>short_name</th><th>ivoid</th></tr></thead>\n",
       "<thead><tr><th>object</th><th>object</th></tr></thead>\n",
       "<tr><td>Chandra</td><td>ivo://nasa.heasarc/chanmaster</td></tr>\n",
       "<tr><td>INTEGRAL/BSC</td><td>ivo://nasa.heasarc/intbsc</td></tr>\n",
       "<tr><td>SwiftBAT</td><td>ivo://nasa.heasarc/swiftbalog</td></tr>\n",
       "<tr><td>SwiftXRT</td><td>ivo://nasa.heasarc/swiftxrlog</td></tr>\n",
       "</table>"
      ],
      "text/plain": [
       "<Table masked=True length=4>\n",
       " short_name              ivoid            \n",
       "   object                object           \n",
       "------------ -----------------------------\n",
       "     Chandra ivo://nasa.heasarc/chanmaster\n",
       "INTEGRAL/BSC     ivo://nasa.heasarc/intbsc\n",
       "    SwiftBAT ivo://nasa.heasarc/swiftbalog\n",
       "    SwiftXRT ivo://nasa.heasarc/swiftxrlog"
      ]
     },
     "execution_count": 2,
     "metadata": {},
     "output_type": "execute_result"
    }
   ],
   "source": [
    "# Warning:  'query' is bizarrely case-sensitive:\n",
    "tap_params = {\n",
    "    \"request\":\"doQuery\",\n",
    "    \"lang\":\"ADQL\",\n",
    "    \"query\":\"\"\"\n",
    "        select b.short_name,a.ivoid from rr.capability a \n",
    "        natural join rr.resource b \n",
    "        where a.cap_type='simplespectralaccess' and a.ivoid like 'ivo://nasa.heasarc%' \n",
    "        order by short_name;\n",
    "    \"\"\"\n",
    "    }\n",
    "r = requests.post('http://vao.stsci.edu/RegTAP/TapService.aspx/sync', data=tap_params)\n",
    "##  If you want to see what requests gives you, you can look at the URL it actually constructed:\n",
    "#print(r.url)\n",
    "##  And the raw text of what it got back:\n",
    "# print(r.text)\n",
    "## The astropy.table  module will read this VO Table formatted result into an astropy Table:\n",
    "table=Table.read(io.BytesIO(r.content))\n",
    "table"
   ]
  },
  {
   "cell_type": "markdown",
   "metadata": {},
   "source": [
    "## Query one of them, in this case Chandra for the source M82:"
   ]
  },
  {
   "cell_type": "code",
   "execution_count": 4,
   "metadata": {},
   "outputs": [
    {
     "data": {
      "text/html": [
       "&lt;Table masked=True length=3&gt;\n",
       "<table id=\"table4534193360-639858\" class=\"table-striped table-bordered table-condensed\">\n",
       "<thead><tr><th>idx</th><th>obsid</th><th>status</th><th>name</th><th>ra</th><th>dec</th><th>time</th><th>detector</th><th>grating</th><th>exposure</th><th>type</th><th>pi</th><th>public_date</th><th>SSA_datalength</th><th>SSA_datamodel</th><th>SSA_title</th><th>SSA_instrument</th><th>SSA_publisher</th><th>SSA_tmid</th><th>SSA_stop_time</th><th>SSA_start_time</th><th>SSA_duration</th><th>SSA_bandpass</th><th>SSA_wavelength_max</th><th>SSA_wavelength_min</th><th>SSA_bandwidth</th><th>SSA_ra</th><th>SSA_dec</th><th>SSA_coord_obs</th><th>SSA_fov</th><th>SSA_reference</th><th>SSA_format</th></tr></thead>\n",
       "<thead><tr><th></th><th></th><th></th><th></th><th>deg</th><th>deg</th><th>mjd</th><th></th><th></th><th>s</th><th></th><th></th><th>mjd</th><th></th><th></th><th></th><th></th><th></th><th>mjd</th><th>mjd</th><th>mjd</th><th>s</th><th>meter</th><th>meter</th><th>meter</th><th>meter</th><th>deg</th><th>deg</th><th>deg</th><th>deg</th><th></th><th></th></tr></thead>\n",
       "<tr><td>0</td><td>17860</td><td>archived</td><td>M82 X-1</td><td>148.95917</td><td>69.67972</td><td>57639.7292</td><td>ACIS-S</td><td>HETG</td><td>51060</td><td>TOO</td><td>Walton</td><td>58010</td><td>12.0</td><td>Spectrum-1.0</td><td>acisf17860N002_pha2</td><td>ACIS-S</td><td>HEASARC</td><td>57640.040393247451</td><td>57640.350814633915</td><td>57639.729200000002</td><td>51060.0</td><td>3.16159e-09</td><td>6.1991999999999999e-09</td><td>1.2397999999999999e-10</td><td>6.0752199999999996e-09</td><td>148.95917</td><td>69.679720000000003</td><td>--</td><td>0.81103500403976259</td><td>https://heasarc.gsfc.nasa.gov/FTP/chandra/data/science/ao17/cat4/17860/primary/acisf17860N002_pha2.fits.gz</td><td>application/fits</td></tr>\n",
       "<tr><td>1</td><td>19791</td><td>archived</td><td>M82 X-1</td><td>148.95917</td><td>69.67972</td><td>57641.5702</td><td>ACIS-S</td><td>HETG</td><td>15310</td><td>TOO</td><td>Walton</td><td>58010</td><td>12.0</td><td>Spectrum-1.0</td><td>acisf19791N002_pha2</td><td>ACIS-S</td><td>HEASARC</td><td>57641.668022753758</td><td>57641.765065583451</td><td>57641.570200000002</td><td>15310.0</td><td>3.16159e-09</td><td>6.1991999999999999e-09</td><td>1.2397999999999999e-10</td><td>6.0752199999999996e-09</td><td>148.95917</td><td>69.679720000000003</td><td>--</td><td>0.81103500403976259</td><td>https://heasarc.gsfc.nasa.gov/FTP/chandra/data/science/ao17/cat4/19791/primary/acisf19791N002_pha2.fits.gz</td><td>application/fits</td></tr>\n",
       "<tr><td>2</td><td>19792</td><td>archived</td><td>M82 X-1</td><td>148.95917</td><td>69.67972</td><td>57642.3530</td><td>ACIS-S</td><td>HETG</td><td>32440</td><td>TOO</td><td>Walton</td><td>58010</td><td>12.0</td><td>Spectrum-1.0</td><td>acisf19792N002_pha2</td><td>ACIS-S</td><td>HEASARC</td><td>57642.558369954859</td><td>57642.762945849187</td><td>57642.353000000003</td><td>32440.0</td><td>3.16159e-09</td><td>6.1991999999999999e-09</td><td>1.2397999999999999e-10</td><td>6.0752199999999996e-09</td><td>148.95917</td><td>69.679720000000003</td><td>--</td><td>0.81103500403976259</td><td>https://heasarc.gsfc.nasa.gov/FTP/chandra/data/science/ao17/cat4/19792/primary/acisf19792N002_pha2.fits.gz</td><td>application/fits</td></tr>\n",
       "</table><style>table.dataTable {clear: both; width: auto !important; margin: 0 !important;}\n",
       ".dataTables_info, .dataTables_length, .dataTables_filter, .dataTables_paginate{\n",
       "display: inline-block; margin-right: 1em; }\n",
       ".paginate_button { margin-right: 5px; }\n",
       "</style>\n",
       "<script>\n",
       "\n",
       "var astropy_sort_num = function(a, b) {\n",
       "    var a_num = parseFloat(a);\n",
       "    var b_num = parseFloat(b);\n",
       "\n",
       "    if (isNaN(a_num) && isNaN(b_num))\n",
       "        return ((a < b) ? -1 : ((a > b) ? 1 : 0));\n",
       "    else if (!isNaN(a_num) && !isNaN(b_num))\n",
       "        return ((a_num < b_num) ? -1 : ((a_num > b_num) ? 1 : 0));\n",
       "    else\n",
       "        return isNaN(a_num) ? -1 : 1;\n",
       "}\n",
       "\n",
       "require.config({paths: {\n",
       "    datatables: 'https://cdn.datatables.net/1.10.12/js/jquery.dataTables.min'\n",
       "}});\n",
       "require([\"datatables\"], function(){\n",
       "    console.log(\"$('#table4534193360-639858').dataTable()\");\n",
       "    \n",
       "jQuery.extend( jQuery.fn.dataTableExt.oSort, {\n",
       "    \"optionalnum-asc\": astropy_sort_num,\n",
       "    \"optionalnum-desc\": function (a,b) { return -astropy_sort_num(a, b); }\n",
       "});\n",
       "\n",
       "    $('#table4534193360-639858').dataTable({\n",
       "        order: [],\n",
       "        pageLength: 50,\n",
       "        lengthMenu: [[10, 25, 50, 100, 500, 1000, -1], [10, 25, 50, 100, 500, 1000, 'All']],\n",
       "        pagingType: \"full_numbers\",\n",
       "        columnDefs: [{targets: [0, 4, 5, 6, 9, 12, 18, 19, 20, 21, 22, 23, 24, 25, 26, 27, 28, 29], type: \"optionalnum\"}]\n",
       "    });\n",
       "});\n",
       "</script>\n"
      ],
      "text/plain": [
       "<IPython.core.display.HTML object>"
      ]
     },
     "execution_count": 4,
     "metadata": {},
     "output_type": "execute_result"
    }
   ],
   "source": [
    "## Sometimes this does nothing but time out!\n",
    "#import astropy.coordinates as coord\n",
    "#m82=coord.SkyCoord.from_name(\"m82\")\n",
    "#pos='{},{}'.format(m82.ra.deg,m82.dec.deg)\n",
    "pos='148.968458,69.679703' # M82\n",
    "#pos='83.633083,22.014500' # crab\n",
    "#pos='191.542417,30.731583' #mice\n",
    "params = {'table': 'chanmaster',\"POS\":pos,\"SIZE\":\"0.1\", \"REQUEST\":\"queryData\"}\n",
    "r = requests.get('https://heasarc.nasa.gov/xamin/vo/ssa', params=params)\n",
    "#print(r.content)\n",
    "spec_table = Table.read(io.BytesIO(r.content))\n",
    "spec_table['time'].format='.4f'\n",
    "spec_table.show_in_notebook()"
   ]
  },
  {
   "cell_type": "markdown",
   "metadata": {},
   "source": [
    "## Retrieve one of the spectra:"
   ]
  },
  {
   "cell_type": "code",
   "execution_count": 5,
   "metadata": {},
   "outputs": [
    {
     "data": {
      "text/html": [
       "&lt;Table length=12&gt;\n",
       "<table id=\"table4845084112-847713\" class=\"table-striped table-bordered table-condensed\">\n",
       "<thead><tr><th>idx</th><th>SPEC_NUM</th><th>TG_M</th><th>TG_PART</th><th>TG_SRCID</th><th>X</th><th>Y</th><th>CHANNEL [8192]</th><th>COUNTS [8192]</th><th>STAT_ERR [8192]</th><th>BACKGROUND_UP [8192]</th><th>BACKGROUND_DOWN [8192]</th><th>BIN_LO [8192]</th><th>BIN_HI [8192]</th></tr></thead>\n",
       "<tr><td>0</td><td>1</td><td>-3</td><td>1</td><td>1</td><td>4105.62</td><td>4071.5</td><td>1 .. 8192</td><td>0 .. 0</td><td>1.86603 .. 1.86603</td><td>0 .. 0</td><td>0 .. 0</td><td>7.15916666667 .. 0.333333333333</td><td>7.16 .. 0.334166666667</td></tr>\n",
       "<tr><td>1</td><td>2</td><td>-2</td><td>1</td><td>1</td><td>4105.62</td><td>4071.5</td><td>1 .. 8192</td><td>0 .. 0</td><td>1.86603 .. 1.86603</td><td>0 .. 0</td><td>0 .. 0</td><td>10.73875 .. 0.5</td><td>10.74 .. 0.50125</td></tr>\n",
       "<tr><td>2</td><td>3</td><td>-1</td><td>1</td><td>1</td><td>4105.62</td><td>4071.5</td><td>1 .. 8192</td><td>0 .. 0</td><td>1.86603 .. 1.86603</td><td>0 .. 0</td><td>0 .. 0</td><td>21.4775 .. 1.0</td><td>21.48 .. 1.0025</td></tr>\n",
       "<tr><td>3</td><td>4</td><td>1</td><td>1</td><td>1</td><td>4105.62</td><td>4071.5</td><td>1 .. 8192</td><td>0 .. 0</td><td>1.86603 .. 1.86603</td><td>0 .. 0</td><td>0 .. 0</td><td>21.4775 .. 1.0</td><td>21.48 .. 1.0025</td></tr>\n",
       "<tr><td>4</td><td>5</td><td>2</td><td>1</td><td>1</td><td>4105.62</td><td>4071.5</td><td>1 .. 8192</td><td>0 .. 0</td><td>1.86603 .. 1.86603</td><td>0 .. 0</td><td>0 .. 0</td><td>10.73875 .. 0.5</td><td>10.74 .. 0.50125</td></tr>\n",
       "<tr><td>5</td><td>6</td><td>3</td><td>1</td><td>1</td><td>4105.62</td><td>4071.5</td><td>1 .. 8192</td><td>0 .. 0</td><td>1.86603 .. 1.86603</td><td>0 .. 0</td><td>0 .. 0</td><td>7.15916666667 .. 0.333333333333</td><td>7.16 .. 0.334166666667</td></tr>\n",
       "<tr><td>6</td><td>7</td><td>-3</td><td>2</td><td>1</td><td>4105.62</td><td>4071.5</td><td>1 .. 8192</td><td>0 .. 0</td><td>1.86603 .. 1.86603</td><td>0 .. 0</td><td>0 .. 0</td><td>13.985 .. 0.333333333333</td><td>13.9866666667 .. 0.335</td></tr>\n",
       "<tr><td>7</td><td>8</td><td>-2</td><td>2</td><td>1</td><td>4105.62</td><td>4071.5</td><td>1 .. 8192</td><td>0 .. 0</td><td>1.86603 .. 1.86603</td><td>0 .. 0</td><td>0 .. 0</td><td>20.9775 .. 0.5</td><td>20.98 .. 0.5025</td></tr>\n",
       "<tr><td>8</td><td>9</td><td>-1</td><td>2</td><td>1</td><td>4105.62</td><td>4071.5</td><td>1 .. 8192</td><td>0 .. 0</td><td>1.86603 .. 1.86603</td><td>0 .. 0</td><td>0 .. 0</td><td>41.955 .. 1.0</td><td>41.96 .. 1.005</td></tr>\n",
       "<tr><td>9</td><td>10</td><td>1</td><td>2</td><td>1</td><td>4105.62</td><td>4071.5</td><td>1 .. 8192</td><td>0 .. 0</td><td>1.86603 .. 1.86603</td><td>0 .. 0</td><td>0 .. 0</td><td>41.955 .. 1.0</td><td>41.96 .. 1.005</td></tr>\n",
       "<tr><td>10</td><td>11</td><td>2</td><td>2</td><td>1</td><td>4105.62</td><td>4071.5</td><td>1 .. 8192</td><td>0 .. 0</td><td>1.86603 .. 1.86603</td><td>0 .. 0</td><td>0 .. 0</td><td>20.9775 .. 0.5</td><td>20.98 .. 0.5025</td></tr>\n",
       "<tr><td>11</td><td>12</td><td>3</td><td>2</td><td>1</td><td>4105.62</td><td>4071.5</td><td>1 .. 8192</td><td>0 .. 0</td><td>1.86603 .. 1.86603</td><td>0 .. 0</td><td>0 .. 0</td><td>13.985 .. 0.333333333333</td><td>13.9866666667 .. 0.335</td></tr>\n",
       "</table><style>table.dataTable {clear: both; width: auto !important; margin: 0 !important;}\n",
       ".dataTables_info, .dataTables_length, .dataTables_filter, .dataTables_paginate{\n",
       "display: inline-block; margin-right: 1em; }\n",
       ".paginate_button { margin-right: 5px; }\n",
       "</style>\n",
       "<script>\n",
       "\n",
       "var astropy_sort_num = function(a, b) {\n",
       "    var a_num = parseFloat(a);\n",
       "    var b_num = parseFloat(b);\n",
       "\n",
       "    if (isNaN(a_num) && isNaN(b_num))\n",
       "        return ((a < b) ? -1 : ((a > b) ? 1 : 0));\n",
       "    else if (!isNaN(a_num) && !isNaN(b_num))\n",
       "        return ((a_num < b_num) ? -1 : ((a_num > b_num) ? 1 : 0));\n",
       "    else\n",
       "        return isNaN(a_num) ? -1 : 1;\n",
       "}\n",
       "\n",
       "require.config({paths: {\n",
       "    datatables: 'https://cdn.datatables.net/1.10.12/js/jquery.dataTables.min'\n",
       "}});\n",
       "require([\"datatables\"], function(){\n",
       "    console.log(\"$('#table4845084112-847713').dataTable()\");\n",
       "    \n",
       "jQuery.extend( jQuery.fn.dataTableExt.oSort, {\n",
       "    \"optionalnum-asc\": astropy_sort_num,\n",
       "    \"optionalnum-desc\": function (a,b) { return -astropy_sort_num(a, b); }\n",
       "});\n",
       "\n",
       "    $('#table4845084112-847713').dataTable({\n",
       "        order: [],\n",
       "        pageLength: 50,\n",
       "        lengthMenu: [[10, 25, 50, 100, 500, 1000, -1], [10, 25, 50, 100, 500, 1000, 'All']],\n",
       "        pagingType: \"full_numbers\",\n",
       "        columnDefs: [{targets: [0, 1, 2, 3, 4, 5, 6, 7, 8, 9, 10, 11, 12, 13], type: \"optionalnum\"}]\n",
       "    });\n",
       "});\n",
       "</script>\n"
      ],
      "text/plain": [
       "<IPython.core.display.HTML object>"
      ]
     },
     "execution_count": 5,
     "metadata": {},
     "output_type": "execute_result"
    }
   ],
   "source": [
    "## Get the first spectrum (which has a long-ish exposure.)\n",
    "import astropy.io.fits as fits\n",
    "hdu_list=fits.open(spec_table[2]['SSA_reference'].decode()) # Byte format, so just decode() to string\n",
    "#hdu_list.info()\n",
    "table = Table(hdu_list[1].data)\n",
    "table.show_in_notebook()\n",
    "\n"
   ]
  },
  {
   "cell_type": "code",
   "execution_count": 17,
   "metadata": {},
   "outputs": [
    {
     "data": {
      "image/png": "[encoded data removed]",
      "text/plain": [
       "<matplotlib.figure.Figure at 0x122510c10>"
      ]
     },
     "metadata": {},
     "output_type": "display_data"
    }
   ],
   "source": [
    "## Here, you just have to be familiar with the format of these spectra by reading Chandra documentation.\n",
    "for i in range(len(table)):\n",
    "    matplotlib.rcParams['figure.figsize'] = (10, 8)\n",
    "    ax=plt.subplot(6,2,i+1)\n",
    "    pha = plt.plot( table['CHANNEL'][i],table['COUNTS'][i])\n",
    "    ax.set_yscale('log')\n",
    "    if table['TG_PART'][i] == 1:\n",
    "        instr='HEG'\n",
    "    if table['TG_PART'][i] == 2:\n",
    "        instr='MEG'\n",
    "    if table['TG_PART'][i] == 3:\n",
    "        instr='LEG'\n",
    "    ax.set_title(\"{grating}{order:+d}\".format(grating=instr, order=table['TG_M'][i]))\n",
    "    plt.tight_layout()\n",
    "    "
   ]
  },
  {
   "cell_type": "markdown",
   "metadata": {
    "collapsed": true
   },
   "source": [
    "Note: The 12 plots here show all the different HEG and MEG components (+/- 3, +/- 2, and +/- 1 for each grating) for the grating data, as titled. In practice, you might want to download the fits file and use a different analysis and plotting tool to create an energy spectrum plot using SHERPA or XSPEC, etc. \n",
    "\n",
    "You can download the file directly using this:\n"
   ]
  },
  {
   "cell_type": "code",
   "execution_count": 18,
   "metadata": {
    "scrolled": true
   },
   "outputs": [],
   "source": [
    "## Because urllib is annoying to make Python 2/3 compatible, just use requests:\n",
    "r=requests.get(spec_table[2]['SSA_reference'].decode(), stream=True)\n",
    "with open('my_spectrum.fits','wb') as f:\n",
    "    f.write(r.content)"
   ]
  },
  {
   "cell_type": "markdown",
   "metadata": {},
   "source": [
    "## Analyze it with PyXspec\n",
    "\n",
    "<div>\n",
    "Note that currently, we do not have a way to link the spectra to their corresponding response files.  In some cases, you can take the download URL for the spectrum and look for the response in the same directory, but this is obviously not ideal.  In other cases, it's even less obvious how to find the correct response.  A knowledge of the specific mission archive and tools is currently necessary.  For this example, we have retrieved off-line the relevant file and stored it as \"my_arf.fits\".  This is an issue to be addressed by the HEASARC in the future to make this process more feasible. For now, this example is a proof-of-concept only.  \n",
    "</div>"
   ]
  },
  {
   "cell_type": "code",
   "execution_count": 19,
   "metadata": {},
   "outputs": [
    {
     "name": "stdout",
     "output_type": "stream",
     "text": [
      "\n",
      "1 spectrum  in use\n",
      " \n",
      "Spectral Data File: my_spectrum.fits{10}  Spectrum 1\n",
      "Net count rate (cts/s) for Spectrum:1  6.696e-02 +/- 5.616e-03\n",
      " Assigned to Data Group 1 and Plot Group 1\n",
      "  Noticed Channels:  1-8192\n",
      "  Telescope: CHANDRA Instrument: ACIS  Channel Type: PI\n",
      "  Exposure Time: 3.202e+04 sec\n",
      " Using fit statistic: chi\n",
      " Using test statistic: chi\n",
      " No response loaded.\n",
      "\n",
      "***Warning!  One or more spectra are missing responses,\n",
      "               and are not suitable for fit.\n",
      "Response successfully loaded.\n",
      "Arf successfully loaded.\n"
     ]
    }
   ],
   "source": [
    "xspec.Xset.allowPrompting = False # keeps pyxspec from hanging, waiting for a response to a prompt\n",
    "##  The type II PHA files contain multiple spectra, and we tell Xspec to select with the \n",
    "##  curly bracket notation and the number starting from 1 (not zero):\n",
    "with sys_pipes():\n",
    "    pha = xspec.Spectrum(\"my_spectrum.fits{10}\")\n",
    "    ##  As mentioned above, this is retrieved off-line for now.\n",
    "    #pha.response=\"tgcat/obs_19792_tgid_5277/heg_1.rmf.gz\"\n",
    "    #pha.response.arf=\"tgcat/obs_19792_tgid_5277/heg_1.arf.gz\"    \n",
    "    #pha.response=\"tgcat/obs_19792_tgid_5277/meg_1.rmf.gz\"\n",
    "    #pha.response.arf=\"tgcat/obs_19792_tgid_5277/meg_1.arf.gz\"\n",
    "    pha.response=\"my_rmf.fits.gz\"\n",
    "    pha.response.arf=\"my_arf.fits.gz\""
   ]
  },
  {
   "cell_type": "code",
   "execution_count": 20,
   "metadata": {},
   "outputs": [
    {
     "name": "stdout",
     "output_type": "stream",
     "text": [
      "\n",
      "========================================================================\n",
      "Model wabs<1>*powerlaw<2> + gaussian<3> Source No.: 1   Active/On\n",
      "Model Model Component  Parameter  Unit     Value\n",
      " par  comp\n",
      "   1    1   wabs       nH         10^22    1.00000      +/-  0.0          \n",
      "   2    2   powerlaw   PhoIndex            1.00000      +/-  0.0          \n",
      "   3    2   powerlaw   norm                1.00000      +/-  0.0          \n",
      "   4    3   gaussian   LineE      keV      6.50000      +/-  0.0          \n",
      "   5    3   gaussian   Sigma      keV      0.100000     +/-  0.0          \n",
      "   6    3   gaussian   norm                1.00000      +/-  0.0          \n",
      "________________________________________________________________________\n",
      "\n",
      "\n",
      "Fit statistic : Chi-Squared =   1.807228e+08 using 8192 PHA bins.\n",
      "\n",
      "Test statistic : Chi-Squared =   1.807228e+08 using 8192 PHA bins.\n",
      " Reduced chi-squared =       22077.06 for   8186 degrees of freedom \n",
      " Null hypothesis probability =   0.000000e+00\n",
      " Current data and model not fit yet.\n"
     ]
    }
   ],
   "source": [
    "with sys_pipes():\n",
    "    m = xspec.Model(\"wa*po + ga\")"
   ]
  },
  {
   "cell_type": "code",
   "execution_count": 21,
   "metadata": {},
   "outputs": [
    {
     "name": "stdout",
     "output_type": "stream",
     "text": [
      "Default fit statistic is set to: C-Statistic\n",
      "   This will apply to all current and newly loaded spectra.\n",
      "\n",
      "Fit statistic : C-Statistic =   1.888737e+06 using 8192 PHA bins and 8186 degrees of freedom.\n",
      "\n",
      "Warning: cstat statistic is only valid for Poisson data.\n",
      "    Source file is not Poisson\n",
      "\n",
      "\n",
      "Test statistic : Chi-Squared =   1.807228e+08 using 8192 PHA bins.\n",
      " Reduced chi-squared =       22077.06 for   8186 degrees of freedom \n",
      " Null hypothesis probability =   0.000000e+00\n",
      " Current data and model not fit yet.\n",
      "                                   Parameters\n",
      "C-Statistic  |beta|/N    Lvl          1:nH    2:PhoIndex        3:norm       4:LineE       5:Sigma        6:norm\n",
      "2499.1       16929        -3      0.881410       1.44961    0.00310024       7.35795       1.32969    0.00111798\n",
      "2450.56      8181.8       -4      0.745761       1.44208    0.00313374       9.50993       2.30546    0.00107631\n",
      "2448.72      369.728      -2      0.649951       1.31388    0.00276595       13.4244       1.78921    0.00269712\n",
      "2447.51      1727.98      -3      0.603554       1.32837    0.00269253       20.1570       4.80886     0.0234378\n",
      "2447.45      812.295      -1      0.588797       1.32821    0.00267455       20.3160       3.75874     0.0559273\n",
      "2444.88      39.8764      -1      0.579748       1.32499    0.00265172       18.9190       3.32479      0.194317\n",
      "2443.77      1.37822      -1      0.572458       1.31962    0.00263112       18.4907       2.94725      0.461184\n",
      "2441.88      92.5254      -1      0.566031       1.31307    0.00261006       18.0941       2.77847      0.943961\n",
      "2440.55      27.426       -1      0.559898       1.30690    0.00258968       17.8064       2.57853       1.89687\n",
      "2439.26      9.25142      -1      0.553949       1.30093    0.00257003       17.6386       2.46678       3.57418\n",
      "Number of trials exceeded: continue fitting? 2438.23      39.6174      -1      0.548112       1.29436    0.00255010       17.4073       2.30878       6.71280\n",
      "2437.31      43.3258      -1      0.542233       1.28800    0.00253030       17.2676       2.20786       12.1327\n",
      "2436.8       61.1822      -1      0.536361       1.28328    0.00251258       17.4081       2.23474       19.1435\n",
      "2436.53      81.0139      -1      0.530684       1.27846    0.00249567       17.7582       2.24517       32.8167\n",
      "2436.35      59.6843      -1      0.525580       1.27176    0.00247752       18.0079       2.16389       68.2763\n",
      "2436.16      60.5906      -1      0.520766       1.26638    0.00246090       18.0128       2.13508       115.598\n",
      "2435.82      58.2266      -1      0.516352       1.26223    0.00244676       17.7164       2.12668       94.1747\n",
      "2435.79      81.3067       0      0.515537       1.26169    0.00244524       17.6872       2.08729       107.289\n",
      "2435.78      78.4147      -1      0.511704       1.25622    0.00243043       17.4636       1.95956       163.742\n",
      "======================================================================\n",
      " Variances and Principal Axes\n",
      "                 1        2        3        4        5        6  \n",
      " 2.7985E-09| -0.0013  -0.0019   1.0000  -0.0000   0.0000   0.0000  \n",
      " 1.0634E-03|  0.8204  -0.5714  -0.0001  -0.0048   0.0200   0.0000  \n",
      " 7.8041E-03| -0.3611  -0.4899  -0.0014  -0.1859   0.7714   0.0009  \n",
      " 9.3118E-03|  0.4433   0.6584   0.0018  -0.1426   0.5913   0.0007  \n",
      " 8.8988E-01| -0.0001  -0.0000  -0.0000  -0.9721  -0.2344   0.0049  \n",
      " 1.3478E+05|  0.0000   0.0000   0.0000  -0.0050  -0.0000  -1.0000  \n",
      "----------------------------------------------------------------------\n",
      "\n",
      "========================================================================\n",
      "  Covariance Matrix\n",
      "        1           2           3           4           5           6   \n",
      "   3.581e-03   3.642e-03   1.157e-05  -7.709e-03   2.419e-04  -1.535e+00\n",
      "   3.642e-03   6.356e-03   1.689e-05  -1.846e-02   5.455e-04  -3.662e+00\n",
      "   1.157e-05   1.689e-05   5.009e-08  -4.099e-05   1.251e-06  -8.148e-03\n",
      "  -7.709e-03  -1.846e-02  -4.099e-05   4.221e+00   2.245e-01   6.749e+02\n",
      "   2.419e-04   5.455e-04   1.251e-06   2.245e-01   5.694e-02   4.723e+00\n",
      "  -1.535e+00  -3.662e+00  -8.148e-03   6.749e+02   4.723e+00   1.348e+05\n",
      "------------------------------------------------------------------------\n",
      "\n",
      "========================================================================\n",
      "Model wabs<1>*powerlaw<2> + gaussian<3> Source No.: 1   Active/On\n",
      "Model Model Component  Parameter  Unit     Value\n",
      " par  comp\n",
      "   1    1   wabs       nH         10^22    0.511704     +/-  5.98416E-02  \n",
      "   2    2   powerlaw   PhoIndex            1.25622      +/-  7.97252E-02  \n",
      "   3    2   powerlaw   norm                2.43043E-03  +/-  2.23817E-04  \n",
      "   4    3   gaussian   LineE      keV      17.4636      +/-  2.05445      \n",
      "   5    3   gaussian   Sigma      keV      1.95956      +/-  0.238630     \n",
      "   6    3   gaussian   norm                163.742      +/-  367.116      \n",
      "________________________________________________________________________\n",
      "\n",
      "\n",
      "Fit statistic : C-Statistic =        2435.78 using 8192 PHA bins and 8186 degrees of freedom.\n",
      "\n",
      "Warning: cstat statistic is only valid for Poisson data.\n",
      "    Source file is not Poisson\n",
      "\n",
      "\n",
      "Test statistic : Chi-Squared =         376.33 using 8192 PHA bins.\n",
      " Reduced chi-squared =       0.045973 for   8186 degrees of freedom \n",
      " Null hypothesis probability =   1.000000e+00\n"
     ]
    }
   ],
   "source": [
    "with sys_pipes():\n",
    "    xspec.Fit.statMethod =\"cstat\"\n",
    "    xspec.Fit.perform()"
   ]
  },
  {
   "cell_type": "markdown",
   "metadata": {},
   "source": [
    "<font color='red'> Need error bars and maybe a better model?</font>\n",
    "\n",
    "We can plot the results using, e.g., matplotlib (first example below) or Xspec's own plotting routines (second example below):"
   ]
  },
  {
   "cell_type": "code",
   "execution_count": 22,
   "metadata": {},
   "outputs": [
    {
     "data": {
      "image/png": "[encoded data removed]",
      "text/plain": [
       "<matplotlib.figure.Figure at 0x1220a0190>"
      ]
     },
     "metadata": {},
     "output_type": "display_data"
    }
   ],
   "source": [
    "xspec.Plot.device = \"/nu\"\n",
    "\n",
    "ax = plt.subplot(111)\n",
    "\n",
    "from astropy.convolution import convolve, Box1DKernel\n",
    "import numpy as np\n",
    "nbins=50 # Boxcar width\n",
    "plt.rcParams['figure.figsize'] = (10, 4)\n",
    "\n",
    "## This tells xspec.Plot that you want to use energy for the x-axis; otherwise, you get channel.\n",
    "xspec.Plot.xAxis = \"keV\"\n",
    "xspec.Plot.setRebin(minSig=3.0, maxBins=50)\n",
    "xspec.Plot(\"data\")\n",
    "xVals = xspec.Plot.x()\n",
    "xValserr = xspec.Plot.xErr()\n",
    "yVals = xspec.Plot.y()\n",
    "yValserr = xspec.Plot.yErr()\n",
    "\n",
    "modVals = xspec.Plot.model()\n",
    "\n",
    "## Boxcar the data so the trend is visible:\n",
    "#plotY=convolve(np.asarray(yVals),  Box1DKernel(nbins))\n",
    "#plotM=convolve(np.asarray(modVals),Box1DKernel(nbins))\n",
    "\n",
    "plt.errorbar(xVals, yVals, yerr=yValserr, xerr=xValserr, fmt='.')\n",
    "\n",
    "plt.step(xVals, modVals)\n",
    "plt.xlabel('keV', fontsize=16)\n",
    "plt.ylabel('counts/cm$^2$/sec/chan', fontsize=16)\n",
    "ax.set_yscale('log')\n",
    "ax.set_ylim([1e-3,1e-1])\n",
    "ax.set_xlim([0.5,10])\n",
    "ax.set_xscale('log')\n"
   ]
  },
  {
   "cell_type": "markdown",
   "metadata": {
    "collapsed": true
   },
   "source": [
    "# Chandra Spectrum of Delta Ori"
   ]
  },
  {
   "cell_type": "code",
   "execution_count": 26,
   "metadata": {},
   "outputs": [
    {
     "data": {
      "text/html": [
       "&lt;Table masked=True length=6&gt;\n",
       "<table id=\"table4842188368-997021\" class=\"table-striped table-bordered table-condensed\">\n",
       "<thead><tr><th>idx</th><th>obsid</th><th>status</th><th>name</th><th>ra</th><th>dec</th><th>time</th><th>detector</th><th>grating</th><th>exposure</th><th>type</th><th>pi</th><th>public_date</th><th>SSA_datalength</th><th>SSA_datamodel</th><th>SSA_title</th><th>SSA_instrument</th><th>SSA_publisher</th><th>SSA_tmid</th><th>SSA_stop_time</th><th>SSA_start_time</th><th>SSA_duration</th><th>SSA_bandpass</th><th>SSA_wavelength_max</th><th>SSA_wavelength_min</th><th>SSA_bandwidth</th><th>SSA_ra</th><th>SSA_dec</th><th>SSA_coord_obs</th><th>SSA_fov</th><th>SSA_reference</th><th>SSA_format</th></tr></thead>\n",
       "<thead><tr><th></th><th></th><th></th><th></th><th>deg</th><th>deg</th><th>mjd</th><th></th><th></th><th>s</th><th></th><th></th><th>mjd</th><th></th><th></th><th></th><th></th><th></th><th>mjd</th><th>mjd</th><th>mjd</th><th>s</th><th>meter</th><th>meter</th><th>meter</th><th>meter</th><th>deg</th><th>deg</th><th>deg</th><th>deg</th><th></th><th></th></tr></thead>\n",
       "<tr><td>0</td><td>639</td><td>archived</td><td>DELTA ORI</td><td>83.00125</td><td>-0.29917</td><td>51556.1364</td><td>ACIS-S</td><td>HETG</td><td>49680</td><td>GO</td><td>Cassinelli</td><td>52037</td><td>12.0</td><td>Spectrum-1.0</td><td>acisf00639N004_pha2</td><td>ACIS-S</td><td>HEASARC</td><td>51556.436500571508</td><td>51556.735856340485</td><td>51556.136400000003</td><td>49680.0</td><td>3.16159e-09</td><td>6.1991999999999999e-09</td><td>1.2397999999999999e-10</td><td>6.0752199999999996e-09</td><td>83.001249999999999</td><td>-0.29916999999999999</td><td>--</td><td>0.81103500403976259</td><td>https://heasarc.gsfc.nasa.gov/FTP/chandra/data/science/ao01/cat2/639/primary/acisf00639N004_pha2.fits.gz</td><td>application/fits</td></tr>\n",
       "<tr><td>1</td><td>7416</td><td>archived</td><td>delta Ori HD 36486</td><td>83.00167</td><td>-0.29908</td><td>54413.4270</td><td>HRC-S</td><td>LETG</td><td>97080</td><td>GO</td><td>Raassen</td><td>54783</td><td>2.0</td><td>Spectrum-1.0</td><td>hrcf07416N003_pha2</td><td>HRC-S</td><td>HEASARC</td><td>54413.997480954342</td><td>54414.567153797223</td><td>54413.427000000003</td><td>97080.0</td><td>3.16159e-09</td><td>6.1991999999999999e-09</td><td>1.2397999999999999e-10</td><td>6.0752199999999996e-09</td><td>83.001670000000004</td><td>-0.29908000000000001</td><td>--</td><td>0.81103500403976259</td><td>https://heasarc.gsfc.nasa.gov/FTP/chandra/data/science/ao08/cat2/7416/primary/hrcf07416N003_pha2.fits.gz</td><td>application/fits</td></tr>\n",
       "<tr><td>2</td><td>14567</td><td>archived</td><td>Delta Ori</td><td>83.00167</td><td>-0.29908</td><td>56280.7037</td><td>ACIS-S</td><td>HETG</td><td>116500</td><td>GO</td><td>Corcoran</td><td>56647</td><td>12.0</td><td>Spectrum-1.0</td><td>acisf14567N002_pha2</td><td>ACIS-S</td><td>HEASARC</td><td>56281.389824722108</td><td>56282.075177840627</td><td>56280.703699999998</td><td>116500.0</td><td>3.16159e-09</td><td>6.1991999999999999e-09</td><td>1.2397999999999999e-10</td><td>6.0752199999999996e-09</td><td>83.001670000000004</td><td>-0.29908000000000001</td><td>--</td><td>0.81103500403976259</td><td>https://heasarc.gsfc.nasa.gov/FTP/chandra/data/science/ao14/cat2/14567/primary/acisf14567N002_pha2.fits.gz</td><td>application/fits</td></tr>\n",
       "<tr><td>3</td><td>14568</td><td>archived</td><td>Delta Ori</td><td>83.00167</td><td>-0.29908</td><td>56288.1612</td><td>ACIS-S</td><td>HETG</td><td>123600</td><td>GO</td><td>Corcoran</td><td>56655</td><td>12.0</td><td>Spectrum-1.0</td><td>acisf14568N002_pha2</td><td>ACIS-S</td><td>HEASARC</td><td>56288.890250763019</td><td>56289.618502032063</td><td>56288.161200000002</td><td>123600.0</td><td>3.16159e-09</td><td>6.1991999999999999e-09</td><td>1.2397999999999999e-10</td><td>6.0752199999999996e-09</td><td>83.001670000000004</td><td>-0.29908000000000001</td><td>--</td><td>0.81103500403976259</td><td>https://heasarc.gsfc.nasa.gov/FTP/chandra/data/science/ao14/cat2/14568/primary/acisf14568N002_pha2.fits.gz</td><td>application/fits</td></tr>\n",
       "<tr><td>4</td><td>14569</td><td>archived</td><td>Delta Ori</td><td>83.00167</td><td>-0.29908</td><td>56283.2540</td><td>ACIS-S</td><td>HETG</td><td>120850</td><td>GO</td><td>Corcoran</td><td>56650</td><td>12.0</td><td>Spectrum-1.0</td><td>acisf14569N002_pha2</td><td>ACIS-S</td><td>HEASARC</td><td>56283.964980170487</td><td>56284.675201996994</td><td>56283.254000000001</td><td>120850.0</td><td>3.16159e-09</td><td>6.1991999999999999e-09</td><td>1.2397999999999999e-10</td><td>6.0752199999999996e-09</td><td>83.001670000000004</td><td>-0.29908000000000001</td><td>--</td><td>0.81103500403976259</td><td>https://heasarc.gsfc.nasa.gov/FTP/chandra/data/science/ao14/cat2/14569/primary/acisf14569N002_pha2.fits.gz</td><td>application/fits</td></tr>\n",
       "<tr><td>5</td><td>14570</td><td>archived</td><td>Delta Ori</td><td>83.00167</td><td>-0.29908</td><td>56285.5508</td><td>ACIS-S</td><td>HETG</td><td>124100</td><td>GO</td><td>Corcoran</td><td>56652</td><td>12.0</td><td>Spectrum-1.0</td><td>acisf14570N002_pha2</td><td>ACIS-S</td><td>HEASARC</td><td>56286.283897468573</td><td>56287.016223824656</td><td>56285.550799999997</td><td>124100.0</td><td>3.16159e-09</td><td>6.1991999999999999e-09</td><td>1.2397999999999999e-10</td><td>6.0752199999999996e-09</td><td>83.001670000000004</td><td>-0.29908000000000001</td><td>--</td><td>0.81103500403976259</td><td>https://heasarc.gsfc.nasa.gov/FTP/chandra/data/science/ao14/cat2/14570/primary/acisf14570N002_pha2.fits.gz</td><td>application/fits</td></tr>\n",
       "</table><style>table.dataTable {clear: both; width: auto !important; margin: 0 !important;}\n",
       ".dataTables_info, .dataTables_length, .dataTables_filter, .dataTables_paginate{\n",
       "display: inline-block; margin-right: 1em; }\n",
       ".paginate_button { margin-right: 5px; }\n",
       "</style>\n",
       "<script>\n",
       "\n",
       "var astropy_sort_num = function(a, b) {\n",
       "    var a_num = parseFloat(a);\n",
       "    var b_num = parseFloat(b);\n",
       "\n",
       "    if (isNaN(a_num) && isNaN(b_num))\n",
       "        return ((a < b) ? -1 : ((a > b) ? 1 : 0));\n",
       "    else if (!isNaN(a_num) && !isNaN(b_num))\n",
       "        return ((a_num < b_num) ? -1 : ((a_num > b_num) ? 1 : 0));\n",
       "    else\n",
       "        return isNaN(a_num) ? -1 : 1;\n",
       "}\n",
       "\n",
       "require.config({paths: {\n",
       "    datatables: 'https://cdn.datatables.net/1.10.12/js/jquery.dataTables.min'\n",
       "}});\n",
       "require([\"datatables\"], function(){\n",
       "    console.log(\"$('#table4842188368-997021').dataTable()\");\n",
       "    \n",
       "jQuery.extend( jQuery.fn.dataTableExt.oSort, {\n",
       "    \"optionalnum-asc\": astropy_sort_num,\n",
       "    \"optionalnum-desc\": function (a,b) { return -astropy_sort_num(a, b); }\n",
       "});\n",
       "\n",
       "    $('#table4842188368-997021').dataTable({\n",
       "        order: [],\n",
       "        pageLength: 50,\n",
       "        lengthMenu: [[10, 25, 50, 100, 500, 1000, -1], [10, 25, 50, 100, 500, 1000, 'All']],\n",
       "        pagingType: \"full_numbers\",\n",
       "        columnDefs: [{targets: [0, 4, 5, 6, 9, 12, 18, 19, 20, 21, 22, 23, 24, 25, 26, 27, 28, 29], type: \"optionalnum\"}]\n",
       "    });\n",
       "});\n",
       "</script>\n"
      ],
      "text/plain": [
       "<IPython.core.display.HTML object>"
      ]
     },
     "execution_count": 26,
     "metadata": {},
     "output_type": "execute_result"
    }
   ],
   "source": [
    "delori=SkyCoord.from_name(\"delta ori\")\n",
    "pos='{},{}'.format(delori.ra.deg,delori.dec.deg)\n",
    "\n",
    "params = {'table': 'chanmaster',\"POS\":pos,\"SIZE\":\"0.1\", \"REQUEST\":\"queryData\"}\n",
    "r = requests.get('https://heasarc.nasa.gov/xamin/vo/ssa', params=params)\n",
    "#print(r.content)\n",
    "spec_table = Table.read(io.BytesIO(r.content))\n",
    "spec_table['time'].format='.4f'\n",
    "spec_table.show_in_notebook()"
   ]
  },
  {
   "cell_type": "code",
   "execution_count": 66,
   "metadata": {},
   "outputs": [
    {
     "data": {
      "text/html": [
       "&lt;Table length=12&gt;\n",
       "<table id=\"table4878540752-225282\" class=\"table-striped table-bordered table-condensed\">\n",
       "<thead><tr><th>idx</th><th>SPEC_NUM</th><th>TG_M</th><th>TG_PART</th><th>TG_SRCID</th><th>X</th><th>Y</th><th>CHANNEL [8192]</th><th>COUNTS [8192]</th><th>STAT_ERR [8192]</th><th>BACKGROUND_UP [8192]</th><th>BACKGROUND_DOWN [8192]</th><th>BIN_LO [8192]</th><th>BIN_HI [8192]</th></tr></thead>\n",
       "<tr><td>0</td><td>1</td><td>-3</td><td>1</td><td>1</td><td>4113.77</td><td>4083.73</td><td>1 .. 8192</td><td>0 .. 0</td><td>1.86603 .. 1.86603</td><td>0 .. 0</td><td>0 .. 0</td><td>7.15916666667 .. 0.333333333333</td><td>7.16 .. 0.334166666667</td></tr>\n",
       "<tr><td>1</td><td>2</td><td>-2</td><td>1</td><td>1</td><td>4113.77</td><td>4083.73</td><td>1 .. 8192</td><td>0 .. 0</td><td>1.86603 .. 1.86603</td><td>0 .. 0</td><td>0 .. 0</td><td>10.73875 .. 0.5</td><td>10.74 .. 0.50125</td></tr>\n",
       "<tr><td>2</td><td>3</td><td>-1</td><td>1</td><td>1</td><td>4113.77</td><td>4083.73</td><td>1 .. 8192</td><td>0 .. 0</td><td>1.86603 .. 1.86603</td><td>0 .. 0</td><td>0 .. 0</td><td>21.4775 .. 1.0</td><td>21.48 .. 1.0025</td></tr>\n",
       "<tr><td>3</td><td>4</td><td>1</td><td>1</td><td>1</td><td>4113.77</td><td>4083.73</td><td>1 .. 8192</td><td>0 .. 0</td><td>1.86603 .. 1.86603</td><td>0 .. 0</td><td>0 .. 0</td><td>21.4775 .. 1.0</td><td>21.48 .. 1.0025</td></tr>\n",
       "<tr><td>4</td><td>5</td><td>2</td><td>1</td><td>1</td><td>4113.77</td><td>4083.73</td><td>1 .. 8192</td><td>0 .. 0</td><td>1.86603 .. 1.86603</td><td>0 .. 0</td><td>0 .. 0</td><td>10.73875 .. 0.5</td><td>10.74 .. 0.50125</td></tr>\n",
       "<tr><td>5</td><td>6</td><td>3</td><td>1</td><td>1</td><td>4113.77</td><td>4083.73</td><td>1 .. 8192</td><td>0 .. 0</td><td>1.86603 .. 1.86603</td><td>0 .. 0</td><td>0 .. 0</td><td>7.15916666667 .. 0.333333333333</td><td>7.16 .. 0.334166666667</td></tr>\n",
       "<tr><td>6</td><td>7</td><td>-3</td><td>2</td><td>1</td><td>4113.77</td><td>4083.73</td><td>1 .. 8192</td><td>0 .. 0</td><td>1.86603 .. 1.86603</td><td>0 .. 0</td><td>0 .. 0</td><td>13.985 .. 0.333333333333</td><td>13.9866666667 .. 0.335</td></tr>\n",
       "<tr><td>7</td><td>8</td><td>-2</td><td>2</td><td>1</td><td>4113.77</td><td>4083.73</td><td>1 .. 8192</td><td>0 .. 0</td><td>1.86603 .. 1.86603</td><td>0 .. 0</td><td>0 .. 0</td><td>20.9775 .. 0.5</td><td>20.98 .. 0.5025</td></tr>\n",
       "<tr><td>8</td><td>9</td><td>-1</td><td>2</td><td>1</td><td>4113.77</td><td>4083.73</td><td>1 .. 8192</td><td>0 .. 0</td><td>1.86603 .. 1.86603</td><td>0 .. 0</td><td>0 .. 0</td><td>41.955 .. 1.0</td><td>41.96 .. 1.005</td></tr>\n",
       "<tr><td>9</td><td>10</td><td>1</td><td>2</td><td>1</td><td>4113.77</td><td>4083.73</td><td>1 .. 8192</td><td>0 .. 0</td><td>1.86603 .. 1.86603</td><td>0 .. 0</td><td>0 .. 0</td><td>41.955 .. 1.0</td><td>41.96 .. 1.005</td></tr>\n",
       "<tr><td>10</td><td>11</td><td>2</td><td>2</td><td>1</td><td>4113.77</td><td>4083.73</td><td>1 .. 8192</td><td>0 .. 0</td><td>1.86603 .. 1.86603</td><td>0 .. 0</td><td>0 .. 0</td><td>20.9775 .. 0.5</td><td>20.98 .. 0.5025</td></tr>\n",
       "<tr><td>11</td><td>12</td><td>3</td><td>2</td><td>1</td><td>4113.77</td><td>4083.73</td><td>1 .. 8192</td><td>0 .. 0</td><td>1.86603 .. 1.86603</td><td>0 .. 0</td><td>0 .. 0</td><td>13.985 .. 0.333333333333</td><td>13.9866666667 .. 0.335</td></tr>\n",
       "</table><style>table.dataTable {clear: both; width: auto !important; margin: 0 !important;}\n",
       ".dataTables_info, .dataTables_length, .dataTables_filter, .dataTables_paginate{\n",
       "display: inline-block; margin-right: 1em; }\n",
       ".paginate_button { margin-right: 5px; }\n",
       "</style>\n",
       "<script>\n",
       "\n",
       "var astropy_sort_num = function(a, b) {\n",
       "    var a_num = parseFloat(a);\n",
       "    var b_num = parseFloat(b);\n",
       "\n",
       "    if (isNaN(a_num) && isNaN(b_num))\n",
       "        return ((a < b) ? -1 : ((a > b) ? 1 : 0));\n",
       "    else if (!isNaN(a_num) && !isNaN(b_num))\n",
       "        return ((a_num < b_num) ? -1 : ((a_num > b_num) ? 1 : 0));\n",
       "    else\n",
       "        return isNaN(a_num) ? -1 : 1;\n",
       "}\n",
       "\n",
       "require.config({paths: {\n",
       "    datatables: 'https://cdn.datatables.net/1.10.12/js/jquery.dataTables.min'\n",
       "}});\n",
       "require([\"datatables\"], function(){\n",
       "    console.log(\"$('#table4878540752-225282').dataTable()\");\n",
       "    \n",
       "jQuery.extend( jQuery.fn.dataTableExt.oSort, {\n",
       "    \"optionalnum-asc\": astropy_sort_num,\n",
       "    \"optionalnum-desc\": function (a,b) { return -astropy_sort_num(a, b); }\n",
       "});\n",
       "\n",
       "    $('#table4878540752-225282').dataTable({\n",
       "        order: [],\n",
       "        pageLength: 50,\n",
       "        lengthMenu: [[10, 25, 50, 100, 500, 1000, -1], [10, 25, 50, 100, 500, 1000, 'All']],\n",
       "        pagingType: \"full_numbers\",\n",
       "        columnDefs: [{targets: [0, 1, 2, 3, 4, 5, 6, 7, 8, 9, 10, 11, 12, 13], type: \"optionalnum\"}]\n",
       "    });\n",
       "});\n",
       "</script>\n"
      ],
      "text/plain": [
       "<IPython.core.display.HTML object>"
      ]
     },
     "execution_count": 66,
     "metadata": {},
     "output_type": "execute_result"
    }
   ],
   "source": [
    "## Get the first spectrum (which has a long-ish exposure.)\n",
    "hdu_list=fits.open(spec_table[5]['SSA_reference'].decode()) # Byte format, so just decode() to string\n",
    "#hdu_list.info()\n",
    "table = Table(hdu_list[1].data)\n",
    "table.show_in_notebook()"
   ]
  },
  {
   "cell_type": "code",
   "execution_count": 27,
   "metadata": {},
   "outputs": [],
   "source": [
    "## Because urllib is annoying to make Python 2/3 compatible, just use requests:\n",
    "r=requests.get(spec_table[5]['SSA_reference'].decode(), stream=True)\n",
    "with open('delori_spectrum.fits','wb') as f:\n",
    "    f.write(r.content)"
   ]
  },
  {
   "cell_type": "code",
   "execution_count": 40,
   "metadata": {},
   "outputs": [
    {
     "name": "stdout",
     "output_type": "stream",
     "text": [
      "\n",
      "1 spectrum  in use\n",
      " \n",
      "Spectral Data File: delori_spectrum.fits{10}  Spectrum 1\n",
      "Net count rate (cts/s) for Spectrum:1  3.140e-02 +/- 1.529e-03\n",
      " Assigned to Data Group 1 and Plot Group 1\n",
      "  Noticed Channels:  1-8192\n",
      "  Telescope: CHANDRA Instrument: ACIS  Channel Type: PI\n",
      "  Exposure Time: 1.225e+05 sec\n",
      " Using fit statistic: cstat\n",
      " Using test statistic: chi\n",
      " No response loaded.\n",
      "\n",
      "***Warning!  One or more spectra are missing responses,\n",
      "               and are not suitable for fit.\n",
      "Response successfully loaded.\n",
      "\n",
      "Fit statistic : C-Statistic =       18492.77 using 8192 PHA bins and 8186 degrees of freedom.\n",
      "\n",
      "Warning: cstat statistic is only valid for Poisson data.\n",
      "    Source file is not Poisson\n",
      "\n",
      "\n",
      "Test statistic : Chi-Squared =        1269.92 using 8192 PHA bins.\n",
      " Reduced chi-squared =       0.155134 for   8186 degrees of freedom \n",
      " Null hypothesis probability =   1.000000e+00\n",
      " Current data and model not fit yet.\n",
      "Arf successfully loaded.\n",
      "\n",
      "Fit statistic : C-Statistic =       16773.72 using 8192 PHA bins and 8186 degrees of freedom.\n",
      "\n",
      "Warning: cstat statistic is only valid for Poisson data.\n",
      "    Source file is not Poisson\n",
      "\n",
      "\n",
      "Test statistic : Chi-Squared =       12582.76 using 8192 PHA bins.\n",
      " Reduced chi-squared =       1.537107 for   8186 degrees of freedom \n",
      " Null hypothesis probability =  3.163932e-193\n",
      " Current data and model not fit yet.\n"
     ]
    }
   ],
   "source": [
    "with sys_pipes():\n",
    "    xspec.AllData.clear()\n",
    "    xspec.AllData += \"delori_spectrum.fits{10}\"\n",
    "    pha = xspec.AllData(1)\n",
    "    pha.response=\"14570/meg_1.rmf.gz\"\n",
    "    pha.response.arf=\"14570/meg_1.arf.gz\""
   ]
  },
  {
   "cell_type": "code",
   "execution_count": 41,
   "metadata": {},
   "outputs": [
    {
     "name": "stdout",
     "output_type": "stream",
     "text": [
      "\n",
      "========================================================================\n",
      "Model TBabs<1>*apec<2> + TBabs<3>*apec<4> Source No.: 1   Active/On\n",
      "Model Model Component  Parameter  Unit     Value\n",
      " par  comp\n",
      "   1    1   TBabs      nH         10^22    1.00000      +/-  0.0          \n",
      "   2    2   apec       kT         keV      1.00000      +/-  0.0          \n",
      "   3    2   apec       Abundanc            1.00000      frozen\n",
      "   4    2   apec       Redshift            0.0          frozen\n",
      "   5    2   apec       norm                1.00000      +/-  0.0          \n",
      "   6    3   TBabs      nH         10^22    1.00000      +/-  0.0          \n",
      "   7    4   apec       kT         keV      1.00000      +/-  0.0          \n",
      "   8    4   apec       Abundanc            1.00000      frozen\n",
      "   9    4   apec       Redshift            0.0          frozen\n",
      "  10    4   apec       norm                1.00000      +/-  0.0          \n",
      "________________________________________________________________________\n",
      "\n",
      "\n",
      "Fit statistic : C-Statistic =   2.418551e+06 using 8192 PHA bins and 8186 degrees of freedom.\n",
      "\n",
      "Warning: cstat statistic is only valid for Poisson data.\n",
      "    Source file is not Poisson\n",
      "\n",
      "\n",
      "Test statistic : Chi-Squared =   3.290784e+08 using 8192 PHA bins.\n",
      " Reduced chi-squared =       40200.15 for   8186 degrees of freedom \n",
      " Null hypothesis probability =   0.000000e+00\n",
      " Current data and model not fit yet.\n",
      "\n",
      "Fit statistic : C-Statistic =   1.195505e+06 using 8192 PHA bins and 8186 degrees of freedom.\n",
      "\n",
      "Warning: cstat statistic is only valid for Poisson data.\n",
      "    Source file is not Poisson\n",
      "\n",
      "\n",
      "Test statistic : Chi-Squared =   8.212402e+07 using 8192 PHA bins.\n",
      " Reduced chi-squared =       10032.25 for   8186 degrees of freedom \n",
      " Null hypothesis probability =   0.000000e+00\n",
      " Current data and model not fit yet.\n",
      "\n",
      "Fit statistic : C-Statistic =   1.195230e+06 using 8192 PHA bins and 8186 degrees of freedom.\n",
      "\n",
      "Warning: cstat statistic is only valid for Poisson data.\n",
      "    Source file is not Poisson\n",
      "\n",
      "\n",
      "Test statistic : Chi-Squared =   8.211588e+07 using 8192 PHA bins.\n",
      " Reduced chi-squared =       10031.26 for   8186 degrees of freedom \n",
      " Null hypothesis probability =   0.000000e+00\n",
      " Current data and model not fit yet.\n",
      "\n",
      "Fit statistic : C-Statistic =   1.195230e+06 using 8192 PHA bins and 8186 degrees of freedom.\n",
      "\n",
      "Warning: cstat statistic is only valid for Poisson data.\n",
      "    Source file is not Poisson\n",
      "\n",
      "\n",
      "Test statistic : Chi-Squared =   8.211588e+07 using 8192 PHA bins.\n",
      " Reduced chi-squared =       10031.26 for   8186 degrees of freedom \n",
      " Null hypothesis probability =   0.000000e+00\n",
      " Current data and model not fit yet.\n",
      "\n",
      "Fit statistic : C-Statistic =       20882.59 using 8192 PHA bins and 8186 degrees of freedom.\n",
      "\n",
      "Warning: cstat statistic is only valid for Poisson data.\n",
      "    Source file is not Poisson\n",
      "\n",
      "\n",
      "Test statistic : Chi-Squared =        1148.16 using 8192 PHA bins.\n",
      " Reduced chi-squared =       0.140259 for   8186 degrees of freedom \n",
      " Null hypothesis probability =   1.000000e+00\n",
      " Current data and model not fit yet.\n",
      "\n",
      "Fit statistic : C-Statistic =       19554.09 using 8192 PHA bins and 8186 degrees of freedom.\n",
      "\n",
      "Warning: cstat statistic is only valid for Poisson data.\n",
      "    Source file is not Poisson\n",
      "\n",
      "\n",
      "Test statistic : Chi-Squared =        1147.34 using 8192 PHA bins.\n",
      " Reduced chi-squared =       0.140159 for   8186 degrees of freedom \n",
      " Null hypothesis probability =   1.000000e+00\n",
      " Current data and model not fit yet.\n",
      "\n",
      "Fit statistic : C-Statistic =        7100.85 using 8192 PHA bins and 8186 degrees of freedom.\n",
      "\n",
      "Warning: cstat statistic is only valid for Poisson data.\n",
      "    Source file is not Poisson\n",
      "\n",
      "\n",
      "Test statistic : Chi-Squared =        1079.12 using 8192 PHA bins.\n",
      " Reduced chi-squared =       0.131825 for   8186 degrees of freedom \n",
      " Null hypothesis probability =   1.000000e+00\n",
      " Current data and model not fit yet.\n"
     ]
    }
   ],
   "source": [
    "with sys_pipes():\n",
    "    m = xspec.Model(\"TBabs*apec + TBabs*apec\")\n",
    "    m.apec.kT = [.1,.01,.05,.05,1,1]\n",
    "    m.apec.norm = 5e-4\n",
    "    m.apec_4.kT = [1,.01,.7,.7,4,4]\n",
    "    m.apec_4.norm = 1e-3\n",
    "    m.TBabs.nH = [.01,0.01,0.0,0.0,.4,.4]\n",
    "    m.TBabs_3.nH = [.01,0.01,0.0,0.0,.4,.4]\n",
    "\n"
   ]
  },
  {
   "cell_type": "code",
   "execution_count": 42,
   "metadata": {},
   "outputs": [
    {
     "name": "stdout",
     "output_type": "stream",
     "text": [
      "Spectrum 1  Spectral Data File: delori_spectrum.fits{10}\n",
      "Net count rate (cts/s) for Spectrum:1  3.140e-02 +/- 1.529e-03\n",
      " Assigned to Data Group 1 and Plot Group 1\n",
      "  Noticed Channels:  1-8192\n",
      "  Telescope: CHANDRA Instrument: ACIS  Channel Type: PI\n",
      "  Exposure Time: 1.225e+05 sec\n",
      " Using fit statistic: cstat\n",
      " Using test statistic: chi\n",
      " Using Response (RMF) File            14570/meg_1.rmf.gz for Source 1\n",
      " Using Auxiliary Response (ARF) File  14570/meg_1.arf.gz\n",
      "\n",
      " Spectral data counts: 3846\n",
      " Model predicted rate: 1.98758E-02\n",
      "\n",
      "\n",
      "========================================================================\n",
      "Model TBabs<1>*apec<2> + TBabs<3>*apec<4> Source No.: 1   Active/On\n",
      "Model Model Component  Parameter  Unit     Value\n",
      " par  comp\n",
      "   1    1   TBabs      nH         10^22    1.00000E-02  +/-  0.0          \n",
      "   2    2   apec       kT         keV      0.100000     +/-  0.0          \n",
      "   3    2   apec       Abundanc            1.00000      frozen\n",
      "   4    2   apec       Redshift            0.0          frozen\n",
      "   5    2   apec       norm                5.00000E-04  +/-  0.0          \n",
      "   6    3   TBabs      nH         10^22    1.00000E-02  +/-  0.0          \n",
      "   7    4   apec       kT         keV      1.00000      +/-  0.0          \n",
      "   8    4   apec       Abundanc            1.00000      frozen\n",
      "   9    4   apec       Redshift            0.0          frozen\n",
      "  10    4   apec       norm                1.00000E-03  +/-  0.0          \n",
      "________________________________________________________________________\n",
      "\n"
     ]
    }
   ],
   "source": [
    "with sys_pipes():\n",
    "    pha.show()\n",
    "    m.show()"
   ]
  },
  {
   "cell_type": "code",
   "execution_count": 43,
   "metadata": {},
   "outputs": [
    {
     "data": {
      "image/png": "[encoded data removed]",
      "text/plain": [
       "<matplotlib.figure.Figure at 0x120d1c150>"
      ]
     },
     "metadata": {},
     "output_type": "display_data"
    }
   ],
   "source": [
    "xspec.Plot.device = \"/nu\"\n",
    "xspec.Plot.xAxis = \"Angstrom\"\n",
    "xspec.Plot.setRebin(minSig=3.0, maxBins=10)\n",
    "xspec.Plot(\"data\")\n",
    "xVals = xspec.Plot.x()\n",
    "xValserr = xspec.Plot.xErr()\n",
    "yVals = xspec.Plot.y()\n",
    "yValserr = xspec.Plot.yErr()\n",
    "\n",
    "modVals = xspec.Plot.model()\n",
    "\n",
    "## Boxcar the data so the trend is visible:\n",
    "#plotY=convolve(np.asarray(yVals),  Box1DKernel(nbins))\n",
    "#plotM=convolve(np.asarray(modVals),Box1DKernel(nbins))\n",
    "\n",
    "#plt.errorbar(xVals, yVals, yerr=yValserr, xerr=xValserr, fmt='.')\n",
    "\n",
    "plt.step(xVals, yVals, label='Data')\n",
    "\n",
    "plt.step(xVals, modVals, label=\"Model\")\n",
    "plt.xlabel('Angstrom', fontsize=16)\n",
    "plt.ylabel('counts/cm$^2$/sec/chan', fontsize=16)\n",
    "plt.legend()\n",
    "plt.yscale('linear')\n",
    "#plt.ylim([1e-5,10])\n",
    "plt.xlim([0.5,20])\n",
    "plt.xscale('linear')\n",
    "\n"
   ]
  },
  {
   "cell_type": "code",
   "execution_count": 44,
   "metadata": {
    "scrolled": false
   },
   "outputs": [
    {
     "name": "stdout",
     "output_type": "stream",
     "text": [
      "Default fit statistic is set to: C-Statistic\n",
      "   This will apply to all current and newly loaded spectra.\n",
      "\n",
      "Fit statistic : C-Statistic =        7100.85 using 8192 PHA bins and 8186 degrees of freedom.\n",
      "\n",
      "Warning: cstat statistic is only valid for Poisson data.\n",
      "    Source file is not Poisson\n",
      "\n",
      "\n",
      "Test statistic : Chi-Squared =        1079.12 using 8192 PHA bins.\n",
      " Reduced chi-squared =       0.131825 for   8186 degrees of freedom \n",
      " Null hypothesis probability =   1.000000e+00\n",
      " Current data and model not fit yet.\n",
      "                                   Parameters\n",
      "C-Statistic  |beta|/N    Lvl          1:nH          2:kT        5:norm          6:nH          7:kT       10:norm\n",
      "5091.31      3084.19      -2      0.221152      0.268139    0.00471159   0.000447569      0.877661    0.00122596\n",
      "5051.94      55297.8      -2      0.282899      0.226126    0.00912306     0.0545361      0.881539   0.000963671\n",
      "4947.97      48429.7      -3      0.273577      0.232091     0.0109706     0.0850835      0.873139    0.00104697\n",
      "4945.6       4056.14      -4      0.270935      0.232394     0.0114289      0.100969      0.869394    0.00106954\n",
      "4945.56      101.249      -5      0.269078      0.232061     0.0114374      0.109482      0.865744    0.00108767\n",
      "4941.36      16.4967      -6      0.270115      0.230925     0.0116449      0.122488      0.852731    0.00112053\n",
      "4926.63      1669.67      -7      0.298384      0.217021     0.0140093      0.155451      0.768078    0.00135577\n",
      "4920.16      10900.8      -8      0.301607      0.214864     0.0149004      0.156661      0.771289    0.00141872\n",
      "4912.94      92.0225      -2      0.319534      0.194055     0.0200601      0.164384      0.759304    0.00148365\n",
      "4907.45      7688.94      -3      0.341915      0.183529     0.0281900      0.170468      0.751238    0.00151025\n",
      "Number of trials exceeded: continue fitting? 4900.36      7959.11      -4      0.340174      0.185309     0.0294844      0.172201      0.750630    0.00151544\n",
      "4900.35      103.231      -5      0.340728      0.185305     0.0296723      0.172479      0.750513    0.00151415\n",
      "======================================================================\n",
      " Variances and Principal Axes\n",
      "                 1        2        5        6        7       10  \n",
      " 1.3481E-09| -0.0015   0.0187   0.0211  -0.0027   0.0019   0.9996  \n",
      " 1.2741E-06|  0.0896  -0.5908  -0.8007   0.0193   0.0237   0.0281  \n",
      " 1.7480E-05| -0.1140  -0.7914   0.5758  -0.0205   0.1697   0.0021  \n",
      " 1.1524E-04|  0.1763   0.1362  -0.0471   0.2422   0.9431  -0.0024  \n",
      " 9.6009E-04| -0.9144   0.0446  -0.1242   0.3777   0.0613   0.0014  \n",
      " 4.7552E-04| -0.3343   0.0612  -0.0959  -0.8933   0.2783  -0.0026  \n",
      "----------------------------------------------------------------------\n",
      "\n",
      "========================================================================\n",
      "  Covariance Matrix\n",
      "        1           2           3           4           5           6   \n",
      "   8.598e-04  -4.463e-05   1.221e-04  -1.846e-04  -7.920e-05  -8.447e-07\n",
      "  -4.463e-05   1.722e-05  -1.622e-05  -5.742e-06   2.316e-05  -1.038e-07\n",
      "   1.221e-04  -1.622e-05   2.606e-05  -5.858e-06  -2.344e-05  -4.084e-08\n",
      "  -1.846e-04  -5.742e-06  -5.858e-06   5.231e-04  -6.971e-05   1.525e-06\n",
      "  -7.920e-05   2.316e-05  -2.344e-05  -6.971e-05   1.434e-04  -5.158e-07\n",
      "  -8.447e-07  -1.038e-07  -4.084e-08   1.525e-06  -5.158e-07   8.068e-09\n",
      "------------------------------------------------------------------------\n",
      "\n",
      "========================================================================\n",
      "Model TBabs<1>*apec<2> + TBabs<3>*apec<4> Source No.: 1   Active/On\n",
      "Model Model Component  Parameter  Unit     Value\n",
      " par  comp\n",
      "   1    1   TBabs      nH         10^22    0.340728     +/-  2.93216E-02  \n",
      "   2    2   apec       kT         keV      0.185305     +/-  4.15015E-03  \n",
      "   3    2   apec       Abundanc            1.00000      frozen\n",
      "   4    2   apec       Redshift            0.0          frozen\n",
      "   5    2   apec       norm                2.96723E-02  +/-  5.10508E-03  \n",
      "   6    3   TBabs      nH         10^22    0.172479     +/-  2.28718E-02  \n",
      "   7    4   apec       kT         keV      0.750513     +/-  1.19762E-02  \n",
      "   8    4   apec       Abundanc            1.00000      frozen\n",
      "   9    4   apec       Redshift            0.0          frozen\n",
      "  10    4   apec       norm                1.51415E-03  +/-  8.98212E-05  \n",
      "________________________________________________________________________\n",
      "\n",
      "\n",
      "Fit statistic : C-Statistic =        4900.35 using 8192 PHA bins and 8186 degrees of freedom.\n",
      "\n",
      "Warning: cstat statistic is only valid for Poisson data.\n",
      "    Source file is not Poisson\n",
      "\n",
      "\n",
      "Test statistic : Chi-Squared =        1337.05 using 8192 PHA bins.\n",
      " Reduced chi-squared =       0.163334 for   8186 degrees of freedom \n",
      " Null hypothesis probability =   1.000000e+00\n"
     ]
    }
   ],
   "source": [
    "with sys_pipes():\n",
    "    xspec.Fit.statMethod =\"cstat\"\n",
    "    xspec.Fit.perform()"
   ]
  },
  {
   "cell_type": "code",
   "execution_count": 47,
   "metadata": {},
   "outputs": [
    {
     "data": {
      "image/png": "[encoded data removed]",
      "text/plain": [
       "<matplotlib.figure.Figure at 0x120fd6610>"
      ]
     },
     "metadata": {},
     "output_type": "display_data"
    }
   ],
   "source": [
    "xspec.Plot.device = \"/nu\"\n",
    "\n",
    "ax = plt.subplot(111)\n",
    "\n",
    "plt.rcParams['figure.figsize'] = (10, 4)\n",
    "\n",
    "## This tells xspec.Plot that you want to use energy for the x-axis; otherwise, you get channel.\n",
    "xspec.Plot.xAxis = \"Angstrom\"\n",
    "xspec.Plot.setRebin(minSig=3.0, maxBins=10)\n",
    "xspec.Plot(\"data\")\n",
    "xVals = xspec.Plot.x()\n",
    "xValserr = xspec.Plot.xErr()\n",
    "yVals = xspec.Plot.y()\n",
    "yValserr = xspec.Plot.yErr()\n",
    "\n",
    "modVals = xspec.Plot.model()\n",
    "\n",
    "## Boxcar the data so the trend is visible:\n",
    "#plotY=convolve(np.asarray(yVals),  Box1DKernel(nbins))\n",
    "#plotM=convolve(np.asarray(modVals),Box1DKernel(nbins))\n",
    "\n",
    "#plt.errorbar(xVals, yVals, yerr=yValserr, xerr=xValserr, fmt='.')\n",
    "\n",
    "plt.step(xVals, yVals)\n",
    "\n",
    "plt.step(xVals, modVals)\n",
    "plt.xlabel('Angstrom', fontsize=16)\n",
    "plt.ylabel('counts/cm$^2$/sec/chan', fontsize=16)\n",
    "ax.set_yscale('linear')\n",
    "#ax.set_ylim([1e-3,1e-1])\n",
    "ax.set_xlim([11,15])\n",
    "ax.set_xscale('linear')\n"
   ]
  },
  {
   "cell_type": "code",
   "execution_count": null,
   "metadata": {},
   "outputs": [],
   "source": []
  }
 ],
 "metadata": {
  "anaconda-cloud": {},
  "kernelspec": {
   "display_name": "Python 2",
   "language": "python",
   "name": "python2"
  },
  "language_info": {
   "codemirror_mode": {
    "name": "ipython",
    "version": 2
   },
   "file_extension": ".py",
   "mimetype": "text/x-python",
   "name": "python",
   "nbconvert_exporter": "python",
   "pygments_lexer": "ipython2",
   "version": "2.7.14"
  },
  "nav_menu": {},
  "toc": {
   "navigate_menu": true,
   "number_sections": true,
   "sideBar": true,
   "threshold": 6,
   "toc_cell": false,
   "toc_section_display": "block",
   "toc_window_display": true
  }
 },
 "nbformat": 4,
 "nbformat_minor": 1
}
