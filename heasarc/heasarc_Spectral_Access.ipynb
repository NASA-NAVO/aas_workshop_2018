{
 "cells": [
  {
   "cell_type": "markdown",
   "metadata": {},
   "source": [
    "# Retrieve spectra from HEASARC using Simple Spectral Access protocol\n",
    "\n",
    "This notebook is one of a set produced by the HEASARC to demonstrate data access with python tools. If you have not already, start with the [overview notebook](heasarc_queries_Overview.ipynb)\n",
    "\n",
    "To run all of this notebook, you will also need a build of __[pyXspec](https://heasarc.gsfc.nasa.gov/xanadu/xspec/python/html/index.html)__, which is part of __[HEASOFT](https://heasarc.gsfc.nasa.gov/lheasoft/)__. You'll also need the __[wurlitzer](https://github.com/minrk/wurlitzer)__ python package to capture the Xspec output in this notebook.\n",
    "\n",
    "Note:  because of the way that pyXspec stores information, re-running the same cells repeatedly often does not work. If you have problems, restart the kernel and run the whole notebook fresh."
   ]
  },
  {
   "cell_type": "code",
   "execution_count": 1,
   "metadata": {
    "collapsed": true
   },
   "outputs": [],
   "source": [
    "import matplotlib\n",
    "import matplotlib.pyplot as plt\n",
    "\n",
    "%matplotlib inline  \n",
    "import requests, io\n",
    "from astropy.table import Table\n",
    "\n",
    "import xspec\n",
    "## For capturing Xspec terminal output\n",
    "##  See https://github.com/minrk/wurlitzer\n",
    "from wurlitzer import sys_pipes\n",
    "## Hide annoying warnings\n",
    "import warnings\n",
    "warnings.filterwarnings(\"ignore\")\n",
    "\n",
    "from astropy.coordinates import SkyCoord\n"
   ]
  },
  {
   "cell_type": "markdown",
   "metadata": {},
   "source": [
    "## Find out what catalogs of spectra can be queried with HEASARC's SSA service:\n",
    "\n",
    "(See the notebook about how to use the [TAP](heasarc_TAP_queries.ipynb) for information on this sort of query.)"
   ]
  },
  {
   "cell_type": "code",
   "execution_count": 2,
   "metadata": {
    "collapsed": false
   },
   "outputs": [
    {
     "data": {
      "text/html": [
       "&lt;Table masked=True length=4&gt;\n",
       "<table id=\"table4477706640\" class=\"table-striped table-bordered table-condensed\">\n",
       "<thead><tr><th>short_name</th><th>ivoid</th></tr></thead>\n",
       "<thead><tr><th>object</th><th>object</th></tr></thead>\n",
       "<tr><td>Chandra</td><td>ivo://nasa.heasarc/chanmaster</td></tr>\n",
       "<tr><td>INTEGRAL/BSC</td><td>ivo://nasa.heasarc/intbsc</td></tr>\n",
       "<tr><td>SwiftBAT</td><td>ivo://nasa.heasarc/swiftbalog</td></tr>\n",
       "<tr><td>SwiftXRT</td><td>ivo://nasa.heasarc/swiftxrlog</td></tr>\n",
       "</table>"
      ],
      "text/plain": [
       "<Table masked=True length=4>\n",
       " short_name              ivoid            \n",
       "   object                object           \n",
       "------------ -----------------------------\n",
       "     Chandra ivo://nasa.heasarc/chanmaster\n",
       "INTEGRAL/BSC     ivo://nasa.heasarc/intbsc\n",
       "    SwiftBAT ivo://nasa.heasarc/swiftbalog\n",
       "    SwiftXRT ivo://nasa.heasarc/swiftxrlog"
      ]
     },
     "execution_count": 2,
     "metadata": {},
     "output_type": "execute_result"
    }
   ],
   "source": [
    "# Warning:  'query' is bizarrely case-sensitive:\n",
    "tap_params = {\n",
    "    \"request\":\"doQuery\",\n",
    "    \"lang\":\"ADQL\",\n",
    "    \"query\":\"\"\"\n",
    "        select res.short_name,cap.ivoid from rr.capability cap \n",
    "        natural join rr.resource res \n",
    "        where cap.cap_type='simplespectralaccess' and cap.ivoid like 'ivo://nasa.heasarc%' \n",
    "        order by short_name;\n",
    "    \"\"\"\n",
    "    }\n",
    "r = requests.post('http://vao.stsci.edu/RegTAP/TapService.aspx/sync', data=tap_params)\n",
    "##  If you want to see what requests gives you, you can look at the URL it actually constructed:\n",
    "#print(r.url)\n",
    "##  And the raw text of what it got back:\n",
    "# print(r.text)\n",
    "## The astropy.table  module will read this VO Table formatted result into an astropy Table:\n",
    "table=Table.read(io.BytesIO(r.content))\n",
    "table"
   ]
  },
  {
   "cell_type": "markdown",
   "metadata": {},
   "source": [
    "## Query one of them, in this case Chandra for the source M82:"
   ]
  },
  {
   "cell_type": "code",
   "execution_count": 3,
   "metadata": {
    "collapsed": false
   },
   "outputs": [
    {
     "data": {
      "text/html": [
       "&lt;Table masked=True length=3&gt;\n",
       "<table id=\"table4498338256-302214\" class=\"table-striped table-bordered table-condensed\">\n",
       "<thead><tr><th>idx</th><th>obsid</th><th>status</th><th>name</th><th>ra</th><th>dec</th><th>time</th><th>detector</th><th>grating</th><th>exposure</th><th>type</th><th>pi</th><th>public_date</th><th>SSA_datalength</th><th>SSA_datamodel</th><th>SSA_title</th><th>SSA_instrument</th><th>SSA_publisher</th><th>SSA_tmid</th><th>SSA_stop_time</th><th>SSA_start_time</th><th>SSA_duration</th><th>SSA_bandpass</th><th>SSA_wavelength_max</th><th>SSA_wavelength_min</th><th>SSA_bandwidth</th><th>SSA_ra</th><th>SSA_dec</th><th>SSA_coord_obs</th><th>SSA_fov</th><th>SSA_reference</th><th>SSA_format</th></tr></thead>\n",
       "<thead><tr><th></th><th></th><th></th><th></th><th>deg</th><th>deg</th><th>mjd</th><th></th><th></th><th>s</th><th></th><th></th><th>mjd</th><th></th><th></th><th></th><th></th><th></th><th>mjd</th><th>mjd</th><th>mjd</th><th>s</th><th>meter</th><th>meter</th><th>meter</th><th>meter</th><th>deg</th><th>deg</th><th>deg</th><th>deg</th><th></th><th></th></tr></thead>\n",
       "<tr><td>0</td><td>17860</td><td>archived</td><td>M82 X-1</td><td>148.95917</td><td>69.67972</td><td>57639.7292</td><td>ACIS-S</td><td>HETG</td><td>51060</td><td>TOO</td><td>Walton</td><td>58010</td><td>12.0</td><td>Spectrum-1.0</td><td>acisf17860N002_pha2</td><td>ACIS-S</td><td>HEASARC</td><td>57640.040393247451</td><td>57640.350814633915</td><td>57639.729200000002</td><td>51060.0</td><td>3.16159e-09</td><td>6.1991999999999999e-09</td><td>1.2397999999999999e-10</td><td>6.0752199999999996e-09</td><td>148.95917</td><td>69.679720000000003</td><td>--</td><td>0.81103500403976259</td><td>https://heasarc.gsfc.nasa.gov/FTP/chandra/data/science/ao17/cat4/17860/primary/acisf17860N002_pha2.fits.gz</td><td>application/fits</td></tr>\n",
       "<tr><td>1</td><td>19791</td><td>archived</td><td>M82 X-1</td><td>148.95917</td><td>69.67972</td><td>57641.5702</td><td>ACIS-S</td><td>HETG</td><td>15310</td><td>TOO</td><td>Walton</td><td>58010</td><td>12.0</td><td>Spectrum-1.0</td><td>acisf19791N002_pha2</td><td>ACIS-S</td><td>HEASARC</td><td>57641.668022753758</td><td>57641.765065583451</td><td>57641.570200000002</td><td>15310.0</td><td>3.16159e-09</td><td>6.1991999999999999e-09</td><td>1.2397999999999999e-10</td><td>6.0752199999999996e-09</td><td>148.95917</td><td>69.679720000000003</td><td>--</td><td>0.81103500403976259</td><td>https://heasarc.gsfc.nasa.gov/FTP/chandra/data/science/ao17/cat4/19791/primary/acisf19791N002_pha2.fits.gz</td><td>application/fits</td></tr>\n",
       "<tr><td>2</td><td>19792</td><td>archived</td><td>M82 X-1</td><td>148.95917</td><td>69.67972</td><td>57642.3530</td><td>ACIS-S</td><td>HETG</td><td>32440</td><td>TOO</td><td>Walton</td><td>58010</td><td>12.0</td><td>Spectrum-1.0</td><td>acisf19792N002_pha2</td><td>ACIS-S</td><td>HEASARC</td><td>57642.558369954859</td><td>57642.762945849187</td><td>57642.353000000003</td><td>32440.0</td><td>3.16159e-09</td><td>6.1991999999999999e-09</td><td>1.2397999999999999e-10</td><td>6.0752199999999996e-09</td><td>148.95917</td><td>69.679720000000003</td><td>--</td><td>0.81103500403976259</td><td>https://heasarc.gsfc.nasa.gov/FTP/chandra/data/science/ao17/cat4/19792/primary/acisf19792N002_pha2.fits.gz</td><td>application/fits</td></tr>\n",
       "</table><style>table.dataTable {clear: both; width: auto !important; margin: 0 !important;}\n",
       ".dataTables_info, .dataTables_length, .dataTables_filter, .dataTables_paginate{\n",
       "display: inline-block; margin-right: 1em; }\n",
       ".paginate_button { margin-right: 5px; }\n",
       "</style>\n",
       "<script>\n",
       "require.config({paths: {\n",
       "    datatables: 'https://cdn.datatables.net/1.10.9/js/jquery.dataTables.min'\n",
       "}});\n",
       "require([\"datatables\"], function(){\n",
       "    console.log(\"$('#table4498338256-302214').dataTable()\");\n",
       "    $('#table4498338256-302214').dataTable({\n",
       "        \"order\": [],\n",
       "        \"iDisplayLength\": 50,\n",
       "        \"aLengthMenu\": [[10, 25, 50, 100, 500, 1000, -1], [10, 25, 50, 100, 500, 1000, 'All']],\n",
       "        \"pagingType\": \"full_numbers\"\n",
       "    });\n",
       "});\n",
       "</script>\n"
      ],
      "text/plain": [
       "<IPython.core.display.HTML object>"
      ]
     },
     "execution_count": 3,
     "metadata": {},
     "output_type": "execute_result"
    }
   ],
   "source": [
    "## Sometimes this does nothing but time out!\n",
    "#import astropy.coordinates as coord\n",
    "#m82=coord.SkyCoord.from_name(\"m82\")\n",
    "#pos='{},{}'.format(m82.ra.deg,m82.dec.deg)\n",
    "pos='148.968458,69.679703' # M82\n",
    "#pos='83.633083,22.014500' # crab\n",
    "#pos='191.542417,30.731583' #mice\n",
    "params = {'table': 'chanmaster',\"POS\":pos,\"SIZE\":\"0.1\", \"REQUEST\":\"queryData\"}\n",
    "r = requests.get('https://heasarc.nasa.gov/xamin/vo/ssa', params=params)\n",
    "#print(r.content)\n",
    "spec_table = Table.read(io.BytesIO(r.content))\n",
    "spec_table['time'].format='.4f'\n",
    "spec_table.show_in_notebook()"
   ]
  },
  {
   "cell_type": "markdown",
   "metadata": {},
   "source": [
    "## Retrieve one of the spectra:"
   ]
  },
  {
   "cell_type": "code",
   "execution_count": 4,
   "metadata": {
    "collapsed": false
   },
   "outputs": [
    {
     "data": {
      "text/html": [
       "&lt;Table length=12&gt;\n",
       "<table id=\"table4814024464-773484\" class=\"table-striped table-bordered table-condensed\">\n",
       "<thead><tr><th>idx</th><th>SPEC_NUM</th><th>TG_M</th><th>TG_PART</th><th>TG_SRCID</th><th>X</th><th>Y</th><th>CHANNEL [8192]</th><th>COUNTS [8192]</th><th>STAT_ERR [8192]</th><th>BACKGROUND_UP [8192]</th><th>BACKGROUND_DOWN [8192]</th><th>BIN_LO [8192]</th><th>BIN_HI [8192]</th></tr></thead>\n",
       "<tr><td>0</td><td>1</td><td>-3</td><td>1</td><td>1</td><td>4105.62</td><td>4071.5</td><td>1 .. 8192</td><td>0 .. 0</td><td>1.86603 .. 1.86603</td><td>0 .. 0</td><td>0 .. 0</td><td>7.15916666667 .. 0.333333333333</td><td>7.16 .. 0.334166666667</td></tr>\n",
       "<tr><td>1</td><td>2</td><td>-2</td><td>1</td><td>1</td><td>4105.62</td><td>4071.5</td><td>1 .. 8192</td><td>0 .. 0</td><td>1.86603 .. 1.86603</td><td>0 .. 0</td><td>0 .. 0</td><td>10.73875 .. 0.5</td><td>10.74 .. 0.50125</td></tr>\n",
       "<tr><td>2</td><td>3</td><td>-1</td><td>1</td><td>1</td><td>4105.62</td><td>4071.5</td><td>1 .. 8192</td><td>0 .. 0</td><td>1.86603 .. 1.86603</td><td>0 .. 0</td><td>0 .. 0</td><td>21.4775 .. 1.0</td><td>21.48 .. 1.0025</td></tr>\n",
       "<tr><td>3</td><td>4</td><td>1</td><td>1</td><td>1</td><td>4105.62</td><td>4071.5</td><td>1 .. 8192</td><td>0 .. 0</td><td>1.86603 .. 1.86603</td><td>0 .. 0</td><td>0 .. 0</td><td>21.4775 .. 1.0</td><td>21.48 .. 1.0025</td></tr>\n",
       "<tr><td>4</td><td>5</td><td>2</td><td>1</td><td>1</td><td>4105.62</td><td>4071.5</td><td>1 .. 8192</td><td>0 .. 0</td><td>1.86603 .. 1.86603</td><td>0 .. 0</td><td>0 .. 0</td><td>10.73875 .. 0.5</td><td>10.74 .. 0.50125</td></tr>\n",
       "<tr><td>5</td><td>6</td><td>3</td><td>1</td><td>1</td><td>4105.62</td><td>4071.5</td><td>1 .. 8192</td><td>0 .. 0</td><td>1.86603 .. 1.86603</td><td>0 .. 0</td><td>0 .. 0</td><td>7.15916666667 .. 0.333333333333</td><td>7.16 .. 0.334166666667</td></tr>\n",
       "<tr><td>6</td><td>7</td><td>-3</td><td>2</td><td>1</td><td>4105.62</td><td>4071.5</td><td>1 .. 8192</td><td>0 .. 0</td><td>1.86603 .. 1.86603</td><td>0 .. 0</td><td>0 .. 0</td><td>13.985 .. 0.333333333333</td><td>13.9866666667 .. 0.335</td></tr>\n",
       "<tr><td>7</td><td>8</td><td>-2</td><td>2</td><td>1</td><td>4105.62</td><td>4071.5</td><td>1 .. 8192</td><td>0 .. 0</td><td>1.86603 .. 1.86603</td><td>0 .. 0</td><td>0 .. 0</td><td>20.9775 .. 0.5</td><td>20.98 .. 0.5025</td></tr>\n",
       "<tr><td>8</td><td>9</td><td>-1</td><td>2</td><td>1</td><td>4105.62</td><td>4071.5</td><td>1 .. 8192</td><td>0 .. 0</td><td>1.86603 .. 1.86603</td><td>0 .. 0</td><td>0 .. 0</td><td>41.955 .. 1.0</td><td>41.96 .. 1.005</td></tr>\n",
       "<tr><td>9</td><td>10</td><td>1</td><td>2</td><td>1</td><td>4105.62</td><td>4071.5</td><td>1 .. 8192</td><td>0 .. 0</td><td>1.86603 .. 1.86603</td><td>0 .. 0</td><td>0 .. 0</td><td>41.955 .. 1.0</td><td>41.96 .. 1.005</td></tr>\n",
       "<tr><td>10</td><td>11</td><td>2</td><td>2</td><td>1</td><td>4105.62</td><td>4071.5</td><td>1 .. 8192</td><td>0 .. 0</td><td>1.86603 .. 1.86603</td><td>0 .. 0</td><td>0 .. 0</td><td>20.9775 .. 0.5</td><td>20.98 .. 0.5025</td></tr>\n",
       "<tr><td>11</td><td>12</td><td>3</td><td>2</td><td>1</td><td>4105.62</td><td>4071.5</td><td>1 .. 8192</td><td>0 .. 0</td><td>1.86603 .. 1.86603</td><td>0 .. 0</td><td>0 .. 0</td><td>13.985 .. 0.333333333333</td><td>13.9866666667 .. 0.335</td></tr>\n",
       "</table><style>table.dataTable {clear: both; width: auto !important; margin: 0 !important;}\n",
       ".dataTables_info, .dataTables_length, .dataTables_filter, .dataTables_paginate{\n",
       "display: inline-block; margin-right: 1em; }\n",
       ".paginate_button { margin-right: 5px; }\n",
       "</style>\n",
       "<script>\n",
       "require.config({paths: {\n",
       "    datatables: 'https://cdn.datatables.net/1.10.9/js/jquery.dataTables.min'\n",
       "}});\n",
       "require([\"datatables\"], function(){\n",
       "    console.log(\"$('#table4814024464-773484').dataTable()\");\n",
       "    $('#table4814024464-773484').dataTable({\n",
       "        \"order\": [],\n",
       "        \"iDisplayLength\": 50,\n",
       "        \"aLengthMenu\": [[10, 25, 50, 100, 500, 1000, -1], [10, 25, 50, 100, 500, 1000, 'All']],\n",
       "        \"pagingType\": \"full_numbers\"\n",
       "    });\n",
       "});\n",
       "</script>\n"
      ],
      "text/plain": [
       "<IPython.core.display.HTML object>"
      ]
     },
     "execution_count": 4,
     "metadata": {},
     "output_type": "execute_result"
    }
   ],
   "source": [
    "import astropy.io.fits as fits\n",
    "hdu_list=fits.open(spec_table[2]['SSA_reference'].decode()) # Byte format, so just decode() to string\n",
    "#hdu_list.info()\n",
    "table = Table(hdu_list[1].data)\n",
    "table.show_in_notebook()\n",
    "\n"
   ]
  },
  {
   "cell_type": "code",
   "execution_count": 5,
   "metadata": {
    "collapsed": false
   },
   "outputs": [
    {
     "data": {
      "image/png": "[encoded data removed]",
      "text/plain": [
       "<matplotlib.figure.Figure at 0x11ef38b90>"
      ]
     },
     "metadata": {},
     "output_type": "display_data"
    }
   ],
   "source": [
    "## Here, you just have to be familiar with the format of these spectra by reading Chandra documentation.\n",
    "for i in range(len(table)):\n",
    "    matplotlib.rcParams['figure.figsize'] = (10, 8)\n",
    "    ax=plt.subplot(6,2,i+1)\n",
    "    pha = plt.plot( table['CHANNEL'][i],table['COUNTS'][i])\n",
    "    ax.set_yscale('log')\n",
    "    if table['TG_PART'][i] == 1:\n",
    "        instr='HEG'\n",
    "    if table['TG_PART'][i] == 2:\n",
    "        instr='MEG'\n",
    "    if table['TG_PART'][i] == 3:\n",
    "        instr='LEG'\n",
    "    ax.set_title(\"{grating}{order:+d}\".format(grating=instr, order=table['TG_M'][i]))\n",
    "    plt.tight_layout()\n",
    "    "
   ]
  },
  {
   "cell_type": "markdown",
   "metadata": {
    "collapsed": true
   },
   "source": [
    "Note: The 12 plots here show all the different HEG and MEG components (+/- 3, +/- 2, and +/- 1 for each grating) for the grating data, as titled. In practice, you might want to download the fits file and use a different analysis and plotting tool to create an energy spectrum plot using SHERPA or XSPEC, etc. \n",
    "\n",
    "You can download the file directly using this:\n"
   ]
  },
  {
   "cell_type": "code",
   "execution_count": 6,
   "metadata": {
    "collapsed": true,
    "scrolled": true
   },
   "outputs": [],
   "source": [
    "## Because urllib is annoying to make Python 2/3 compatible, just use requests:\n",
    "r=requests.get(spec_table[2]['SSA_reference'].decode(), stream=True)\n",
    "with open('my_spectrum.fits','wb') as f:\n",
    "    f.write(r.content)"
   ]
  },
  {
   "cell_type": "markdown",
   "metadata": {},
   "source": [
    "## Analyze it with PyXspec\n",
    "\n",
    "<div>\n",
    "Note that currently, we do not have a way to link the spectra to their corresponding response files.  In some cases, you can take the download URL for the spectrum and look for the response in the same directory, but this is obviously not ideal.  In other cases, it's even less obvious how to find the correct response.  A knowledge of the specific mission archive and tools is currently necessary.  For this example, we have retrieved off-line the relevant file and stored it as \"my_arf.fits\".  This is an issue to be addressed by the HEASARC in the future to make this process more feasible. For now, this example is a proof-of-concept only.  \n",
    "</div>"
   ]
  },
  {
   "cell_type": "code",
   "execution_count": 7,
   "metadata": {
    "collapsed": false
   },
   "outputs": [
    {
     "name": "stdout",
     "output_type": "stream",
     "text": [
      "\n",
      "1 spectrum  in use\n",
      " \n",
      "Spectral Data File: my_spectrum.fits{10}  Spectrum 1\n",
      "Net count rate (cts/s) for Spectrum:1  6.696e-02 +/- 5.616e-03\n",
      " Assigned to Data Group 1 and Plot Group 1\n",
      "  Noticed Channels:  1-8192\n",
      "  Telescope: CHANDRA Instrument: ACIS  Channel Type: PI\n",
      "  Exposure Time: 3.202e+04 sec\n",
      " Using fit statistic: chi\n",
      " Using test statistic: chi\n",
      " No response loaded.\n",
      "\n",
      "***Warning!  One or more spectra are missing responses,\n",
      "               and are not suitable for fit.\n",
      "Response successfully loaded.\n",
      "Arf successfully loaded.\n"
     ]
    }
   ],
   "source": [
    "xspec.Xset.allowPrompting = False # keeps pyxspec from hanging, waiting for a response to a prompt\n",
    "##  The type II PHA files contain multiple spectra, and we tell Xspec to select with the \n",
    "##  curly bracket notation and the number starting from 1 (not zero):\n",
    "with sys_pipes():\n",
    "    pha = xspec.Spectrum(\"my_spectrum.fits{10}\")\n",
    "    ##  As mentioned above, this is retrieved off-line for now.\n",
    "    #pha.response=\"tgcat/obs_19792_tgid_5277/heg_1.rmf.gz\"\n",
    "    #pha.response.arf=\"tgcat/obs_19792_tgid_5277/heg_1.arf.gz\"    \n",
    "    #pha.response=\"tgcat/obs_19792_tgid_5277/meg_1.rmf.gz\"\n",
    "    #pha.response.arf=\"tgcat/obs_19792_tgid_5277/meg_1.arf.gz\"\n",
    "    pha.response=\"aux/my_rmf.fits.gz\"\n",
    "    pha.response.arf=\"aux/my_arf.fits.gz\""
   ]
  },
  {
   "cell_type": "code",
   "execution_count": 8,
   "metadata": {
    "collapsed": false
   },
   "outputs": [
    {
     "name": "stdout",
     "output_type": "stream",
     "text": [
      "\n",
      "========================================================================\n",
      "Model TBabs<1>*powerlaw<2> + gaussian<3> Source No.: 1   Active/On\n",
      "Model Model Component  Parameter  Unit     Value\n",
      " par  comp\n",
      "   1    1   TBabs      nH         10^22    1.00000      +/-  0.0          \n",
      "   2    2   powerlaw   PhoIndex            1.00000      +/-  0.0          \n",
      "   3    2   powerlaw   norm                1.00000      +/-  0.0          \n",
      "   4    3   gaussian   LineE      keV      6.50000      +/-  0.0          \n",
      "   5    3   gaussian   Sigma      keV      0.100000     +/-  0.0          \n",
      "   6    3   gaussian   norm                1.00000      +/-  0.0          \n",
      "________________________________________________________________________\n",
      "\n",
      "\n",
      "Fit statistic : Chi-Squared =   1.778199e+08 using 8192 PHA bins.\n",
      "\n",
      "Test statistic : Chi-Squared =   1.778199e+08 using 8192 PHA bins.\n",
      " Reduced chi-squared =       21722.44 for   8186 degrees of freedom \n",
      " Null hypothesis probability =   0.000000e+00\n",
      " Current data and model not fit yet.\n"
     ]
    },
    {
     "name": "stderr",
     "output_type": "stream",
     "text": [
      "tbvabs Version 2.3\n",
      "Cosmic absorption with grains and H2, modified from\n",
      "Wilms, Allen, & McCray, 2000, ApJ 542, 914-924\n",
      "Questions: Joern Wilms\n",
      "joern.wilms@sternwarte.uni-erlangen.de\n",
      "joern.wilms@fau.de\n",
      "\n",
      "http://pulsar.sternwarte.uni-erlangen.de/wilms/research/tbabs/\n",
      "\n",
      "PLEASE NOTICE:\n",
      "To get the model described by the above paper\n",
      "you will also have to set the abundances:\n",
      "   abund wilm\n",
      "\n",
      "Note that this routine ignores the current cross section setting\n",
      "as it always HAS to use the Verner cross sections as a baseline.\n"
     ]
    }
   ],
   "source": [
    "with sys_pipes():\n",
    "    m = xspec.Model(\"tbabs*po+ga\")"
   ]
  },
  {
   "cell_type": "code",
   "execution_count": 9,
   "metadata": {
    "collapsed": false
   },
   "outputs": [
    {
     "name": "stdout",
     "output_type": "stream",
     "text": [
      "Default fit statistic is set to: C-Statistic\n",
      "   This will apply to all current and newly loaded spectra.\n",
      "\n",
      "Fit statistic : C-Statistic =   1.855312e+06 using 8192 PHA bins and 8186 degrees of freedom.\n",
      "\n",
      "Warning: cstat statistic is only valid for Poisson data.\n",
      "    Source file is not Poisson\n",
      "\n",
      "\n",
      "Test statistic : Chi-Squared =   1.778199e+08 using 8192 PHA bins.\n",
      " Reduced chi-squared =       21722.44 for   8186 degrees of freedom \n",
      " Null hypothesis probability =   0.000000e+00\n",
      " Current data and model not fit yet.\n",
      "                                   Parameters\n",
      "C-Statistic  |beta|/N    Lvl          1:nH    2:PhoIndex        3:norm       4:LineE       5:Sigma        6:norm\n",
      "2504.57      16950.9      -3      0.879406       1.47874    0.00320258       7.37281       1.35135    0.00111742\n",
      "2450.51      8926.05      -4      0.738089       1.47741    0.00325654       9.62676       2.40504    0.00121040\n",
      "2447.39      340.548      -2      0.636247       1.34354    0.00284924       13.6065       2.14369    0.00294379\n",
      "2443.07      1251.89      -3      0.581127       1.33907    0.00272271       13.1578       2.17049     0.0127999\n",
      "2442.97      155.342      -3      0.534740       1.28532    0.00254975       9.23206      0.545598    0.00791864\n",
      "2439.87      136.449       0      0.529614       1.28636    0.00254858       9.70742      0.542821    0.00536190\n",
      "2437.17      83.7249       0      0.525998       1.28716    0.00254618       10.1579      0.216441    0.00599568\n",
      "2434.88      137.696      -1      0.517034       1.28318    0.00252539       10.1719      0.247677     0.0114735\n",
      "2432.92      105.066      -1      0.510482       1.27766    0.00250548       10.1297      0.188808     0.0208870\n",
      "2432.36      103.109      -1      0.505036       1.27225    0.00248731       10.2200      0.377843     0.0296482\n",
      "Number of trials exceeded: continue fitting? 2432.05      95.9521       0      0.504040       1.27177    0.00248532       10.1487      0.150242     0.0365314\n",
      "2431.03      113.26       -1      0.499556       1.26669    0.00246891       10.2222      0.255755     0.0409519\n",
      "2429.8       88.9092      -1      0.495431       1.26220    0.00245450       10.1600      0.195999     0.0654471\n",
      "2429.24      79.7379       0      0.494662       1.26181    0.00245293       10.1690      0.232923     0.0810856\n",
      "2428.93      92.6081      -1      0.491132       1.25773    0.00244003       10.2268      0.289169      0.117496\n",
      "2428.87      72.9002       0      0.490466       1.25738    0.00243863       10.2034      0.202996      0.128494\n",
      "2428.71      83.2566       0      0.489888       1.25700    0.00243719       10.2063      0.225581      0.138163\n",
      "2428.68      86.1941       0      0.489365       1.25660    0.00243574       10.2095      0.238267      0.146584\n",
      "2428.68      86.6297       0      0.488881       1.25619    0.00243430       10.2119      0.238330      0.152484\n",
      "======================================================================\n",
      " Variances and Principal Axes\n",
      "                 1        2        3        4        5        6  \n",
      " 2.7729E-09| -0.0013  -0.0019   1.0000  -0.0000   0.0000   0.0000  \n",
      " 1.0032E-03|  0.8309  -0.5565   0.0000  -0.0000   0.0000   0.0001  \n",
      " 8.6910E-03|  0.5370   0.8018   0.0023  -0.1226   0.0911   0.2130  \n",
      " 8.6783E-03|  0.1459   0.2177   0.0006   0.4513  -0.3353  -0.7844  \n",
      " 1.9822E-02| -0.0000  -0.0001  -0.0000  -0.5127   0.6424  -0.5696  \n",
      " 1.1565E+09| -0.0000  -0.0000  -0.0000   0.7200   0.6831   0.1222  \n",
      "----------------------------------------------------------------------\n",
      "\n",
      "========================================================================\n",
      "  Covariance Matrix\n",
      "        1           2           3           4           5           6   \n",
      "   3.432e-03   3.669e-03   1.160e-05  -1.700e+02  -1.613e+02  -2.887e+01\n",
      "   3.669e-03   6.582e-03   1.752e-05  -4.037e+02  -3.830e+02  -6.855e+01\n",
      "   1.160e-05   1.752e-05   5.184e-08  -9.146e-01  -8.676e-01  -1.553e-01\n",
      "  -1.700e+02  -4.037e+02  -9.146e-01   5.996e+08   5.688e+08   1.018e+08\n",
      "  -1.613e+02  -3.830e+02  -8.676e-01   5.688e+08   5.396e+08   9.657e+07\n",
      "  -2.887e+01  -6.855e+01  -1.553e-01   1.018e+08   9.657e+07   1.728e+07\n",
      "------------------------------------------------------------------------\n",
      "\n",
      "========================================================================\n",
      "Model TBabs<1>*powerlaw<2> + gaussian<3> Source No.: 1   Active/On\n",
      "Model Model Component  Parameter  Unit     Value\n",
      " par  comp\n",
      "   1    1   TBabs      nH         10^22    0.488881     +/-  5.85815E-02  \n",
      "   2    2   powerlaw   PhoIndex            1.25619      +/-  8.11270E-02  \n",
      "   3    2   powerlaw   norm                2.43430E-03  +/-  2.27687E-04  \n",
      "   4    3   gaussian   LineE      keV      10.2119      +/-  2.44865E+04  \n",
      "   5    3   gaussian   Sigma      keV      0.238330     +/-  2.32289E+04  \n",
      "   6    3   gaussian   norm                0.152484     +/-  4157.24      \n",
      "________________________________________________________________________\n",
      "\n",
      "\n",
      "Fit statistic : C-Statistic =        2428.68 using 8192 PHA bins and 8186 degrees of freedom.\n",
      "\n",
      "Warning: cstat statistic is only valid for Poisson data.\n",
      "    Source file is not Poisson\n",
      "\n",
      "\n",
      "Test statistic : Chi-Squared =         376.37 using 8192 PHA bins.\n",
      " Reduced chi-squared =       0.045978 for   8186 degrees of freedom \n",
      " Null hypothesis probability =   1.000000e+00\n"
     ]
    }
   ],
   "source": [
    "with sys_pipes():\n",
    "    xspec.Fit.statMethod =\"cstat\"\n",
    "    xspec.Fit.perform()"
   ]
  },
  {
   "cell_type": "markdown",
   "metadata": {},
   "source": [
    "We can plot the results using, e.g., matplotlib (first example below) or Xspec's own plotting routines (second example below):"
   ]
  },
  {
   "cell_type": "code",
   "execution_count": 10,
   "metadata": {
    "collapsed": false
   },
   "outputs": [
    {
     "data": {
      "image/png": "[encoded data removed]",
      "text/plain": [
       "<matplotlib.figure.Figure at 0x1211e8dd0>"
      ]
     },
     "metadata": {},
     "output_type": "display_data"
    }
   ],
   "source": [
    "\n",
    "ax = plt.subplot(111)\n",
    "\n",
    "from astropy.convolution import convolve, Box1DKernel\n",
    "import numpy as np\n",
    "plt.rcParams['figure.figsize'] = (10, 4)\n",
    "\n",
    "with sys_pipes():\n",
    "    xspec.Plot.device = \"/nu\"\n",
    "    ## This tells xspec.Plot that you want to use energy for the x-axis; otherwise, you get channel.\n",
    "    xspec.Plot.xAxis = \"keV\"\n",
    "    ## Tell Xspec to divide out the effective area to give flux\n",
    "    #xspec.Plot.area = True\n",
    "    ## This tells Xspec to rebin the result, which is otherwise very noisy\n",
    "    xspec.Plot.setRebin(minSig=3.0, maxBins=50)\n",
    "    xspec.Plot(\"data\")\n",
    "    xVals = xspec.Plot.x()\n",
    "    xValserr = xspec.Plot.xErr()\n",
    "    yVals = xspec.Plot.y()\n",
    "    yValserr = xspec.Plot.yErr()\n",
    "    modVals = xspec.Plot.model()\n",
    "\n",
    "plt.errorbar(xVals, yVals, yerr=yValserr, xerr=xValserr, fmt='.')\n",
    "\n",
    "plt.step(xVals, modVals)\n",
    "plt.xlabel('keV', fontsize=16)\n",
    "plt.ylabel('counts/cm$^2$/sec/chan', fontsize=16)\n",
    "ax.set_yscale('log')\n",
    "ax.set_ylim([1e-3,1e-1])\n",
    "ax.set_xlim([0.5,10])\n",
    "ax.set_xscale('log')\n"
   ]
  },
  {
   "cell_type": "markdown",
   "metadata": {
    "collapsed": true
   },
   "source": [
    "# Chandra Spectrum of Delta Ori"
   ]
  },
  {
   "cell_type": "code",
   "execution_count": 11,
   "metadata": {
    "collapsed": false
   },
   "outputs": [
    {
     "data": {
      "text/html": [
       "&lt;Table masked=True length=6&gt;\n",
       "<table id=\"table4814110160-643539\" class=\"table-striped table-bordered table-condensed\">\n",
       "<thead><tr><th>idx</th><th>obsid</th><th>status</th><th>name</th><th>ra</th><th>dec</th><th>time</th><th>detector</th><th>grating</th><th>exposure</th><th>type</th><th>pi</th><th>public_date</th><th>SSA_datalength</th><th>SSA_datamodel</th><th>SSA_title</th><th>SSA_instrument</th><th>SSA_publisher</th><th>SSA_tmid</th><th>SSA_stop_time</th><th>SSA_start_time</th><th>SSA_duration</th><th>SSA_bandpass</th><th>SSA_wavelength_max</th><th>SSA_wavelength_min</th><th>SSA_bandwidth</th><th>SSA_ra</th><th>SSA_dec</th><th>SSA_coord_obs</th><th>SSA_fov</th><th>SSA_reference</th><th>SSA_format</th></tr></thead>\n",
       "<thead><tr><th></th><th></th><th></th><th></th><th>deg</th><th>deg</th><th>mjd</th><th></th><th></th><th>s</th><th></th><th></th><th>mjd</th><th></th><th></th><th></th><th></th><th></th><th>mjd</th><th>mjd</th><th>mjd</th><th>s</th><th>meter</th><th>meter</th><th>meter</th><th>meter</th><th>deg</th><th>deg</th><th>deg</th><th>deg</th><th></th><th></th></tr></thead>\n",
       "<tr><td>0</td><td>639</td><td>archived</td><td>DELTA ORI</td><td>83.00125</td><td>-0.29917</td><td>51556.1364</td><td>ACIS-S</td><td>HETG</td><td>49680</td><td>GO</td><td>Cassinelli</td><td>52037</td><td>12.0</td><td>Spectrum-1.0</td><td>acisf00639N004_pha2</td><td>ACIS-S</td><td>HEASARC</td><td>51556.436500571508</td><td>51556.735856340485</td><td>51556.136400000003</td><td>49680.0</td><td>3.16159e-09</td><td>6.1991999999999999e-09</td><td>1.2397999999999999e-10</td><td>6.0752199999999996e-09</td><td>83.001249999999999</td><td>-0.29916999999999999</td><td>--</td><td>0.81103500403976259</td><td>https://heasarc.gsfc.nasa.gov/FTP/chandra/data/science/ao01/cat2/639/primary/acisf00639N004_pha2.fits.gz</td><td>application/fits</td></tr>\n",
       "<tr><td>1</td><td>7416</td><td>archived</td><td>delta Ori HD 36486</td><td>83.00167</td><td>-0.29908</td><td>54413.4270</td><td>HRC-S</td><td>LETG</td><td>97080</td><td>GO</td><td>Raassen</td><td>54783</td><td>2.0</td><td>Spectrum-1.0</td><td>hrcf07416N003_pha2</td><td>HRC-S</td><td>HEASARC</td><td>54413.997480954342</td><td>54414.567153797223</td><td>54413.427000000003</td><td>97080.0</td><td>3.16159e-09</td><td>6.1991999999999999e-09</td><td>1.2397999999999999e-10</td><td>6.0752199999999996e-09</td><td>83.001670000000004</td><td>-0.29908000000000001</td><td>--</td><td>0.81103500403976259</td><td>https://heasarc.gsfc.nasa.gov/FTP/chandra/data/science/ao08/cat2/7416/primary/hrcf07416N003_pha2.fits.gz</td><td>application/fits</td></tr>\n",
       "<tr><td>2</td><td>14567</td><td>archived</td><td>Delta Ori</td><td>83.00167</td><td>-0.29908</td><td>56280.7037</td><td>ACIS-S</td><td>HETG</td><td>116500</td><td>GO</td><td>Corcoran</td><td>56647</td><td>12.0</td><td>Spectrum-1.0</td><td>acisf14567N002_pha2</td><td>ACIS-S</td><td>HEASARC</td><td>56281.389824722108</td><td>56282.075177840627</td><td>56280.703699999998</td><td>116500.0</td><td>3.16159e-09</td><td>6.1991999999999999e-09</td><td>1.2397999999999999e-10</td><td>6.0752199999999996e-09</td><td>83.001670000000004</td><td>-0.29908000000000001</td><td>--</td><td>0.81103500403976259</td><td>https://heasarc.gsfc.nasa.gov/FTP/chandra/data/science/ao14/cat2/14567/primary/acisf14567N002_pha2.fits.gz</td><td>application/fits</td></tr>\n",
       "<tr><td>3</td><td>14568</td><td>archived</td><td>Delta Ori</td><td>83.00167</td><td>-0.29908</td><td>56288.1612</td><td>ACIS-S</td><td>HETG</td><td>123600</td><td>GO</td><td>Corcoran</td><td>56655</td><td>12.0</td><td>Spectrum-1.0</td><td>acisf14568N002_pha2</td><td>ACIS-S</td><td>HEASARC</td><td>56288.890250763019</td><td>56289.618502032063</td><td>56288.161200000002</td><td>123600.0</td><td>3.16159e-09</td><td>6.1991999999999999e-09</td><td>1.2397999999999999e-10</td><td>6.0752199999999996e-09</td><td>83.001670000000004</td><td>-0.29908000000000001</td><td>--</td><td>0.81103500403976259</td><td>https://heasarc.gsfc.nasa.gov/FTP/chandra/data/science/ao14/cat2/14568/primary/acisf14568N002_pha2.fits.gz</td><td>application/fits</td></tr>\n",
       "<tr><td>4</td><td>14569</td><td>archived</td><td>Delta Ori</td><td>83.00167</td><td>-0.29908</td><td>56283.2540</td><td>ACIS-S</td><td>HETG</td><td>120850</td><td>GO</td><td>Corcoran</td><td>56650</td><td>12.0</td><td>Spectrum-1.0</td><td>acisf14569N002_pha2</td><td>ACIS-S</td><td>HEASARC</td><td>56283.964980170487</td><td>56284.675201996994</td><td>56283.254000000001</td><td>120850.0</td><td>3.16159e-09</td><td>6.1991999999999999e-09</td><td>1.2397999999999999e-10</td><td>6.0752199999999996e-09</td><td>83.001670000000004</td><td>-0.29908000000000001</td><td>--</td><td>0.81103500403976259</td><td>https://heasarc.gsfc.nasa.gov/FTP/chandra/data/science/ao14/cat2/14569/primary/acisf14569N002_pha2.fits.gz</td><td>application/fits</td></tr>\n",
       "<tr><td>5</td><td>14570</td><td>archived</td><td>Delta Ori</td><td>83.00167</td><td>-0.29908</td><td>56285.5508</td><td>ACIS-S</td><td>HETG</td><td>124100</td><td>GO</td><td>Corcoran</td><td>56652</td><td>12.0</td><td>Spectrum-1.0</td><td>acisf14570N002_pha2</td><td>ACIS-S</td><td>HEASARC</td><td>56286.283897468573</td><td>56287.016223824656</td><td>56285.550799999997</td><td>124100.0</td><td>3.16159e-09</td><td>6.1991999999999999e-09</td><td>1.2397999999999999e-10</td><td>6.0752199999999996e-09</td><td>83.001670000000004</td><td>-0.29908000000000001</td><td>--</td><td>0.81103500403976259</td><td>https://heasarc.gsfc.nasa.gov/FTP/chandra/data/science/ao14/cat2/14570/primary/acisf14570N002_pha2.fits.gz</td><td>application/fits</td></tr>\n",
       "</table><style>table.dataTable {clear: both; width: auto !important; margin: 0 !important;}\n",
       ".dataTables_info, .dataTables_length, .dataTables_filter, .dataTables_paginate{\n",
       "display: inline-block; margin-right: 1em; }\n",
       ".paginate_button { margin-right: 5px; }\n",
       "</style>\n",
       "<script>\n",
       "require.config({paths: {\n",
       "    datatables: 'https://cdn.datatables.net/1.10.9/js/jquery.dataTables.min'\n",
       "}});\n",
       "require([\"datatables\"], function(){\n",
       "    console.log(\"$('#table4814110160-643539').dataTable()\");\n",
       "    $('#table4814110160-643539').dataTable({\n",
       "        \"order\": [],\n",
       "        \"iDisplayLength\": 50,\n",
       "        \"aLengthMenu\": [[10, 25, 50, 100, 500, 1000, -1], [10, 25, 50, 100, 500, 1000, 'All']],\n",
       "        \"pagingType\": \"full_numbers\"\n",
       "    });\n",
       "});\n",
       "</script>\n"
      ],
      "text/plain": [
       "<IPython.core.display.HTML object>"
      ]
     },
     "execution_count": 11,
     "metadata": {},
     "output_type": "execute_result"
    }
   ],
   "source": [
    "delori=SkyCoord.from_name(\"delta ori\")\n",
    "pos='{},{}'.format(delori.ra.deg,delori.dec.deg)\n",
    "\n",
    "params = {'table': 'chanmaster',\"POS\":pos,\"SIZE\":\"0.1\", \"REQUEST\":\"queryData\"}\n",
    "r = requests.get('https://heasarc.nasa.gov/xamin/vo/ssa', params=params)\n",
    "#print(r.content)\n",
    "spec_table = Table.read(io.BytesIO(r.content))\n",
    "spec_table['time'].format='.4f'\n",
    "spec_table.show_in_notebook()"
   ]
  },
  {
   "cell_type": "code",
   "execution_count": 12,
   "metadata": {
    "collapsed": false
   },
   "outputs": [
    {
     "data": {
      "text/html": [
       "&lt;Table length=12&gt;\n",
       "<table id=\"table4814107792-804316\" class=\"table-striped table-bordered table-condensed\">\n",
       "<thead><tr><th>idx</th><th>SPEC_NUM</th><th>TG_M</th><th>TG_PART</th><th>TG_SRCID</th><th>X</th><th>Y</th><th>CHANNEL [8192]</th><th>COUNTS [8192]</th><th>STAT_ERR [8192]</th><th>BACKGROUND_UP [8192]</th><th>BACKGROUND_DOWN [8192]</th><th>BIN_LO [8192]</th><th>BIN_HI [8192]</th></tr></thead>\n",
       "<tr><td>0</td><td>1</td><td>-3</td><td>1</td><td>1</td><td>4113.77</td><td>4083.73</td><td>1 .. 8192</td><td>0 .. 0</td><td>1.86603 .. 1.86603</td><td>0 .. 0</td><td>0 .. 0</td><td>7.15916666667 .. 0.333333333333</td><td>7.16 .. 0.334166666667</td></tr>\n",
       "<tr><td>1</td><td>2</td><td>-2</td><td>1</td><td>1</td><td>4113.77</td><td>4083.73</td><td>1 .. 8192</td><td>0 .. 0</td><td>1.86603 .. 1.86603</td><td>0 .. 0</td><td>0 .. 0</td><td>10.73875 .. 0.5</td><td>10.74 .. 0.50125</td></tr>\n",
       "<tr><td>2</td><td>3</td><td>-1</td><td>1</td><td>1</td><td>4113.77</td><td>4083.73</td><td>1 .. 8192</td><td>0 .. 0</td><td>1.86603 .. 1.86603</td><td>0 .. 0</td><td>0 .. 0</td><td>21.4775 .. 1.0</td><td>21.48 .. 1.0025</td></tr>\n",
       "<tr><td>3</td><td>4</td><td>1</td><td>1</td><td>1</td><td>4113.77</td><td>4083.73</td><td>1 .. 8192</td><td>0 .. 0</td><td>1.86603 .. 1.86603</td><td>0 .. 0</td><td>0 .. 0</td><td>21.4775 .. 1.0</td><td>21.48 .. 1.0025</td></tr>\n",
       "<tr><td>4</td><td>5</td><td>2</td><td>1</td><td>1</td><td>4113.77</td><td>4083.73</td><td>1 .. 8192</td><td>0 .. 0</td><td>1.86603 .. 1.86603</td><td>0 .. 0</td><td>0 .. 0</td><td>10.73875 .. 0.5</td><td>10.74 .. 0.50125</td></tr>\n",
       "<tr><td>5</td><td>6</td><td>3</td><td>1</td><td>1</td><td>4113.77</td><td>4083.73</td><td>1 .. 8192</td><td>0 .. 0</td><td>1.86603 .. 1.86603</td><td>0 .. 0</td><td>0 .. 0</td><td>7.15916666667 .. 0.333333333333</td><td>7.16 .. 0.334166666667</td></tr>\n",
       "<tr><td>6</td><td>7</td><td>-3</td><td>2</td><td>1</td><td>4113.77</td><td>4083.73</td><td>1 .. 8192</td><td>0 .. 0</td><td>1.86603 .. 1.86603</td><td>0 .. 0</td><td>0 .. 0</td><td>13.985 .. 0.333333333333</td><td>13.9866666667 .. 0.335</td></tr>\n",
       "<tr><td>7</td><td>8</td><td>-2</td><td>2</td><td>1</td><td>4113.77</td><td>4083.73</td><td>1 .. 8192</td><td>0 .. 0</td><td>1.86603 .. 1.86603</td><td>0 .. 0</td><td>0 .. 0</td><td>20.9775 .. 0.5</td><td>20.98 .. 0.5025</td></tr>\n",
       "<tr><td>8</td><td>9</td><td>-1</td><td>2</td><td>1</td><td>4113.77</td><td>4083.73</td><td>1 .. 8192</td><td>0 .. 0</td><td>1.86603 .. 1.86603</td><td>0 .. 0</td><td>0 .. 0</td><td>41.955 .. 1.0</td><td>41.96 .. 1.005</td></tr>\n",
       "<tr><td>9</td><td>10</td><td>1</td><td>2</td><td>1</td><td>4113.77</td><td>4083.73</td><td>1 .. 8192</td><td>0 .. 0</td><td>1.86603 .. 1.86603</td><td>0 .. 0</td><td>0 .. 0</td><td>41.955 .. 1.0</td><td>41.96 .. 1.005</td></tr>\n",
       "<tr><td>10</td><td>11</td><td>2</td><td>2</td><td>1</td><td>4113.77</td><td>4083.73</td><td>1 .. 8192</td><td>0 .. 0</td><td>1.86603 .. 1.86603</td><td>0 .. 0</td><td>0 .. 0</td><td>20.9775 .. 0.5</td><td>20.98 .. 0.5025</td></tr>\n",
       "<tr><td>11</td><td>12</td><td>3</td><td>2</td><td>1</td><td>4113.77</td><td>4083.73</td><td>1 .. 8192</td><td>0 .. 0</td><td>1.86603 .. 1.86603</td><td>0 .. 0</td><td>0 .. 0</td><td>13.985 .. 0.333333333333</td><td>13.9866666667 .. 0.335</td></tr>\n",
       "</table><style>table.dataTable {clear: both; width: auto !important; margin: 0 !important;}\n",
       ".dataTables_info, .dataTables_length, .dataTables_filter, .dataTables_paginate{\n",
       "display: inline-block; margin-right: 1em; }\n",
       ".paginate_button { margin-right: 5px; }\n",
       "</style>\n",
       "<script>\n",
       "require.config({paths: {\n",
       "    datatables: 'https://cdn.datatables.net/1.10.9/js/jquery.dataTables.min'\n",
       "}});\n",
       "require([\"datatables\"], function(){\n",
       "    console.log(\"$('#table4814107792-804316').dataTable()\");\n",
       "    $('#table4814107792-804316').dataTable({\n",
       "        \"order\": [],\n",
       "        \"iDisplayLength\": 50,\n",
       "        \"aLengthMenu\": [[10, 25, 50, 100, 500, 1000, -1], [10, 25, 50, 100, 500, 1000, 'All']],\n",
       "        \"pagingType\": \"full_numbers\"\n",
       "    });\n",
       "});\n",
       "</script>\n"
      ],
      "text/plain": [
       "<IPython.core.display.HTML object>"
      ]
     },
     "execution_count": 12,
     "metadata": {},
     "output_type": "execute_result"
    }
   ],
   "source": [
    "hdu_list=fits.open(spec_table[5]['SSA_reference'].decode()) # Byte format, so just decode() to string\n",
    "#hdu_list.info()\n",
    "table = Table(hdu_list[1].data)\n",
    "table.show_in_notebook()"
   ]
  },
  {
   "cell_type": "code",
   "execution_count": 13,
   "metadata": {
    "collapsed": true
   },
   "outputs": [],
   "source": [
    "## Because urllib is annoying to make Python 2/3 compatible, just use requests:\n",
    "r=requests.get(spec_table[5]['SSA_reference'].decode(), stream=True)\n",
    "with open('delori_spectrum.fits','wb') as f:\n",
    "    f.write(r.content)"
   ]
  },
  {
   "cell_type": "code",
   "execution_count": 14,
   "metadata": {
    "collapsed": false
   },
   "outputs": [
    {
     "name": "stdout",
     "output_type": "stream",
     "text": [
      "\n",
      "1 spectrum  in use\n",
      " \n",
      "Spectral Data File: delori_spectrum.fits{10}  Spectrum 1\n",
      "Net count rate (cts/s) for Spectrum:1  3.140e-02 +/- 1.529e-03\n",
      " Assigned to Data Group 1 and Plot Group 1\n",
      "  Noticed Channels:  1-8192\n",
      "  Telescope: CHANDRA Instrument: ACIS  Channel Type: PI\n",
      "  Exposure Time: 1.225e+05 sec\n",
      " Using fit statistic: cstat\n",
      " Using test statistic: chi\n",
      " No response loaded.\n",
      "\n",
      "***Warning!  One or more spectra are missing responses,\n",
      "               and are not suitable for fit.\n",
      "Response successfully loaded.\n",
      "\n",
      "Fit statistic : C-Statistic =       59448.79 using 8192 PHA bins and 8186 degrees of freedom.\n",
      "\n",
      "Warning: cstat statistic is only valid for Poisson data.\n",
      "    Source file is not Poisson\n",
      "\n",
      "\n",
      "Test statistic : Chi-Squared =   3.524763e+06 using 8192 PHA bins.\n",
      " Reduced chi-squared =       430.5843 for   8186 degrees of freedom \n",
      " Null hypothesis probability =   0.000000e+00\n",
      " Current data and model not fit yet.\n",
      "Arf successfully loaded.\n",
      "\n",
      "Fit statistic : C-Statistic =       22688.44 using 8192 PHA bins and 8186 degrees of freedom.\n",
      "\n",
      "Warning: cstat statistic is only valid for Poisson data.\n",
      "    Source file is not Poisson\n",
      "\n",
      "\n",
      "Test statistic : Chi-Squared =       10867.30 using 8192 PHA bins.\n",
      " Reduced chi-squared =       1.327547 for   8186 degrees of freedom \n",
      " Null hypothesis probability =   4.838736e-81\n",
      " Current data and model not fit yet.\n"
     ]
    }
   ],
   "source": [
    "with sys_pipes():\n",
    "    xspec.AllData.clear()\n",
    "    xspec.AllData += \"delori_spectrum.fits{10}\"\n",
    "    pha = xspec.AllData(1)\n",
    "    pha.response=\"aux/meg_1.rmf.gz\"\n",
    "    pha.response.arf=\"aux/meg_1.arf.gz\""
   ]
  },
  {
   "cell_type": "code",
   "execution_count": 15,
   "metadata": {
    "collapsed": false
   },
   "outputs": [
    {
     "name": "stdout",
     "output_type": "stream",
     "text": [
      "\n",
      "========================================================================\n",
      "Model TBabs<1>*apec<2> + TBabs<3>*apec<4> Source No.: 1   Active/On\n",
      "Model Model Component  Parameter  Unit     Value\n",
      " par  comp\n",
      "   1    1   TBabs      nH         10^22    1.00000      +/-  0.0          \n",
      "   2    2   apec       kT         keV      1.00000      +/-  0.0          \n",
      "   3    2   apec       Abundanc            1.00000      frozen\n",
      "   4    2   apec       Redshift            0.0          frozen\n",
      "   5    2   apec       norm                1.00000      +/-  0.0          \n",
      "   6    3   TBabs      nH         10^22    1.00000      +/-  0.0          \n",
      "   7    4   apec       kT         keV      1.00000      +/-  0.0          \n",
      "   8    4   apec       Abundanc            1.00000      frozen\n",
      "   9    4   apec       Redshift            0.0          frozen\n",
      "  10    4   apec       norm                1.00000      +/-  0.0          \n",
      "________________________________________________________________________\n",
      "\n",
      "Reading APEC data from 3.0.7\n",
      "\n",
      "\n",
      "Fit statistic : C-Statistic =   2.418551e+06 using 8192 PHA bins and 8186 degrees of freedom.\n",
      "\n",
      "Warning: cstat statistic is only valid for Poisson data.\n",
      "    Source file is not Poisson\n",
      "\n",
      "\n",
      "Test statistic : Chi-Squared =   3.290784e+08 using 8192 PHA bins.\n",
      " Reduced chi-squared =       40200.15 for   8186 degrees of freedom \n",
      " Null hypothesis probability =   0.000000e+00\n",
      " Current data and model not fit yet.\n",
      "\n",
      "Fit statistic : C-Statistic =   1.195505e+06 using 8192 PHA bins and 8186 degrees of freedom.\n",
      "\n",
      "Warning: cstat statistic is only valid for Poisson data.\n",
      "    Source file is not Poisson\n",
      "\n",
      "\n",
      "Test statistic : Chi-Squared =   8.212402e+07 using 8192 PHA bins.\n",
      " Reduced chi-squared =       10032.25 for   8186 degrees of freedom \n",
      " Null hypothesis probability =   0.000000e+00\n",
      " Current data and model not fit yet.\n",
      "\n",
      "Fit statistic : C-Statistic =   1.195230e+06 using 8192 PHA bins and 8186 degrees of freedom.\n",
      "\n",
      "Warning: cstat statistic is only valid for Poisson data.\n",
      "    Source file is not Poisson\n",
      "\n",
      "\n",
      "Test statistic : Chi-Squared =   8.211588e+07 using 8192 PHA bins.\n",
      " Reduced chi-squared =       10031.26 for   8186 degrees of freedom \n",
      " Null hypothesis probability =   0.000000e+00\n",
      " Current data and model not fit yet.\n",
      "\n",
      "Fit statistic : C-Statistic =   1.195230e+06 using 8192 PHA bins and 8186 degrees of freedom.\n",
      "\n",
      "Warning: cstat statistic is only valid for Poisson data.\n",
      "    Source file is not Poisson\n",
      "\n",
      "\n",
      "Test statistic : Chi-Squared =   8.211588e+07 using 8192 PHA bins.\n",
      " Reduced chi-squared =       10031.26 for   8186 degrees of freedom \n",
      " Null hypothesis probability =   0.000000e+00\n",
      " Current data and model not fit yet.\n",
      "\n",
      "Fit statistic : C-Statistic =       20882.59 using 8192 PHA bins and 8186 degrees of freedom.\n",
      "\n",
      "Warning: cstat statistic is only valid for Poisson data.\n",
      "    Source file is not Poisson\n",
      "\n",
      "\n",
      "Test statistic : Chi-Squared =        1148.16 using 8192 PHA bins.\n",
      " Reduced chi-squared =       0.140259 for   8186 degrees of freedom \n",
      " Null hypothesis probability =   1.000000e+00\n",
      " Current data and model not fit yet.\n",
      "\n",
      "Fit statistic : C-Statistic =       19554.09 using 8192 PHA bins and 8186 degrees of freedom.\n",
      "\n",
      "Warning: cstat statistic is only valid for Poisson data.\n",
      "    Source file is not Poisson\n",
      "\n",
      "\n",
      "Test statistic : Chi-Squared =        1147.34 using 8192 PHA bins.\n",
      " Reduced chi-squared =       0.140159 for   8186 degrees of freedom \n",
      " Null hypothesis probability =   1.000000e+00\n",
      " Current data and model not fit yet.\n",
      "\n",
      "Fit statistic : C-Statistic =        7100.85 using 8192 PHA bins and 8186 degrees of freedom.\n",
      "\n",
      "Warning: cstat statistic is only valid for Poisson data.\n",
      "    Source file is not Poisson\n",
      "\n",
      "\n",
      "Test statistic : Chi-Squared =        1079.12 using 8192 PHA bins.\n",
      " Reduced chi-squared =       0.131825 for   8186 degrees of freedom \n",
      " Null hypothesis probability =   1.000000e+00\n",
      " Current data and model not fit yet.\n"
     ]
    }
   ],
   "source": [
    "with sys_pipes():\n",
    "    m = xspec.Model(\"TBabs*apec + TBabs*apec\")\n",
    "    m.apec.kT = [.1,.01,.05,.05,1,1]\n",
    "    m.apec.norm = 5e-4\n",
    "    m.apec_4.kT = [1,.01,.7,.7,4,4]\n",
    "    m.apec_4.norm = 1e-3\n",
    "    m.TBabs.nH = [.01,0.01,0.0,0.0,.4,.4]\n",
    "    m.TBabs_3.nH = [.01,0.01,0.0,0.0,.4,.4]\n",
    "\n"
   ]
  },
  {
   "cell_type": "code",
   "execution_count": 16,
   "metadata": {
    "collapsed": false
   },
   "outputs": [
    {
     "name": "stdout",
     "output_type": "stream",
     "text": [
      "Spectrum 1  Spectral Data File: delori_spectrum.fits{10}\n",
      "Net count rate (cts/s) for Spectrum:1  3.140e-02 +/- 1.529e-03\n",
      " Assigned to Data Group 1 and Plot Group 1\n",
      "  Noticed Channels:  1-8192\n",
      "  Telescope: CHANDRA Instrument: ACIS  Channel Type: PI\n",
      "  Exposure Time: 1.225e+05 sec\n",
      " Using fit statistic: cstat\n",
      " Using test statistic: chi\n",
      " Using Response (RMF) File            aux/meg_1.rmf.gz for Source 1\n",
      " Using Auxiliary Response (ARF) File  aux/meg_1.arf.gz\n",
      "\n",
      " Spectral data counts: 3846\n",
      " Model predicted rate: 1.98758E-02\n",
      "\n",
      "\n",
      "========================================================================\n",
      "Model TBabs<1>*apec<2> + TBabs<3>*apec<4> Source No.: 1   Active/On\n",
      "Model Model Component  Parameter  Unit     Value\n",
      " par  comp\n",
      "   1    1   TBabs      nH         10^22    1.00000E-02  +/-  0.0          \n",
      "   2    2   apec       kT         keV      0.100000     +/-  0.0          \n",
      "   3    2   apec       Abundanc            1.00000      frozen\n",
      "   4    2   apec       Redshift            0.0          frozen\n",
      "   5    2   apec       norm                5.00000E-04  +/-  0.0          \n",
      "   6    3   TBabs      nH         10^22    1.00000E-02  +/-  0.0          \n",
      "   7    4   apec       kT         keV      1.00000      +/-  0.0          \n",
      "   8    4   apec       Abundanc            1.00000      frozen\n",
      "   9    4   apec       Redshift            0.0          frozen\n",
      "  10    4   apec       norm                1.00000E-03  +/-  0.0          \n",
      "________________________________________________________________________\n",
      "\n"
     ]
    }
   ],
   "source": [
    "with sys_pipes():\n",
    "    pha.show()\n",
    "    m.show()"
   ]
  },
  {
   "cell_type": "code",
   "execution_count": 17,
   "metadata": {
    "collapsed": false
   },
   "outputs": [
    {
     "name": "stdout",
     "output_type": "stream",
     "text": [
      "***Warning: Fit is not current.\n"
     ]
    },
    {
     "data": {
      "image/png": "[encoded data removed]",
      "text/plain": [
       "<matplotlib.figure.Figure at 0x11ef02890>"
      ]
     },
     "metadata": {},
     "output_type": "display_data"
    }
   ],
   "source": [
    "with sys_pipes():\n",
    "    xspec.Plot.device = \"/nu\"\n",
    "    xspec.Plot.xAxis = \"Angstrom\"\n",
    "    xspec.Plot.setRebin(minSig=3.0, maxBins=10)\n",
    "    xspec.Plot(\"data\")\n",
    "    xVals = xspec.Plot.x()\n",
    "    xValserr = xspec.Plot.xErr()\n",
    "    yVals = xspec.Plot.y()\n",
    "    yValserr = xspec.Plot.yErr()\n",
    "    modVals = xspec.Plot.model()\n",
    "\n",
    "plt.step(xVals, yVals, label='Data')\n",
    "\n",
    "plt.step(xVals, modVals, label=\"Model\")\n",
    "plt.xlabel('Angstrom', fontsize=16)\n",
    "plt.ylabel('counts/cm$^2$/sec/chan', fontsize=16)\n",
    "plt.legend()\n",
    "plt.yscale('linear')\n",
    "plt.xlim([0.5,20])\n",
    "plt.xscale('linear')\n",
    "\n"
   ]
  },
  {
   "cell_type": "code",
   "execution_count": 18,
   "metadata": {
    "collapsed": false,
    "scrolled": false
   },
   "outputs": [
    {
     "name": "stdout",
     "output_type": "stream",
     "text": [
      "Default fit statistic is set to: C-Statistic\n",
      "   This will apply to all current and newly loaded spectra.\n",
      "\n",
      "Fit statistic : C-Statistic =        7100.85 using 8192 PHA bins and 8186 degrees of freedom.\n",
      "\n",
      "Warning: cstat statistic is only valid for Poisson data.\n",
      "    Source file is not Poisson\n",
      "\n",
      "\n",
      "Test statistic : Chi-Squared =        1079.12 using 8192 PHA bins.\n",
      " Reduced chi-squared =       0.131825 for   8186 degrees of freedom \n",
      " Null hypothesis probability =   1.000000e+00\n",
      " Current data and model not fit yet.\n",
      "                                   Parameters\n",
      "C-Statistic  |beta|/N    Lvl          1:nH          2:kT        5:norm          6:nH          7:kT       10:norm\n",
      "5091.31      3084.19      -2      0.221152      0.268139    0.00471159   0.000447569      0.877661    0.00122596\n",
      "5051.94      55297.8      -2      0.282899      0.226126    0.00912306     0.0545361      0.881539   0.000963671\n",
      "4947.97      48429.7      -3      0.273577      0.232091     0.0109706     0.0850835      0.873139    0.00104697\n",
      "4945.6       4056.14      -4      0.270935      0.232394     0.0114289      0.100969      0.869394    0.00106954\n",
      "4945.56      101.249      -5      0.269078      0.232061     0.0114374      0.109482      0.865744    0.00108767\n",
      "4941.36      16.4967      -6      0.270115      0.230925     0.0116449      0.122488      0.852731    0.00112053\n",
      "4926.63      1669.67      -7      0.298384      0.217021     0.0140093      0.155451      0.768078    0.00135577\n",
      "4920.16      10900.8      -8      0.301607      0.214864     0.0149004      0.156661      0.771289    0.00141872\n",
      "4912.94      92.0225      -2      0.319534      0.194055     0.0200601      0.164384      0.759304    0.00148365\n",
      "4907.45      7688.94      -3      0.341915      0.183529     0.0281900      0.170468      0.751238    0.00151025\n",
      "Number of trials exceeded: continue fitting? 4900.36      7959.11      -4      0.340174      0.185309     0.0294844      0.172201      0.750630    0.00151544\n",
      "4900.35      103.231      -5      0.340728      0.185305     0.0296723      0.172479      0.750513    0.00151415\n",
      "======================================================================\n",
      " Variances and Principal Axes\n",
      "                 1        2        5        6        7       10  \n",
      " 1.3481E-09| -0.0015   0.0187   0.0211  -0.0027   0.0019   0.9996  \n",
      " 1.2741E-06|  0.0896  -0.5908  -0.8007   0.0193   0.0237   0.0281  \n",
      " 1.7480E-05| -0.1140  -0.7914   0.5758  -0.0205   0.1697   0.0021  \n",
      " 1.1524E-04|  0.1763   0.1362  -0.0471   0.2422   0.9431  -0.0024  \n",
      " 9.6009E-04| -0.9144   0.0446  -0.1242   0.3777   0.0613   0.0014  \n",
      " 4.7552E-04| -0.3343   0.0612  -0.0959  -0.8933   0.2783  -0.0026  \n",
      "----------------------------------------------------------------------\n",
      "\n",
      "========================================================================\n",
      "  Covariance Matrix\n",
      "        1           2           3           4           5           6   \n",
      "   8.598e-04  -4.463e-05   1.221e-04  -1.846e-04  -7.920e-05  -8.447e-07\n",
      "  -4.463e-05   1.722e-05  -1.622e-05  -5.742e-06   2.316e-05  -1.038e-07\n",
      "   1.221e-04  -1.622e-05   2.606e-05  -5.858e-06  -2.344e-05  -4.084e-08\n",
      "  -1.846e-04  -5.742e-06  -5.858e-06   5.231e-04  -6.971e-05   1.525e-06\n",
      "  -7.920e-05   2.316e-05  -2.344e-05  -6.971e-05   1.434e-04  -5.158e-07\n",
      "  -8.447e-07  -1.038e-07  -4.084e-08   1.525e-06  -5.158e-07   8.068e-09\n",
      "------------------------------------------------------------------------\n",
      "\n",
      "========================================================================\n",
      "Model TBabs<1>*apec<2> + TBabs<3>*apec<4> Source No.: 1   Active/On\n",
      "Model Model Component  Parameter  Unit     Value\n",
      " par  comp\n",
      "   1    1   TBabs      nH         10^22    0.340728     +/-  2.93216E-02  \n",
      "   2    2   apec       kT         keV      0.185305     +/-  4.15015E-03  \n",
      "   3    2   apec       Abundanc            1.00000      frozen\n",
      "   4    2   apec       Redshift            0.0          frozen\n",
      "   5    2   apec       norm                2.96723E-02  +/-  5.10508E-03  \n",
      "   6    3   TBabs      nH         10^22    0.172479     +/-  2.28718E-02  \n",
      "   7    4   apec       kT         keV      0.750513     +/-  1.19762E-02  \n",
      "   8    4   apec       Abundanc            1.00000      frozen\n",
      "   9    4   apec       Redshift            0.0          frozen\n",
      "  10    4   apec       norm                1.51415E-03  +/-  8.98212E-05  \n",
      "________________________________________________________________________\n",
      "\n",
      "\n",
      "Fit statistic : C-Statistic =        4900.35 using 8192 PHA bins and 8186 degrees of freedom.\n",
      "\n",
      "Warning: cstat statistic is only valid for Poisson data.\n",
      "    Source file is not Poisson\n",
      "\n",
      "\n",
      "Test statistic : Chi-Squared =        1337.05 using 8192 PHA bins.\n",
      " Reduced chi-squared =       0.163334 for   8186 degrees of freedom \n",
      " Null hypothesis probability =   1.000000e+00\n"
     ]
    }
   ],
   "source": [
    "with sys_pipes():\n",
    "    xspec.Fit.statMethod =\"cstat\"\n",
    "    xspec.Fit.perform()"
   ]
  },
  {
   "cell_type": "code",
   "execution_count": 19,
   "metadata": {
    "collapsed": false
   },
   "outputs": [
    {
     "data": {
      "image/png": "[encoded data removed]",
      "text/plain": [
       "<matplotlib.figure.Figure at 0x11ed6be50>"
      ]
     },
     "metadata": {},
     "output_type": "display_data"
    }
   ],
   "source": [
    "\n",
    "ax = plt.subplot(111)\n",
    "plt.rcParams['figure.figsize'] = (10, 4)\n",
    "\n",
    "with sys_pipes():\n",
    "    xspec.Plot.device = \"/nu\"\n",
    "    xspec.Plot.xAxis = \"Angstrom\"\n",
    "    xspec.Plot.setRebin(minSig=3.0, maxBins=10)\n",
    "    xspec.Plot(\"data\")\n",
    "    xVals = xspec.Plot.x()\n",
    "    xValserr = xspec.Plot.xErr()\n",
    "    yVals = xspec.Plot.y()\n",
    "    yValserr = xspec.Plot.yErr()\n",
    "    modVals = xspec.Plot.model()\n",
    "\n",
    "plt.step(xVals, yVals)\n",
    "\n",
    "plt.step(xVals, modVals)\n",
    "plt.xlabel('Angstrom', fontsize=16)\n",
    "plt.ylabel('counts/cm$^2$/sec/chan', fontsize=16)\n",
    "ax.set_yscale('linear')\n",
    "#ax.set_ylim([1e-3,1e-1])\n",
    "ax.set_xlim([11,15])\n",
    "ax.set_xscale('linear')\n"
   ]
  },
  {
   "cell_type": "code",
   "execution_count": null,
   "metadata": {
    "collapsed": true
   },
   "outputs": [],
   "source": []
  }
 ],
 "metadata": {
  "anaconda-cloud": {},
  "kernelspec": {
   "display_name": "Python 2",
   "language": "python",
   "name": "python2"
  },
  "language_info": {
   "codemirror_mode": {
    "name": "ipython",
    "version": 2
   },
   "file_extension": ".py",
   "mimetype": "text/x-python",
   "name": "python",
   "nbconvert_exporter": "python",
   "pygments_lexer": "ipython2",
   "version": "2.7.12"
  },
  "nav_menu": {},
  "toc": {
   "navigate_menu": true,
   "number_sections": true,
   "sideBar": true,
   "threshold": 6,
   "toc_cell": false,
   "toc_section_display": "block",
   "toc_window_display": true
  }
 },
 "nbformat": 4,
 "nbformat_minor": 1
}
