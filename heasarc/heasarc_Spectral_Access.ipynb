{
 "cells": [
  {
   "cell_type": "markdown",
   "metadata": {
    "deletable": true,
    "editable": true
   },
   "source": [
    "# Retrieve spectra from HEASARC using Simple Spectral Access protocol\n",
    "\n",
    "This notebook is one of a set produced by the HEASARC to demonstrate data access with python tools. If you have not already, start with the [overview notebook](heasarc_queries_Overview.ipynb)"
   ]
  },
  {
   "cell_type": "code",
   "execution_count": 1,
   "metadata": {
    "collapsed": false
   },
   "outputs": [],
   "source": [
    "import matplotlib\n",
    "import matplotlib.pyplot as plt\n",
    "\n",
    "%matplotlib inline  \n",
    "import requests, io\n",
    "from astropy.table import Table\n",
    "\n",
    "import xspec\n",
    "## For capturing Xspec terminal output\n",
    "##  See https://github.com/minrk/wurlitzer\n",
    "from wurlitzer import sys_pipes\n",
    "## Hide annoying warnings\n",
    "import warnings\n",
    "warnings.filterwarnings(\"ignore\")\n"
   ]
  },
  {
   "cell_type": "markdown",
   "metadata": {},
   "source": [
    "## Find out what catalogs of spectra can be queried with HEASARC's SSA service:"
   ]
  },
  {
   "cell_type": "code",
   "execution_count": 2,
   "metadata": {
    "collapsed": false
   },
   "outputs": [
    {
     "data": {
      "text/html": [
       "&lt;Table masked=True length=4&gt;\n",
       "<table id=\"table4828503248\" class=\"table-striped table-bordered table-condensed\">\n",
       "<thead><tr><th>short_name</th><th>ivoid</th></tr></thead>\n",
       "<thead><tr><th>object</th><th>object</th></tr></thead>\n",
       "<tr><td>Chandra</td><td>ivo://nasa.heasarc/chanmaster</td></tr>\n",
       "<tr><td>INTEGRAL/BSC</td><td>ivo://nasa.heasarc/intbsc</td></tr>\n",
       "<tr><td>SwiftBAT</td><td>ivo://nasa.heasarc/swiftbalog</td></tr>\n",
       "<tr><td>SwiftXRT</td><td>ivo://nasa.heasarc/swiftxrlog</td></tr>\n",
       "</table>"
      ],
      "text/plain": [
       "<Table masked=True length=4>\n",
       " short_name              ivoid            \n",
       "   object                object           \n",
       "------------ -----------------------------\n",
       "     Chandra ivo://nasa.heasarc/chanmaster\n",
       "INTEGRAL/BSC     ivo://nasa.heasarc/intbsc\n",
       "    SwiftBAT ivo://nasa.heasarc/swiftbalog\n",
       "    SwiftXRT ivo://nasa.heasarc/swiftxrlog"
      ]
     },
     "execution_count": 2,
     "metadata": {},
     "output_type": "execute_result"
    }
   ],
   "source": [
    "# Warning:  'query' is bizarrely case-sensitive:\n",
    "tap_params = {\n",
    "    \"request\":\"doQuery\",\n",
    "    \"lang\":\"ADQL\",\n",
    "    \"query\":\"\"\"\n",
    "        select b.short_name,a.ivoid from rr.capability a \n",
    "        natural join rr.resource b \n",
    "        where a.cap_type='simplespectralaccess' and a.ivoid like 'ivo://nasa.heasarc%' \n",
    "        order by short_name;\n",
    "    \"\"\"\n",
    "    }\n",
    "r = requests.post('http://vao.stsci.edu/RegTAP/TapService.aspx/sync', data=tap_params)\n",
    "##  If you want to see what requests gives you, you can look at the URL it actually constructed:\n",
    "#print(r.url)\n",
    "##  And the raw text of what it got back:\n",
    "# print(r.text)\n",
    "## The astropy.table  module will read this VO Table formatted result into an astropy Table:\n",
    "table=Table.read(io.BytesIO(r.content))\n",
    "table"
   ]
  },
  {
   "cell_type": "markdown",
   "metadata": {},
   "source": [
    "## Query one of them, in this case Chandra for the source M82:"
   ]
  },
  {
   "cell_type": "code",
   "execution_count": 3,
   "metadata": {
    "collapsed": false,
    "deletable": true,
    "editable": true
   },
   "outputs": [
    {
     "data": {
      "text/html": [
       "&lt;Table masked=True length=3&gt;\n",
       "<table id=\"table4518385488\" class=\"table-striped table-bordered table-condensed\">\n",
       "<thead><tr><th>obsid</th><th>status</th><th>name</th><th>ra</th><th>dec</th><th>time</th><th>detector</th><th>grating</th><th>exposure</th><th>type</th><th>pi</th><th>public_date</th><th>SSA_datalength</th><th>SSA_datamodel</th><th>SSA_title</th><th>SSA_instrument</th><th>SSA_publisher</th><th>SSA_tmid</th><th>SSA_stop_time</th><th>SSA_start_time</th><th>SSA_duration</th><th>SSA_bandpass</th><th>SSA_wavelength_max</th><th>SSA_wavelength_min</th><th>SSA_bandwidth</th><th>SSA_ra</th><th>SSA_dec</th><th>SSA_coord_obs</th><th>SSA_fov</th><th>SSA_reference</th><th>SSA_format</th></tr></thead>\n",
       "<thead><tr><th></th><th></th><th></th><th>deg</th><th>deg</th><th>mjd</th><th></th><th></th><th>s</th><th></th><th></th><th>mjd</th><th></th><th></th><th></th><th></th><th></th><th>mjd</th><th>mjd</th><th>mjd</th><th>s</th><th>meter</th><th>meter</th><th>meter</th><th>meter</th><th>deg</th><th>deg</th><th>deg</th><th>deg</th><th></th><th></th></tr></thead>\n",
       "<thead><tr><th>object</th><th>object</th><th>object</th><th>float64</th><th>float64</th><th>float64</th><th>object</th><th>object</th><th>float64</th><th>object</th><th>object</th><th>int32</th><th>object</th><th>object</th><th>object</th><th>object</th><th>object</th><th>float64</th><th>float64</th><th>float64</th><th>float64</th><th>float64</th><th>float64</th><th>float64</th><th>float64</th><th>float64</th><th>float64</th><th>float64</th><th>float64</th><th>object</th><th>object</th></tr></thead>\n",
       "<tr><td>17860</td><td>archived</td><td>M82 X-1</td><td>148.95917</td><td>69.67972</td><td>57639.729200000002</td><td>ACIS-S</td><td>HETG</td><td>51060</td><td>TOO</td><td>Walton</td><td>58010</td><td>12.0</td><td>Spectrum-1.0</td><td>acisf17860N002_pha2</td><td>ACIS-S</td><td>HEASARC</td><td>57640.040393247451</td><td>57640.350814633915</td><td>57639.729200000002</td><td>51060.0</td><td>3.16159e-09</td><td>6.1991999999999999e-09</td><td>1.2397999999999999e-10</td><td>6.0752199999999996e-09</td><td>148.95917</td><td>69.679720000000003</td><td>--</td><td>0.81103500403976259</td><td>https://heasarc.gsfc.nasa.gov/FTP/chandra/data/science/ao17/cat4/17860/primary/acisf17860N002_pha2.fits.gz</td><td>application/fits</td></tr>\n",
       "<tr><td>19791</td><td>archived</td><td>M82 X-1</td><td>148.95917</td><td>69.67972</td><td>57641.570200000002</td><td>ACIS-S</td><td>HETG</td><td>15310</td><td>TOO</td><td>Walton</td><td>58010</td><td>12.0</td><td>Spectrum-1.0</td><td>acisf19791N002_pha2</td><td>ACIS-S</td><td>HEASARC</td><td>57641.668022753758</td><td>57641.765065583451</td><td>57641.570200000002</td><td>15310.0</td><td>3.16159e-09</td><td>6.1991999999999999e-09</td><td>1.2397999999999999e-10</td><td>6.0752199999999996e-09</td><td>148.95917</td><td>69.679720000000003</td><td>--</td><td>0.81103500403976259</td><td>https://heasarc.gsfc.nasa.gov/FTP/chandra/data/science/ao17/cat4/19791/primary/acisf19791N002_pha2.fits.gz</td><td>application/fits</td></tr>\n",
       "<tr><td>19792</td><td>archived</td><td>M82 X-1</td><td>148.95917</td><td>69.67972</td><td>57642.353000000003</td><td>ACIS-S</td><td>HETG</td><td>32440</td><td>TOO</td><td>Walton</td><td>58010</td><td>12.0</td><td>Spectrum-1.0</td><td>acisf19792N002_pha2</td><td>ACIS-S</td><td>HEASARC</td><td>57642.558369954859</td><td>57642.762945849187</td><td>57642.353000000003</td><td>32440.0</td><td>3.16159e-09</td><td>6.1991999999999999e-09</td><td>1.2397999999999999e-10</td><td>6.0752199999999996e-09</td><td>148.95917</td><td>69.679720000000003</td><td>--</td><td>0.81103500403976259</td><td>https://heasarc.gsfc.nasa.gov/FTP/chandra/data/science/ao17/cat4/19792/primary/acisf19792N002_pha2.fits.gz</td><td>application/fits</td></tr>\n",
       "</table>"
      ],
      "text/plain": [
       "<Table masked=True length=3>\n",
       "obsid   status  ...    SSA_format   \n",
       "                ...                 \n",
       "object  object  ...      object     \n",
       "------ -------- ... ----------------\n",
       " 17860 archived ... application/fits\n",
       " 19791 archived ... application/fits\n",
       " 19792 archived ... application/fits"
      ]
     },
     "execution_count": 3,
     "metadata": {},
     "output_type": "execute_result"
    }
   ],
   "source": [
    "## Sometimes this does nothing but time out!\n",
    "#import astropy.coordinates as coord\n",
    "#m82=coord.SkyCoord.from_name(\"m82\")\n",
    "#pos='{},{}'.format(m82.ra.deg,m82.dec.deg)\n",
    "pos='148.968458,69.679703' # M82\n",
    "#pos='83.633083,22.014500' # crab\n",
    "#pos='191.542417,30.731583' #mice\n",
    "params = {'table': 'chanmaster',\"POS\":pos,\"SIZE\":\"0.1\", \"REQUEST\":\"queryData\"}\n",
    "r = requests.get('https://heasarc.nasa.gov/xamin/vo/ssa', params=params)\n",
    "#print(r.content)\n",
    "spec_table = Table.read(io.BytesIO(r.content))\n",
    "spec_table"
   ]
  },
  {
   "cell_type": "markdown",
   "metadata": {},
   "source": [
    "## Retrieve one of the spectra:"
   ]
  },
  {
   "cell_type": "code",
   "execution_count": 4,
   "metadata": {
    "collapsed": false,
    "deletable": true,
    "editable": true
   },
   "outputs": [
    {
     "data": {
      "text/html": [
       "&lt;Table length=12&gt;\n",
       "<table id=\"table4852201552\" class=\"table-striped table-bordered table-condensed\">\n",
       "<thead><tr><th>SPEC_NUM</th><th>TG_M</th><th>TG_PART</th><th>TG_SRCID</th><th>X</th><th>Y</th><th>CHANNEL [8192]</th><th>COUNTS [8192]</th><th>STAT_ERR [8192]</th><th>BACKGROUND_UP [8192]</th><th>BACKGROUND_DOWN [8192]</th><th>BIN_LO [8192]</th><th>BIN_HI [8192]</th></tr></thead>\n",
       "<thead><tr><th>int16</th><th>int16</th><th>int16</th><th>int16</th><th>float32</th><th>float32</th><th>int16</th><th>int16</th><th>float32</th><th>int16</th><th>int16</th><th>float64</th><th>float64</th></tr></thead>\n",
       "<tr><td>1</td><td>-3</td><td>1</td><td>1</td><td>4105.62</td><td>4071.5</td><td>1 .. 8192</td><td>0 .. 0</td><td>1.86603 .. 1.86603</td><td>0 .. 0</td><td>0 .. 0</td><td>7.15916666667 .. 0.333333333333</td><td>7.16 .. 0.334166666667</td></tr>\n",
       "<tr><td>2</td><td>-2</td><td>1</td><td>1</td><td>4105.62</td><td>4071.5</td><td>1 .. 8192</td><td>0 .. 0</td><td>1.86603 .. 1.86603</td><td>0 .. 0</td><td>0 .. 0</td><td>10.73875 .. 0.5</td><td>10.74 .. 0.50125</td></tr>\n",
       "<tr><td>3</td><td>-1</td><td>1</td><td>1</td><td>4105.62</td><td>4071.5</td><td>1 .. 8192</td><td>0 .. 0</td><td>1.86603 .. 1.86603</td><td>0 .. 0</td><td>0 .. 0</td><td>21.4775 .. 1.0</td><td>21.48 .. 1.0025</td></tr>\n",
       "<tr><td>4</td><td>1</td><td>1</td><td>1</td><td>4105.62</td><td>4071.5</td><td>1 .. 8192</td><td>0 .. 0</td><td>1.86603 .. 1.86603</td><td>0 .. 0</td><td>0 .. 0</td><td>21.4775 .. 1.0</td><td>21.48 .. 1.0025</td></tr>\n",
       "<tr><td>5</td><td>2</td><td>1</td><td>1</td><td>4105.62</td><td>4071.5</td><td>1 .. 8192</td><td>0 .. 0</td><td>1.86603 .. 1.86603</td><td>0 .. 0</td><td>0 .. 0</td><td>10.73875 .. 0.5</td><td>10.74 .. 0.50125</td></tr>\n",
       "<tr><td>6</td><td>3</td><td>1</td><td>1</td><td>4105.62</td><td>4071.5</td><td>1 .. 8192</td><td>0 .. 0</td><td>1.86603 .. 1.86603</td><td>0 .. 0</td><td>0 .. 0</td><td>7.15916666667 .. 0.333333333333</td><td>7.16 .. 0.334166666667</td></tr>\n",
       "<tr><td>7</td><td>-3</td><td>2</td><td>1</td><td>4105.62</td><td>4071.5</td><td>1 .. 8192</td><td>0 .. 0</td><td>1.86603 .. 1.86603</td><td>0 .. 0</td><td>0 .. 0</td><td>13.985 .. 0.333333333333</td><td>13.9866666667 .. 0.335</td></tr>\n",
       "<tr><td>8</td><td>-2</td><td>2</td><td>1</td><td>4105.62</td><td>4071.5</td><td>1 .. 8192</td><td>0 .. 0</td><td>1.86603 .. 1.86603</td><td>0 .. 0</td><td>0 .. 0</td><td>20.9775 .. 0.5</td><td>20.98 .. 0.5025</td></tr>\n",
       "<tr><td>9</td><td>-1</td><td>2</td><td>1</td><td>4105.62</td><td>4071.5</td><td>1 .. 8192</td><td>0 .. 0</td><td>1.86603 .. 1.86603</td><td>0 .. 0</td><td>0 .. 0</td><td>41.955 .. 1.0</td><td>41.96 .. 1.005</td></tr>\n",
       "<tr><td>10</td><td>1</td><td>2</td><td>1</td><td>4105.62</td><td>4071.5</td><td>1 .. 8192</td><td>0 .. 0</td><td>1.86603 .. 1.86603</td><td>0 .. 0</td><td>0 .. 0</td><td>41.955 .. 1.0</td><td>41.96 .. 1.005</td></tr>\n",
       "<tr><td>11</td><td>2</td><td>2</td><td>1</td><td>4105.62</td><td>4071.5</td><td>1 .. 8192</td><td>0 .. 0</td><td>1.86603 .. 1.86603</td><td>0 .. 0</td><td>0 .. 0</td><td>20.9775 .. 0.5</td><td>20.98 .. 0.5025</td></tr>\n",
       "<tr><td>12</td><td>3</td><td>2</td><td>1</td><td>4105.62</td><td>4071.5</td><td>1 .. 8192</td><td>0 .. 0</td><td>1.86603 .. 1.86603</td><td>0 .. 0</td><td>0 .. 0</td><td>13.985 .. 0.333333333333</td><td>13.9866666667 .. 0.335</td></tr>\n",
       "</table>"
      ],
      "text/plain": [
       "<Table length=12>\n",
       "SPEC_NUM  TG_M ...          BIN_LO [8192]              BIN_HI [8192]     \n",
       " int16   int16 ...             float64                    float64        \n",
       "-------- ----- ... ------------------------------- ----------------------\n",
       "       1    -3 ... 7.15916666667 .. 0.333333333333 7.16 .. 0.334166666667\n",
       "       2    -2 ...                 10.73875 .. 0.5       10.74 .. 0.50125\n",
       "       3    -1 ...                  21.4775 .. 1.0        21.48 .. 1.0025\n",
       "       4     1 ...                  21.4775 .. 1.0        21.48 .. 1.0025\n",
       "       5     2 ...                 10.73875 .. 0.5       10.74 .. 0.50125\n",
       "       6     3 ... 7.15916666667 .. 0.333333333333 7.16 .. 0.334166666667\n",
       "       7    -3 ...        13.985 .. 0.333333333333 13.9866666667 .. 0.335\n",
       "       8    -2 ...                  20.9775 .. 0.5        20.98 .. 0.5025\n",
       "       9    -1 ...                   41.955 .. 1.0         41.96 .. 1.005\n",
       "      10     1 ...                   41.955 .. 1.0         41.96 .. 1.005\n",
       "      11     2 ...                  20.9775 .. 0.5        20.98 .. 0.5025\n",
       "      12     3 ...        13.985 .. 0.333333333333 13.9866666667 .. 0.335"
      ]
     },
     "execution_count": 4,
     "metadata": {},
     "output_type": "execute_result"
    }
   ],
   "source": [
    "## Get the first spectrum (which has a long-ish exposure.)\n",
    "import astropy.io.fits as fits\n",
    "hdu_list=fits.open(spec_table[2]['SSA_reference'].decode()) # Byte format, so just decode() to string\n",
    "#hdu_list.info()\n",
    "table = Table(hdu_list[1].data)\n",
    "table\n"
   ]
  },
  {
   "cell_type": "code",
   "execution_count": 5,
   "metadata": {
    "collapsed": false,
    "deletable": true,
    "editable": true
   },
   "outputs": [
    {
     "data": {
      "image/png": "[encoded data removed]",
      "text/plain": [
       "<matplotlib.figure.Figure at 0x10c3e23d0>"
      ]
     },
     "metadata": {},
     "output_type": "display_data"
    }
   ],
   "source": [
    "## Here, you just have to be familiar with the format of these spectra by reading Chandra documentation.\n",
    "for i in range(len(table)):\n",
    "    matplotlib.rcParams['figure.figsize'] = (6, 6)\n",
    "    ax=plt.subplot(6,2,i+1)\n",
    "    pha = plt.plot( table['CHANNEL'][i],table['COUNTS'][i])\n",
    "    ax.set_yscale('log')\n",
    "    if table['TG_PART'][i] == 1:\n",
    "        instr='HEG'\n",
    "    if table['TG_PART'][i] == 2:\n",
    "        instr='MEG'\n",
    "    if table['TG_PART'][i] == 3:\n",
    "        instr='LEG'\n",
    "    ax.set_title(str(table['TG_M'][i])+' '+instr)\n",
    "    plt.tight_layout()\n",
    "    "
   ]
  },
  {
   "cell_type": "markdown",
   "metadata": {
    "collapsed": true,
    "deletable": true,
    "editable": true
   },
   "source": [
    "Note: The 12 plots here show all the different HEG and MEG components (+/- 3, +/- 2, and +/- 1 for each grating) for the grating data, as titled. In practice, you might want to download the fits file and use a different analysis and plotting tool to create an energy spectrum plot using SHERPA or XSPEC, etc. \n",
    "\n",
    "You can download the file directly using this:\n"
   ]
  },
  {
   "cell_type": "code",
   "execution_count": 6,
   "metadata": {
    "collapsed": false,
    "editable": true,
    "scrolled": true
   },
   "outputs": [],
   "source": [
    "## Because urllib is annoying to make Python 2/3 compatible, just use requests:\n",
    "r=requests.get(spec_table[2]['SSA_reference'].decode(), stream=True)\n",
    "with open('my_spectrum.fits','wb') as f:\n",
    "    f.write(r.content)"
   ]
  },
  {
   "cell_type": "markdown",
   "metadata": {},
   "source": [
    "## And use it in Xspec!\n",
    "\n",
    "<div>\n",
    "Note that currently, we do not have a way to link the spectra to their corresponding response files.  In some cases, you can take the download URL for the spectrum and look for the response in the same directory, but this is obviously not ideal.  In other cases, it's even less obvious how to find the correct response.  A knowledge of the specific mission archive and tools is currently necessary.  For this example, we have retrieved off-line the relevant file and stored it as \"my_arf.fits\".  This is an issue to be addressed by the HEASARC in the future to make this process more feasible. For now, this example is a proof-of-concept only.  \n",
    "</div>"
   ]
  },
  {
   "cell_type": "code",
   "execution_count": 7,
   "metadata": {
    "collapsed": false,
    "deletable": true,
    "editable": true
   },
   "outputs": [
    {
     "name": "stdout",
     "output_type": "stream",
     "text": [
      "\n",
      "1 spectrum  in use\n",
      " \n",
      "Spectral Data File: my_spectrum.fits{10}  Spectrum 1\n",
      "Net count rate (cts/s) for Spectrum:1  6.696e-02 +/- 5.616e-03\n",
      " Assigned to Data Group 1 and Plot Group 1\n",
      "  Noticed Channels:  1-8192\n",
      "  Telescope: CHANDRA Instrument: ACIS  Channel Type: PI\n",
      "  Exposure Time: 3.202e+04 sec\n",
      " Using fit statistic: chi\n",
      " Using test statistic: chi\n",
      " No response loaded.\n",
      "\n",
      "***Warning!  One or more spectra are missing responses,\n",
      "               and are not suitable for fit.\n",
      "Response successfully loaded.\n",
      "Arf successfully loaded.\n"
     ]
    }
   ],
   "source": [
    "xspec.Xset.allowPrompting = False # keeps pyxspec from hanging, waiting for a response to a prompt\n",
    "##  The type II PHA files contain multiple spectra, and we tell Xspec to select with the \n",
    "##  curly bracket notation and the number starting from 1 (not zero):\n",
    "with sys_pipes():\n",
    "    pha = xspec.Spectrum(\"my_spectrum.fits{10}\")\n",
    "    ##  As mentioned above, this is retrieved off-line for now.\n",
    "    #pha.response=\"tgcat/obs_19792_tgid_5277/heg_1.rmf.gz\"\n",
    "    #pha.response.arf=\"tgcat/obs_19792_tgid_5277/heg_1.arf.gz\"    \n",
    "    #pha.response=\"tgcat/obs_19792_tgid_5277/meg_1.rmf.gz\"\n",
    "    #pha.response.arf=\"tgcat/obs_19792_tgid_5277/meg_1.arf.gz\"\n",
    "    pha.response=\"my_rmf.fits.gz\"\n",
    "    pha.response.arf=\"my_arf.fits.gz\""
   ]
  },
  {
   "cell_type": "code",
   "execution_count": 8,
   "metadata": {
    "collapsed": false
   },
   "outputs": [
    {
     "name": "stdout",
     "output_type": "stream",
     "text": [
      "\n",
      "========================================================================\n",
      "Model wabs<1>*powerlaw<2> + gaussian<3> Source No.: 1   Active/On\n",
      "Model Model Component  Parameter  Unit     Value\n",
      " par  comp\n",
      "   1    1   wabs       nH         10^22    1.00000      +/-  0.0          \n",
      "   2    2   powerlaw   PhoIndex            1.00000      +/-  0.0          \n",
      "   3    2   powerlaw   norm                1.00000      +/-  0.0          \n",
      "   4    3   gaussian   LineE      keV      6.50000      +/-  0.0          \n",
      "   5    3   gaussian   Sigma      keV      0.100000     +/-  0.0          \n",
      "   6    3   gaussian   norm                1.00000      +/-  0.0          \n",
      "________________________________________________________________________\n",
      "\n",
      "\n",
      "Fit statistic : Chi-Squared =   1.807228e+08 using 8192 PHA bins.\n",
      "\n",
      "Test statistic : Chi-Squared =   1.807228e+08 using 8192 PHA bins.\n",
      " Reduced chi-squared =       22077.06 for   8186 degrees of freedom \n",
      " Null hypothesis probability =   0.000000e+00\n",
      " Current data and model not fit yet.\n"
     ]
    }
   ],
   "source": [
    "with sys_pipes():\n",
    "    m = xspec.Model(\"wa*po + ga\")"
   ]
  },
  {
   "cell_type": "code",
   "execution_count": 11,
   "metadata": {
    "collapsed": false
   },
   "outputs": [
    {
     "name": "stdout",
     "output_type": "stream",
     "text": [
      "Default fit statistic is set to: C-Statistic\n",
      "   This will apply to all current and newly loaded spectra.\n",
      "\n",
      "Fit statistic : C-Statistic =        2435.78 using 8192 PHA bins and 8186 degrees of freedom.\n",
      "\n",
      "Warning: cstat statistic is only valid for Poisson data.\n",
      "    Source file is not Poisson\n",
      "\n",
      "\n",
      "Test statistic : Chi-Squared =         376.33 using 8192 PHA bins.\n",
      " Reduced chi-squared =       0.045973 for   8186 degrees of freedom \n",
      " Null hypothesis probability =   1.000000e+00\n",
      " Current data and model not fit yet.\n",
      "                                   Parameters\n",
      "C-Statistic  |beta|/N    Lvl          1:nH    2:PhoIndex        3:norm       4:LineE       5:Sigma        6:norm\n",
      "2435.6       154.946      -1      0.507987       1.25109    0.00241673       17.2532       1.85801       237.853\n",
      "2435.5       79.3858      -1      0.504190       1.24682    0.00240368       17.0112       1.80470       258.169\n",
      "2435.5       69.0702       9      0.504190       1.24682    0.00240368       17.0112       1.80470       258.169\n",
      "======================================================================\n",
      " Variances and Principal Axes\n",
      "                 1        2        3        4        5        6  \n",
      " 2.7013E-09| -0.0012  -0.0019   1.0000  -0.0000   0.0000   0.0000  \n",
      " 1.0553E-03|  0.8215  -0.5702  -0.0001  -0.0017   0.0031   0.0000  \n",
      " 8.5490E-03|  0.5683   0.8191   0.0023  -0.0150   0.0766   0.0000  \n",
      " 7.1533E-03|  0.0472   0.0621   0.0002   0.2479  -0.9656  -0.0004  \n",
      " 9.5252E-01| -0.0018  -0.0043  -0.0000   0.9687   0.2484  -0.0015  \n",
      " 2.4144E+06| -0.0000  -0.0000  -0.0000   0.0015  -0.0001   1.0000  \n",
      "----------------------------------------------------------------------\n",
      "\n",
      "========================================================================\n",
      "  Covariance Matrix\n",
      "        1           2           3           4           5           6   \n",
      "   3.502e-03   3.537e-03   1.109e-05  -9.251e-03  -8.859e-05  -4.905e+00\n",
      "   3.537e-03   6.177e-03   1.617e-05  -2.143e-02  -2.168e-04  -1.134e+01\n",
      "   1.109e-05   1.617e-05   4.730e-08  -4.774e-05  -4.720e-07  -2.528e-02\n",
      "  -9.251e-03  -2.143e-02  -4.774e-05   6.641e+00   1.765e-03   3.725e+03\n",
      "  -8.859e-05  -2.168e-04  -4.720e-07   1.765e-03   7.433e-02  -1.463e+02\n",
      "  -4.905e+00  -1.134e+01  -2.528e-02   3.725e+03  -1.463e+02   2.414e+06\n",
      "------------------------------------------------------------------------\n",
      "\n",
      "========================================================================\n",
      "Model wabs<1>*powerlaw<2> + gaussian<3> Source No.: 1   Active/On\n",
      "Model Model Component  Parameter  Unit     Value\n",
      " par  comp\n",
      "   1    1   wabs       nH         10^22    0.504190     +/-  5.91799E-02  \n",
      "   2    2   powerlaw   PhoIndex            1.24682      +/-  7.85955E-02  \n",
      "   3    2   powerlaw   norm                2.40368E-03  +/-  2.17494E-04  \n",
      "   4    3   gaussian   LineE      keV      17.0112      +/-  2.57697      \n",
      "   5    3   gaussian   Sigma      keV      1.80470      +/-  0.272642     \n",
      "   6    3   gaussian   norm                258.169      +/-  1553.84      \n",
      "________________________________________________________________________\n",
      "\n",
      "\n",
      "Fit statistic : C-Statistic =        2435.50 using 8192 PHA bins and 8186 degrees of freedom.\n",
      "\n",
      "Warning: cstat statistic is only valid for Poisson data.\n",
      "    Source file is not Poisson\n",
      "\n",
      "\n",
      "Test statistic : Chi-Squared =         376.34 using 8192 PHA bins.\n",
      " Reduced chi-squared =       0.045974 for   8186 degrees of freedom \n",
      " Null hypothesis probability =   1.000000e+00\n"
     ]
    }
   ],
   "source": [
    "with sys_pipes():\n",
    "    xspec.Fit.statMethod = \"cstat\"\n",
    "    xspec.Fit.perform()"
   ]
  },
  {
   "cell_type": "markdown",
   "metadata": {},
   "source": [
    "We can plot the results using, e.g., matplotlib:"
   ]
  },
  {
   "cell_type": "code",
   "execution_count": 12,
   "metadata": {
    "collapsed": false
   },
   "outputs": [
    {
     "data": {
      "image/png": "[encoded data removed]",
      "text/plain": [
       "<matplotlib.figure.Figure at 0x123052a50>"
      ]
     },
     "metadata": {},
     "output_type": "display_data"
    }
   ],
   "source": [
    "xspec.Plot.device = \"/nu\"\n",
    "\n",
    "ax = plt.subplot(111)\n",
    "\n",
    "from astropy.convolution import convolve, Box1DKernel\n",
    "import numpy as np\n",
    "nbins=50 # Boxcar width\n",
    "plt.rcParams['figure.figsize'] = (4, 4)\n",
    "\n",
    "## This tells xspec.Plot that you want to use energy for the x-axis; otherwise, you get channel.\n",
    "xspec.Plot.xAxis = \"keV\"\n",
    "xspec.Plot(\"data\")\n",
    "xVals = xspec.Plot.x()\n",
    "yVals = xspec.Plot.y()\n",
    "\n",
    "modVals = xspec.Plot.model()\n",
    "\n",
    "## Boxcar the data so the trend is visible:\n",
    "plotY=convolve(np.asarray(yVals),  Box1DKernel(nbins))\n",
    "plotM=convolve(np.asarray(modVals),Box1DKernel(nbins))\n",
    "\n",
    "\n",
    "plt.plot(xVals, plotY, \n",
    "         xVals, plotM\n",
    "        )\n",
    "plt.xlabel('keV')\n",
    "plt.ylabel('counts/cm^2/sec/chan')\n",
    "ax.set_yscale('log')\n",
    "ax.set_ylim([1e-3,1e-1])\n",
    "ax.set_xlim([0.5,10])\n",
    "ax.set_xscale('log')\n"
   ]
  },
  {
   "cell_type": "code",
   "execution_count": null,
   "metadata": {
    "collapsed": true
   },
   "outputs": [],
   "source": []
  }
 ],
 "metadata": {
  "anaconda-cloud": {},
  "kernelspec": {
   "display_name": "Python 2",
   "language": "python",
   "name": "python2"
  },
  "language_info": {
   "codemirror_mode": {
    "name": "ipython",
    "version": 2
   },
   "file_extension": ".py",
   "mimetype": "text/x-python",
   "name": "python",
   "nbconvert_exporter": "python",
   "pygments_lexer": "ipython2",
   "version": "2.7.12"
  }
 },
 "nbformat": 4,
 "nbformat_minor": 1
}
