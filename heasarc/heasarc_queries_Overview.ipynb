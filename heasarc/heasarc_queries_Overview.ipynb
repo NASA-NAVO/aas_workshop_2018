{
 "cells": [
  {
   "cell_type": "markdown",
   "metadata": {},
   "source": [
    "# Summary Notebook:  HEASARC access through python\n",
    "In this notebook, we go through a number of examples of accessing HEASARC data (including catalogs, images and spectra) for a specific science case using various VO protocols. This notebook presents the broad summary of available protocols. We also offer specific notebooks for these topics:  [SCS](heasarc_Cone_Search.ipynb), [SIA](heasarc_Image_Access.ipynb), [SSA](heasarc_Spectral_Access.ipynb), [TAP](heasarc_TAP_queries.ipynb), and [VOTables](heasarc_VO_Tables.ipynb).  \n",
    "\n",
    "**Sample science case**: we would like to prepare an observing proposal to target a sample of potentially interacting galaxies. There is some evidence that these types of galaxies have a higher frequency of ultraluminous X-ray binaries, and we would like to test this hypothesis in our study. Therefore, we will upload our sample list, make images, cross-correlate with HEASARC catalogs to get additional information, and produce a spectrum. \n",
    "\n",
    "The various services are described on the <a href=\"https://heasarc.gsfc.nasa.gov/docs/archive/vo/\">HEASARC VO page</a>. In summary:\n",
    "\n",
    "* <a href=\"#votable\">1. VOTable</a>: <a href=\"#votable\">Accessing</a> and <a href=\"#votable\">creating</a> VOTables\n",
    "* <a href=\"#scs\">2. SCS</a>:  Using the Simple Cone Search to query individual catalogs in a loop\n",
    "* <a href=\"#sia\">3. SIA</a>: Using the Simple Image Access protocol to find images of interest \n",
    "* <a href=\"#tap\">4. TAP</a> Using the Table Access Protocol (TAP)\n",
    " * <a href=\"#tap1\">4a. TAP1</a>: Using the Table Access Protocol to find available VO resources\n",
    " * <a href=\"#tap2\">4b. TAP2</a>: Using the TAP to cross-correlate our objects with a catalog of objects\n",
    " * <a href=\"#combo\">4c. Combining data</a> from different catalogs\n",
    "* <a href=\"#ssa\">5. SSA</a> :  Using the Simple Spectral Access protocol to retrieve spectra.\n"
   ]
  },
  {
   "cell_type": "markdown",
   "metadata": {},
   "source": [
    "## Notes:\n",
    "\n",
    "There are a number of ways to use VO services through Python. There is as yet no single standardized set of Python tools for accessing VO data. From the AstroQuery web page (https://astroquery.readthedocs.io/en/latest/):\n",
    "\n",
    "<div class=\"alert alert-block alert-info\">\"There are two other packages with complimentary functionality as Astroquery: astropy.vo is in the Astropy core and pyvo is an Astropy affiliated package. They are more oriented to general virtual observatory discovery and queries, whereas Astroquery has web service specific interfaces.\"</div>\n",
    "    \n",
    "Since the queries we generate are fairly basic, we will use the general python ``requests`` package to submit queries to the various VO services. Using ``requests`` has the benefit of not requiring installation of more specialized packages. \n",
    "  \n"
   ]
  },
  {
   "cell_type": "code",
   "execution_count": 1,
   "metadata": {},
   "outputs": [],
   "source": [
    "import matplotlib\n",
    "import matplotlib.pyplot as plt\n",
    "%matplotlib inline  \n",
    "import numpy\n",
    "## There are a number of relatively unimportant warnings that \n",
    "## show up, so for now, suppress them:\n",
    "import warnings\n",
    "warnings.filterwarnings(\"ignore\")\n",
    "## The main HTTP request tool we will use:\n",
    "import requests\n",
    "## For simple astropy tables\n",
    "import astropy\n",
    "import io\n",
    "from IPython.display import Image, display\n",
    "\n",
    "## For handling ordinary astropy Tables\n",
    "from astropy.table import Table\n",
    "\n",
    "## For handling VO table type objects\n",
    "from astropy.io import votable as apvot\n",
    "\n",
    "## For reading FITS files\n",
    "import astropy.io.fits as apfits"
   ]
  },
  {
   "cell_type": "markdown",
   "metadata": {},
   "source": [
    "<a id=\"votable\"></a>\n",
    "# 1. VOTable:  working with VO Table objects\n"
   ]
  },
  {
   "cell_type": "markdown",
   "metadata": {},
   "source": [
    "The __[IVOA TAP document](http://www.ivoa.net/documents/TAP/20100327/REC-TAP-1.0.html)__ describes the Table Access Protocol (TAP) that consist of an HTTP request to a given TAP service URL formed in a particular language (ADQL in this case) to specify what you wish to search for. \n",
    "\n",
    "In this example, we show how to list, fetch and look at VO tables from the HEASARC archive and also how to create your own VO Table, which can be used to cross-correlate with other VO Tables (see examples [4a](#tap1) and [4b](#tap2) below). \n",
    "\n",
    "See the notebook dedicated to [Using VOTables](heasarc_VO_Tables.ipynb) for more details."
   ]
  },
  {
   "cell_type": "markdown",
   "metadata": {},
   "source": [
    "\n",
    "\n",
    "<a id=\"votable1\"></a>\n",
    "\n",
    "## 1.1 Retrieving a catalog as a VO Table\n",
    "\n",
    "We can use W3Browse to get a HEASARC catalog as a VOTable object.  W3Browse can be used to retrieve tables in a number of formats, one of which is a VO Table.  \n",
    "\n",
    "The python ``requests`` package is a generic interface to web services.  The requests.get() method formats the given parameters for you and returns the results of the HTTP request in a useful object.  In this case, the result is a string containing the VOTable result.  The standard ``astropy.table`` package can read these.\n",
    "\n",
    "So here, we'll retrieve the ``rosmaster`` catalog, which has 11k lines, and just look at the first 5:"
   ]
  },
  {
   "cell_type": "code",
   "execution_count": 2,
   "metadata": {},
   "outputs": [],
   "source": [
    "params = {'name': 'rosmaster'}\n",
    "r = requests.get('http://heasarc.gsfc.nasa.gov/cgi-bin/W3Browse/getvotable.pl', params=params)"
   ]
  },
  {
   "cell_type": "code",
   "execution_count": 3,
   "metadata": {},
   "outputs": [],
   "source": [
    "table=Table.read(io.BytesIO(r.content))"
   ]
  },
  {
   "cell_type": "code",
   "execution_count": 4,
   "metadata": {
    "scrolled": true
   },
   "outputs": [
    {
     "data": {
      "text/html": [
       "&lt;Table masked=True length=11&gt;\n",
       "<table id=\"table4433435344\" class=\"table-striped table-bordered table-condensed\">\n",
       "<thead><tr><th>col1</th><th>col2</th><th>col3</th><th>col4</th><th>col5</th><th>col6</th><th>col7</th><th>col8</th><th>col9</th><th>col10</th><th>col11</th><th>col12</th><th>col13</th><th>col14</th><th>col15</th><th>col16</th><th>col17</th><th>col18</th><th>col19</th><th>col20</th><th>col21</th><th>col22</th><th>col23</th><th>col24</th><th>col25</th><th>col26</th><th>col27</th><th>col28</th></tr></thead>\n",
       "<thead><tr><th></th><th>deg</th><th>deg</th><th>deg</th><th>deg</th><th></th><th></th><th></th><th>s</th><th>s</th><th></th><th>MJD</th><th>MJD</th><th></th><th></th><th></th><th></th><th></th><th></th><th></th><th></th><th></th><th></th><th></th><th>deg</th><th>d</th><th>d</th><th></th></tr></thead>\n",
       "<thead><tr><th>str16</th><th>float64</th><th>float64</th><th>float64</th><th>float64</th><th>str6</th><th>str2</th><th>str4</th><th>int32</th><th>int32</th><th>str10</th><th>float64</th><th>float64</th><th>str20</th><th>str16</th><th>str14</th><th>int32</th><th>str4</th><th>int16</th><th>int16</th><th>str120</th><th>int32</th><th>int16</th><th>int32</th><th>int16</th><th>int32</th><th>int32</th><th>int16</th></tr></thead>\n",
       "<tr><td>RH202299N00</td><td>49.3200</td><td>-85.5400</td><td>299.8517</td><td>-30.6815</td><td>HRI</td><td>N</td><td>MPE</td><td>36146</td><td>70000</td><td>RDF 4_2</td><td>50174.496192129598</td><td>50187.986747685201</td><td>RE J0317-853</td><td>BURLEIGH</td><td>MATTHEW</td><td>202299</td><td>n00</td><td>2</td><td>2</td><td>RE J0317-853</td><td>24302</td><td>6</td><td>7128</td><td>307</td><td>2163</td><td>2177</td><td>2900</td></tr>\n",
       "<tr><td>RH202299A01</td><td>49.3200</td><td>-85.5400</td><td>299.8517</td><td>-30.6815</td><td>HRI</td><td>N</td><td>MPE</td><td>43683</td><td>70000</td><td>RDF 3_6</td><td>50324.742534722202</td><td>50377.477592592601</td><td>RE J0317-853</td><td>BURLEIGH</td><td>MATTHEW</td><td>202299</td><td>a01</td><td>2</td><td>2</td><td>RE J0317-853</td><td>24301</td><td>6</td><td>7128</td><td>162</td><td>2316</td><td>2369</td><td>2900</td></tr>\n",
       "<tr><td>RP200594N00</td><td>151.8800</td><td>-85.0800</td><td>299.4192</td><td>-23.3707</td><td>PSPCB</td><td>N</td><td>MPE</td><td>4231</td><td>5000</td><td>RDF 3_4</td><td>48682.1389583333</td><td>48690.983333333301</td><td>HD 89499</td><td>FLEMING</td><td>THOMAS</td><td>200594</td><td>n00</td><td>2</td><td>2</td><td>HD 89499</td><td>17171</td><td>2</td><td>3532</td><td>66</td><td>648</td><td>657</td><td>2900</td></tr>\n",
       "<tr><td>RH201328N00</td><td>107.9100</td><td>-84.4700</td><td>296.7740</td><td>-26.5072</td><td>HRI</td><td>N</td><td>MPE</td><td>2332</td><td>2000</td><td>RDF 3_4</td><td>48880.838020833296</td><td>48881.780729166698</td><td>HD 60102 AB</td><td>ZINNECKER</td><td>HANS</td><td>201328</td><td>n00</td><td>2</td><td>2</td><td>HD 60102 AB</td><td>22560</td><td>3</td><td>4268</td><td>215</td><td>850</td><td>851</td><td>2900</td></tr>\n",
       "<tr><td>RH400876A01</td><td>193.9400</td><td>-83.3700</td><td>303.0651</td><td>-20.4994</td><td>HRI</td><td>N</td><td>GSFC</td><td>19075</td><td>20000</td><td>RDF 4_2</td><td>50702.423530092601</td><td>50735.172557870399</td><td>2EG J1248-8306 POS 3</td><td>HALPERN</td><td>JULES</td><td>400876</td><td>a01</td><td>4</td><td>2</td><td>2EG J1248-8306 POS 3</td><td>25116</td><td>7</td><td>2460</td><td>299</td><td>2699</td><td>2733</td><td>9999</td></tr>\n",
       "<tr><td>RH400876N00</td><td>193.9400</td><td>-83.3700</td><td>303.0651</td><td>-20.4994</td><td>HRI</td><td>N</td><td>GSFC</td><td>1059</td><td>20000</td><td>RDF 4_0</td><td>50548.2425</td><td>50548.255474537</td><td>2EG J1248-8306 POS 3</td><td>HALPERN</td><td>JULES</td><td>400876</td><td>n00</td><td>4</td><td>2</td><td>2EG J1248-8306 POS 3</td><td>19808</td><td>7</td><td>2460</td><td>85</td><td>2543</td><td>2543</td><td>9999</td></tr>\n",
       "<tr><td>RH400877A02</td><td>190.1700</td><td>-83.3600</td><td>302.6001</td><td>-20.4952</td><td>HRI</td><td>N</td><td>GSFC</td><td>19384</td><td>20000</td><td>RDF 4_2</td><td>50893.248460648101</td><td>50895.138969907399</td><td>2EG J1248-8306 POS 4</td><td>HALPERN</td><td>JULES</td><td>400877</td><td>a02</td><td>4</td><td>2</td><td>2EG J1248-8306 POS 4</td><td>24927</td><td>7</td><td>2460</td><td>90</td><td>2893</td><td>2895</td><td>9999</td></tr>\n",
       "<tr><td>RH400877A01</td><td>190.1700</td><td>-83.3600</td><td>302.6001</td><td>-20.4952</td><td>HRI</td><td>N</td><td>GSFC</td><td>2363</td><td>20000</td><td>RDF 4_2</td><td>50735.5647916667</td><td>50735.574120370402</td><td>2EG J1248-8306 POS 4</td><td>HALPERN</td><td>JULES</td><td>400877</td><td>a01</td><td>4</td><td>2</td><td>2EG J1248-8306 POS 4</td><td>25115</td><td>7</td><td>2460</td><td>260</td><td>2733</td><td>2733</td><td>9999</td></tr>\n",
       "<tr><td>RH400877N00</td><td>190.1700</td><td>-83.3600</td><td>302.6001</td><td>-20.4952</td><td>HRI</td><td>N</td><td>GSFC</td><td>1250</td><td>20000</td><td>RDF 4_0</td><td>50548.770254629599</td><td>50548.785879629599</td><td>2EG J1248-8306 POS 4</td><td>HALPERN</td><td>JULES</td><td>400877</td><td>n00</td><td>4</td><td>2</td><td>2EG J1248-8306 POS 4</td><td>19809</td><td>7</td><td>2460</td><td>81</td><td>2543</td><td>2543</td><td>9999</td></tr>\n",
       "<tr><td>RH400874N00</td><td>193.9400</td><td>-82.9200</td><td>303.0737</td><td>-20.0494</td><td>HRI</td><td>N</td><td>GSFC</td><td>1177</td><td>20000</td><td>RDF 4_0</td><td>50543.865555555603</td><td>50543.8800694444</td><td>2EG J1248-8306 POS 1</td><td>HALPERN</td><td>JULES</td><td>400874</td><td>n00</td><td>4</td><td>2</td><td>2EG J1248-8306 POS 1</td><td>19651</td><td>7</td><td>2460</td><td>89</td><td>2538</td><td>2538</td><td>9999</td></tr>\n",
       "<tr><td>RH400874A01</td><td>193.9400</td><td>-82.9200</td><td>303.0737</td><td>-20.0494</td><td>HRI</td><td>N</td><td>GSFC</td><td>14497</td><td>20000</td><td>RDF 4_2</td><td>50728.866550925901</td><td>50732.658148148097</td><td>2EG J1248-8306 POS 1</td><td>HALPERN</td><td>JULES</td><td>400874</td><td>a01</td><td>4</td><td>2</td><td>2EG J1248-8306 POS 1</td><td>24637</td><td>7</td><td>2460</td><td>269</td><td>2726</td><td>2730</td><td>9999</td></tr>\n",
       "</table>"
      ],
      "text/plain": [
       "<Table masked=True length=11>\n",
       "    col1      col2     col3     col4     col5   ... col25 col26 col27 col28\n",
       "              deg      deg      deg      deg    ...  deg    d     d        \n",
       "   str16    float64  float64  float64  float64  ... int16 int32 int32 int16\n",
       "----------- -------- -------- -------- -------- ... ----- ----- ----- -----\n",
       "RH202299N00  49.3200 -85.5400 299.8517 -30.6815 ...   307  2163  2177  2900\n",
       "RH202299A01  49.3200 -85.5400 299.8517 -30.6815 ...   162  2316  2369  2900\n",
       "RP200594N00 151.8800 -85.0800 299.4192 -23.3707 ...    66   648   657  2900\n",
       "RH201328N00 107.9100 -84.4700 296.7740 -26.5072 ...   215   850   851  2900\n",
       "RH400876A01 193.9400 -83.3700 303.0651 -20.4994 ...   299  2699  2733  9999\n",
       "RH400876N00 193.9400 -83.3700 303.0651 -20.4994 ...    85  2543  2543  9999\n",
       "RH400877A02 190.1700 -83.3600 302.6001 -20.4952 ...    90  2893  2895  9999\n",
       "RH400877A01 190.1700 -83.3600 302.6001 -20.4952 ...   260  2733  2733  9999\n",
       "RH400877N00 190.1700 -83.3600 302.6001 -20.4952 ...    81  2543  2543  9999\n",
       "RH400874N00 193.9400 -82.9200 303.0737 -20.0494 ...    89  2538  2538  9999\n",
       "RH400874A01 193.9400 -82.9200 303.0737 -20.0494 ...   269  2726  2730  9999"
      ]
     },
     "execution_count": 4,
     "metadata": {},
     "output_type": "execute_result"
    }
   ],
   "source": [
    "#table.show_in_notebook(display_length=11) # print only the first 11 of the 11k rows.\n",
    "table[:11]"
   ]
  },
  {
   "cell_type": "markdown",
   "metadata": {
    "collapsed": true
   },
   "source": [
    "<a id=\"votable2\"></a>\n",
    "## 1.2 Creating a VO Table from scratch"
   ]
  },
  {
   "cell_type": "markdown",
   "metadata": {},
   "source": [
    "Alternatively, we can create a table from scratch using an array of values.  \n",
    "\n",
    "There are several ways of doing this, and there are a few object layers here, which can be confusing.  There are standard astropy Table objects, there are votable Table objects, and there are votable VOTableFile objects that might contain multiple votable Tables. Though some things can be done with generic astropy Tables, other VO operations can only be done with VO Tables or VOTableFile objects.  \n",
    "\n",
    "This is easiest to see in an example. In the following we create an astropy Table of RA and Dec values:"
   ]
  },
  {
   "cell_type": "code",
   "execution_count": 5,
   "metadata": {},
   "outputs": [
    {
     "name": "stdout",
     "output_type": "stream",
     "text": [
      "Table type is <class 'astropy.table.table.Table'>\n"
     ]
    },
    {
     "data": {
      "text/html": [
       "&lt;Table length=22&gt;\n",
       "<table id=\"table4466068688-950898\" class=\"table-striped table-bordered table-condensed\">\n",
       "<thead><tr><th>idx</th><th>RA</th><th>DEC</th></tr></thead>\n",
       "<tr><td>0</td><td>19.0186</td><td>46.7304</td></tr>\n",
       "<tr><td>1</td><td>20.2887</td><td>40.4703</td></tr>\n",
       "<tr><td>2</td><td>125.8860</td><td>21.3377</td></tr>\n",
       "<tr><td>3</td><td>136.0020</td><td>21.9679</td></tr>\n",
       "<tr><td>4</td><td>141.0570</td><td>40.6372</td></tr>\n",
       "<tr><td>5</td><td>146.7000</td><td>22.0116</td></tr>\n",
       "<tr><td>6</td><td>148.7850</td><td>14.2922</td></tr>\n",
       "<tr><td>7</td><td>149.7510</td><td>17.8168</td></tr>\n",
       "<tr><td>8</td><td>175.0390</td><td>15.3270</td></tr>\n",
       "<tr><td>9</td><td>191.5420</td><td>30.7317</td></tr>\n",
       "<tr><td>10</td><td>194.9130</td><td>28.8959</td></tr>\n",
       "<tr><td>11</td><td>199.0260</td><td>41.5011</td></tr>\n",
       "<tr><td>12</td><td>206.5770</td><td>43.8511</td></tr>\n",
       "<tr><td>13</td><td>209.9630</td><td>38.1821</td></tr>\n",
       "<tr><td>14</td><td>213.5560</td><td>15.6214</td></tr>\n",
       "<tr><td>15</td><td>219.9670</td><td>42.7421</td></tr>\n",
       "<tr><td>16</td><td>226.6930</td><td>12.8502</td></tr>\n",
       "<tr><td>17</td><td>237.4890</td><td>20.8057</td></tr>\n",
       "<tr><td>18</td><td>241.5190</td><td>20.8014</td></tr>\n",
       "<tr><td>19</td><td>317.0880</td><td>18.2002</td></tr>\n",
       "<tr><td>20</td><td>329.2350</td><td>6.6485</td></tr>\n",
       "<tr><td>21</td><td>333.8300</td><td>37.3012</td></tr>\n",
       "</table><style>table.dataTable {clear: both; width: auto !important; margin: 0 !important;}\n",
       ".dataTables_info, .dataTables_length, .dataTables_filter, .dataTables_paginate{\n",
       "display: inline-block; margin-right: 1em; }\n",
       ".paginate_button { margin-right: 5px; }\n",
       "</style>\n",
       "<script>\n",
       "\n",
       "var astropy_sort_num = function(a, b) {\n",
       "    var a_num = parseFloat(a);\n",
       "    var b_num = parseFloat(b);\n",
       "\n",
       "    if (isNaN(a_num) && isNaN(b_num))\n",
       "        return ((a < b) ? -1 : ((a > b) ? 1 : 0));\n",
       "    else if (!isNaN(a_num) && !isNaN(b_num))\n",
       "        return ((a_num < b_num) ? -1 : ((a_num > b_num) ? 1 : 0));\n",
       "    else\n",
       "        return isNaN(a_num) ? -1 : 1;\n",
       "}\n",
       "\n",
       "require.config({paths: {\n",
       "    datatables: 'https://cdn.datatables.net/1.10.12/js/jquery.dataTables.min'\n",
       "}});\n",
       "require([\"datatables\"], function(){\n",
       "    console.log(\"$('#table4466068688-950898').dataTable()\");\n",
       "    \n",
       "jQuery.extend( jQuery.fn.dataTableExt.oSort, {\n",
       "    \"optionalnum-asc\": astropy_sort_num,\n",
       "    \"optionalnum-desc\": function (a,b) { return -astropy_sort_num(a, b); }\n",
       "});\n",
       "\n",
       "    $('#table4466068688-950898').dataTable({\n",
       "        order: [],\n",
       "        pageLength: 50,\n",
       "        lengthMenu: [[10, 25, 50, 100, 500, 1000, -1], [10, 25, 50, 100, 500, 1000, 'All']],\n",
       "        pagingType: \"full_numbers\",\n",
       "        columnDefs: [{targets: [0, 1, 2], type: \"optionalnum\"}]\n",
       "    });\n",
       "});\n",
       "</script>\n"
      ],
      "text/plain": [
       "<IPython.core.display.HTML object>"
      ]
     },
     "execution_count": 5,
     "metadata": {},
     "output_type": "execute_result"
    }
   ],
   "source": [
    "##  Create a table with only two columns starting from an astropy Table:  \n",
    "from astropy.table import Table as apTable\n",
    "aptable=apTable(\n",
    "    numpy.array([\n",
    "            [19.0186,       46.7304],\n",
    "            [20.2887,       40.4703],\n",
    "            [125.886,       21.3377],\n",
    "            [136.002,       21.9679],\n",
    "            [141.057,       40.6372],\n",
    "            [146.700,       22.0116],\n",
    "            [148.785,       14.2922],\n",
    "            [149.751,       17.8168],\n",
    "            [175.039,       15.3270],\n",
    "            [191.542,       30.7317],\n",
    "            [194.913,       28.8959],\n",
    "            [199.026,       41.5011],\n",
    "            [206.577,       43.8511],\n",
    "            [209.963,       38.1821],\n",
    "            [213.556,       15.6214],\n",
    "            [219.967,       42.7421],\n",
    "            [226.693,       12.8502],\n",
    "            [237.489,       20.8057],\n",
    "            [241.519,       20.8014],\n",
    "            [317.088,       18.2002],\n",
    "            [329.235,       6.64845],\n",
    "            [333.830,       37.3012] ]), \n",
    "    names=[\"RA\",\"DEC\"])\n",
    "print(\"Table type is {ttype}\".format(ttype=type(aptable)))\n",
    "aptable['RA'].format=\".4f\"\n",
    "aptable['DEC'].format=\".4f\"\n",
    "aptable.show_in_notebook()\n",
    "\n"
   ]
  },
  {
   "cell_type": "markdown",
   "metadata": {},
   "source": [
    "## 1.3 Converting to a VOTableFile instance"
   ]
  },
  {
   "cell_type": "code",
   "execution_count": 6,
   "metadata": {},
   "outputs": [
    {
     "name": "stdout",
     "output_type": "stream",
     "text": [
      "<class 'astropy.io.votable.tree.VOTableFile'>\n",
      "<class 'astropy.io.votable.tree.Table'>\n",
      "        RA                DEC        \n",
      "------------------ ------------------\n",
      "19.018599999999999 46.730400000000003\n",
      "20.288699999999999 40.470300000000002\n",
      "           125.886 21.337700000000002\n",
      "136.00200000000001            21.9679\n",
      "141.05699999999999            40.6372\n",
      "146.69999999999999 22.011600000000001\n",
      "           148.785 14.292199999999999\n",
      "           149.751 17.816800000000001\n",
      "175.03899999999999             15.327\n",
      "           191.542            30.7317\n",
      "194.91300000000001 28.895900000000001\n",
      "199.02600000000001 41.501100000000001\n",
      "           206.577 43.851100000000002\n",
      "209.96299999999999 38.182099999999998\n",
      "213.55600000000001            15.6214\n",
      "219.96700000000001 42.742100000000001\n",
      "226.69300000000001 12.850199999999999\n",
      "           237.489 20.805700000000002\n",
      "241.51900000000001 20.801400000000001\n",
      "317.08800000000002 18.200199999999999\n",
      "329.23500000000001 6.6484500000000004\n",
      "333.82999999999998 37.301200000000001\n"
     ]
    }
   ],
   "source": [
    "## Then convert this to a VOTableFile object.\n",
    "votablefile = apvot.from_table(aptable)\n",
    "print(type(votablefile))\n",
    "## Which contains a nested set of RESOURCES\n",
    "for r in votablefile.resources:\n",
    "    ## And tables (in this case, only one of each)\n",
    "    mytable=r\n",
    "    for t in r.tables:\n",
    "        print(type(t))\n",
    "        print(t)\n"
   ]
  },
  {
   "cell_type": "markdown",
   "metadata": {},
   "source": [
    "<a id=\"scs\"></a>\n",
    "# 2. SCS:  Using the Simple Cone Search to query a different catalog in a loop\n",
    "The __[Simple Cone Search (SCS) protocol](http://www.ivoa.net/documents/latest/ConeSearch.html)__ is used to search a given table with a given position and radius, getting again a VOTable XML result.  See also the notebook on [using SCS](heasarc_Cone_Search.ipynb) for more details.  \n",
    "\n",
    "In our science example, <i> we might want to search for available information for the source in the table created above in different HEASARC catalogs.</i> For example, suppose we were considering proposing for observing time with Chandra. Let's check first to see whether any of our sources were already observed by Chandra, XMM or ROSAT. \n",
    "\n",
    "Below, we show the search of the table 'chanmaster', the master catalog of observed Chandra targets, with a search radius of 0.1 degrees. "
   ]
  },
  {
   "cell_type": "markdown",
   "metadata": {},
   "source": [
    "<a id=\"scs1\"></a>\n",
    "The SCS protocol is quite straightforward.  The ``params`` dictionary should specify the ``RA`` and ``Dec`` for the source of interest, a search radius ``SR`` in degrees, along with the ``table`` to be queried.  An example is shown below where we loop through the first five positions specified in our source table (``aptable``) created above"
   ]
  },
  {
   "cell_type": "code",
   "execution_count": 7,
   "metadata": {},
   "outputs": [
    {
     "name": "stdout",
     "output_type": "stream",
     "text": [
      "Source RA, Dec =(19.0186, 46.7304)\n",
      "No Chandra Observation within 0.1 degrees\n",
      "\n",
      "\n",
      "Source RA, Dec =(20.2887, 40.4703)\n",
      "No Chandra Observation within 0.1 degrees\n",
      "\n",
      "\n",
      "Source RA, Dec =(125.886, 21.3377)\n",
      "obsid  status      ra      dec    exposure Search_Offset\n",
      "                  deg      deg       s                  \n",
      "----- -------- --------- -------- -------- -------------\n",
      " 7937 archived 125.81833 21.38608    30030        4.7670\n",
      "\n",
      "\n",
      "Source RA, Dec =(136.002, 21.9679)\n",
      "No Chandra Observation within 0.1 degrees\n",
      "\n",
      "\n",
      "Source RA, Dec =(141.057, 40.6372)\n",
      "No Chandra Observation within 0.1 degrees\n",
      "\n",
      "\n",
      "End of Chanmaster Search\n",
      "\n"
     ]
    }
   ],
   "source": [
    "SR=0.1\n",
    "for row in aptable[:5]:\n",
    "    params = {'table': 'chanmaster', 'RA': row['RA'], 'DEC':row['DEC'], 'SR':SR}\n",
    "    r = requests.get('https://heasarc.gsfc.nasa.gov/cgi-bin/vo/cone/coneGet.pl', params=params)\n",
    "    table=Table.read(io.BytesIO(r.content))\n",
    "    print \"Source RA, Dec =({ra}, {dec})\".format(ra=row['RA'], dec=row['DEC'])\n",
    "    if len(table) > 0:\n",
    "        #print \"Source RA, Dec =({ra}, {dec})\".format(ra=row['RA'], dec=row['DEC'])\n",
    "        print(table['obsid','status','ra','dec','exposure','Search_Offset'])\n",
    "        print(\"\\n\")\n",
    "    else:\n",
    "        #print \"Source RA, Dec =({ra}, {dec})\".format(ra=row['RA'], dec=row['DEC'])\n",
    "        print(\"No Chandra Observation within {sr} degrees\".format(sr=SR))\n",
    "        print(\"\\n\")\n",
    "print \"End of Chanmaster Search\\n\"\n",
    "    "
   ]
  },
  {
   "cell_type": "raw",
   "metadata": {},
   "source": [
    "# original code\n",
    "\n",
    "for i in range(len(aptable)):\n",
    "    params = {'table': 'chanmaster', 'RA': aptable[i]['RA'], 'DEC':aptable[i]['DEC'], 'SR':0.1}\n",
    "    r = requests.get('https://heasarc.gsfc.nasa.gov/cgi-bin/vo/cone/coneGet.pl', params=params)\n",
    "    table=Table.read(io.BytesIO(r.content))\n",
    "    if len(table) > 0:\n",
    "        print(table)\n",
    "               "
   ]
  },
  {
   "cell_type": "markdown",
   "metadata": {},
   "source": [
    "<a id=\"sia\"></a>\n",
    "# 3. SIA:  Using the Simple Image Access protocol.\n"
   ]
  },
  {
   "cell_type": "markdown",
   "metadata": {},
   "source": [
    "The __[HEASARC VO](https://heasarc.gsfc.nasa.gov/docs/archive/vo/instructions.html#_accessing)__ page describes how to access SkyView images with the SIA protocol. See also the dedicated notebook on [using SIA](heasarc_Image_Access.ipynb).  \n",
    "\n",
    "But first, how do you know what sorts of images are available?"
   ]
  },
  {
   "cell_type": "markdown",
   "metadata": {},
   "source": [
    "## 3.1:  Finding SkyView SIA resources from the NAVO directory with TAP\n",
    "\n",
    "SIA resources available through SkyView are listed in a registry at STScI which we can access through the __[IVOA Table Access Protocol](http://www.ivoa.net/documents/TAP/20100327/REC-TAP-1.0.html)__ (TAP). We submit an HTTP request to a given TAP service URL formed in a particular language ([ADQL](http://www.ivoa.net/documents/ADQL/2.0) in this case) to specify what we wish to search for, in this case the HEASARC SIA resources: "
   ]
  },
  {
   "cell_type": "markdown",
   "metadata": {},
   "source": [
    "### !!!Not obvious how this query is constructed, or what a user would need to do to convert it to another search if needed.\n",
    "\n",
    "Can we add some notes to explain what the various query statements mean, and how they're defined?"
   ]
  },
  {
   "cell_type": "code",
   "execution_count": 8,
   "metadata": {},
   "outputs": [
    {
     "data": {
      "text/html": [
       "&lt;Table masked=True length=108&gt;\n",
       "<table id=\"table4433872464-616332\" class=\"table-striped table-bordered table-condensed\">\n",
       "<thead><tr><th>idx</th><th>short_name</th><th>ivoid</th></tr></thead>\n",
       "<tr><td>0</td><td>1420MHz</td><td>ivo://nasa.heasarc/skyview/1420mhz</td></tr>\n",
       "<tr><td>1</td><td>2MASS</td><td>ivo://nasa.heasarc/skyview/2mass</td></tr>\n",
       "<tr><td>2</td><td>408MHz</td><td>ivo://nasa.heasarc/skyview/408mhz</td></tr>\n",
       "<tr><td>3</td><td>AKARI</td><td>ivo://nasa.heasarc/skyview/akari</td></tr>\n",
       "<tr><td>4</td><td>ASCA</td><td>ivo://nasa.heasarc/ascamaster</td></tr>\n",
       "<tr><td>5</td><td>ASCA/AGN</td><td>ivo://nasa.heasarc/tartarus</td></tr>\n",
       "<tr><td>6</td><td>ASCASIS</td><td>ivo://nasa.heasarc/ascasis</td></tr>\n",
       "<tr><td>7</td><td>BAT-flux-1</td><td>ivo://nasa.heasarc/skyview/bat-flux-1</td></tr>\n",
       "<tr><td>8</td><td>BATSIG</td><td>ivo://nasa.heasarc/skyview/batsig</td></tr>\n",
       "<tr><td>9</td><td>CDFS-LESS</td><td>ivo://nasa.heasarc/skyview/cdfs-less</td></tr>\n",
       "<tr><td>10</td><td>CFHTLS-D-u</td><td>ivo://nasa.heasarc/skyview/cfhtls-d-u</td></tr>\n",
       "<tr><td>11</td><td>CFHTLS-W-u</td><td>ivo://nasa.heasarc/skyview/cfhtls-w-u</td></tr>\n",
       "<tr><td>12</td><td>Chandra</td><td>ivo://nasa.heasarc/chanmaster</td></tr>\n",
       "<tr><td>13</td><td>CO</td><td>ivo://nasa.heasarc/skyview/co</td></tr>\n",
       "<tr><td>14</td><td>COBE</td><td>ivo://nasa.heasarc/skyview/cobe</td></tr>\n",
       "<tr><td>15</td><td>Comptel</td><td>ivo://nasa.heasarc/skyview/comptel</td></tr>\n",
       "<tr><td>16</td><td>DSS</td><td>ivo://nasa.heasarc/skyview/dss</td></tr>\n",
       "<tr><td>17</td><td>DSS1B</td><td>ivo://nasa.heasarc/skyview/dss1b</td></tr>\n",
       "<tr><td>18</td><td>DSS1R</td><td>ivo://nasa.heasarc/skyview/dss1r</td></tr>\n",
       "<tr><td>19</td><td>DSS2</td><td>ivo://nasa.heasarc/skyview/dss2</td></tr>\n",
       "<tr><td>20</td><td>EBHIS</td><td>ivo://nasa.heasarc/skyview/ebhis</td></tr>\n",
       "<tr><td>21</td><td>EGRET</td><td>ivo://nasa.heasarc/skyview/egret</td></tr>\n",
       "<tr><td>22</td><td>EGRET3D</td><td>ivo://nasa.heasarc/skyview/egret3d</td></tr>\n",
       "<tr><td>23</td><td>EUVE</td><td>ivo://nasa.heasarc/skyview/euve</td></tr>\n",
       "<tr><td>24</td><td>FERMI</td><td>ivo://nasa.heasarc/skyview/fermi</td></tr>\n",
       "<tr><td>25</td><td>FIRST</td><td>ivo://nasa.heasarc/skyview/first</td></tr>\n",
       "<tr><td>26</td><td>GALEX</td><td>ivo://nasa.heasarc/skyview/galex</td></tr>\n",
       "<tr><td>27</td><td>GalexFar</td><td>ivo://nasa.heasarc/skyview/galexfar</td></tr>\n",
       "<tr><td>28</td><td>GalexNear</td><td>ivo://nasa.heasarc/skyview/galexnear</td></tr>\n",
       "<tr><td>29</td><td>GNS</td><td>ivo://nasa.heasarc/skyview/gns</td></tr>\n",
       "<tr><td>30</td><td>GOODS-ACS</td><td>ivo://nasa.heasarc/skyview/goods-acs</td></tr>\n",
       "<tr><td>31</td><td>GOODS-ACS B</td><td>ivo://nasa.heasarc/skyview/goods-acs-b</td></tr>\n",
       "<tr><td>32</td><td>GOODS-ISAAC</td><td>ivo://nasa.heasarc/skyview/goods-isaac</td></tr>\n",
       "<tr><td>33</td><td>GOODS-ISAAC H</td><td>ivo://nasa.heasarc/skyview/goods-isaac-h</td></tr>\n",
       "<tr><td>34</td><td>GOODS-VIMOS</td><td>ivo://nasa.heasarc/skyview/goods-vimos</td></tr>\n",
       "<tr><td>35</td><td>GOODS-VIMOS R</td><td>ivo://nasa.heasarc/skyview/goods-vimos-r</td></tr>\n",
       "<tr><td>36</td><td>GOODSACISB</td><td>ivo://nasa.heasarc/skyview/goodsacisb</td></tr>\n",
       "<tr><td>37</td><td>GOODSACISFB</td><td>ivo://nasa.heasarc/skyview/goodsacisfb</td></tr>\n",
       "<tr><td>38</td><td>GOODSHerschel1</td><td>ivo://nasa.heasarc/skyview/goodsherschel1</td></tr>\n",
       "<tr><td>39</td><td>GOODSHerschel2</td><td>ivo://nasa.heasarc/skyview/goodsherschel2</td></tr>\n",
       "<tr><td>40</td><td>GOODSHerschel3</td><td>ivo://nasa.heasarc/skyview/goodsherschel3</td></tr>\n",
       "<tr><td>41</td><td>GOODSHerschel4</td><td>ivo://nasa.heasarc/skyview/goodsherschel4</td></tr>\n",
       "<tr><td>42</td><td>GOODSHerschel5</td><td>ivo://nasa.heasarc/skyview/goodsherschel5</td></tr>\n",
       "<tr><td>43</td><td>GOODSIRAC</td><td>ivo://nasa.heasarc/skyview/goodsirac</td></tr>\n",
       "<tr><td>44</td><td>GOODSIRAC-1</td><td>ivo://nasa.heasarc/skyview/goodsirac-1</td></tr>\n",
       "<tr><td>45</td><td>GOODSMIPS</td><td>ivo://nasa.heasarc/skyview/goodsmips</td></tr>\n",
       "<tr><td>46</td><td>GOODSNVLA</td><td>ivo://nasa.heasarc/skyview/goodsnvla</td></tr>\n",
       "<tr><td>47</td><td>GRANAT</td><td>ivo://nasa.heasarc/skyview/granat</td></tr>\n",
       "<tr><td>48</td><td>GTEE</td><td>ivo://nasa.heasarc/skyview/gtee</td></tr>\n",
       "<tr><td>49</td><td>HAlpha</td><td>ivo://nasa.heasarc/skyview/halpha</td></tr>\n",
       "<tr><td>50</td><td>Hawaii-HDF</td><td>ivo://nasa.heasarc/skyview/hawaii-hdf</td></tr>\n",
       "<tr><td>51</td><td>Hawaii-HDF B</td><td>ivo://nasa.heasarc/skyview/hawaii-hdf-b</td></tr>\n",
       "<tr><td>52</td><td>HEAO1A</td><td>ivo://nasa.heasarc/skyview/heao1a</td></tr>\n",
       "<tr><td>53</td><td>HERSCHEL-SPIRE</td><td>ivo://nasa.heasarc/skyview/herschel-spire</td></tr>\n",
       "<tr><td>54</td><td>HI4PI</td><td>ivo://nasa.heasarc/skyview/hi4pi</td></tr>\n",
       "<tr><td>55</td><td>HRI</td><td>ivo://nasa.heasarc/skyview/hri</td></tr>\n",
       "<tr><td>56</td><td>HUDFISAAC</td><td>ivo://nasa.heasarc/skyview/hudfisaac</td></tr>\n",
       "<tr><td>57</td><td>INTEGRALSPI_gc</td><td>ivo://nasa.heasarc/skyview/integralspi_gc</td></tr>\n",
       "<tr><td>58</td><td>INTGAL</td><td>ivo://nasa.heasarc/skyview/intgal</td></tr>\n",
       "<tr><td>59</td><td>INTGAL1735E</td><td>ivo://nasa.heasarc/skyview/intgal1735e</td></tr>\n",
       "<tr><td>60</td><td>IRAS</td><td>ivo://nasa.heasarc/skyview/iras</td></tr>\n",
       "<tr><td>61</td><td>IRIS</td><td>ivo://nasa.heasarc/skyview/iris</td></tr>\n",
       "<tr><td>62</td><td>MELLINGER</td><td>ivo://nasa.heasarc/skyview/mellinger</td></tr>\n",
       "<tr><td>63</td><td>NEAT</td><td>ivo://nasa.heasarc/skyview/neat</td></tr>\n",
       "<tr><td>64</td><td>nH</td><td>ivo://nasa.heasarc/skyview/nh</td></tr>\n",
       "<tr><td>65</td><td>NUMASTER</td><td>ivo://nasa.heasarc/numaster</td></tr>\n",
       "<tr><td>66</td><td>NVSS</td><td>ivo://nasa.heasarc/skyview/nvss</td></tr>\n",
       "<tr><td>67</td><td>Planck</td><td>ivo://nasa.heasarc/skyview/planck</td></tr>\n",
       "<tr><td>68</td><td>Planck030</td><td>ivo://nasa.heasarc/skyview/planck030</td></tr>\n",
       "<tr><td>69</td><td>PMN</td><td>ivo://nasa.heasarc/skyview/pmn</td></tr>\n",
       "<tr><td>70</td><td>PSPC0.6Int</td><td>ivo://nasa.heasarc/skyview/pspc0.6int</td></tr>\n",
       "<tr><td>71</td><td>PSPC1</td><td>ivo://nasa.heasarc/skyview/pspc1</td></tr>\n",
       "<tr><td>72</td><td>PSPC2</td><td>ivo://nasa.heasarc/skyview/pspc2</td></tr>\n",
       "<tr><td>73</td><td>PSPC6</td><td>ivo://nasa.heasarc/skyview/pspc6</td></tr>\n",
       "<tr><td>74</td><td>RASS3</td><td>ivo://nasa.heasarc/skyview/rass3</td></tr>\n",
       "<tr><td>75</td><td>RASSALL</td><td>ivo://nasa.heasarc/skyview/rassall</td></tr>\n",
       "<tr><td>76</td><td>RASSBACK</td><td>ivo://nasa.heasarc/skyview/rassback</td></tr>\n",
       "<tr><td>77</td><td>RASSBCK</td><td>ivo://nasa.heasarc/skyview/rassbck</td></tr>\n",
       "<tr><td>78</td><td>RASSMASTER</td><td>ivo://nasa.heasarc/rassmaster</td></tr>\n",
       "<tr><td>79</td><td>ROSAT</td><td>ivo://nasa.heasarc/rosmaster</td></tr>\n",
       "<tr><td>80</td><td>ROSAT/HRI</td><td>ivo://nasa.heasarc/roshritotal</td></tr>\n",
       "<tr><td>81</td><td>ROSAT/HRI</td><td>ivo://nasa.heasarc/roshri</td></tr>\n",
       "<tr><td>82</td><td>ROSAT/PSPC</td><td>ivo://nasa.heasarc/rospspc</td></tr>\n",
       "<tr><td>83</td><td>RXTE</td><td>ivo://nasa.heasarc/skyview/rxte</td></tr>\n",
       "<tr><td>84</td><td>RXTE3_20k_flux</td><td>ivo://nasa.heasarc/skyview/rxte3_20k_flux</td></tr>\n",
       "<tr><td>85</td><td>SDSS</td><td>ivo://nasa.heasarc/skyview/sdss</td></tr>\n",
       "<tr><td>86</td><td>SDSSDR7</td><td>ivo://nasa.heasarc/skyview/sdssdr7</td></tr>\n",
       "<tr><td>87</td><td>SFD</td><td>ivo://nasa.heasarc/skyview/sfd</td></tr>\n",
       "<tr><td>88</td><td>SHASSA</td><td>ivo://nasa.heasarc/skyview/shassa</td></tr>\n",
       "<tr><td>89</td><td>SkyView</td><td>ivo://nasa.heasarc/skyview/skyview</td></tr>\n",
       "<tr><td>90</td><td>Stripe82VLA</td><td>ivo://nasa.heasarc/skyview/stripe82vla</td></tr>\n",
       "<tr><td>91</td><td>SUMSS</td><td>ivo://nasa.heasarc/skyview/sumss</td></tr>\n",
       "<tr><td>92</td><td>SUZAMASTER</td><td>ivo://nasa.heasarc/suzamaster</td></tr>\n",
       "<tr><td>93</td><td>SwiftBAT</td><td>ivo://nasa.heasarc/swiftbalog</td></tr>\n",
       "<tr><td>94</td><td>SwiftUVOT</td><td>ivo://nasa.heasarc/swiftuvlog</td></tr>\n",
       "<tr><td>95</td><td>SWIFTUVOT</td><td>ivo://nasa.heasarc/skyview/swiftuvot</td></tr>\n",
       "<tr><td>96</td><td>SwiftXRT</td><td>ivo://nasa.heasarc/swiftxrlog</td></tr>\n",
       "<tr><td>97</td><td>SWIFTXRT</td><td>ivo://nasa.heasarc/skyview/swiftxrt</td></tr>\n",
       "<tr><td>98</td><td>TGSS</td><td>ivo://nasa.heasarc/skyview/tgss</td></tr>\n",
       "<tr><td>99</td><td>UKIDSS</td><td>ivo://nasa.heasarc/skyview/ukidss</td></tr>\n",
       "<tr><td>100</td><td>UltraVista-H</td><td>ivo://nasa.heasarc/skyview/ultravista-h</td></tr>\n",
       "<tr><td>101</td><td>VLSS</td><td>ivo://nasa.heasarc/skyview/vlss</td></tr>\n",
       "<tr><td>102</td><td>WENSS</td><td>ivo://nasa.heasarc/skyview/wenss</td></tr>\n",
       "<tr><td>103</td><td>WFCF</td><td>ivo://nasa.heasarc/skyview/wfcf</td></tr>\n",
       "<tr><td>104</td><td>WFCF1</td><td>ivo://nasa.heasarc/skyview/wfcf1</td></tr>\n",
       "<tr><td>105</td><td>WISE</td><td>ivo://nasa.heasarc/skyview/wise</td></tr>\n",
       "<tr><td>106</td><td>WMAP</td><td>ivo://nasa.heasarc/skyview/wmap</td></tr>\n",
       "<tr><td>107</td><td>XMM</td><td>ivo://nasa.heasarc/xmmmaster</td></tr>\n",
       "</table><style>table.dataTable {clear: both; width: auto !important; margin: 0 !important;}\n",
       ".dataTables_info, .dataTables_length, .dataTables_filter, .dataTables_paginate{\n",
       "display: inline-block; margin-right: 1em; }\n",
       ".paginate_button { margin-right: 5px; }\n",
       "</style>\n",
       "<script>\n",
       "\n",
       "var astropy_sort_num = function(a, b) {\n",
       "    var a_num = parseFloat(a);\n",
       "    var b_num = parseFloat(b);\n",
       "\n",
       "    if (isNaN(a_num) && isNaN(b_num))\n",
       "        return ((a < b) ? -1 : ((a > b) ? 1 : 0));\n",
       "    else if (!isNaN(a_num) && !isNaN(b_num))\n",
       "        return ((a_num < b_num) ? -1 : ((a_num > b_num) ? 1 : 0));\n",
       "    else\n",
       "        return isNaN(a_num) ? -1 : 1;\n",
       "}\n",
       "\n",
       "require.config({paths: {\n",
       "    datatables: 'https://cdn.datatables.net/1.10.12/js/jquery.dataTables.min'\n",
       "}});\n",
       "require([\"datatables\"], function(){\n",
       "    console.log(\"$('#table4433872464-616332').dataTable()\");\n",
       "    \n",
       "jQuery.extend( jQuery.fn.dataTableExt.oSort, {\n",
       "    \"optionalnum-asc\": astropy_sort_num,\n",
       "    \"optionalnum-desc\": function (a,b) { return -astropy_sort_num(a, b); }\n",
       "});\n",
       "\n",
       "    $('#table4433872464-616332').dataTable({\n",
       "        order: [],\n",
       "        pageLength: 50,\n",
       "        lengthMenu: [[10, 25, 50, 100, 500, 1000, -1], [10, 25, 50, 100, 500, 1000, 'All']],\n",
       "        pagingType: \"full_numbers\",\n",
       "        columnDefs: [{targets: [0], type: \"optionalnum\"}]\n",
       "    });\n",
       "});\n",
       "</script>\n"
      ],
      "text/plain": [
       "<IPython.core.display.HTML object>"
      ]
     },
     "execution_count": 8,
     "metadata": {},
     "output_type": "execute_result"
    }
   ],
   "source": [
    "# Warning:  'query' is bizarrely case-sensitive:\n",
    "tap_params = {\n",
    "    \"request\":\"doQuery\",\n",
    "    \"lang\":\"ADQL\",\n",
    "    \"query\":\"\"\"\n",
    "        select b.short_name,a.ivoid from rr.capability a \n",
    "        natural join rr.resource b \n",
    "        where a.cap_type='simpleimageaccess' and a.ivoid like 'ivo://nasa.heasarc%' \n",
    "        order by short_name;\n",
    "    \"\"\"\n",
    "    }\n",
    "r = requests.post('http://vao.stsci.edu/RegTAP/TapService.aspx/sync', data=tap_params)\n",
    "##  If you want to see what requests gives you, you can look at the URL it actually constructed:\n",
    "#print(r.url)\n",
    "##  And the raw text of what it got back:\n",
    "# print(r.text)\n",
    "## The astropy.table  module will read this VO Table formatted result into an astropy Table:\n",
    "table=Table.read(io.BytesIO(r.content))\n",
    "table.show_in_notebook()"
   ]
  },
  {
   "cell_type": "markdown",
   "metadata": {},
   "source": [
    "### 3.2 Using SIA to retrieve an image from SkyView:\n",
    "\n",
    "Now we pick one of these catalogs, SwiftUVOT, and look for our sources.  See __[the SIA definition](http://www.ivoa.net/documents/WD/SIA/sia-20040524.html)__ for usage.  In short, you specify the central position, POS, the angular SIZE, and the NAXIS, i.e., the number of ``rows,columns``.  (SkyView will bin/interpolate as needed from the archive data.)  "
   ]
  },
  {
   "cell_type": "code",
   "execution_count": 9,
   "metadata": {},
   "outputs": [
    {
     "name": "stdout",
     "output_type": "stream",
     "text": [
      "['Survey', 'Ra', 'Dec', 'Dim', 'Size', 'Scale', 'Format', 'PixFlags', 'URL', 'LogicalName']\n"
     ]
    }
   ],
   "source": [
    "pos='{},{}'.format(aptable[0]['RA'],aptable[0]['DEC'])\n",
    "#  Note that there's currently a bug in the default interpolation \n",
    "#  method with this particular query, so we have to set it to 'LI' here.\n",
    "params = {'survey': 'swiftuvot', 'POS': pos, 'SIZE':'0.03', \"NAXIS\":\"300,300\"}\n",
    "r = requests.get('https://skyview.gsfc.nasa.gov/cgi-bin/vo/sia.pl', params=params)\n",
    "table=Table.read(io.BytesIO(r.content))\n",
    "print(table.colnames)"
   ]
  },
  {
   "cell_type": "markdown",
   "metadata": {},
   "source": [
    "Extract the fields you're interested in, e.g., the URLs of the images made by skyview.  Note that specifying as we did SwiftUVOT, we get a number of different images, e.g., UVOT U, V, B, W1, W2, etc.  For each survey, there are two URLs, first the FITS IMAGE and second the JPEG:"
   ]
  },
  {
   "cell_type": "code",
   "execution_count": 11,
   "metadata": {},
   "outputs": [
    {
     "data": {
      "text/html": [
       "&lt;Table masked=True length=12&gt;\n",
       "<table id=\"table4428338320-713546\" class=\"table-striped table-bordered table-condensed\">\n",
       "<thead><tr><th>idx</th><th>Survey</th><th>Ra</th><th>Dec</th><th>Dim</th><th>Size</th><th>Scale</th><th>Format</th><th>PixFlags</th><th>URL</th><th>LogicalName</th></tr></thead>\n",
       "<tr><td>0</td><td>swiftuvotvint</td><td>19.0186</td><td>46.7304</td><td>2</td><td>[300 300]</td><td>[-9.999999999999999e-05 9.999999999999999e-05]</td><td>image/fits</td><td>F</td><td>https://skyview.gsfc.nasa.gov/cgi-bin/images?position=19.0186%2C46.7304&amp;survey=swiftuvotvint&amp;pixels=300%2C300&amp;sampler=LI&amp;size=0.03%2C0.03&amp;projection=Tan&amp;coordinates=J2000.0&amp;requestID=skv1515074068436&amp;return=FITS</td><td>1</td></tr>\n",
       "<tr><td>1</td><td>swiftuvotvint</td><td>19.0186</td><td>46.7304</td><td>2</td><td>[300 300]</td><td>[-9.999999999999999e-05 9.999999999999999e-05]</td><td>image/jpeg</td><td>F</td><td>https://skyview.gsfc.nasa.gov/cgi-bin/images?position=19.0186%2C46.7304&amp;survey=swiftuvotvint&amp;pixels=300%2C300&amp;sampler=LI&amp;size=0.03%2C0.03&amp;projection=Tan&amp;coordinates=J2000.0&amp;requestID=skv1515074068436&amp;nofits=1&amp;quicklook=jpeg&amp;return=jpeg</td><td>1</td></tr>\n",
       "<tr><td>2</td><td>swiftuvotbint</td><td>19.0186</td><td>46.7304</td><td>2</td><td>[300 300]</td><td>[-9.999999999999999e-05 9.999999999999999e-05]</td><td>image/fits</td><td>F</td><td>https://skyview.gsfc.nasa.gov/cgi-bin/images?position=19.0186%2C46.7304&amp;survey=swiftuvotbint&amp;pixels=300%2C300&amp;sampler=LI&amp;size=0.03%2C0.03&amp;projection=Tan&amp;coordinates=J2000.0&amp;requestID=skv1515074068698&amp;return=FITS</td><td>2</td></tr>\n",
       "<tr><td>3</td><td>swiftuvotbint</td><td>19.0186</td><td>46.7304</td><td>2</td><td>[300 300]</td><td>[-9.999999999999999e-05 9.999999999999999e-05]</td><td>image/jpeg</td><td>F</td><td>https://skyview.gsfc.nasa.gov/cgi-bin/images?position=19.0186%2C46.7304&amp;survey=swiftuvotbint&amp;pixels=300%2C300&amp;sampler=LI&amp;size=0.03%2C0.03&amp;projection=Tan&amp;coordinates=J2000.0&amp;requestID=skv1515074068698&amp;nofits=1&amp;quicklook=jpeg&amp;return=jpeg</td><td>2</td></tr>\n",
       "<tr><td>4</td><td>swiftuvotuint</td><td>19.0186</td><td>46.7304</td><td>2</td><td>[300 300]</td><td>[-9.999999999999999e-05 9.999999999999999e-05]</td><td>image/fits</td><td>F</td><td>https://skyview.gsfc.nasa.gov/cgi-bin/images?position=19.0186%2C46.7304&amp;survey=swiftuvotuint&amp;pixels=300%2C300&amp;sampler=LI&amp;size=0.03%2C0.03&amp;projection=Tan&amp;coordinates=J2000.0&amp;requestID=skv1515074069911&amp;return=FITS</td><td>3</td></tr>\n",
       "<tr><td>5</td><td>swiftuvotuint</td><td>19.0186</td><td>46.7304</td><td>2</td><td>[300 300]</td><td>[-9.999999999999999e-05 9.999999999999999e-05]</td><td>image/jpeg</td><td>F</td><td>https://skyview.gsfc.nasa.gov/cgi-bin/images?position=19.0186%2C46.7304&amp;survey=swiftuvotuint&amp;pixels=300%2C300&amp;sampler=LI&amp;size=0.03%2C0.03&amp;projection=Tan&amp;coordinates=J2000.0&amp;requestID=skv1515074069911&amp;nofits=1&amp;quicklook=jpeg&amp;return=jpeg</td><td>3</td></tr>\n",
       "<tr><td>6</td><td>swiftuvotuvw1int</td><td>19.0186</td><td>46.7304</td><td>2</td><td>[300 300]</td><td>[-9.999999999999999e-05 9.999999999999999e-05]</td><td>image/fits</td><td>F</td><td>https://skyview.gsfc.nasa.gov/cgi-bin/images?position=19.0186%2C46.7304&amp;survey=swiftuvotuvw1int&amp;pixels=300%2C300&amp;sampler=LI&amp;size=0.03%2C0.03&amp;projection=Tan&amp;coordinates=J2000.0&amp;requestID=skv1515074070423&amp;return=FITS</td><td>4</td></tr>\n",
       "<tr><td>7</td><td>swiftuvotuvw1int</td><td>19.0186</td><td>46.7304</td><td>2</td><td>[300 300]</td><td>[-9.999999999999999e-05 9.999999999999999e-05]</td><td>image/jpeg</td><td>F</td><td>https://skyview.gsfc.nasa.gov/cgi-bin/images?position=19.0186%2C46.7304&amp;survey=swiftuvotuvw1int&amp;pixels=300%2C300&amp;sampler=LI&amp;size=0.03%2C0.03&amp;projection=Tan&amp;coordinates=J2000.0&amp;requestID=skv1515074070423&amp;nofits=1&amp;quicklook=jpeg&amp;return=jpeg</td><td>4</td></tr>\n",
       "<tr><td>8</td><td>swiftuvotuvw2int</td><td>19.0186</td><td>46.7304</td><td>2</td><td>[300 300]</td><td>[-9.999999999999999e-05 9.999999999999999e-05]</td><td>image/fits</td><td>F</td><td>https://skyview.gsfc.nasa.gov/cgi-bin/images?position=19.0186%2C46.7304&amp;survey=swiftuvotuvw2int&amp;pixels=300%2C300&amp;sampler=LI&amp;size=0.03%2C0.03&amp;projection=Tan&amp;coordinates=J2000.0&amp;requestID=skv1515074070946&amp;return=FITS</td><td>5</td></tr>\n",
       "<tr><td>9</td><td>swiftuvotuvw2int</td><td>19.0186</td><td>46.7304</td><td>2</td><td>[300 300]</td><td>[-9.999999999999999e-05 9.999999999999999e-05]</td><td>image/jpeg</td><td>F</td><td>https://skyview.gsfc.nasa.gov/cgi-bin/images?position=19.0186%2C46.7304&amp;survey=swiftuvotuvw2int&amp;pixels=300%2C300&amp;sampler=LI&amp;size=0.03%2C0.03&amp;projection=Tan&amp;coordinates=J2000.0&amp;requestID=skv1515074070946&amp;nofits=1&amp;quicklook=jpeg&amp;return=jpeg</td><td>5</td></tr>\n",
       "<tr><td>10</td><td>swiftuvotuvm2int</td><td>19.0186</td><td>46.7304</td><td>2</td><td>[300 300]</td><td>[-9.999999999999999e-05 9.999999999999999e-05]</td><td>image/fits</td><td>F</td><td>https://skyview.gsfc.nasa.gov/cgi-bin/images?position=19.0186%2C46.7304&amp;survey=swiftuvotuvm2int&amp;pixels=300%2C300&amp;sampler=LI&amp;size=0.03%2C0.03&amp;projection=Tan&amp;coordinates=J2000.0&amp;requestID=skv1515074071717&amp;return=FITS</td><td>6</td></tr>\n",
       "<tr><td>11</td><td>swiftuvotuvm2int</td><td>19.0186</td><td>46.7304</td><td>2</td><td>[300 300]</td><td>[-9.999999999999999e-05 9.999999999999999e-05]</td><td>image/jpeg</td><td>F</td><td>https://skyview.gsfc.nasa.gov/cgi-bin/images?position=19.0186%2C46.7304&amp;survey=swiftuvotuvm2int&amp;pixels=300%2C300&amp;sampler=LI&amp;size=0.03%2C0.03&amp;projection=Tan&amp;coordinates=J2000.0&amp;requestID=skv1515074071717&amp;nofits=1&amp;quicklook=jpeg&amp;return=jpeg</td><td>6</td></tr>\n",
       "</table><style>table.dataTable {clear: both; width: auto !important; margin: 0 !important;}\n",
       ".dataTables_info, .dataTables_length, .dataTables_filter, .dataTables_paginate{\n",
       "display: inline-block; margin-right: 1em; }\n",
       ".paginate_button { margin-right: 5px; }\n",
       "</style>\n",
       "<script>\n",
       "\n",
       "var astropy_sort_num = function(a, b) {\n",
       "    var a_num = parseFloat(a);\n",
       "    var b_num = parseFloat(b);\n",
       "\n",
       "    if (isNaN(a_num) && isNaN(b_num))\n",
       "        return ((a < b) ? -1 : ((a > b) ? 1 : 0));\n",
       "    else if (!isNaN(a_num) && !isNaN(b_num))\n",
       "        return ((a_num < b_num) ? -1 : ((a_num > b_num) ? 1 : 0));\n",
       "    else\n",
       "        return isNaN(a_num) ? -1 : 1;\n",
       "}\n",
       "\n",
       "require.config({paths: {\n",
       "    datatables: 'https://cdn.datatables.net/1.10.12/js/jquery.dataTables.min'\n",
       "}});\n",
       "require([\"datatables\"], function(){\n",
       "    console.log(\"$('#table4428338320-713546').dataTable()\");\n",
       "    \n",
       "jQuery.extend( jQuery.fn.dataTableExt.oSort, {\n",
       "    \"optionalnum-asc\": astropy_sort_num,\n",
       "    \"optionalnum-desc\": function (a,b) { return -astropy_sort_num(a, b); }\n",
       "});\n",
       "\n",
       "    $('#table4428338320-713546').dataTable({\n",
       "        order: [],\n",
       "        pageLength: 5,\n",
       "        lengthMenu: [[5, 10, 25, 50, 100, 500, 1000, -1], [5, 10, 25, 50, 100, 500, 1000, 'All']],\n",
       "        pagingType: \"full_numbers\",\n",
       "        columnDefs: [{targets: [0, 2, 3, 4], type: \"optionalnum\"}]\n",
       "    });\n",
       "});\n",
       "</script>\n"
      ],
      "text/plain": [
       "<IPython.core.display.HTML object>"
      ]
     },
     "execution_count": 11,
     "metadata": {},
     "output_type": "execute_result"
    }
   ],
   "source": [
    "table['Ra'].format='.4f'\n",
    "table['Dec'].format = '.4f'\n",
    "table.show_in_notebook(display_length=5)"
   ]
  },
  {
   "cell_type": "code",
   "execution_count": 12,
   "metadata": {},
   "outputs": [
    {
     "name": "stdout",
     "output_type": "stream",
     "text": [
      "https://skyview.gsfc.nasa.gov/cgi-bin/images?position=19.0186%2C46.7304&survey=swiftuvotuint&pixels=300%2C300&sampler=LI&size=0.03%2C0.03&projection=Tan&coordinates=J2000.0&requestID=skv1515074069911&return=FITS\n",
      "https://skyview.gsfc.nasa.gov/cgi-bin/images?position=19.0186%2C46.7304&survey=swiftuvotuint&pixels=300%2C300&sampler=LI&size=0.03%2C0.03&projection=Tan&coordinates=J2000.0&requestID=skv1515074069911&nofits=1&quicklook=jpeg&return=jpeg\n"
     ]
    }
   ],
   "source": [
    "###  Inside the table is a numpy record array that you can access like this, for example:\n",
    "#print(table.array[4][8])\n",
    "#  Or like this\n",
    "print(table[4]['URL'])\n",
    "### To download the FITS image itself:\n",
    "print(table[5]['URL'])"
   ]
  },
  {
   "cell_type": "markdown",
   "metadata": {},
   "source": [
    "### Resulting image\n",
    "You can display it in python by\n",
    "(give it ~10 seconds to appear)\n"
   ]
  },
  {
   "cell_type": "code",
   "execution_count": 13,
   "metadata": {},
   "outputs": [
    {
     "data": {
      "text/html": [
       "<img src=\"https://skyview.gsfc.nasa.gov/cgi-bin/images?position=19.0186%2C46.7304&survey=swiftuvotuint&pixels=300%2C300&sampler=LI&size=0.03%2C0.03&projection=Tan&coordinates=J2000.0&requestID=skv1515074069911&nofits=1&quicklook=jpeg&return=jpeg\"/>"
      ],
      "text/plain": [
       "<IPython.core.display.Image object>"
      ]
     },
     "metadata": {},
     "output_type": "display_data"
    }
   ],
   "source": [
    "##  Note that there are bugs with some of these datasets, \n",
    "##  since they are new in SkyView.  Selecting the U-band image.\n",
    "##  (The decode is needed in Python 3.5 because it comes back a byte type.)\n",
    "display(Image(url=table['URL'][5].decode(\"utf-8\")))"
   ]
  },
  {
   "cell_type": "markdown",
   "metadata": {},
   "source": [
    "Or download the FITS image as ``image.fits``\n"
   ]
  },
  {
   "cell_type": "code",
   "execution_count": 14,
   "metadata": {},
   "outputs": [],
   "source": [
    "r=requests.get(table['URL'][4].decode(\"utf-8\"), stream=True)\n",
    "with open('image.fits','wb') as f:\n",
    "    f.write(r.content)"
   ]
  },
  {
   "cell_type": "markdown",
   "metadata": {},
   "source": [
    "(If the above gives you a \"time out\" error, just try it again.)\n",
    "\n",
    "Then read the fits image you just created and display it:"
   ]
  },
  {
   "cell_type": "code",
   "execution_count": 15,
   "metadata": {
    "scrolled": true
   },
   "outputs": [
    {
     "data": {
      "text/plain": [
       "<matplotlib.image.AxesImage at 0x10b12abd0>"
      ]
     },
     "execution_count": 15,
     "metadata": {},
     "output_type": "execute_result"
    },
    {
     "data": {
      "image/png": "[encoded data removed]",
      "text/plain": [
       "<matplotlib.figure.Figure at 0x10840dd10>"
      ]
     },
     "metadata": {},
     "output_type": "display_data"
    }
   ],
   "source": [
    "#hdu_list=apfits.open(table['URL'][4].decode(\"utf-8\"))\n",
    "hdu_list=apfits.open('image.fits')\n",
    "plt.imshow(hdu_list[0].data, cmap='gray', origin='lower',vmax=0.1)"
   ]
  },
  {
   "cell_type": "markdown",
   "metadata": {},
   "source": [
    "### Alternatively, we can use Aplpy to make an image with coordinates"
   ]
  },
  {
   "cell_type": "code",
   "execution_count": 16,
   "metadata": {
    "scrolled": false
   },
   "outputs": [
    {
     "data": {
      "image/png": "[encoded data removed]",
      "text/plain": [
       "<matplotlib.figure.Figure at 0x10df83210>"
      ]
     },
     "metadata": {},
     "output_type": "display_data"
    }
   ],
   "source": [
    "import aplpy\n",
    "gc = aplpy.FITSFigure(hdu_list)\n",
    "gc.show_grayscale(stretch='log', vmin=6e-3, vmax=1.4e-1)"
   ]
  },
  {
   "cell_type": "markdown",
   "metadata": {},
   "source": [
    "### A related example with multiple VO interfaces\n",
    "A very similar example uses the SkyView SIA protocol to retrieve an image from a different survey, SDSS, which is not held on the HEASARC SkyView server but at the Barbara A. Mikulski Archive for Space Telescopes ([MAST](https://mast.stsci.edu)).  The user does not need to be aware of where the data is actually stored - under the hood, SkyView is using SIA to get the data from MAST transparently.  \n"
   ]
  },
  {
   "cell_type": "code",
   "execution_count": 17,
   "metadata": {},
   "outputs": [],
   "source": [
    "params['survey']='sdssg'\n",
    "r = requests.get('https://skyview.gsfc.nasa.gov/cgi-bin/vo/sia.pl', params=params)"
   ]
  },
  {
   "cell_type": "markdown",
   "metadata": {},
   "source": [
    "(It may take a few seconds for the displyed image to appear.)"
   ]
  },
  {
   "cell_type": "code",
   "execution_count": 18,
   "metadata": {},
   "outputs": [
    {
     "data": {
      "text/html": [
       "<img src=\"https://skyview.gsfc.nasa.gov/cgi-bin/images?position=19.0186%2C46.7304&survey=sdssg&pixels=300%2C300&sampler=LI&size=0.03%2C0.03&projection=Tan&coordinates=J2000.0&requestID=skv1515074182475&nofits=1&quicklook=jpeg&return=jpeg\"/>"
      ],
      "text/plain": [
       "<IPython.core.display.Image object>"
      ]
     },
     "metadata": {},
     "output_type": "display_data"
    }
   ],
   "source": [
    "table=Table.read(io.BytesIO(r.content))\n",
    "display(Image(url=table['URL'][1].decode(\"utf-8\")))"
   ]
  },
  {
   "cell_type": "markdown",
   "metadata": {},
   "source": [
    "<a id=\"tap\"></a>\n",
    "# 4. TAP: Using the Table Access Protocol to find VO Resources"
   ]
  },
  {
   "cell_type": "markdown",
   "metadata": {},
   "source": [
    "<a id=\"tap1\"></a>\n",
    "# 4a. TAP:  Using the Table Access Protocol to find additional information on our sources\n",
    "TAP is described in more detail in the dedicated [TAP notebook](heasarc_TAP_queries.ipynb).\n",
    "\n",
    "In this example, we will use our tabulated list of 22 sources (``aptable``) we create above.  <i> Continuing with our hypothetical science example of preparing an observing proposal for these objects, we would now like to find their redshifts, e.g., to calculate exposure times based on being able to significantly detect a 10<sup>39</sup> erg/s source.</i>\n",
    "\n",
    "First, find out what catalogs HEASARC holds that might have redshifts, specifying the query in ADQL:"
   ]
  },
  {
   "cell_type": "code",
   "execution_count": 19,
   "metadata": {},
   "outputs": [
    {
     "data": {
      "text/html": [
       "&lt;Table masked=True length=18&gt;\n",
       "<table id=\"table4529617616-671927\" class=\"table-striped table-bordered table-condensed\">\n",
       "<thead><tr><th>idx</th><th>name</th><th>value</th></tr></thead>\n",
       "<tr><td>0</td><td>abellzcat</td><td>Abell Clusters Measured Redshifts Catalog</td></tr>\n",
       "<tr><td>1</td><td>atlasspecz</td><td>AT Large Area Survey (ATLAS) Spectroscopic Classes &amp; Redshifts Catalog</td></tr>\n",
       "<tr><td>2</td><td>ccosmphotz</td><td>Chandra COSMOS (C-COSMOS) Survey Photometric Redshift Catalog</td></tr>\n",
       "<tr><td>3</td><td>cfa2s</td><td>CfA Redshift Survey: South Galactic Cap Data</td></tr>\n",
       "<tr><td>4</td><td>iraspscz</td><td>IRAS Point Source Catalog Redshift (PSCz) Catalog</td></tr>\n",
       "<tr><td>5</td><td>iraszsurv</td><td>IRAS 1.2-Jy Redshift Survey</td></tr>\n",
       "<tr><td>6</td><td>lcrscat</td><td>Las Campanas Redshift Survey Catalog</td></tr>\n",
       "<tr><td>7</td><td>lowzvlqvla</td><td>VLA 6-GHz Observations of Low-Redshift SDSS QSOs</td></tr>\n",
       "<tr><td>8</td><td>planckhzsc</td><td>Planck High-Redshift Source Candidates Catalog</td></tr>\n",
       "<tr><td>9</td><td>sixdfgs</td><td>6dFGS Galaxy Survey Final Redshift Release Catalog</td></tr>\n",
       "<tr><td>10</td><td>twodfqsoz</td><td>2dF QSO Redshift (2QZ) Survey</td></tr>\n",
       "<tr><td>11</td><td>twomassrsc</td><td>2MASS Redshift Survey (2MRS) Catalog</td></tr>\n",
       "<tr><td>12</td><td>xdeep2</td><td>DEEP2 Galaxy Redshift Survey Fields Chandra Point Source Catalog</td></tr>\n",
       "<tr><td>13</td><td>xmmcfrscat</td><td>XMM-Newton/Canada-France Redshift Survey Fields X-Ray Sources</td></tr>\n",
       "<tr><td>14</td><td>xmmcfrsoid</td><td>XMM-Newton/Canada-France Redshift Survey Fields Optical Identifications</td></tr>\n",
       "<tr><td>15</td><td>xmmcphotz</td><td>XMM-Newton COSMOS (XMM-COSMOS) Survey Photometric Redshift Catalog</td></tr>\n",
       "<tr><td>16</td><td>xmmlssclas</td><td>XMM-Newton Large-Scale Structure Optical Counterparts and Redshifts</td></tr>\n",
       "<tr><td>17</td><td>zcat</td><td>CfA Redshift Catalog (June 1995 Version)</td></tr>\n",
       "</table><style>table.dataTable {clear: both; width: auto !important; margin: 0 !important;}\n",
       ".dataTables_info, .dataTables_length, .dataTables_filter, .dataTables_paginate{\n",
       "display: inline-block; margin-right: 1em; }\n",
       ".paginate_button { margin-right: 5px; }\n",
       "</style>\n",
       "<script>\n",
       "\n",
       "var astropy_sort_num = function(a, b) {\n",
       "    var a_num = parseFloat(a);\n",
       "    var b_num = parseFloat(b);\n",
       "\n",
       "    if (isNaN(a_num) && isNaN(b_num))\n",
       "        return ((a < b) ? -1 : ((a > b) ? 1 : 0));\n",
       "    else if (!isNaN(a_num) && !isNaN(b_num))\n",
       "        return ((a_num < b_num) ? -1 : ((a_num > b_num) ? 1 : 0));\n",
       "    else\n",
       "        return isNaN(a_num) ? -1 : 1;\n",
       "}\n",
       "\n",
       "require.config({paths: {\n",
       "    datatables: 'https://cdn.datatables.net/1.10.12/js/jquery.dataTables.min'\n",
       "}});\n",
       "require([\"datatables\"], function(){\n",
       "    console.log(\"$('#table4529617616-671927').dataTable()\");\n",
       "    \n",
       "jQuery.extend( jQuery.fn.dataTableExt.oSort, {\n",
       "    \"optionalnum-asc\": astropy_sort_num,\n",
       "    \"optionalnum-desc\": function (a,b) { return -astropy_sort_num(a, b); }\n",
       "});\n",
       "\n",
       "    $('#table4529617616-671927').dataTable({\n",
       "        order: [],\n",
       "        pageLength: 50,\n",
       "        lengthMenu: [[10, 25, 50, 100, 500, 1000, -1], [10, 25, 50, 100, 500, 1000, 'All']],\n",
       "        pagingType: \"full_numbers\",\n",
       "        columnDefs: [{targets: [0], type: \"optionalnum\"}]\n",
       "    });\n",
       "});\n",
       "</script>\n"
      ],
      "text/plain": [
       "<IPython.core.display.HTML object>"
      ]
     },
     "execution_count": 19,
     "metadata": {},
     "output_type": "execute_result"
    }
   ],
   "source": [
    "\n",
    "tap_params[\"query\"]=\"\"\"\n",
    "    select a.name,b.value\n",
    "      from metainfo a, metainfo b\n",
    "      where\n",
    "         a.type='table' and b.type='table' and\n",
    "         a.relation='defaultSearchRadius' and\n",
    "         b.relation='description' and\n",
    "         a.name=b.name and\n",
    "         b.value like '%Redshift%' \n",
    "      order by name    \n",
    "      \"\"\"\n",
    "r = requests.get('https://heasarc.gsfc.nasa.gov/xamin/vo/tap/sync', params=tap_params)\n",
    "table=Table.read(io.BytesIO(r.content))\n",
    "table.show_in_notebook()"
   ]
  },
  {
   "cell_type": "markdown",
   "metadata": {},
   "source": [
    "Of all the tables with redshift information, probably the ``CfA Redshift Catalog`` (``zcat``) is best for our purposes.  <i> Since these are galaxies found in close pairs or groups, we expect multiple matches at each location. </i> Let's first start with one object and search within 0.1 degree: "
   ]
  },
  {
   "cell_type": "code",
   "execution_count": 20,
   "metadata": {},
   "outputs": [
    {
     "name": "stdout",
     "output_type": "stream",
     "text": [
      "SELECT ra, dec, Radial_Velocity FROM zcat as cat where \n",
      "    contains(point('ICRS',cat.ra,cat.dec),circle('ICRS',19.0186,46.7304,0.1))=1\n",
      "    \n"
     ]
    },
    {
     "data": {
      "text/html": [
       "&lt;Table masked=True length=3&gt;\n",
       "<table id=\"table4530888080-137609\" class=\"table-striped table-bordered table-condensed\">\n",
       "<thead><tr><th>idx</th><th>ra</th><th>dec</th><th>radial_velocity</th></tr></thead>\n",
       "<tr><td>0</td><td>19.0098</td><td>46.7304</td><td>-1</td></tr>\n",
       "<tr><td>1</td><td>19.0684</td><td>46.7400</td><td>5081</td></tr>\n",
       "<tr><td>2</td><td>19.0864</td><td>46.7472</td><td>5188</td></tr>\n",
       "</table><style>table.dataTable {clear: both; width: auto !important; margin: 0 !important;}\n",
       ".dataTables_info, .dataTables_length, .dataTables_filter, .dataTables_paginate{\n",
       "display: inline-block; margin-right: 1em; }\n",
       ".paginate_button { margin-right: 5px; }\n",
       "</style>\n",
       "<script>\n",
       "\n",
       "var astropy_sort_num = function(a, b) {\n",
       "    var a_num = parseFloat(a);\n",
       "    var b_num = parseFloat(b);\n",
       "\n",
       "    if (isNaN(a_num) && isNaN(b_num))\n",
       "        return ((a < b) ? -1 : ((a > b) ? 1 : 0));\n",
       "    else if (!isNaN(a_num) && !isNaN(b_num))\n",
       "        return ((a_num < b_num) ? -1 : ((a_num > b_num) ? 1 : 0));\n",
       "    else\n",
       "        return isNaN(a_num) ? -1 : 1;\n",
       "}\n",
       "\n",
       "require.config({paths: {\n",
       "    datatables: 'https://cdn.datatables.net/1.10.12/js/jquery.dataTables.min'\n",
       "}});\n",
       "require([\"datatables\"], function(){\n",
       "    console.log(\"$('#table4530888080-137609').dataTable()\");\n",
       "    \n",
       "jQuery.extend( jQuery.fn.dataTableExt.oSort, {\n",
       "    \"optionalnum-asc\": astropy_sort_num,\n",
       "    \"optionalnum-desc\": function (a,b) { return -astropy_sort_num(a, b); }\n",
       "});\n",
       "\n",
       "    $('#table4530888080-137609').dataTable({\n",
       "        order: [],\n",
       "        pageLength: 50,\n",
       "        lengthMenu: [[10, 25, 50, 100, 500, 1000, -1], [10, 25, 50, 100, 500, 1000, 'All']],\n",
       "        pagingType: \"full_numbers\",\n",
       "        columnDefs: [{targets: [0, 1, 2, 3], type: \"optionalnum\"}]\n",
       "    });\n",
       "});\n",
       "</script>\n"
      ],
      "text/plain": [
       "<IPython.core.display.HTML object>"
      ]
     },
     "execution_count": 20,
     "metadata": {},
     "output_type": "execute_result"
    }
   ],
   "source": [
    "##  Pick a radius in degrees to search around our input coordinates:\n",
    "radius=0.1\n",
    "\n",
    "query = \"\"\"SELECT ra, dec, Radial_Velocity FROM zcat as cat where \n",
    "    contains(point('ICRS',cat.ra,cat.dec),circle('ICRS',{0},{1},{2}))=1\n",
    "    \"\"\".format(aptable[0]['RA'],aptable[0]['DEC'],radius)\n",
    "print(query)\n",
    "\n",
    "tap_params = {\n",
    "    \"request\":\"doQuery\",\n",
    "    \"lang\":\"ADQL\",\n",
    "    \"query\":\"{q}\".format(q=query)\n",
    "    }\n",
    "r = requests.get('https://heasarc.gsfc.nasa.gov/xamin/vo/tap/sync', params=tap_params)\n",
    "#r.content\n",
    "table=Table.read(io.BytesIO(r.content))\n",
    "table['ra'].format='.4f'\n",
    "table['dec'].format='.4f'\n",
    "table.show_in_notebook()"
   ]
  },
  {
   "cell_type": "markdown",
   "metadata": {},
   "source": [
    "### !!! in the above query, how do we know we should return \"Radial_Velocity\" and not \"Redshift\"?  i.e. how does the user know that, for zcat, the Redshift parameter is called Radial_Velocity (and given in, presumably, km/s)?"
   ]
  },
  {
   "cell_type": "markdown",
   "metadata": {},
   "source": [
    "<a id=\"tap2\"></a>\n",
    "# 4b. TAP:  Cross-correlating our objects with a catalog"
   ]
  },
  {
   "cell_type": "markdown",
   "metadata": {},
   "source": [
    "Now to search all of our 22 sources in ``aptable`` in one go, we need to upload ``aptable`` as a VOTable file instance to the VO service ``https://heasarc.gsfc.nasa.gov/xamin/vo/tap/sync`` and do a cross-correlation with the ``zcat``table. \n",
    "\n",
    "In Section 1.3 above we had already created a VOTableFile instance called ``votablefile`` from our ``aptable``. Now we need to use the ``requests`` method to upload this ``votablefile`` and use it in our TAP request.\n",
    "\n",
    "First, create a \"file-like\" object from ``votablefile`` that you can give to ``requests``.  This is a bit arcane:"
   ]
  },
  {
   "cell_type": "code",
   "execution_count": 21,
   "metadata": {},
   "outputs": [],
   "source": [
    "vot_obj=io.BytesIO() # Create a file-like IO stream in memory\n",
    "apvot.writeto(votablefile,vot_obj) # write the VOTable to this file-like stream\n",
    "vot_obj.seek(0) # make sure you've reset seek to beginning of buffer\n",
    "## 'uplt' is what we'll call it (for 'upload table') \n",
    "##   in the requests parameters below, or what you will:\n",
    "files={'uplt':vot_obj}"
   ]
  },
  {
   "cell_type": "markdown",
   "metadata": {},
   "source": [
    "Alternatively, you could have written ``votablefile`` to disk:\n",
    "```\n",
    "apvot.writeto(votablefile, \"new_votable.xml\")\n",
    "files={'uplt':open('new_votable.xml', 'rb')}\n",
    "```"
   ]
  },
  {
   "cell_type": "code",
   "execution_count": 22,
   "metadata": {},
   "outputs": [
    {
     "data": {
      "text/html": [
       "&lt;Table masked=True length=39&gt;\n",
       "<table id=\"table4531503568-110381\" class=\"table-striped table-bordered table-condensed\">\n",
       "<thead><tr><th>idx</th><th>ra</th><th>dec</th><th>radial_velocity</th></tr></thead>\n",
       "<tr><td>0</td><td>19.0684</td><td>46.7400</td><td>5081</td></tr>\n",
       "<tr><td>1</td><td>19.0864</td><td>46.7472</td><td>5188</td></tr>\n",
       "<tr><td>2</td><td>20.3348</td><td>40.4877</td><td>5859</td></tr>\n",
       "<tr><td>3</td><td>125.9044</td><td>21.3382</td><td>5219</td></tr>\n",
       "<tr><td>4</td><td>125.9044</td><td>21.3382</td><td>5364</td></tr>\n",
       "<tr><td>5</td><td>135.9942</td><td>21.9010</td><td>3157</td></tr>\n",
       "<tr><td>6</td><td>136.0007</td><td>21.9679</td><td>3093</td></tr>\n",
       "<tr><td>7</td><td>141.0915</td><td>40.6838</td><td>8267</td></tr>\n",
       "<tr><td>8</td><td>146.7033</td><td>22.0183</td><td>7446</td></tr>\n",
       "<tr><td>9</td><td>146.7033</td><td>22.0183</td><td>7597</td></tr>\n",
       "<tr><td>10</td><td>148.7781</td><td>14.2961</td><td>7194</td></tr>\n",
       "<tr><td>11</td><td>148.8031</td><td>14.3127</td><td>7182</td></tr>\n",
       "<tr><td>12</td><td>175.0394</td><td>15.3273</td><td>3325</td></tr>\n",
       "<tr><td>13</td><td>175.0552</td><td>15.3428</td><td>3299</td></tr>\n",
       "<tr><td>14</td><td>191.5420</td><td>30.7323</td><td>6651</td></tr>\n",
       "<tr><td>15</td><td>191.5474</td><td>30.7234</td><td>6517</td></tr>\n",
       "<tr><td>16</td><td>194.9017</td><td>28.9306</td><td>5901</td></tr>\n",
       "<tr><td>17</td><td>194.9129</td><td>28.8954</td><td>6093</td></tr>\n",
       "<tr><td>18</td><td>199.0113</td><td>41.4864</td><td>6300</td></tr>\n",
       "<tr><td>19</td><td>199.0623</td><td>41.4865</td><td>6246</td></tr>\n",
       "<tr><td>20</td><td>206.5716</td><td>43.8505</td><td>2229</td></tr>\n",
       "<tr><td>21</td><td>206.5800</td><td>43.8439</td><td>25864</td></tr>\n",
       "<tr><td>22</td><td>206.5981</td><td>43.8722</td><td>2420</td></tr>\n",
       "<tr><td>23</td><td>209.9626</td><td>38.1818</td><td>2759</td></tr>\n",
       "<tr><td>24</td><td>213.5560</td><td>15.6222</td><td>4644</td></tr>\n",
       "<tr><td>25</td><td>219.9665</td><td>42.7423</td><td>2517</td></tr>\n",
       "<tr><td>26</td><td>220.0385</td><td>42.7789</td><td>2545</td></tr>\n",
       "<tr><td>27</td><td>226.7227</td><td>12.8587</td><td>6486</td></tr>\n",
       "<tr><td>28</td><td>226.7443</td><td>12.8582</td><td>6726</td></tr>\n",
       "<tr><td>29</td><td>237.5816</td><td>20.7630</td><td>10926</td></tr>\n",
       "<tr><td>30</td><td>241.5228</td><td>20.7828</td><td>4584</td></tr>\n",
       "<tr><td>31</td><td>241.5228</td><td>20.7828</td><td>4602</td></tr>\n",
       "<tr><td>32</td><td>241.5228</td><td>20.7828</td><td>4798</td></tr>\n",
       "<tr><td>33</td><td>317.1035</td><td>18.2030</td><td>4826</td></tr>\n",
       "<tr><td>34</td><td>317.1148</td><td>18.1919</td><td>5054</td></tr>\n",
       "<tr><td>35</td><td>329.2493</td><td>6.6552</td><td>7857</td></tr>\n",
       "<tr><td>36</td><td>333.8217</td><td>37.2992</td><td>5207</td></tr>\n",
       "<tr><td>37</td><td>333.8468</td><td>37.2826</td><td>5984</td></tr>\n",
       "<tr><td>38</td><td>333.9149</td><td>37.3003</td><td>5684</td></tr>\n",
       "</table><style>table.dataTable {clear: both; width: auto !important; margin: 0 !important;}\n",
       ".dataTables_info, .dataTables_length, .dataTables_filter, .dataTables_paginate{\n",
       "display: inline-block; margin-right: 1em; }\n",
       ".paginate_button { margin-right: 5px; }\n",
       "</style>\n",
       "<script>\n",
       "\n",
       "var astropy_sort_num = function(a, b) {\n",
       "    var a_num = parseFloat(a);\n",
       "    var b_num = parseFloat(b);\n",
       "\n",
       "    if (isNaN(a_num) && isNaN(b_num))\n",
       "        return ((a < b) ? -1 : ((a > b) ? 1 : 0));\n",
       "    else if (!isNaN(a_num) && !isNaN(b_num))\n",
       "        return ((a_num < b_num) ? -1 : ((a_num > b_num) ? 1 : 0));\n",
       "    else\n",
       "        return isNaN(a_num) ? -1 : 1;\n",
       "}\n",
       "\n",
       "require.config({paths: {\n",
       "    datatables: 'https://cdn.datatables.net/1.10.12/js/jquery.dataTables.min'\n",
       "}});\n",
       "require([\"datatables\"], function(){\n",
       "    console.log(\"$('#table4531503568-110381').dataTable()\");\n",
       "    \n",
       "jQuery.extend( jQuery.fn.dataTableExt.oSort, {\n",
       "    \"optionalnum-asc\": astropy_sort_num,\n",
       "    \"optionalnum-desc\": function (a,b) { return -astropy_sort_num(a, b); }\n",
       "});\n",
       "\n",
       "    $('#table4531503568-110381').dataTable({\n",
       "        order: [],\n",
       "        pageLength: 10,\n",
       "        lengthMenu: [[10, 25, 50, 100, 500, 1000, -1], [10, 25, 50, 100, 500, 1000, 'All']],\n",
       "        pagingType: \"full_numbers\",\n",
       "        columnDefs: [{targets: [0, 1, 2, 3], type: \"optionalnum\"}]\n",
       "    });\n",
       "});\n",
       "</script>\n"
      ],
      "text/plain": [
       "<IPython.core.display.HTML object>"
      ]
     },
     "execution_count": 22,
     "metadata": {},
     "output_type": "execute_result"
    }
   ],
   "source": [
    "# NOTE THAT THIS request may take tens of seconds to complete\n",
    "\n",
    "## The parameters below are defined in the TAP standard.  \n",
    "##  The string 'uplt' is what we set above as the name\n",
    "##  of the parameter containing this data, and\n",
    "##  the string 'mysources' is how we refer to it in \n",
    "##  the ADQL query string:\n",
    "cc_params={\n",
    "    'lang': 'ADQL', \n",
    "    'request': 'doQuery',\n",
    "    'upload':'mysources,param:uplt'\n",
    "    }\n",
    "# Define the query to cross-correlate each item in our list of source positions \n",
    "#   with zcat to find the radial velocities of the sources\n",
    "cc_params[\"query\"]=\"\"\"\n",
    "    SELECT cat.ra, cat.dec, Radial_Velocity \n",
    "    FROM zcat cat, tap_upload.mysources mt \n",
    "    WHERE\n",
    "    contains(point('ICRS',cat.ra,cat.dec),circle('ICRS',mt.ra,mt.dec,0.1))=1\n",
    "    and Radial_Velocity > 0\n",
    "    ORDER by cat.ra\"\"\"\n",
    "# Send the request \n",
    "r = requests.post('https://heasarc.gsfc.nasa.gov/xamin/vo/tap/sync',data=cc_params,stream=True,files=files)\n",
    "mytable=Table.read(io.BytesIO(r.content))\n",
    "mytable['ra'].format='.4f'\n",
    "mytable['dec'].format='.4f'\n",
    "mytable.show_in_notebook(display_length=10)"
   ]
  },
  {
   "cell_type": "markdown",
   "metadata": {},
   "source": [
    "### !!! If I'm understanding correctly, in mytable above the RAs and Decs given are not the RAs and Decs of the 22 sources specified in aptable, but rather the RAs and Decs of the nearest matching source in zcat - is that right?  \n",
    "\n",
    "### !!! I think a user would instead want the RA and Dec of the source from aptable, the RA and Dec of the nearest matching source in zcat, the source offset and the radial_velocity.  One way to do this would be, for each source in aptable, find the nearest source in mytable, extract it's ra, dec, radial_velocity and offset, and add that info as new columns in aptable.\n",
    "\n",
    "If that's right, I THINK you can do it as the following cell shows:"
   ]
  },
  {
   "cell_type": "code",
   "execution_count": 23,
   "metadata": {},
   "outputs": [
    {
     "data": {
      "text/html": [
       "&lt;Table length=22&gt;\n",
       "<table id=\"table4531670480-51000\" class=\"table-striped table-bordered table-condensed\">\n",
       "<thead><tr><th>idx</th><th>RA</th><th>DEC</th><th>radvel</th><th>ra_match</th><th>dec_match</th><th>offset</th></tr></thead>\n",
       "<thead><tr><th></th><th></th><th></th><th></th><th></th><th></th><th>arcmin</th></tr></thead>\n",
       "<tr><td>0</td><td>19.0186</td><td>46.7304</td><td>5081</td><td>19.0684</td><td>46.7400</td><td>2.128</td></tr>\n",
       "<tr><td>1</td><td>20.2887</td><td>40.4703</td><td>5859</td><td>20.3348</td><td>40.4877</td><td>2.349</td></tr>\n",
       "<tr><td>2</td><td>125.8860</td><td>21.3377</td><td>5364</td><td>125.9044</td><td>21.3382</td><td>1.031</td></tr>\n",
       "<tr><td>3</td><td>136.0020</td><td>21.9679</td><td>3093</td><td>136.0007</td><td>21.9679</td><td>0.070</td></tr>\n",
       "<tr><td>4</td><td>141.0570</td><td>40.6372</td><td>8267</td><td>141.0915</td><td>40.6838</td><td>3.206</td></tr>\n",
       "<tr><td>5</td><td>146.7000</td><td>22.0116</td><td>7597</td><td>146.7033</td><td>22.0183</td><td>0.441</td></tr>\n",
       "<tr><td>6</td><td>148.7850</td><td>14.2922</td><td>7194</td><td>148.7781</td><td>14.2961</td><td>0.468</td></tr>\n",
       "<tr><td>7</td><td>149.7510</td><td>17.8168</td><td>7182</td><td>148.8031</td><td>14.3127</td><td>217.229</td></tr>\n",
       "<tr><td>8</td><td>175.0390</td><td>15.3270</td><td>3325</td><td>175.0394</td><td>15.3273</td><td>0.028</td></tr>\n",
       "<tr><td>9</td><td>191.5420</td><td>30.7317</td><td>6651</td><td>191.5420</td><td>30.7323</td><td>0.034</td></tr>\n",
       "<tr><td>10</td><td>194.9130</td><td>28.8959</td><td>6093</td><td>194.9129</td><td>28.8954</td><td>0.032</td></tr>\n",
       "<tr><td>11</td><td>199.0260</td><td>41.5011</td><td>6300</td><td>199.0113</td><td>41.4864</td><td>1.103</td></tr>\n",
       "<tr><td>12</td><td>206.5770</td><td>43.8511</td><td>2229</td><td>206.5716</td><td>43.8505</td><td>0.235</td></tr>\n",
       "<tr><td>13</td><td>209.9630</td><td>38.1821</td><td>2759</td><td>209.9626</td><td>38.1818</td><td>0.025</td></tr>\n",
       "<tr><td>14</td><td>213.5560</td><td>15.6214</td><td>4644</td><td>213.5560</td><td>15.6222</td><td>0.049</td></tr>\n",
       "<tr><td>15</td><td>219.9670</td><td>42.7421</td><td>2517</td><td>219.9665</td><td>42.7423</td><td>0.026</td></tr>\n",
       "<tr><td>16</td><td>226.6930</td><td>12.8502</td><td>6486</td><td>226.7227</td><td>12.8587</td><td>1.808</td></tr>\n",
       "<tr><td>17</td><td>237.4890</td><td>20.8057</td><td>10926</td><td>237.5816</td><td>20.7630</td><td>5.790</td></tr>\n",
       "<tr><td>18</td><td>241.5190</td><td>20.8014</td><td>4798</td><td>241.5228</td><td>20.7828</td><td>1.137</td></tr>\n",
       "<tr><td>19</td><td>317.0880</td><td>18.2002</td><td>4826</td><td>317.1035</td><td>18.2030</td><td>0.897</td></tr>\n",
       "<tr><td>20</td><td>329.2350</td><td>6.6485</td><td>7857</td><td>329.2493</td><td>6.6552</td><td>0.941</td></tr>\n",
       "<tr><td>21</td><td>333.8300</td><td>37.3012</td><td>5207</td><td>333.8217</td><td>37.2992</td><td>0.414</td></tr>\n",
       "</table><style>table.dataTable {clear: both; width: auto !important; margin: 0 !important;}\n",
       ".dataTables_info, .dataTables_length, .dataTables_filter, .dataTables_paginate{\n",
       "display: inline-block; margin-right: 1em; }\n",
       ".paginate_button { margin-right: 5px; }\n",
       "</style>\n",
       "<script>\n",
       "\n",
       "var astropy_sort_num = function(a, b) {\n",
       "    var a_num = parseFloat(a);\n",
       "    var b_num = parseFloat(b);\n",
       "\n",
       "    if (isNaN(a_num) && isNaN(b_num))\n",
       "        return ((a < b) ? -1 : ((a > b) ? 1 : 0));\n",
       "    else if (!isNaN(a_num) && !isNaN(b_num))\n",
       "        return ((a_num < b_num) ? -1 : ((a_num > b_num) ? 1 : 0));\n",
       "    else\n",
       "        return isNaN(a_num) ? -1 : 1;\n",
       "}\n",
       "\n",
       "require.config({paths: {\n",
       "    datatables: 'https://cdn.datatables.net/1.10.12/js/jquery.dataTables.min'\n",
       "}});\n",
       "require([\"datatables\"], function(){\n",
       "    console.log(\"$('#table4531670480-51000').dataTable()\");\n",
       "    \n",
       "jQuery.extend( jQuery.fn.dataTableExt.oSort, {\n",
       "    \"optionalnum-asc\": astropy_sort_num,\n",
       "    \"optionalnum-desc\": function (a,b) { return -astropy_sort_num(a, b); }\n",
       "});\n",
       "\n",
       "    $('#table4531670480-51000').dataTable({\n",
       "        order: [],\n",
       "        pageLength: 50,\n",
       "        lengthMenu: [[10, 25, 50, 100, 500, 1000, -1], [10, 25, 50, 100, 500, 1000, 'All']],\n",
       "        pagingType: \"full_numbers\",\n",
       "        columnDefs: [{targets: [0, 1, 2, 3, 4, 5, 6], type: \"optionalnum\"}]\n",
       "    });\n",
       "});\n",
       "</script>\n"
      ],
      "text/plain": [
       "<IPython.core.display.HTML object>"
      ]
     },
     "execution_count": 23,
     "metadata": {},
     "output_type": "execute_result"
    }
   ],
   "source": [
    "from astropy import units as u\n",
    "from astropy.coordinates import SkyCoord\n",
    "\n",
    "capt = SkyCoord(aptable['RA']*u.degree, aptable['DEC']*u.degree)\n",
    "cmyt = SkyCoord(mytable['ra']*u.degree, mytable['dec']*u.degree)\n",
    "# use match_to_catalog method to match aptable sources with the nearest catalogued sources\n",
    "idx, d2d, d3d = capt.match_to_catalog_sky(cmyt)  \n",
    "\n",
    "# create new table\n",
    "newaptable=aptable.copy()\n",
    "radvel = mytable[idx]['radial_velocity']\n",
    "newaptable['radvel']=radvel\n",
    "newaptable['ra_match']=mytable[idx]['ra']\n",
    "newaptable['dec_match']=mytable[idx]['dec']\n",
    "newaptable['offset']=d2d.to(u.arcmin)\n",
    "newaptable['ra_match'].format='.4f'\n",
    "newaptable['dec_match'].format='.4f'\n",
    "newaptable['offset'].format='.3f'\n",
    "newaptable.show_in_notebook()"
   ]
  },
  {
   "cell_type": "markdown",
   "metadata": {},
   "source": [
    "<a id=\"combo\"></a>\n",
    "\n",
    "# 4c. Another example with TAP table cross-correlation: Combining data from different catalogs\n",
    "Now we'd like to take the redshift information (above, as a radial velocity) and determine a search radius to use for each galaxy based on its distance, so that we are are searching within a given physical distance. <i>E.g., for our science proposal, we need to check that the redshifts (or radial velocities) of the galaxies that are close on the sky (within 50 kpc physical distances) have similar distances, suggesting these are truly close in 3-dimensions and therefore potentially interacting galaxies.</i>"
   ]
  },
  {
   "cell_type": "raw",
   "metadata": {},
   "source": [
    "# original code\n",
    "\n",
    "## The radial_velocity is in km/s, and this is just c*z, so\n",
    "c=3.0e5 # km/s\n",
    "redshifts=mytable['radial_velocity'].filled(0.)/c  # Filling masked values with zero\n",
    "mytable['redshift']=redshifts\n",
    "from astropy import units\n",
    "physdist=0.05*units.Mpc # 50 kpc physical distance\n",
    "\n",
    "## This needs scipy.  \n",
    "from astropy.cosmology import Planck15\n",
    "\n",
    "angDdist=Planck15.angular_diameter_distance(mytable['redshift'])\n",
    "\n",
    "## angDdist is returned from the astropy.cosmology module as a Quantity object, \n",
    "##  i.e. a value and a unit.  Arctan is smart enough not to operate on quantities\n",
    "##  that aren't unitless.  So angDdist.value to just get the value.\n",
    "angDrad=numpy.arctan(physdist/angDdist)\n",
    "angDdeg=angDrad*units.deg/units.rad\n",
    "mytable['angDdeg']=angDdeg\n",
    "mytable['ra'].format='.4f'\n",
    "mytable['dec'].format='.4f'\n",
    "mytable['redshift'].format='.3f'\n",
    "mytable['angDdeg'].format='.2e'\n",
    "mytable.show_in_notebook()"
   ]
  },
  {
   "cell_type": "markdown",
   "metadata": {},
   "source": [
    "### !!! instead of using the above cell with mytable, use newaptable as shown below\n"
   ]
  },
  {
   "cell_type": "code",
   "execution_count": 26,
   "metadata": {},
   "outputs": [
    {
     "data": {
      "text/html": [
       "&lt;Table length=22&gt;\n",
       "<table id=\"table4531670480-963025\" class=\"table-striped table-bordered table-condensed\">\n",
       "<thead><tr><th>idx</th><th>RA</th><th>DEC</th><th>radvel</th><th>ra_match</th><th>dec_match</th><th>offset</th><th>redshift</th><th>angDdeg</th></tr></thead>\n",
       "<thead><tr><th></th><th></th><th></th><th></th><th></th><th></th><th>arcmin</th><th></th><th>deg</th></tr></thead>\n",
       "<tr><td>0</td><td>19.0186</td><td>46.7304</td><td>5081</td><td>19.0684</td><td>46.7400</td><td>2.128</td><td>0.017</td><td>3.90e-02</td></tr>\n",
       "<tr><td>1</td><td>20.2887</td><td>40.4703</td><td>5859</td><td>20.3348</td><td>40.4877</td><td>2.349</td><td>0.020</td><td>3.39e-02</td></tr>\n",
       "<tr><td>2</td><td>125.8860</td><td>21.3377</td><td>5364</td><td>125.9044</td><td>21.3382</td><td>1.031</td><td>0.018</td><td>3.70e-02</td></tr>\n",
       "<tr><td>3</td><td>136.0020</td><td>21.9679</td><td>3093</td><td>136.0007</td><td>21.9679</td><td>0.070</td><td>0.010</td><td>6.36e-02</td></tr>\n",
       "<tr><td>4</td><td>141.0570</td><td>40.6372</td><td>8267</td><td>141.0915</td><td>40.6838</td><td>3.206</td><td>0.028</td><td>2.43e-02</td></tr>\n",
       "<tr><td>5</td><td>146.7000</td><td>22.0116</td><td>7597</td><td>146.7033</td><td>22.0183</td><td>0.441</td><td>0.025</td><td>2.64e-02</td></tr>\n",
       "<tr><td>6</td><td>148.7850</td><td>14.2922</td><td>7194</td><td>148.7781</td><td>14.2961</td><td>0.468</td><td>0.024</td><td>2.78e-02</td></tr>\n",
       "<tr><td>7</td><td>149.7510</td><td>17.8168</td><td>7182</td><td>148.8031</td><td>14.3127</td><td>217.229</td><td>0.024</td><td>2.78e-02</td></tr>\n",
       "<tr><td>8</td><td>175.0390</td><td>15.3270</td><td>3325</td><td>175.0394</td><td>15.3273</td><td>0.028</td><td>0.011</td><td>5.92e-02</td></tr>\n",
       "<tr><td>9</td><td>191.5420</td><td>30.7317</td><td>6651</td><td>191.5420</td><td>30.7323</td><td>0.034</td><td>0.022</td><td>3.00e-02</td></tr>\n",
       "<tr><td>10</td><td>194.9130</td><td>28.8959</td><td>6093</td><td>194.9129</td><td>28.8954</td><td>0.032</td><td>0.020</td><td>3.27e-02</td></tr>\n",
       "<tr><td>11</td><td>199.0260</td><td>41.5011</td><td>6300</td><td>199.0113</td><td>41.4864</td><td>1.103</td><td>0.021</td><td>3.16e-02</td></tr>\n",
       "<tr><td>12</td><td>206.5770</td><td>43.8511</td><td>2229</td><td>206.5716</td><td>43.8505</td><td>0.235</td><td>0.007</td><td>8.79e-02</td></tr>\n",
       "<tr><td>13</td><td>209.9630</td><td>38.1821</td><td>2759</td><td>209.9626</td><td>38.1818</td><td>0.025</td><td>0.009</td><td>7.12e-02</td></tr>\n",
       "<tr><td>14</td><td>213.5560</td><td>15.6214</td><td>4644</td><td>213.5560</td><td>15.6222</td><td>0.049</td><td>0.015</td><td>4.26e-02</td></tr>\n",
       "<tr><td>15</td><td>219.9670</td><td>42.7421</td><td>2517</td><td>219.9665</td><td>42.7423</td><td>0.026</td><td>0.008</td><td>7.80e-02</td></tr>\n",
       "<tr><td>16</td><td>226.6930</td><td>12.8502</td><td>6486</td><td>226.7227</td><td>12.8587</td><td>1.808</td><td>0.022</td><td>3.07e-02</td></tr>\n",
       "<tr><td>17</td><td>237.4890</td><td>20.8057</td><td>10926</td><td>237.5816</td><td>20.7630</td><td>5.790</td><td>0.036</td><td>1.86e-02</td></tr>\n",
       "<tr><td>18</td><td>241.5190</td><td>20.8014</td><td>4798</td><td>241.5228</td><td>20.7828</td><td>1.137</td><td>0.016</td><td>4.13e-02</td></tr>\n",
       "<tr><td>19</td><td>317.0880</td><td>18.2002</td><td>4826</td><td>317.1035</td><td>18.2030</td><td>0.897</td><td>0.016</td><td>4.10e-02</td></tr>\n",
       "<tr><td>20</td><td>329.2350</td><td>6.6485</td><td>7857</td><td>329.2493</td><td>6.6552</td><td>0.941</td><td>0.026</td><td>2.55e-02</td></tr>\n",
       "<tr><td>21</td><td>333.8300</td><td>37.3012</td><td>5207</td><td>333.8217</td><td>37.2992</td><td>0.414</td><td>0.017</td><td>3.81e-02</td></tr>\n",
       "</table><style>table.dataTable {clear: both; width: auto !important; margin: 0 !important;}\n",
       ".dataTables_info, .dataTables_length, .dataTables_filter, .dataTables_paginate{\n",
       "display: inline-block; margin-right: 1em; }\n",
       ".paginate_button { margin-right: 5px; }\n",
       "</style>\n",
       "<script>\n",
       "\n",
       "var astropy_sort_num = function(a, b) {\n",
       "    var a_num = parseFloat(a);\n",
       "    var b_num = parseFloat(b);\n",
       "\n",
       "    if (isNaN(a_num) && isNaN(b_num))\n",
       "        return ((a < b) ? -1 : ((a > b) ? 1 : 0));\n",
       "    else if (!isNaN(a_num) && !isNaN(b_num))\n",
       "        return ((a_num < b_num) ? -1 : ((a_num > b_num) ? 1 : 0));\n",
       "    else\n",
       "        return isNaN(a_num) ? -1 : 1;\n",
       "}\n",
       "\n",
       "require.config({paths: {\n",
       "    datatables: 'https://cdn.datatables.net/1.10.12/js/jquery.dataTables.min'\n",
       "}});\n",
       "require([\"datatables\"], function(){\n",
       "    console.log(\"$('#table4531670480-963025').dataTable()\");\n",
       "    \n",
       "jQuery.extend( jQuery.fn.dataTableExt.oSort, {\n",
       "    \"optionalnum-asc\": astropy_sort_num,\n",
       "    \"optionalnum-desc\": function (a,b) { return -astropy_sort_num(a, b); }\n",
       "});\n",
       "\n",
       "    $('#table4531670480-963025').dataTable({\n",
       "        order: [],\n",
       "        pageLength: 50,\n",
       "        lengthMenu: [[10, 25, 50, 100, 500, 1000, -1], [10, 25, 50, 100, 500, 1000, 'All']],\n",
       "        pagingType: \"full_numbers\",\n",
       "        columnDefs: [{targets: [0, 1, 2, 3, 4, 5, 6, 7, 8], type: \"optionalnum\"}]\n",
       "    });\n",
       "});\n",
       "</script>\n"
      ],
      "text/plain": [
       "<IPython.core.display.HTML object>"
      ]
     },
     "execution_count": 26,
     "metadata": {},
     "output_type": "execute_result"
    }
   ],
   "source": [
    "## The radial_velocity is in km/s, and this is just c*z, so\n",
    "c=3.0e5 # km/s\n",
    "\n",
    "newaptable['redshift']=newaptable['radvel']/c  # Filling masked values with zero\n",
    "\n",
    "physdist=0.05*u.Mpc # 50 kpc physical distance\n",
    "\n",
    "## This needs scipy.  \n",
    "from astropy.cosmology import Planck15\n",
    "\n",
    "angDdist=Planck15.angular_diameter_distance(newaptable['redshift'])\n",
    "\n",
    "## angDdist is returned from the astropy.cosmology module as a Quantity object, \n",
    "##  i.e. a value and a unit.  Arctan is smart enough not to operate on quantities\n",
    "##  that aren't unitless.  So angDdist.value to just get the value.\n",
    "angDrad=numpy.arctan(physdist/angDdist)\n",
    "angDdeg=angDrad.to(u.degree)\n",
    "newaptable['angDdeg']=angDdeg\n",
    "newaptable['RA'].format='.4f'\n",
    "newaptable['DEC'].format='.4f'\n",
    "newaptable['redshift'].format='.3f'\n",
    "newaptable['angDdeg'].format='.2e'\n",
    "newaptable.show_in_notebook()"
   ]
  },
  {
   "cell_type": "markdown",
   "metadata": {},
   "source": [
    "<a id=\"ssa\"></a>\n",
    "# 6. SSA:  Using the Simple Spectral Access protocol to retrieve spectra."
   ]
  },
  {
   "cell_type": "markdown",
   "metadata": {},
   "source": [
    "See also the [notebook](heasarc_Spectral_Access.ipynb) specific to the Simple Spectral Access __[Protocol](http://www.ivoa.net/documents/SSA/)__.\n",
    "\n",
    "<i>Returning to our science example, suppose that we have analyzed the available Chandra image for the three matches above and discovered that one of these galaxies appears to have a potential ultraluminous X-ray source (ULX)! Now, we want to charatcterize the spectrum for this source. Therefore we will ask for a large exposure time and need to justify this by showing the spectrum of a prototypical ULX, M82 X-1. </i>\n"
   ]
  },
  {
   "cell_type": "code",
   "execution_count": 27,
   "metadata": {},
   "outputs": [
    {
     "data": {
      "text/html": [
       "&lt;Table masked=True length=3&gt;\n",
       "<table id=\"table4531148688-8416\" class=\"table-striped table-bordered table-condensed\">\n",
       "<thead><tr><th>idx</th><th>obsid</th><th>status</th><th>name</th><th>ra</th><th>dec</th><th>time</th><th>detector</th><th>grating</th><th>exposure</th><th>type</th><th>pi</th><th>public_date</th><th>SSA_datalength</th><th>SSA_datamodel</th><th>SSA_title</th><th>SSA_instrument</th><th>SSA_publisher</th><th>SSA_tmid</th><th>SSA_stop_time</th><th>SSA_start_time</th><th>SSA_duration</th><th>SSA_bandpass</th><th>SSA_wavelength_max</th><th>SSA_wavelength_min</th><th>SSA_bandwidth</th><th>SSA_ra</th><th>SSA_dec</th><th>SSA_coord_obs</th><th>SSA_fov</th><th>SSA_reference</th><th>SSA_format</th></tr></thead>\n",
       "<thead><tr><th></th><th></th><th></th><th></th><th>deg</th><th>deg</th><th>mjd</th><th></th><th></th><th>s</th><th></th><th></th><th>mjd</th><th></th><th></th><th></th><th></th><th></th><th>mjd</th><th>mjd</th><th>mjd</th><th>s</th><th>meter</th><th>meter</th><th>meter</th><th>meter</th><th>deg</th><th>deg</th><th>deg</th><th>deg</th><th></th><th></th></tr></thead>\n",
       "<tr><td>0</td><td>17860</td><td>archived</td><td>M82 X-1</td><td>148.95917</td><td>69.67972</td><td>57639.729200000002</td><td>ACIS-S</td><td>HETG</td><td>51060</td><td>TOO</td><td>Walton</td><td>58010</td><td>12.0</td><td>Spectrum-1.0</td><td>acisf17860N002_pha2</td><td>ACIS-S</td><td>HEASARC</td><td>57640.040393247451</td><td>57640.350814633915</td><td>57639.729200000002</td><td>51060.0</td><td>3.16159e-09</td><td>6.1991999999999999e-09</td><td>1.2397999999999999e-10</td><td>6.0752199999999996e-09</td><td>148.95917</td><td>69.679720000000003</td><td>--</td><td>0.81103500403976259</td><td>https://heasarc.gsfc.nasa.gov/FTP/chandra/data/science/ao17/cat4/17860/primary/acisf17860N002_pha2.fits.gz</td><td>application/fits</td></tr>\n",
       "<tr><td>1</td><td>19791</td><td>archived</td><td>M82 X-1</td><td>148.95917</td><td>69.67972</td><td>57641.570200000002</td><td>ACIS-S</td><td>HETG</td><td>15310</td><td>TOO</td><td>Walton</td><td>58010</td><td>12.0</td><td>Spectrum-1.0</td><td>acisf19791N002_pha2</td><td>ACIS-S</td><td>HEASARC</td><td>57641.668022753758</td><td>57641.765065583451</td><td>57641.570200000002</td><td>15310.0</td><td>3.16159e-09</td><td>6.1991999999999999e-09</td><td>1.2397999999999999e-10</td><td>6.0752199999999996e-09</td><td>148.95917</td><td>69.679720000000003</td><td>--</td><td>0.81103500403976259</td><td>https://heasarc.gsfc.nasa.gov/FTP/chandra/data/science/ao17/cat4/19791/primary/acisf19791N002_pha2.fits.gz</td><td>application/fits</td></tr>\n",
       "<tr><td>2</td><td>19792</td><td>archived</td><td>M82 X-1</td><td>148.95917</td><td>69.67972</td><td>57642.353000000003</td><td>ACIS-S</td><td>HETG</td><td>32440</td><td>TOO</td><td>Walton</td><td>58010</td><td>12.0</td><td>Spectrum-1.0</td><td>acisf19792N002_pha2</td><td>ACIS-S</td><td>HEASARC</td><td>57642.558369954859</td><td>57642.762945849187</td><td>57642.353000000003</td><td>32440.0</td><td>3.16159e-09</td><td>6.1991999999999999e-09</td><td>1.2397999999999999e-10</td><td>6.0752199999999996e-09</td><td>148.95917</td><td>69.679720000000003</td><td>--</td><td>0.81103500403976259</td><td>https://heasarc.gsfc.nasa.gov/FTP/chandra/data/science/ao17/cat4/19792/primary/acisf19792N002_pha2.fits.gz</td><td>application/fits</td></tr>\n",
       "</table><style>table.dataTable {clear: both; width: auto !important; margin: 0 !important;}\n",
       ".dataTables_info, .dataTables_length, .dataTables_filter, .dataTables_paginate{\n",
       "display: inline-block; margin-right: 1em; }\n",
       ".paginate_button { margin-right: 5px; }\n",
       "</style>\n",
       "<script>\n",
       "\n",
       "var astropy_sort_num = function(a, b) {\n",
       "    var a_num = parseFloat(a);\n",
       "    var b_num = parseFloat(b);\n",
       "\n",
       "    if (isNaN(a_num) && isNaN(b_num))\n",
       "        return ((a < b) ? -1 : ((a > b) ? 1 : 0));\n",
       "    else if (!isNaN(a_num) && !isNaN(b_num))\n",
       "        return ((a_num < b_num) ? -1 : ((a_num > b_num) ? 1 : 0));\n",
       "    else\n",
       "        return isNaN(a_num) ? -1 : 1;\n",
       "}\n",
       "\n",
       "require.config({paths: {\n",
       "    datatables: 'https://cdn.datatables.net/1.10.12/js/jquery.dataTables.min'\n",
       "}});\n",
       "require([\"datatables\"], function(){\n",
       "    console.log(\"$('#table4531148688-8416').dataTable()\");\n",
       "    \n",
       "jQuery.extend( jQuery.fn.dataTableExt.oSort, {\n",
       "    \"optionalnum-asc\": astropy_sort_num,\n",
       "    \"optionalnum-desc\": function (a,b) { return -astropy_sort_num(a, b); }\n",
       "});\n",
       "\n",
       "    $('#table4531148688-8416').dataTable({\n",
       "        order: [],\n",
       "        pageLength: 50,\n",
       "        lengthMenu: [[10, 25, 50, 100, 500, 1000, -1], [10, 25, 50, 100, 500, 1000, 'All']],\n",
       "        pagingType: \"full_numbers\",\n",
       "        columnDefs: [{targets: [0, 4, 5, 6, 9, 12, 18, 19, 20, 21, 22, 23, 24, 25, 26, 27, 28, 29], type: \"optionalnum\"}]\n",
       "    });\n",
       "});\n",
       "</script>\n"
      ],
      "text/plain": [
       "<IPython.core.display.HTML object>"
      ]
     },
     "execution_count": 27,
     "metadata": {},
     "output_type": "execute_result"
    }
   ],
   "source": [
    "import astropy.coordinates as coord\n",
    "m82=coord.SkyCoord.from_name(\"m82\")\n",
    "pos='{},{}'.format(m82.ra.deg,m82.dec.deg)\n",
    "params = {'table': 'chanmaster',\"POS\":pos,\"SIZE\":\".01\", \"REQUEST\":\"queryData\"}\n",
    "r = requests.get('https://heasarc.nasa.gov/xamin/vo/ssa', params=params)\n",
    "spec_table = Table.read(io.BytesIO(r.content))\n",
    "spec_table.show_in_notebook()"
   ]
  },
  {
   "cell_type": "code",
   "execution_count": 28,
   "metadata": {},
   "outputs": [
    {
     "data": {
      "text/html": [
       "&lt;Table length=12&gt;\n",
       "<table id=\"table4453673296-706434\" class=\"table-striped table-bordered table-condensed\">\n",
       "<thead><tr><th>idx</th><th>SPEC_NUM</th><th>TG_M</th><th>TG_PART</th><th>TG_SRCID</th><th>X</th><th>Y</th><th>CHANNEL [8192]</th><th>COUNTS [8192]</th><th>STAT_ERR [8192]</th><th>BACKGROUND_UP [8192]</th><th>BACKGROUND_DOWN [8192]</th><th>BIN_LO [8192]</th><th>BIN_HI [8192]</th></tr></thead>\n",
       "<tr><td>0</td><td>1</td><td>-3</td><td>1</td><td>1</td><td>4103.92</td><td>4072.69</td><td>1 .. 8192</td><td>0 .. 0</td><td>1.86603 .. 1.86603</td><td>0 .. 0</td><td>0 .. 0</td><td>7.15916666667 .. 0.333333333333</td><td>7.16 .. 0.334166666667</td></tr>\n",
       "<tr><td>1</td><td>2</td><td>-2</td><td>1</td><td>1</td><td>4103.92</td><td>4072.69</td><td>1 .. 8192</td><td>0 .. 0</td><td>1.86603 .. 1.86603</td><td>0 .. 0</td><td>0 .. 0</td><td>10.73875 .. 0.5</td><td>10.74 .. 0.50125</td></tr>\n",
       "<tr><td>2</td><td>3</td><td>-1</td><td>1</td><td>1</td><td>4103.92</td><td>4072.69</td><td>1 .. 8192</td><td>0 .. 0</td><td>1.86603 .. 1.86603</td><td>0 .. 0</td><td>0 .. 0</td><td>21.4775 .. 1.0</td><td>21.48 .. 1.0025</td></tr>\n",
       "<tr><td>3</td><td>4</td><td>1</td><td>1</td><td>1</td><td>4103.92</td><td>4072.69</td><td>1 .. 8192</td><td>0 .. 0</td><td>1.86603 .. 1.86603</td><td>0 .. 0</td><td>0 .. 0</td><td>21.4775 .. 1.0</td><td>21.48 .. 1.0025</td></tr>\n",
       "<tr><td>4</td><td>5</td><td>2</td><td>1</td><td>1</td><td>4103.92</td><td>4072.69</td><td>1 .. 8192</td><td>0 .. 0</td><td>1.86603 .. 1.86603</td><td>0 .. 0</td><td>0 .. 0</td><td>10.73875 .. 0.5</td><td>10.74 .. 0.50125</td></tr>\n",
       "<tr><td>5</td><td>6</td><td>3</td><td>1</td><td>1</td><td>4103.92</td><td>4072.69</td><td>1 .. 8192</td><td>0 .. 0</td><td>1.86603 .. 1.86603</td><td>0 .. 0</td><td>0 .. 0</td><td>7.15916666667 .. 0.333333333333</td><td>7.16 .. 0.334166666667</td></tr>\n",
       "<tr><td>6</td><td>7</td><td>-3</td><td>2</td><td>1</td><td>4103.92</td><td>4072.69</td><td>1 .. 8192</td><td>0 .. 0</td><td>1.86603 .. 1.86603</td><td>0 .. 0</td><td>0 .. 0</td><td>13.985 .. 0.333333333333</td><td>13.9866666667 .. 0.335</td></tr>\n",
       "<tr><td>7</td><td>8</td><td>-2</td><td>2</td><td>1</td><td>4103.92</td><td>4072.69</td><td>1 .. 8192</td><td>0 .. 0</td><td>1.86603 .. 1.86603</td><td>0 .. 0</td><td>0 .. 0</td><td>20.9775 .. 0.5</td><td>20.98 .. 0.5025</td></tr>\n",
       "<tr><td>8</td><td>9</td><td>-1</td><td>2</td><td>1</td><td>4103.92</td><td>4072.69</td><td>1 .. 8192</td><td>0 .. 0</td><td>1.86603 .. 1.86603</td><td>0 .. 0</td><td>0 .. 0</td><td>41.955 .. 1.0</td><td>41.96 .. 1.005</td></tr>\n",
       "<tr><td>9</td><td>10</td><td>1</td><td>2</td><td>1</td><td>4103.92</td><td>4072.69</td><td>1 .. 8192</td><td>0 .. 0</td><td>1.86603 .. 1.86603</td><td>0 .. 0</td><td>0 .. 0</td><td>41.955 .. 1.0</td><td>41.96 .. 1.005</td></tr>\n",
       "<tr><td>10</td><td>11</td><td>2</td><td>2</td><td>1</td><td>4103.92</td><td>4072.69</td><td>1 .. 8192</td><td>0 .. 0</td><td>1.86603 .. 1.86603</td><td>0 .. 0</td><td>0 .. 0</td><td>20.9775 .. 0.5</td><td>20.98 .. 0.5025</td></tr>\n",
       "<tr><td>11</td><td>12</td><td>3</td><td>2</td><td>1</td><td>4103.92</td><td>4072.69</td><td>1 .. 8192</td><td>0 .. 0</td><td>1.86603 .. 1.86603</td><td>0 .. 0</td><td>0 .. 0</td><td>13.985 .. 0.333333333333</td><td>13.9866666667 .. 0.335</td></tr>\n",
       "</table><style>table.dataTable {clear: both; width: auto !important; margin: 0 !important;}\n",
       ".dataTables_info, .dataTables_length, .dataTables_filter, .dataTables_paginate{\n",
       "display: inline-block; margin-right: 1em; }\n",
       ".paginate_button { margin-right: 5px; }\n",
       "</style>\n",
       "<script>\n",
       "\n",
       "var astropy_sort_num = function(a, b) {\n",
       "    var a_num = parseFloat(a);\n",
       "    var b_num = parseFloat(b);\n",
       "\n",
       "    if (isNaN(a_num) && isNaN(b_num))\n",
       "        return ((a < b) ? -1 : ((a > b) ? 1 : 0));\n",
       "    else if (!isNaN(a_num) && !isNaN(b_num))\n",
       "        return ((a_num < b_num) ? -1 : ((a_num > b_num) ? 1 : 0));\n",
       "    else\n",
       "        return isNaN(a_num) ? -1 : 1;\n",
       "}\n",
       "\n",
       "require.config({paths: {\n",
       "    datatables: 'https://cdn.datatables.net/1.10.12/js/jquery.dataTables.min'\n",
       "}});\n",
       "require([\"datatables\"], function(){\n",
       "    console.log(\"$('#table4453673296-706434').dataTable()\");\n",
       "    \n",
       "jQuery.extend( jQuery.fn.dataTableExt.oSort, {\n",
       "    \"optionalnum-asc\": astropy_sort_num,\n",
       "    \"optionalnum-desc\": function (a,b) { return -astropy_sort_num(a, b); }\n",
       "});\n",
       "\n",
       "    $('#table4453673296-706434').dataTable({\n",
       "        order: [],\n",
       "        pageLength: 50,\n",
       "        lengthMenu: [[10, 25, 50, 100, 500, 1000, -1], [10, 25, 50, 100, 500, 1000, 'All']],\n",
       "        pagingType: \"full_numbers\",\n",
       "        columnDefs: [{targets: [0, 1, 2, 3, 4, 5, 6, 7, 8, 9, 10, 11, 12, 13], type: \"optionalnum\"}]\n",
       "    });\n",
       "});\n",
       "</script>\n"
      ],
      "text/plain": [
       "<IPython.core.display.HTML object>"
      ]
     },
     "execution_count": 28,
     "metadata": {},
     "output_type": "execute_result"
    }
   ],
   "source": [
    "## Get the first spectrum (since it has a long-ish exposure.)\n",
    "import astropy.io.fits as fits\n",
    "hdu_list=fits.open(spec_table[0]['SSA_reference'].decode()) # Byte format, so just decode() to string\n",
    "#hdu_list.info()\n",
    "table = Table(hdu_list[1].data)\n",
    "table.show_in_notebook()\n"
   ]
  },
  {
   "cell_type": "code",
   "execution_count": 29,
   "metadata": {},
   "outputs": [
    {
     "data": {
      "image/png": "[encoded data removed]",
      "text/plain": [
       "<matplotlib.figure.Figure at 0x10977d7d0>"
      ]
     },
     "metadata": {},
     "output_type": "display_data"
    }
   ],
   "source": [
    "## Here, you just have to be familiar with the format of these spectra by reading Chandra documentation.\n",
    "for i in range(len(table)):\n",
    "    matplotlib.rcParams['figure.figsize'] = (6, 6)\n",
    "    ax=plt.subplot(6,2,i+1)\n",
    "    pha = plt.plot( table['CHANNEL'][i],table['COUNTS'][i])\n",
    "    ax.set_yscale('log')\n",
    "    if table['TG_PART'][i] == 1:\n",
    "        instr='HEG'\n",
    "    if table['TG_PART'][i] == 2:\n",
    "        instr='MEG'\n",
    "    if table['TG_PART'][i] == 3:\n",
    "        instr='LEG'\n",
    "    ax.set_title(str(table['TG_M'][i])+' '+instr)\n",
    "    plt.tight_layout()\n"
   ]
  },
  {
   "cell_type": "markdown",
   "metadata": {
    "collapsed": true
   },
   "source": [
    "Note: The 12 plots here show all the different HEG and MEG components (+/- 3, +/- 2, and +/- 1 for each grating) for the grating data, as titled. In practice, you might want to download the fits file and use a different analysis and plotting tool to create an energy spectrum plot using SHERPA or XSPEC, etc. \n",
    "\n",
    "You can download the file directly using requests:"
   ]
  },
  {
   "cell_type": "code",
   "execution_count": 30,
   "metadata": {
    "scrolled": true
   },
   "outputs": [],
   "source": [
    "## Because urllib is hard to make Python 2/3 compatible, just use requests:\n",
    "r=requests.get(spec_table[0]['SSA_reference'].decode(), stream=True)\n",
    "with open('my_M82_spectrum.fits','wb') as f:\n",
    "    f.write(r.content)"
   ]
  },
  {
   "cell_type": "markdown",
   "metadata": {
    "collapsed": true
   },
   "source": [
    "You can then run Xspec etc. to analyze the spectrum. See the [SSA notebook](heasarc_Spectral_Access.ipynb) for that example. "
   ]
  }
 ],
 "metadata": {
  "anaconda-cloud": {},
  "kernelspec": {
   "display_name": "Python 2",
   "language": "python",
   "name": "python2"
  },
  "language_info": {
   "codemirror_mode": {
    "name": "ipython",
    "version": 2
   },
   "file_extension": ".py",
   "mimetype": "text/x-python",
   "name": "python",
   "nbconvert_exporter": "python",
   "pygments_lexer": "ipython2",
   "version": "2.7.14"
  },
  "nav_menu": {},
  "toc": {
   "navigate_menu": true,
   "number_sections": false,
   "sideBar": true,
   "threshold": 6,
   "toc_cell": false,
   "toc_section_display": "block",
   "toc_window_display": false
  }
 },
 "nbformat": 4,
 "nbformat_minor": 1
}
