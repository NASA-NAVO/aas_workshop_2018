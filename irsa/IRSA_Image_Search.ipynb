{
 "cells": [
  {
   "cell_type": "markdown",
   "metadata": {},
   "source": [
    "# IRSA Simple Image Access Version 2\n",
    "(https://irsa.ipac.caltech.edu/ibe/sia.html)"
   ]
  },
  {
   "cell_type": "markdown",
   "metadata": {},
   "source": [
    "<a id='toc'></a>"
   ]
  },
  {
   "cell_type": "markdown",
   "metadata": {},
   "source": [
    "## Table of Contents\n",
    "\n",
    "1. <a href = \"#imports\">Necessary Python Modules</a>\n",
    "2. <a href = \"#sia2\">Find AllWISE Images that meet spatial and wavelength constraints.</a>\n",
    "3. <a href = \"#download\">Download an image.</a>"
   ]
  },
  {
   "cell_type": "markdown",
   "metadata": {},
   "source": [
    "<a id='imports'></a>"
   ]
  },
  {
   "cell_type": "markdown",
   "metadata": {},
   "source": [
    "## 1. Import necessary Python modules"
   ]
  },
  {
   "cell_type": "code",
   "execution_count": 40,
   "metadata": {
    "collapsed": true
   },
   "outputs": [],
   "source": [
    "import warnings\n",
    "warnings.filterwarnings(\"ignore\")\n",
    "\n",
    "import io\n",
    "import requests\n",
    "from astropy.table import Table"
   ]
  },
  {
   "cell_type": "markdown",
   "metadata": {},
   "source": [
    "<a href = \"#toc\">Table of Contents</a>"
   ]
  },
  {
   "cell_type": "markdown",
   "metadata": {},
   "source": [
    "<a id='sia2'></a>"
   ]
  },
  {
   "cell_type": "markdown",
   "metadata": {},
   "source": [
    "## 2. Query the AllWISE image metadata based on position and band, only returning 10 entries at max."
   ]
  },
  {
   "cell_type": "code",
   "execution_count": 41,
   "metadata": {
    "scrolled": true
   },
   "outputs": [
    {
     "data": {
      "text/html": [
       "&lt;Table masked=True length=14&gt;\n",
       "<table id=\"table4528093448-869746\" class=\"table-striped table-bordered table-condensed\">\n",
       "<thead><tr><th>idx</th><th>s_region</th><th>obs_collection</th><th>obs_intent</th><th>algorithm_name</th><th>telescope_name</th><th>telescope_keywords</th><th>instrument_name</th><th>instrument_keywords</th><th>environment_photometric</th><th>proposal_id</th><th>proposal_pi</th><th>proposal_project</th><th>proposal_title</th><th>target_name</th><th>target_type</th><th>target_standard</th><th>target_moving</th><th>target_keywords</th><th>calib_level</th><th>dataproduct_type</th><th>position_dimension_naxis1</th><th>position_dimension_naxis2</th><th>position_samplesize</th><th>position_timedependent</th><th>energy_emband</th><th>energy_bandpassname</th><th>t_min</th><th>t_max</th><th>t_exptime</th><th>t_resolution</th><th>access_url</th><th>access_format</th><th>access_estsize</th><th>obs_id</th><th>obs_publisher_did</th><th>s_ra</th><th>s_dec</th><th>s_fov</th><th>s_resolution</th><th>em_min</th><th>em_max</th><th>em_res_power</th><th>o_ucd</th></tr></thead>\n",
       "<thead><tr><th></th><th>deg</th><th></th><th></th><th></th><th></th><th></th><th></th><th></th><th></th><th></th><th></th><th></th><th></th><th></th><th></th><th></th><th></th><th></th><th></th><th></th><th></th><th></th><th>deg</th><th></th><th></th><th></th><th>d</th><th>d</th><th>s</th><th>s</th><th></th><th></th><th>kbyte</th><th></th><th></th><th>deg</th><th>deg</th><th>deg</th><th>deg</th><th>m</th><th>m</th><th></th><th></th></tr></thead>\n",
       "<tr><td>0</td><td>POLYGON ICRS -163.261860888792 -6.839647613318 -164.83756839366 -6.839648167653 -164.835289092986 -5.275156783985 -163.264141302672 -5.275156231255 -163.261860888792 -6.839647613318</td><td>wise_allwise</td><td>science</td><td>mosaic</td><td>WISE</td><td></td><td>WISE</td><td></td><td>--</td><td></td><td>Edward L. Wright</td><td>WISE</td><td>Wide-field Infrared Survey Explorer - AllWISE Atlas Images</td><td></td><td>field</td><td>False</td><td>False</td><td></td><td>3</td><td>image</td><td>4095</td><td>4095</td><td>2.75</td><td>False</td><td>Infrared</td><td>W1</td><td>55203.0879785301</td><td>55570.605279872703</td><td>196.39619999999999</td><td>--</td><td>https://irsa.ipac.caltech.edu/ibe/data/wise/allwise/p3am_cdd/19/1959/1959m061_ac51/1959m061_ac51-art-w1-H.tbl</td><td>text/plain</td><td>--</td><td>3a1d748d-67ff-423a-9868-7971693dfc03</td><td>ivo://irsa.ipac/wise_allwise/1959m061_ac51</td><td>-164.04990699999999</td><td>-6.0577779999999999</td><td>3.1281249999999998</td><td>6.0999999999999996</td><td>3.1499999999999999e-06</td><td>3.7799999999999998e-06</td><td>--</td><td></td></tr>\n",
       "<tr><td>1</td><td>POLYGON ICRS -163.261860888792 -6.839647613318 -164.83756839366 -6.839648167653 -164.835289092986 -5.275156783985 -163.264141302672 -5.275156231255 -163.261860888792 -6.839647613318</td><td>wise_allwise</td><td>science</td><td>mosaic</td><td>WISE</td><td></td><td>WISE</td><td></td><td>--</td><td></td><td>Edward L. Wright</td><td>WISE</td><td>Wide-field Infrared Survey Explorer - AllWISE Atlas Images</td><td></td><td>field</td><td>False</td><td>False</td><td></td><td>3</td><td>image</td><td>4095</td><td>4095</td><td>2.75</td><td>False</td><td>Infrared</td><td>W1</td><td>55203.0879785301</td><td>55570.605279872703</td><td>196.39619999999999</td><td>--</td><td>https://irsa.ipac.caltech.edu/ibe/data/wise/allwise/p3am_cdd/19/1959/1959m061_ac51/1959m061_ac51-art-w1-P.tbl</td><td>text/plain</td><td>--</td><td>3a1d748d-67ff-423a-9868-7971693dfc03</td><td>ivo://irsa.ipac/wise_allwise/1959m061_ac51</td><td>-164.04990699999999</td><td>-6.0577779999999999</td><td>3.1281249999999998</td><td>6.0999999999999996</td><td>3.1499999999999999e-06</td><td>3.7799999999999998e-06</td><td>--</td><td></td></tr>\n",
       "<tr><td>2</td><td>POLYGON ICRS -163.261860888792 -6.839647613318 -164.83756839366 -6.839648167653 -164.835289092986 -5.275156783985 -163.264141302672 -5.275156231255 -163.261860888792 -6.839647613318</td><td>wise_allwise</td><td>science</td><td>mosaic</td><td>WISE</td><td></td><td>WISE</td><td></td><td>--</td><td></td><td>Edward L. Wright</td><td>WISE</td><td>Wide-field Infrared Survey Explorer - AllWISE Atlas Images</td><td></td><td>field</td><td>False</td><td>False</td><td></td><td>3</td><td>image</td><td>4095</td><td>4095</td><td>2.75</td><td>False</td><td>Infrared</td><td>W1</td><td>55203.0879785301</td><td>55570.605279872703</td><td>196.39619999999999</td><td>--</td><td>https://irsa.ipac.caltech.edu/ibe/data/wise/allwise/p3am_cdd/19/1959/1959m061_ac51/1959m061_ac51-w1-int-3.fits</td><td>image/fits</td><td>--</td><td>3a1d748d-67ff-423a-9868-7971693dfc03</td><td>ivo://irsa.ipac/wise_allwise/1959m061_ac51</td><td>-164.04990699999999</td><td>-6.0577779999999999</td><td>3.1281249999999998</td><td>6.0999999999999996</td><td>3.1499999999999999e-06</td><td>3.7799999999999998e-06</td><td>--</td><td></td></tr>\n",
       "<tr><td>3</td><td>POLYGON ICRS -163.261860888792 -6.839647613318 -164.83756839366 -6.839648167653 -164.835289092986 -5.275156783985 -163.264141302672 -5.275156231255 -163.261860888792 -6.839647613318</td><td>wise_allwise</td><td>science</td><td>mosaic</td><td>WISE</td><td></td><td>WISE</td><td></td><td>--</td><td></td><td>Edward L. Wright</td><td>WISE</td><td>Wide-field Infrared Survey Explorer - AllWISE Atlas Images</td><td></td><td>field</td><td>False</td><td>False</td><td></td><td>3</td><td>image</td><td>4095</td><td>4095</td><td>2.75</td><td>False</td><td>Infrared</td><td>W1</td><td>55203.0879785301</td><td>55570.605279872703</td><td>196.39619999999999</td><td>--</td><td>https://irsa.ipac.caltech.edu/ibe/data/wise/allwise/p3am_cdd/19/1959/1959m061_ac51/1959m061_ac51-art-w1-D.tbl</td><td>text/plain</td><td>--</td><td>3a1d748d-67ff-423a-9868-7971693dfc03</td><td>ivo://irsa.ipac/wise_allwise/1959m061_ac51</td><td>-164.04990699999999</td><td>-6.0577779999999999</td><td>3.1281249999999998</td><td>6.0999999999999996</td><td>3.1499999999999999e-06</td><td>3.7799999999999998e-06</td><td>--</td><td></td></tr>\n",
       "<tr><td>4</td><td>POLYGON ICRS -163.261860888792 -6.839647613318 -164.83756839366 -6.839648167653 -164.835289092986 -5.275156783985 -163.264141302672 -5.275156231255 -163.261860888792 -6.839647613318</td><td>wise_allwise</td><td>science</td><td>mosaic</td><td>WISE</td><td></td><td>WISE</td><td></td><td>--</td><td></td><td>Edward L. Wright</td><td>WISE</td><td>Wide-field Infrared Survey Explorer - AllWISE Atlas Images</td><td></td><td>field</td><td>False</td><td>False</td><td></td><td>3</td><td>image</td><td>4095</td><td>4095</td><td>2.75</td><td>False</td><td>Infrared</td><td>W1</td><td>55203.0879785301</td><td>55570.605279872703</td><td>196.39619999999999</td><td>--</td><td>https://irsa.ipac.caltech.edu/ibe/data/wise/allwise/p3am_cdd/19/1959/1959m061_ac51/1959m061_ac51-w1-unc-3.fits.gz</td><td>application/x-gzip</td><td>--</td><td>3a1d748d-67ff-423a-9868-7971693dfc03</td><td>ivo://irsa.ipac/wise_allwise/1959m061_ac51</td><td>-164.04990699999999</td><td>-6.0577779999999999</td><td>3.1281249999999998</td><td>6.0999999999999996</td><td>3.1499999999999999e-06</td><td>3.7799999999999998e-06</td><td>--</td><td></td></tr>\n",
       "<tr><td>5</td><td>POLYGON ICRS -163.261860888792 -6.839647613318 -164.83756839366 -6.839648167653 -164.835289092986 -5.275156783985 -163.264141302672 -5.275156231255 -163.261860888792 -6.839647613318</td><td>wise_allwise</td><td>science</td><td>mosaic</td><td>WISE</td><td></td><td>WISE</td><td></td><td>--</td><td></td><td>Edward L. Wright</td><td>WISE</td><td>Wide-field Infrared Survey Explorer - AllWISE Atlas Images</td><td></td><td>field</td><td>False</td><td>False</td><td></td><td>3</td><td>image</td><td>4095</td><td>4095</td><td>2.75</td><td>False</td><td>Infrared</td><td>W1</td><td>55203.0879785301</td><td>55570.605279872703</td><td>196.39619999999999</td><td>--</td><td>https://irsa.ipac.caltech.edu/ibe/data/wise/allwise/p3am_cdd/19/1959/1959m061_ac51/1959m061_ac51-w1-cov-3.fits.gz</td><td>application/x-gzip</td><td>--</td><td>3a1d748d-67ff-423a-9868-7971693dfc03</td><td>ivo://irsa.ipac/wise_allwise/1959m061_ac51</td><td>-164.04990699999999</td><td>-6.0577779999999999</td><td>3.1281249999999998</td><td>6.0999999999999996</td><td>3.1499999999999999e-06</td><td>3.7799999999999998e-06</td><td>--</td><td></td></tr>\n",
       "<tr><td>6</td><td>POLYGON ICRS -163.261860888792 -6.839647613318 -164.83756839366 -6.839648167653 -164.835289092986 -5.275156783985 -163.264141302672 -5.275156231255 -163.261860888792 -6.839647613318</td><td>wise_allwise</td><td>science</td><td>mosaic</td><td>WISE</td><td></td><td>WISE</td><td></td><td>--</td><td></td><td>Edward L. Wright</td><td>WISE</td><td>Wide-field Infrared Survey Explorer - AllWISE Atlas Images</td><td></td><td>field</td><td>False</td><td>False</td><td></td><td>3</td><td>image</td><td>4095</td><td>4095</td><td>2.75</td><td>False</td><td>Infrared</td><td>W1</td><td>55203.0879785301</td><td>55570.605279872703</td><td>196.39619999999999</td><td>--</td><td>https://irsa.ipac.caltech.edu/ibe/data/wise/allwise/p3am_cdd/19/1959/1959m061_ac51/1959m061_ac51-mfflag-3.tbl</td><td>text/plain</td><td>--</td><td>3a1d748d-67ff-423a-9868-7971693dfc03</td><td>ivo://irsa.ipac/wise_allwise/1959m061_ac51</td><td>-164.04990699999999</td><td>-6.0577779999999999</td><td>3.1281249999999998</td><td>6.0999999999999996</td><td>3.1499999999999999e-06</td><td>3.7799999999999998e-06</td><td>--</td><td></td></tr>\n",
       "<tr><td>7</td><td>POLYGON ICRS -164.780853888792 -6.839647613318 -166.35656139366 -6.839648167653 -166.354282092986 -5.275156783985 -164.783134302672 -5.275156231255 -164.780853888792 -6.839647613318</td><td>wise_allwise</td><td>science</td><td>mosaic</td><td>WISE</td><td></td><td>WISE</td><td></td><td>--</td><td></td><td>Edward L. Wright</td><td>WISE</td><td>Wide-field Infrared Survey Explorer - AllWISE Atlas Images</td><td></td><td>field</td><td>False</td><td>False</td><td></td><td>3</td><td>image</td><td>4095</td><td>4095</td><td>2.75</td><td>False</td><td>Infrared</td><td>W1</td><td>55203.0879785301</td><td>55569.282872708303</td><td>208.77010000000001</td><td>--</td><td>https://irsa.ipac.caltech.edu/ibe/data/wise/allwise/p3am_cdd/19/1944/1944m061_ac51/1944m061_ac51-w1-unc-3.fits.gz</td><td>application/x-gzip</td><td>--</td><td>3a1db432-fa63-41e1-80d2-ceebaef8cd49</td><td>ivo://irsa.ipac/wise_allwise/1944m061_ac51</td><td>-165.56890000000001</td><td>-6.0577779999999999</td><td>3.1281249999999998</td><td>6.0999999999999996</td><td>3.1499999999999999e-06</td><td>3.7799999999999998e-06</td><td>--</td><td></td></tr>\n",
       "<tr><td>8</td><td>POLYGON ICRS -164.780853888792 -6.839647613318 -166.35656139366 -6.839648167653 -166.354282092986 -5.275156783985 -164.783134302672 -5.275156231255 -164.780853888792 -6.839647613318</td><td>wise_allwise</td><td>science</td><td>mosaic</td><td>WISE</td><td></td><td>WISE</td><td></td><td>--</td><td></td><td>Edward L. Wright</td><td>WISE</td><td>Wide-field Infrared Survey Explorer - AllWISE Atlas Images</td><td></td><td>field</td><td>False</td><td>False</td><td></td><td>3</td><td>image</td><td>4095</td><td>4095</td><td>2.75</td><td>False</td><td>Infrared</td><td>W1</td><td>55203.0879785301</td><td>55569.282872708303</td><td>208.77010000000001</td><td>--</td><td>https://irsa.ipac.caltech.edu/ibe/data/wise/allwise/p3am_cdd/19/1944/1944m061_ac51/1944m061_ac51-w1-cov-3.fits.gz</td><td>application/x-gzip</td><td>--</td><td>3a1db432-fa63-41e1-80d2-ceebaef8cd49</td><td>ivo://irsa.ipac/wise_allwise/1944m061_ac51</td><td>-165.56890000000001</td><td>-6.0577779999999999</td><td>3.1281249999999998</td><td>6.0999999999999996</td><td>3.1499999999999999e-06</td><td>3.7799999999999998e-06</td><td>--</td><td></td></tr>\n",
       "<tr><td>9</td><td>POLYGON ICRS -164.780853888792 -6.839647613318 -166.35656139366 -6.839648167653 -166.354282092986 -5.275156783985 -164.783134302672 -5.275156231255 -164.780853888792 -6.839647613318</td><td>wise_allwise</td><td>science</td><td>mosaic</td><td>WISE</td><td></td><td>WISE</td><td></td><td>--</td><td></td><td>Edward L. Wright</td><td>WISE</td><td>Wide-field Infrared Survey Explorer - AllWISE Atlas Images</td><td></td><td>field</td><td>False</td><td>False</td><td></td><td>3</td><td>image</td><td>4095</td><td>4095</td><td>2.75</td><td>False</td><td>Infrared</td><td>W1</td><td>55203.0879785301</td><td>55569.282872708303</td><td>208.77010000000001</td><td>--</td><td>https://irsa.ipac.caltech.edu/ibe/data/wise/allwise/p3am_cdd/19/1944/1944m061_ac51/1944m061_ac51-w1-int-3.fits</td><td>image/fits</td><td>--</td><td>3a1db432-fa63-41e1-80d2-ceebaef8cd49</td><td>ivo://irsa.ipac/wise_allwise/1944m061_ac51</td><td>-165.56890000000001</td><td>-6.0577779999999999</td><td>3.1281249999999998</td><td>6.0999999999999996</td><td>3.1499999999999999e-06</td><td>3.7799999999999998e-06</td><td>--</td><td></td></tr>\n",
       "<tr><td>10</td><td>POLYGON ICRS -164.780853888792 -6.839647613318 -166.35656139366 -6.839648167653 -166.354282092986 -5.275156783985 -164.783134302672 -5.275156231255 -164.780853888792 -6.839647613318</td><td>wise_allwise</td><td>science</td><td>mosaic</td><td>WISE</td><td></td><td>WISE</td><td></td><td>--</td><td></td><td>Edward L. Wright</td><td>WISE</td><td>Wide-field Infrared Survey Explorer - AllWISE Atlas Images</td><td></td><td>field</td><td>False</td><td>False</td><td></td><td>3</td><td>image</td><td>4095</td><td>4095</td><td>2.75</td><td>False</td><td>Infrared</td><td>W1</td><td>55203.0879785301</td><td>55569.282872708303</td><td>208.77010000000001</td><td>--</td><td>https://irsa.ipac.caltech.edu/ibe/data/wise/allwise/p3am_cdd/19/1944/1944m061_ac51/1944m061_ac51-mfflag-3.tbl</td><td>text/plain</td><td>--</td><td>3a1db432-fa63-41e1-80d2-ceebaef8cd49</td><td>ivo://irsa.ipac/wise_allwise/1944m061_ac51</td><td>-165.56890000000001</td><td>-6.0577779999999999</td><td>3.1281249999999998</td><td>6.0999999999999996</td><td>3.1499999999999999e-06</td><td>3.7799999999999998e-06</td><td>--</td><td></td></tr>\n",
       "<tr><td>11</td><td>POLYGON ICRS -164.780853888792 -6.839647613318 -166.35656139366 -6.839648167653 -166.354282092986 -5.275156783985 -164.783134302672 -5.275156231255 -164.780853888792 -6.839647613318</td><td>wise_allwise</td><td>science</td><td>mosaic</td><td>WISE</td><td></td><td>WISE</td><td></td><td>--</td><td></td><td>Edward L. Wright</td><td>WISE</td><td>Wide-field Infrared Survey Explorer - AllWISE Atlas Images</td><td></td><td>field</td><td>False</td><td>False</td><td></td><td>3</td><td>image</td><td>4095</td><td>4095</td><td>2.75</td><td>False</td><td>Infrared</td><td>W1</td><td>55203.0879785301</td><td>55569.282872708303</td><td>208.77010000000001</td><td>--</td><td>https://irsa.ipac.caltech.edu/ibe/data/wise/allwise/p3am_cdd/19/1944/1944m061_ac51/1944m061_ac51-art-w1-D.tbl</td><td>text/plain</td><td>--</td><td>3a1db432-fa63-41e1-80d2-ceebaef8cd49</td><td>ivo://irsa.ipac/wise_allwise/1944m061_ac51</td><td>-165.56890000000001</td><td>-6.0577779999999999</td><td>3.1281249999999998</td><td>6.0999999999999996</td><td>3.1499999999999999e-06</td><td>3.7799999999999998e-06</td><td>--</td><td></td></tr>\n",
       "<tr><td>12</td><td>POLYGON ICRS -164.780853888792 -6.839647613318 -166.35656139366 -6.839648167653 -166.354282092986 -5.275156783985 -164.783134302672 -5.275156231255 -164.780853888792 -6.839647613318</td><td>wise_allwise</td><td>science</td><td>mosaic</td><td>WISE</td><td></td><td>WISE</td><td></td><td>--</td><td></td><td>Edward L. Wright</td><td>WISE</td><td>Wide-field Infrared Survey Explorer - AllWISE Atlas Images</td><td></td><td>field</td><td>False</td><td>False</td><td></td><td>3</td><td>image</td><td>4095</td><td>4095</td><td>2.75</td><td>False</td><td>Infrared</td><td>W1</td><td>55203.0879785301</td><td>55569.282872708303</td><td>208.77010000000001</td><td>--</td><td>https://irsa.ipac.caltech.edu/ibe/data/wise/allwise/p3am_cdd/19/1944/1944m061_ac51/1944m061_ac51-art-w1-H.tbl</td><td>text/plain</td><td>--</td><td>3a1db432-fa63-41e1-80d2-ceebaef8cd49</td><td>ivo://irsa.ipac/wise_allwise/1944m061_ac51</td><td>-165.56890000000001</td><td>-6.0577779999999999</td><td>3.1281249999999998</td><td>6.0999999999999996</td><td>3.1499999999999999e-06</td><td>3.7799999999999998e-06</td><td>--</td><td></td></tr>\n",
       "<tr><td>13</td><td>POLYGON ICRS -164.780853888792 -6.839647613318 -166.35656139366 -6.839648167653 -166.354282092986 -5.275156783985 -164.783134302672 -5.275156231255 -164.780853888792 -6.839647613318</td><td>wise_allwise</td><td>science</td><td>mosaic</td><td>WISE</td><td></td><td>WISE</td><td></td><td>--</td><td></td><td>Edward L. Wright</td><td>WISE</td><td>Wide-field Infrared Survey Explorer - AllWISE Atlas Images</td><td></td><td>field</td><td>False</td><td>False</td><td></td><td>3</td><td>image</td><td>4095</td><td>4095</td><td>2.75</td><td>False</td><td>Infrared</td><td>W1</td><td>55203.0879785301</td><td>55569.282872708303</td><td>208.77010000000001</td><td>--</td><td>https://irsa.ipac.caltech.edu/ibe/data/wise/allwise/p3am_cdd/19/1944/1944m061_ac51/1944m061_ac51-art-w1-P.tbl</td><td>text/plain</td><td>--</td><td>3a1db432-fa63-41e1-80d2-ceebaef8cd49</td><td>ivo://irsa.ipac/wise_allwise/1944m061_ac51</td><td>-165.56890000000001</td><td>-6.0577779999999999</td><td>3.1281249999999998</td><td>6.0999999999999996</td><td>3.1499999999999999e-06</td><td>3.7799999999999998e-06</td><td>--</td><td></td></tr>\n",
       "</table><style>table.dataTable {clear: both; width: auto !important; margin: 0 !important;}\n",
       ".dataTables_info, .dataTables_length, .dataTables_filter, .dataTables_paginate{\n",
       "display: inline-block; margin-right: 1em; }\n",
       ".paginate_button { margin-right: 5px; }\n",
       "</style>\n",
       "<script>\n",
       "\n",
       "var astropy_sort_num = function(a, b) {\n",
       "    var a_num = parseFloat(a);\n",
       "    var b_num = parseFloat(b);\n",
       "\n",
       "    if (isNaN(a_num) && isNaN(b_num))\n",
       "        return ((a < b) ? -1 : ((a > b) ? 1 : 0));\n",
       "    else if (!isNaN(a_num) && !isNaN(b_num))\n",
       "        return ((a_num < b_num) ? -1 : ((a_num > b_num) ? 1 : 0));\n",
       "    else\n",
       "        return isNaN(a_num) ? -1 : 1;\n",
       "}\n",
       "\n",
       "require.config({paths: {\n",
       "    datatables: 'https://cdn.datatables.net/1.10.12/js/jquery.dataTables.min'\n",
       "}});\n",
       "require([\"datatables\"], function(){\n",
       "    console.log(\"$('#table4528093448-869746').dataTable()\");\n",
       "    \n",
       "jQuery.extend( jQuery.fn.dataTableExt.oSort, {\n",
       "    \"optionalnum-asc\": astropy_sort_num,\n",
       "    \"optionalnum-desc\": function (a,b) { return -astropy_sort_num(a, b); }\n",
       "});\n",
       "\n",
       "    $('#table4528093448-869746').dataTable({\n",
       "        order: [],\n",
       "        pageLength: 50,\n",
       "        lengthMenu: [[10, 25, 50, 100, 500, 1000, -1], [10, 25, 50, 100, 500, 1000, 'All']],\n",
       "        pagingType: \"full_numbers\",\n",
       "        columnDefs: [{targets: [0, 19, 21, 22, 23, 27, 28, 29, 30, 33, 36, 37, 38, 39, 40, 41, 42], type: \"optionalnum\"}]\n",
       "    });\n",
       "});\n",
       "</script>\n"
      ],
      "text/plain": [
       "<IPython.core.display.HTML object>"
      ]
     },
     "execution_count": 41,
     "metadata": {},
     "output_type": "execute_result"
    }
   ],
   "source": [
    "#IRSA Simple Image Access Base URL\n",
    "sia_base_url = 'https://irsa.ipac.caltech.edu/SIA?'\n",
    "\n",
    "#Parameters of our search\n",
    "sia_params = {\n",
    "    \"COLLECTION\":\"wise_allwise\",\n",
    "    \"POS\":\"circle -164.7 -5.8 0.1\",\n",
    "    \"BAND\":\"3e-6 4e-6\"\n",
    "    }\n",
    "\n",
    "#Send the Request\n",
    "r = requests.post(sia_base_url, data = sia_params)\n",
    "\n",
    "#Put the results in an astropy table.\n",
    "table=Table.read(io.BytesIO(r.content))\n",
    "\n",
    "#Show the table.\n",
    "table.show_in_notebook()"
   ]
  },
  {
   "cell_type": "markdown",
   "metadata": {},
   "source": [
    "<a href = \"#toc\">Table of Contents</a>"
   ]
  },
  {
   "cell_type": "markdown",
   "metadata": {},
   "source": [
    "<a id='download'></a>"
   ]
  },
  {
   "cell_type": "markdown",
   "metadata": {},
   "source": [
    "## 3. Download an image."
   ]
  },
  {
   "cell_type": "code",
   "execution_count": 42,
   "metadata": {},
   "outputs": [
    {
     "data": {
      "text/plain": [
       "'/Users/desai/.astropy/cache/download/py3/7ac846bd3e195c451f5c684be0567099'"
      ]
     },
     "execution_count": 42,
     "metadata": {},
     "output_type": "execute_result"
    }
   ],
   "source": [
    "import urllib\n",
    "from astropy.utils.data import download_file\n",
    "#import ntpath\n",
    "\n",
    "url = table['access_url'][2].decode(\"ascii\")\n",
    "\n",
    "download_file(url,cache=True)"
   ]
  },
  {
   "cell_type": "code",
   "execution_count": null,
   "metadata": {
    "collapsed": true
   },
   "outputs": [],
   "source": []
  },
  {
   "cell_type": "code",
   "execution_count": null,
   "metadata": {
    "collapsed": true
   },
   "outputs": [],
   "source": []
  }
 ],
 "metadata": {
  "kernelspec": {
   "display_name": "Python 3",
   "language": "python",
   "name": "python3"
  },
  "language_info": {
   "codemirror_mode": {
    "name": "ipython",
    "version": 3
   },
   "file_extension": ".py",
   "mimetype": "text/x-python",
   "name": "python",
   "nbconvert_exporter": "python",
   "pygments_lexer": "ipython3",
   "version": "3.6.3"
  }
 },
 "nbformat": 4,
 "nbformat_minor": 2
}
