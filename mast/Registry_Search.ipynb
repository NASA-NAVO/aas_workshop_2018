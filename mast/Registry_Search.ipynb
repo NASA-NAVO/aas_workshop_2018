{
 "cells": [
  {
   "cell_type": "markdown",
   "metadata": {},
   "source": [
    "# The IVOA Registry\n",
    "\n",
    "An International Virtual Observatory Alliance (IVOA) Registry is a database describing the resources provided by Virtual Observatory (VO) data providers from around the world.  \n",
    "\n",
    "NAVO has an instance of an IVOA Registry known as the NAVO Directory.  This directory can be searched for resources that may be applicable to a particular scientific problem.\n",
    "\n",
    "## Search the Registry Via a Web Page\n",
    "\n",
    "This web page allows interactive searching for Virtual Observatory resources:\n",
    "https://vao.stsci.edu/keyword-search/\n",
    "\n",
    "## Search the Registry Programmatically\n",
    "\n",
    "The registry can be searched via a Table Access Protocol (TAP) query.  TAP is a VO protocol that allows SQL-like queries to be executed on VO databases.\n",
    "\n",
    "Below we define a convenience function for performing a registry TAP query, along with the necessary imports."
   ]
  },
  {
   "cell_type": "code",
   "execution_count": 1,
   "metadata": {
    "collapsed": true
   },
   "outputs": [],
   "source": [
    "import requests\n",
    "import io\n",
    "from astropy.table import Table, unique\n",
    "\n",
    "# For output using Markdown.\n",
    "from IPython.display import Markdown, display\n",
    "\n",
    "# There are a number of relatively unimportant warnings, so suppress them:\n",
    "import warnings\n",
    "warnings.filterwarnings(\"ignore\")\n"
   ]
  },
  {
   "cell_type": "code",
   "execution_count": 2,
   "metadata": {
    "collapsed": true
   },
   "outputs": [],
   "source": [
    "def registry_tap_query(query):\n",
    "    \"\"\"\n",
    "    Executes the specified query on the Registry TAP service.\n",
    "    \n",
    "    Parameters\n",
    "    ----------\n",
    "    query : string\n",
    "        ADQL (SQL-like) to execute on the given TAP service.\n",
    "        \n",
    "    Returns\n",
    "    -------\n",
    "    astropy.table.Table\n",
    "        An astropy table created from the contents of the VOTABLE response from the TAP query.\n",
    "    \"\"\"\n",
    "\n",
    "    # Define the base URL for a TAP query on the registry.\n",
    "    registry_tap_url = \"https://vao.stsci.edu/RegTAP/TapService.aspx/sync\"\n",
    "    \n",
    "    tap_params = {\n",
    "        \"request\": \"doQuery\",\n",
    "        \"lang\": \"ADQL\",\n",
    "        \"query\": query\n",
    "    }\n",
    "    results = requests.post(registry_tap_url, data=tap_params)\n",
    "    \n",
    "    astropy_table = Table.read(io.BytesIO(results.content))\n",
    "    return astropy_table"
   ]
  },
  {
   "cell_type": "markdown",
   "metadata": {},
   "source": [
    "## Registry Schema\n",
    "Of all the tables in the registry, the **resource**, **capability**, and **interface** tables (described below) are the most useful.  A resource can have one or more capabilities, which can each have one or more interfaces (although most capabilities only have one interface).\n",
    "\n",
    "Full details of the registry schema can be found here: http://www.ivoa.net/documents/RegTAP/20141208/REC-RegTAP-1.0.pdf\n",
    "\n",
    "### Resource Table\n",
    "The **rr.resource** table describes registered data collections such as catalogs and surveys.  As an example, the registry TAP query below retrieves the first resource in the registry, the resource attributes are printed one per line. Perhaps the most useful attributes are:\n",
    "* **ivoid** - A unique identifier (URI) for the resource.  Helps identify the source of the resource (e.g., \"ivo://nasa.heasarc/skyview/goodsacisfb\" identifies a resource at HEASARC).\n",
    "* **content_type** - what sort of resource this is\n",
    "* **waveband** - the waveband (or '#'-separated wavebands) of the data\n",
    "* **short_name** - a short name of the resource (not always present)\n",
    "* **res_title** - the title of the resource\n",
    "* **res_description** - full description of the resource"
   ]
  },
  {
   "cell_type": "code",
   "execution_count": 3,
   "metadata": {},
   "outputs": [
    {
     "data": {
      "text/markdown": [
       "**ivoid**: ivo://cxc.harvard.edu/csc"
      ],
      "text/plain": [
       "<IPython.core.display.Markdown object>"
      ]
     },
     "metadata": {},
     "output_type": "display_data"
    },
    {
     "data": {
      "text/markdown": [
       "**content_type**: catalog"
      ],
      "text/plain": [
       "<IPython.core.display.Markdown object>"
      ]
     },
     "metadata": {},
     "output_type": "display_data"
    },
    {
     "data": {
      "text/markdown": [
       "**waveband**: x-ray"
      ],
      "text/plain": [
       "<IPython.core.display.Markdown object>"
      ]
     },
     "metadata": {},
     "output_type": "display_data"
    },
    {
     "data": {
      "text/markdown": [
       "**short_name**: CSC"
      ],
      "text/plain": [
       "<IPython.core.display.Markdown object>"
      ]
     },
     "metadata": {},
     "output_type": "display_data"
    },
    {
     "data": {
      "text/markdown": [
       "**res_title**: Chandra Source Catalog"
      ],
      "text/plain": [
       "<IPython.core.display.Markdown object>"
      ]
     },
     "metadata": {},
     "output_type": "display_data"
    },
    {
     "data": {
      "text/markdown": [
       "**res_description**: The Chandra X-ray Observatory is the U.S. follow-on to the Einstein Observatory and one of NASA\"s Great Observatories. Chandra was formerly known as AXAF, the Advanced X-ray Astrophysics Facility, but renamed by NASA in December, 1998. Originally three instruments and a high-resolution mirror carried in one spacecraft, the project was reworked in 1992 and 1993. The Chandra spacecraft carries a high resolution mirror, two imaging detectors, and two sets of transmission gratings. Important Chandra features are: an order of magnitude improvement in spatial resolution, good sensitivity from 0.1 to 10 keV, and the capability for high spectral resolution observations over most of this range. The Chandra Source Catalog (CSC) includes information about X-ray sources detected in observations obtained using the Chandra X-ray Observatory. Release 1.0 of the catalog includes about 95,000 point and compact sources with observed spatial extents less than ~30 arcsec detected in a subset of ACIS imaging observations released publicly prior to the end of 2008. Observed source positions and multi-band count rates are reported, as well as numerous derived spatial, photometric, spectral, and temporal calibrated source properties that may be compared with data obtained by other telescopes. Each record includes the best estimates of the properties of a source based on data extracted from all observations in which the source was detected. The Chandra Source Catalog is extracted from the CXC\"s Chandra Data Archive (CDA). The CXC should be acknowledged as the source of Chandra data. For detailed information on the Chandra Observatory and datasets see: http://cxc.harvard.edu/ for general Chandra information; http://cxc.harvard.edu/cda/ for the Chandra Data Archive; http://cxc.harvard.edu/csc/ for Chandra Source Catalog information."
      ],
      "text/plain": [
       "<IPython.core.display.Markdown object>"
      ]
     },
     "metadata": {},
     "output_type": "display_data"
    },
    {
     "name": "stdout",
     "output_type": "stream",
     "text": [
      "=================================================================================\n"
     ]
    }
   ],
   "source": [
    "query = \"\"\"\n",
    "    select top 1 \n",
    "    ivoid, content_type, waveband, short_name, res_title, res_description\n",
    "    from rr.resource\n",
    "\"\"\"\n",
    "results = registry_tap_query(query)\n",
    "\n",
    "# Print column values, one per line.\n",
    "for row in results:\n",
    "    for i in range(0, len(row.colnames)):\n",
    "        md = '**{}**: {}'.format(row.colnames[i], str(row[i], 'utf-8'))\n",
    "        display(Markdown(md))\n",
    "    print('=================================================================================')"
   ]
  },
  {
   "cell_type": "markdown",
   "metadata": {},
   "source": [
    "### Capability Table\n",
    "The **rr.capability** table describes the capabilities associated with resources.  For these purposes, we're interested in capabilities that describe web services that we can call programmatically, but capabilities can be other things such as human-readable web pages.\n",
    "\n",
    "The most useful capability attributes are:\n",
    "\n",
    "* **cap_type** - Desribes the type of capability.  For programmatic access, the useful values are:\n",
    " * **conesearch** - This is a standard Cone Search web service which allows searching a catalog of items by RA, Dec and radius (see [full documentation](http://www.ivoa.net/documents/latest/ConeSearch.html)).\n",
    " * **simpleimageaccess** - This is a standard query which allows searching a catalog of image products by RA, Dec, diameter, and image format (see [version 1 documentation](http://www.ivoa.net/documents/SIA/20091116/), and [version 2 documentation](http://www.ivoa.net/documents/SIA/20151223/)).\n",
    " * **simplespectralaccess** - This is a standard query which allows searching a catalog of spectral products by RA, Dec, diameter, and a handful of spectral parameters (see [full documentation](http://www.ivoa.net/documents/SSA/20120210/index.html))\n",
    " * **tableaccess** - This is a standard query which allows searching a remote database using SQL-like syntax (see [full documentation](http://www.ivoa.net/documents/TAP/20100327/))\n",
    "<br><br>\n",
    "* **standard_id** - Similar to *cap_type* but allows distinguishing between different versions of the same protocol.  These values are used with the above cap_type values:\n",
    " * **ivo://ivoa.net/std/conesearch** - for *cap_type* of *conesearch*\n",
    " * **ivo://ivoa.net/std/sia** - for *cap_type* of *simpleimageaccess*, protocol version 1\n",
    " * **ivo://ivoa.net/std/sia#query-2.0** - for *cap_type* of *simpleimageaccess*, protocol version 2\n",
    " * **ivo://ivoa.net/std/ssa** - for *cap_type* of *simplespectralaccess*\n",
    " * **ivo://ivoa.net/std/tap** - for *cap_type* of *tableaccess*\n",
    " \n",
    "### Interface Table\n",
    "In order to use a capability, one needs to know the URL of the service.  That information is available in the **access_url** field of the interface(s) associated with the capability.  \n",
    "\n",
    "The example query below finds the capabilities of the Chandra resource found in the previous example, and also joins with the **rr.interface** table to get the **access_url** for those capabilities."
   ]
  },
  {
   "cell_type": "code",
   "execution_count": 4,
   "metadata": {},
   "outputs": [
    {
     "data": {
      "text/html": [
       "&lt;Table masked=True length=5&gt;\n",
       "<table id=\"table4472784824\" class=\"table-striped table-bordered table-condensed\">\n",
       "<thead><tr><th>cap_index</th><th>cap_type</th><th>standard_id</th><th>access_url</th></tr></thead>\n",
       "<thead><tr><th>int16</th><th>object</th><th>object</th><th>object</th></tr></thead>\n",
       "<tr><td>1</td><td>conesearch</td><td>ivo://ivoa.net/std/conesearch</td><td>http://cda.harvard.edu/cscvo/coneSearch?</td></tr>\n",
       "<tr><td>2</td><td>tableaccess</td><td>ivo://ivoa.net/std/tap</td><td>http://cda.harvard.edu/csctap</td></tr>\n",
       "<tr><td>3</td><td>capability</td><td>ivo://ivoa.net/std/vosi#capabilities</td><td>http://cda.harvard.edu/csctap/capabilities</td></tr>\n",
       "<tr><td>4</td><td>capability</td><td>ivo://ivoa.net/std/vosi#availability</td><td>http://cda.harvard.edu/csctap/availability</td></tr>\n",
       "<tr><td>5</td><td>capability</td><td>ivo://ivoa.net/std/vosi#tables</td><td>http://cda.harvard.edu/csctap/tables</td></tr>\n",
       "</table>"
      ],
      "text/plain": [
       "<Table masked=True length=5>\n",
       "cap_index   cap_type  ...                 access_url                \n",
       "  int16      object   ...                   object                  \n",
       "--------- ----------- ... ------------------------------------------\n",
       "        1  conesearch ...   http://cda.harvard.edu/cscvo/coneSearch?\n",
       "        2 tableaccess ...              http://cda.harvard.edu/csctap\n",
       "        3  capability ... http://cda.harvard.edu/csctap/capabilities\n",
       "        4  capability ... http://cda.harvard.edu/csctap/availability\n",
       "        5  capability ...       http://cda.harvard.edu/csctap/tables"
      ]
     },
     "execution_count": 4,
     "metadata": {},
     "output_type": "execute_result"
    }
   ],
   "source": [
    "query = \"\"\"\n",
    "    select cap.cap_index, cap.cap_type, cap.standard_id, int.access_url from rr.resource res \n",
    "    natural join rr.capability cap\n",
    "    natural join rr.interface int\n",
    "    where res.ivoid = 'ivo://cxc.harvard.edu/csc'\n",
    "\"\"\"\n",
    "results = registry_tap_query(query)\n",
    "\n",
    "results"
   ]
  },
  {
   "cell_type": "markdown",
   "metadata": {},
   "source": [
    "## More Sample Queries"
   ]
  },
  {
   "cell_type": "markdown",
   "metadata": {},
   "source": [
    "#### Find all Simple Image Access services with 'Chandra' in the title."
   ]
  },
  {
   "cell_type": "code",
   "execution_count": 5,
   "metadata": {
    "scrolled": true
   },
   "outputs": [
    {
     "data": {
      "text/html": [
       "&lt;Table masked=True length=7&gt;\n",
       "<table id=\"table4514319944-615917\" class=\"table-striped table-bordered table-condensed\">\n",
       "<thead><tr><th>idx</th><th>res_title</th><th>ivoid</th><th>cap_type</th><th>access_url</th></tr></thead>\n",
       "<tr><td>0</td><td>GOODS Chandra ACIS: Full band (0\\.5\\-8 keV)</td><td>ivo://nasa.heasarc/skyview/goodsacisfb</td><td>simpleimageaccess</td><td>https://skyview.gsfc.nasa.gov/cgi-bin/vo/sia.pl?survey=goodsacisfb&amp;amp;</td></tr>\n",
       "<tr><td>1</td><td>Spitzer IRAC/MUSYC Public Legacy Survey in the Extended Chandra Deep Field South</td><td>ivo://irsa.ipac/spitzer/images/simple</td><td>simpleimageaccess</td><td>https://irsa.ipac.caltech.edu/cgi-bin/Atlas/nph-atlas?mission=SIMPLE&amp;amp;hdr_location=%5CSIMPLEDataPath%5C&amp;amp;SIAP_ACTIVE=1&amp;amp;collection_desc=SIMPLE&amp;amp;</td></tr>\n",
       "<tr><td>2</td><td>GOODS Chandra ACIS: band ( keV)</td><td>ivo://nasa.heasarc/skyview/goodsacisb</td><td>simpleimageaccess</td><td>https://skyview.gsfc.nasa.gov/cgi-bin/vo/sia.pl?survey=goodsacisb&amp;amp;</td></tr>\n",
       "<tr><td>3</td><td>LABOCA Extended Chandra Deep Field South Submillimetre Survey</td><td>ivo://nasa.heasarc/skyview/cdfs-less</td><td>simpleimageaccess</td><td>https://skyview.gsfc.nasa.gov/cgi-bin/vo/sia.pl?survey=cdfs-less&amp;amp;</td></tr>\n",
       "<tr><td>4</td><td>Chandra Observations</td><td>ivo://nasa.heasarc/chanmaster</td><td>simpleimageaccess</td><td>https://heasarc.gsfc.nasa.gov/xamin/vo/sia?table=chanmaster&amp;amp;</td></tr>\n",
       "<tr><td>5</td><td>Chandra Source Catalog</td><td>ivo://cxc.harvard.edu/csc.siap</td><td>simpleimageaccess</td><td>http://cda.harvard.edu/cscsiap/queryImages?</td></tr>\n",
       "<tr><td>6</td><td>Chandra X-ray Observatory Data Archive</td><td>ivo://cxc.harvard.edu/cda.siap</td><td>simpleimageaccess</td><td>http://cda.harvard.edu/cxcsiap/queryImages?</td></tr>\n",
       "</table><style>table.dataTable {clear: both; width: auto !important; margin: 0 !important;}\n",
       ".dataTables_info, .dataTables_length, .dataTables_filter, .dataTables_paginate{\n",
       "display: inline-block; margin-right: 1em; }\n",
       ".paginate_button { margin-right: 5px; }\n",
       "</style>\n",
       "<script>\n",
       "\n",
       "var astropy_sort_num = function(a, b) {\n",
       "    var a_num = parseFloat(a);\n",
       "    var b_num = parseFloat(b);\n",
       "\n",
       "    if (isNaN(a_num) && isNaN(b_num))\n",
       "        return ((a < b) ? -1 : ((a > b) ? 1 : 0));\n",
       "    else if (!isNaN(a_num) && !isNaN(b_num))\n",
       "        return ((a_num < b_num) ? -1 : ((a_num > b_num) ? 1 : 0));\n",
       "    else\n",
       "        return isNaN(a_num) ? -1 : 1;\n",
       "}\n",
       "\n",
       "require.config({paths: {\n",
       "    datatables: 'https://cdn.datatables.net/1.10.12/js/jquery.dataTables.min'\n",
       "}});\n",
       "require([\"datatables\"], function(){\n",
       "    console.log(\"$('#table4514319944-615917').dataTable()\");\n",
       "    \n",
       "jQuery.extend( jQuery.fn.dataTableExt.oSort, {\n",
       "    \"optionalnum-asc\": astropy_sort_num,\n",
       "    \"optionalnum-desc\": function (a,b) { return -astropy_sort_num(a, b); }\n",
       "});\n",
       "\n",
       "    $('#table4514319944-615917').dataTable({\n",
       "        order: [],\n",
       "        pageLength: 50,\n",
       "        lengthMenu: [[10, 25, 50, 100, 500, 1000, -1], [10, 25, 50, 100, 500, 1000, 'All']],\n",
       "        pagingType: \"full_numbers\",\n",
       "        columnDefs: [{targets: [0], type: \"optionalnum\"}]\n",
       "    });\n",
       "});\n",
       "</script>\n"
      ],
      "text/plain": [
       "<IPython.core.display.HTML object>"
      ]
     },
     "execution_count": 5,
     "metadata": {},
     "output_type": "execute_result"
    }
   ],
   "source": [
    "query = \"\"\"\n",
    "    select res.res_title, res.ivoid, cap.cap_type, int.access_url from rr.resource res \n",
    "    natural join rr.capability cap\n",
    "    natural join rr.interface int\n",
    "    where \n",
    "    res.res_title like '%chandra%'\n",
    "    and cap.cap_type = 'simpleimageaccess'\n",
    "\"\"\"\n",
    "results = registry_tap_query(query)\n",
    "\n",
    "results.show_in_notebook()"
   ]
  },
  {
   "cell_type": "markdown",
   "metadata": {},
   "source": [
    "#### Limit Chandra image service results to those from Harvard."
   ]
  },
  {
   "cell_type": "code",
   "execution_count": 6,
   "metadata": {
    "scrolled": true
   },
   "outputs": [
    {
     "data": {
      "text/html": [
       "&lt;Table masked=True length=2&gt;\n",
       "<table id=\"table4514117896-584695\" class=\"table-striped table-bordered table-condensed\">\n",
       "<thead><tr><th>idx</th><th>res_title</th><th>ivoid</th><th>cap_type</th><th>access_url</th></tr></thead>\n",
       "<tr><td>0</td><td>Chandra Source Catalog</td><td>ivo://cxc.harvard.edu/csc.siap</td><td>simpleimageaccess</td><td>http://cda.harvard.edu/cscsiap/queryImages?</td></tr>\n",
       "<tr><td>1</td><td>Chandra X-ray Observatory Data Archive</td><td>ivo://cxc.harvard.edu/cda.siap</td><td>simpleimageaccess</td><td>http://cda.harvard.edu/cxcsiap/queryImages?</td></tr>\n",
       "</table><style>table.dataTable {clear: both; width: auto !important; margin: 0 !important;}\n",
       ".dataTables_info, .dataTables_length, .dataTables_filter, .dataTables_paginate{\n",
       "display: inline-block; margin-right: 1em; }\n",
       ".paginate_button { margin-right: 5px; }\n",
       "</style>\n",
       "<script>\n",
       "\n",
       "var astropy_sort_num = function(a, b) {\n",
       "    var a_num = parseFloat(a);\n",
       "    var b_num = parseFloat(b);\n",
       "\n",
       "    if (isNaN(a_num) && isNaN(b_num))\n",
       "        return ((a < b) ? -1 : ((a > b) ? 1 : 0));\n",
       "    else if (!isNaN(a_num) && !isNaN(b_num))\n",
       "        return ((a_num < b_num) ? -1 : ((a_num > b_num) ? 1 : 0));\n",
       "    else\n",
       "        return isNaN(a_num) ? -1 : 1;\n",
       "}\n",
       "\n",
       "require.config({paths: {\n",
       "    datatables: 'https://cdn.datatables.net/1.10.12/js/jquery.dataTables.min'\n",
       "}});\n",
       "require([\"datatables\"], function(){\n",
       "    console.log(\"$('#table4514117896-584695').dataTable()\");\n",
       "    \n",
       "jQuery.extend( jQuery.fn.dataTableExt.oSort, {\n",
       "    \"optionalnum-asc\": astropy_sort_num,\n",
       "    \"optionalnum-desc\": function (a,b) { return -astropy_sort_num(a, b); }\n",
       "});\n",
       "\n",
       "    $('#table4514117896-584695').dataTable({\n",
       "        order: [],\n",
       "        pageLength: 50,\n",
       "        lengthMenu: [[10, 25, 50, 100, 500, 1000, -1], [10, 25, 50, 100, 500, 1000, 'All']],\n",
       "        pagingType: \"full_numbers\",\n",
       "        columnDefs: [{targets: [0], type: \"optionalnum\"}]\n",
       "    });\n",
       "});\n",
       "</script>\n"
      ],
      "text/plain": [
       "<IPython.core.display.HTML object>"
      ]
     },
     "execution_count": 6,
     "metadata": {},
     "output_type": "execute_result"
    }
   ],
   "source": [
    "query = \"\"\"\n",
    "    select res.res_title, res.ivoid, cap.cap_type, int.access_url from rr.resource res \n",
    "    natural join rr.capability cap\n",
    "    natural join rr.interface int\n",
    "    where \n",
    "    res.res_title like '%chandra%'\n",
    "    and cap.cap_type = 'simpleimageaccess'\n",
    "    and res.ivoid like '%harvard%'\n",
    "\"\"\"\n",
    "results = registry_tap_query(query)\n",
    "\n",
    "results.show_in_notebook()"
   ]
  },
  {
   "cell_type": "markdown",
   "metadata": {},
   "source": [
    "#### Find all values for 'waveband' that exist in the registry."
   ]
  },
  {
   "cell_type": "code",
   "execution_count": 7,
   "metadata": {},
   "outputs": [
    {
     "data": {
      "text/html": [
       "&lt;Table masked=True length=90&gt;\n",
       "<table id=\"table4472784712-621713\" class=\"table-striped table-bordered table-condensed\">\n",
       "<thead><tr><th>idx</th><th>waveband</th><th>COUNT</th></tr></thead>\n",
       "<tr><td>0</td><td></td><td>0</td></tr>\n",
       "<tr><td>1</td><td>euv</td><td>9</td></tr>\n",
       "<tr><td>2</td><td>euv#uv</td><td>1</td></tr>\n",
       "<tr><td>3</td><td>euv#x-ray</td><td>3</td></tr>\n",
       "<tr><td>4</td><td>gamma-ray</td><td>201</td></tr>\n",
       "<tr><td>5</td><td>gamma-ray#infrared</td><td>7</td></tr>\n",
       "<tr><td>6</td><td>gamma-ray#infrared#radio</td><td>1</td></tr>\n",
       "<tr><td>7</td><td>gamma-ray#optical</td><td>53</td></tr>\n",
       "<tr><td>8</td><td>gamma-ray#optical#infrared</td><td>16</td></tr>\n",
       "<tr><td>9</td><td>gamma-ray#optical#infrared#radio</td><td>3</td></tr>\n",
       "<tr><td>10</td><td>gamma-ray#optical#radio</td><td>10</td></tr>\n",
       "<tr><td>11</td><td>gamma-ray#optical#x-ray</td><td>1</td></tr>\n",
       "<tr><td>12</td><td>gamma-ray#radio</td><td>44</td></tr>\n",
       "<tr><td>13</td><td>gamma-ray#radio#x-ray</td><td>1</td></tr>\n",
       "<tr><td>14</td><td>gamma-ray#radio#x-ray#optical</td><td>1</td></tr>\n",
       "<tr><td>15</td><td>gamma-ray#uv#infrared</td><td>1</td></tr>\n",
       "<tr><td>16</td><td>gamma-ray#uv#optical</td><td>1</td></tr>\n",
       "<tr><td>17</td><td>gamma-ray#uv#radio</td><td>1</td></tr>\n",
       "<tr><td>18</td><td>gamma-ray#x-ray</td><td>47</td></tr>\n",
       "<tr><td>19</td><td>gamma-ray#x-ray#infrared#radio</td><td>1</td></tr>\n",
       "<tr><td>20</td><td>gamma-ray#x-ray#optical</td><td>8</td></tr>\n",
       "<tr><td>21</td><td>gamma-ray#x-ray#optical#infrared</td><td>2</td></tr>\n",
       "<tr><td>22</td><td>gamma-ray#x-ray#optical#infrared#radio</td><td>2</td></tr>\n",
       "<tr><td>23</td><td>gamma-ray#x-ray#optical#radio</td><td>4</td></tr>\n",
       "<tr><td>24</td><td>gamma-ray#x-ray#radio</td><td>6</td></tr>\n",
       "<tr><td>25</td><td>gamma-ray#x-ray#uv#optical#infrared</td><td>1</td></tr>\n",
       "<tr><td>26</td><td>gamma-ray#x-ray#uv#optical#infrared#radio</td><td>1</td></tr>\n",
       "<tr><td>27</td><td>gamma-ray#x-ray#uv#optical#radio</td><td>1</td></tr>\n",
       "<tr><td>28</td><td>gamma-ray#x-ray#uv#radio</td><td>3</td></tr>\n",
       "<tr><td>29</td><td>infrared</td><td>1684</td></tr>\n",
       "<tr><td>30</td><td>infrared#millimeter</td><td>32</td></tr>\n",
       "<tr><td>31</td><td>infrared#optical</td><td>33</td></tr>\n",
       "<tr><td>32</td><td>infrared#optical#radio</td><td>9</td></tr>\n",
       "<tr><td>33</td><td>infrared#optical#radio#uv#x-ray</td><td>2</td></tr>\n",
       "<tr><td>34</td><td>infrared#optical#radio#x-ray</td><td>3</td></tr>\n",
       "<tr><td>35</td><td>infrared#optical#uv</td><td>3</td></tr>\n",
       "<tr><td>36</td><td>infrared#optical#uv#x-ray</td><td>1</td></tr>\n",
       "<tr><td>37</td><td>infrared#optical#x-ray</td><td>27</td></tr>\n",
       "<tr><td>38</td><td>infrared#radio</td><td>225</td></tr>\n",
       "<tr><td>39</td><td>infrared#radio#gamma-ray#x-ray</td><td>1</td></tr>\n",
       "<tr><td>40</td><td>infrared#radio#x-ray</td><td>1</td></tr>\n",
       "<tr><td>41</td><td>infrared#x-ray</td><td>21</td></tr>\n",
       "<tr><td>42</td><td>millimeter</td><td>82</td></tr>\n",
       "<tr><td>43</td><td>optical</td><td>8099</td></tr>\n",
       "<tr><td>44</td><td>optical#infrared</td><td>1776</td></tr>\n",
       "<tr><td>45</td><td>optical#infrared#radio</td><td>110</td></tr>\n",
       "<tr><td>46</td><td>optical#infrared#uv</td><td>7</td></tr>\n",
       "<tr><td>47</td><td>optical#radio</td><td>454</td></tr>\n",
       "<tr><td>48</td><td>optical#radio#x-ray</td><td>8</td></tr>\n",
       "<tr><td>49</td><td>optical#uv</td><td>18</td></tr>\n",
       "<tr><td>50</td><td>optical#uv#infrared</td><td>5</td></tr>\n",
       "<tr><td>51</td><td>optical#uv#x-ray</td><td>2</td></tr>\n",
       "<tr><td>52</td><td>optical#x-ray</td><td>48</td></tr>\n",
       "<tr><td>53</td><td>radio</td><td>1516</td></tr>\n",
       "<tr><td>54</td><td>radio#infrared#optical#uv#x-ray#gamma-ray</td><td>1</td></tr>\n",
       "<tr><td>55</td><td>radio#millimeter#infrared#optical#uv#euv#x-ray#gamma-ray</td><td>7</td></tr>\n",
       "<tr><td>56</td><td>radio#millimeter#infrared#optical#uv#x-ray#gamma-ray</td><td>2</td></tr>\n",
       "<tr><td>57</td><td>radio#x-ray</td><td>1</td></tr>\n",
       "<tr><td>58</td><td>uv</td><td>272</td></tr>\n",
       "<tr><td>59</td><td>uv#euv</td><td>1</td></tr>\n",
       "<tr><td>60</td><td>uv#infrared</td><td>24</td></tr>\n",
       "<tr><td>61</td><td>uv#infrared#radio</td><td>4</td></tr>\n",
       "<tr><td>62</td><td>uv#optical</td><td>167</td></tr>\n",
       "<tr><td>63</td><td>uv#optical#infrared</td><td>63</td></tr>\n",
       "<tr><td>64</td><td>uv#optical#infrared#radio</td><td>11</td></tr>\n",
       "<tr><td>65</td><td>uv#optical#radio</td><td>8</td></tr>\n",
       "<tr><td>66</td><td>uv#radio</td><td>10</td></tr>\n",
       "<tr><td>67</td><td>uv#uv</td><td>1</td></tr>\n",
       "<tr><td>68</td><td>uv#x-ray</td><td>1</td></tr>\n",
       "<tr><td>69</td><td>x-ray</td><td>939</td></tr>\n",
       "<tr><td>70</td><td>x-ray#euv</td><td>2</td></tr>\n",
       "<tr><td>71</td><td>x-ray#euv#uv#infrared</td><td>1</td></tr>\n",
       "<tr><td>72</td><td>x-ray#gamma-ray</td><td>2</td></tr>\n",
       "<tr><td>73</td><td>x-ray#gamma-ray#uv#infrared#optical</td><td>1</td></tr>\n",
       "<tr><td>74</td><td>x-ray#infrared</td><td>84</td></tr>\n",
       "<tr><td>75</td><td>x-ray#infrared#optical</td><td>1</td></tr>\n",
       "<tr><td>76</td><td>x-ray#infrared#radio</td><td>19</td></tr>\n",
       "<tr><td>77</td><td>x-ray#optical</td><td>213</td></tr>\n",
       "<tr><td>78</td><td>x-ray#optical#infrared</td><td>87</td></tr>\n",
       "<tr><td>79</td><td>x-ray#optical#infrared#radio</td><td>11</td></tr>\n",
       "<tr><td>80</td><td>x-ray#optical#radio</td><td>22</td></tr>\n",
       "<tr><td>81</td><td>x-ray#radio</td><td>51</td></tr>\n",
       "<tr><td>82</td><td>x-ray#uv</td><td>13</td></tr>\n",
       "<tr><td>83</td><td>x-ray#uv#infrared</td><td>1</td></tr>\n",
       "<tr><td>84</td><td>x-ray#uv#infrared#radio</td><td>1</td></tr>\n",
       "<tr><td>85</td><td>x-ray#uv#optical</td><td>16</td></tr>\n",
       "<tr><td>86</td><td>x-ray#uv#optical#infrared</td><td>11</td></tr>\n",
       "<tr><td>87</td><td>x-ray#uv#optical#infrared#radio</td><td>2</td></tr>\n",
       "<tr><td>88</td><td>x-ray#uv#optical#radio</td><td>1</td></tr>\n",
       "<tr><td>89</td><td>x-ray#uv#radio</td><td>3</td></tr>\n",
       "</table><style>table.dataTable {clear: both; width: auto !important; margin: 0 !important;}\n",
       ".dataTables_info, .dataTables_length, .dataTables_filter, .dataTables_paginate{\n",
       "display: inline-block; margin-right: 1em; }\n",
       ".paginate_button { margin-right: 5px; }\n",
       "</style>\n",
       "<script>\n",
       "\n",
       "var astropy_sort_num = function(a, b) {\n",
       "    var a_num = parseFloat(a);\n",
       "    var b_num = parseFloat(b);\n",
       "\n",
       "    if (isNaN(a_num) && isNaN(b_num))\n",
       "        return ((a < b) ? -1 : ((a > b) ? 1 : 0));\n",
       "    else if (!isNaN(a_num) && !isNaN(b_num))\n",
       "        return ((a_num < b_num) ? -1 : ((a_num > b_num) ? 1 : 0));\n",
       "    else\n",
       "        return isNaN(a_num) ? -1 : 1;\n",
       "}\n",
       "\n",
       "require.config({paths: {\n",
       "    datatables: 'https://cdn.datatables.net/1.10.12/js/jquery.dataTables.min'\n",
       "}});\n",
       "require([\"datatables\"], function(){\n",
       "    console.log(\"$('#table4472784712-621713').dataTable()\");\n",
       "    \n",
       "jQuery.extend( jQuery.fn.dataTableExt.oSort, {\n",
       "    \"optionalnum-asc\": astropy_sort_num,\n",
       "    \"optionalnum-desc\": function (a,b) { return -astropy_sort_num(a, b); }\n",
       "});\n",
       "\n",
       "    $('#table4472784712-621713').dataTable({\n",
       "        order: [],\n",
       "        pageLength: 50,\n",
       "        lengthMenu: [[10, 25, 50, 100, 500, 1000, -1], [10, 25, 50, 100, 500, 1000, 'All']],\n",
       "        pagingType: \"full_numbers\",\n",
       "        columnDefs: [{targets: [0, 2], type: \"optionalnum\"}]\n",
       "    });\n",
       "});\n",
       "</script>\n"
      ],
      "text/plain": [
       "<IPython.core.display.HTML object>"
      ]
     },
     "execution_count": 7,
     "metadata": {},
     "output_type": "execute_result"
    }
   ],
   "source": [
    "query = \"\"\"\n",
    "    select waveband, count(waveband) from rr.resource\n",
    "    group by waveband\n",
    "    order by waveband\n",
    "\"\"\"\n",
    "results = registry_tap_query(query)\n",
    "\n",
    "results.show_in_notebook()"
   ]
  },
  {
   "cell_type": "markdown",
   "metadata": {},
   "source": [
    "#### Find image services for UV data served by STScI."
   ]
  },
  {
   "cell_type": "code",
   "execution_count": 8,
   "metadata": {},
   "outputs": [
    {
     "data": {
      "text/html": [
       "&lt;Table masked=True length=14&gt;\n",
       "<table id=\"table4472784432-637060\" class=\"table-striped table-bordered table-condensed\">\n",
       "<thead><tr><th>idx</th><th>res_title</th><th>ivoid</th><th>cap_type</th><th>access_url</th></tr></thead>\n",
       "<tr><td>0</td><td>ACS Galactic Globular Cluster Survey (ACSGGCT)</td><td>ivo://mast.stsci/acsggct</td><td>simpleimageaccess</td><td>http://archive.stsci.edu/siap/search.php?id=acsggct&amp;amp;</td></tr>\n",
       "<tr><td>1</td><td>Hubble Infrared Pure Parallel Imaging Extragalactic Survey (HIPPIES)</td><td>ivo://mast.stsci/hippies</td><td>simpleimageaccess</td><td>http://archive.stsci.edu/siap/search.php?id=HIPPIES&amp;amp;</td></tr>\n",
       "<tr><td>2</td><td>Ultraviolet Imaging Telescope (UIT)</td><td>ivo://mast.stsci/siap/uit</td><td>simpleimageaccess</td><td>http://archive.stsci.edu/siap/search.php?id=UIT&amp;amp;</td></tr>\n",
       "<tr><td>3</td><td>Hubble Space Telescope Press Release Image Archive 2008-2010</td><td>ivo://mast.stsci/stpr</td><td>simpleimageaccess</td><td>http://archive.stsci.edu/stpr/vo_search.php?</td></tr>\n",
       "<tr><td>4</td><td>GALEX Atlas of Nearby Galaxies</td><td>ivo://mast.stsci/siap/galex_atlas</td><td>simpleimageaccess</td><td>http://archive.stsci.edu/siap/search.php?id=galex_atlas&amp;amp;</td></tr>\n",
       "<tr><td>5</td><td>Cosmic Assembly Near-IR Deep Extragalactic Legacy Survey (CANDELS)</td><td>ivo://mast.stsci/candels</td><td>simpleimageaccess</td><td>http://archive.stsci.edu/siap/search.php?id=candels&amp;amp;</td></tr>\n",
       "<tr><td>6</td><td>Panchromatic Hubble Andromeda Treasury (PHAT)</td><td>ivo://mast.stsci/phat</td><td>simpleimageaccess</td><td>http://archive.stsci.edu/siap/search.php?id=phat&amp;amp;</td></tr>\n",
       "<tr><td>7</td><td>HST Ultraviolet Atlas of Nearby Galaxies</td><td>ivo://mast.stsci/siap/hst.maoz_atlas</td><td>simpleimageaccess</td><td>http://archive.stsci.edu/siap/search.php?id=maoz_atlas&amp;amp;</td></tr>\n",
       "<tr><td>8</td><td>Cluster Lensing And Supernova survey with Hubble (CLASH)</td><td>ivo://mast.stsci/clash</td><td>simpleimageaccess</td><td>http://archive.stsci.edu/siap/search.php?id=clash&amp;amp;</td></tr>\n",
       "<tr><td>9</td><td>Archive of Nearby Galaxies: Reduce, Reuse, Recycle (ANGRRR)</td><td>ivo://mast.stsci/angrrr</td><td>simpleimageaccess</td><td>http://archive.stsci.edu/siap/search.php?id=angrrr&amp;amp;</td></tr>\n",
       "<tr><td>10</td><td>Hubble Space Telescope Press Release Image Archive</td><td>ivo://opo.stsci/hst_pr_sia</td><td>simpleimageaccess</td><td>http://hubblesite.org/cgi-bin/sia/hst_pr_sia.pl?</td></tr>\n",
       "<tr><td>11</td><td>Hubble Legacy Archive</td><td>ivo://archive.stsci.edu/siap/hla</td><td>simpleimageaccess</td><td>http://hla.stsci.edu/cgi-bin/hlaSIAP.cgi?imagetype=best&amp;amp;inst=ACS,ACSGrism,WFC3,WFPC2,NICMOS,NICGRISM,COS,STIS,FOS,GHRS&amp;amp;proprietary=false&amp;amp;</td></tr>\n",
       "<tr><td>12</td><td>Hubble Space Telescope Ultraviolet Images of the UDF and HDF</td><td>ivo://mast.stsci/siap/udfuv</td><td>simpleimageaccess</td><td>http://archive.stsci.edu/siap/search.php?id=udfuv&amp;amp;</td></tr>\n",
       "<tr><td>13</td><td>Galaxy Evolution Explorer</td><td>ivo://archive.stsci.edu/sia/galex</td><td>simpleimageaccess</td><td>http://mast.stsci.edu/portal_vo/Mashup/VoQuery.asmx/SiaV1?MISSION=GALEX&amp;amp;</td></tr>\n",
       "</table><style>table.dataTable {clear: both; width: auto !important; margin: 0 !important;}\n",
       ".dataTables_info, .dataTables_length, .dataTables_filter, .dataTables_paginate{\n",
       "display: inline-block; margin-right: 1em; }\n",
       ".paginate_button { margin-right: 5px; }\n",
       "</style>\n",
       "<script>\n",
       "\n",
       "var astropy_sort_num = function(a, b) {\n",
       "    var a_num = parseFloat(a);\n",
       "    var b_num = parseFloat(b);\n",
       "\n",
       "    if (isNaN(a_num) && isNaN(b_num))\n",
       "        return ((a < b) ? -1 : ((a > b) ? 1 : 0));\n",
       "    else if (!isNaN(a_num) && !isNaN(b_num))\n",
       "        return ((a_num < b_num) ? -1 : ((a_num > b_num) ? 1 : 0));\n",
       "    else\n",
       "        return isNaN(a_num) ? -1 : 1;\n",
       "}\n",
       "\n",
       "require.config({paths: {\n",
       "    datatables: 'https://cdn.datatables.net/1.10.12/js/jquery.dataTables.min'\n",
       "}});\n",
       "require([\"datatables\"], function(){\n",
       "    console.log(\"$('#table4472784432-637060').dataTable()\");\n",
       "    \n",
       "jQuery.extend( jQuery.fn.dataTableExt.oSort, {\n",
       "    \"optionalnum-asc\": astropy_sort_num,\n",
       "    \"optionalnum-desc\": function (a,b) { return -astropy_sort_num(a, b); }\n",
       "});\n",
       "\n",
       "    $('#table4472784432-637060').dataTable({\n",
       "        order: [],\n",
       "        pageLength: 50,\n",
       "        lengthMenu: [[10, 25, 50, 100, 500, 1000, -1], [10, 25, 50, 100, 500, 1000, 'All']],\n",
       "        pagingType: \"full_numbers\",\n",
       "        columnDefs: [{targets: [0], type: \"optionalnum\"}]\n",
       "    });\n",
       "});\n",
       "</script>\n"
      ],
      "text/plain": [
       "<IPython.core.display.HTML object>"
      ]
     },
     "execution_count": 8,
     "metadata": {},
     "output_type": "execute_result"
    }
   ],
   "source": [
    "query = \"\"\"\n",
    "    select res.res_title, res.ivoid, cap.cap_type, int.access_url from rr.resource res \n",
    "    natural join rr.capability cap\n",
    "    natural join rr.interface int\n",
    "    where \n",
    "    cap.cap_type = 'simpleimageaccess'\n",
    "    and res.waveband like '%uv%'\n",
    "    and res.ivoid like '%stsci%'\n",
    "\"\"\"\n",
    "results = registry_tap_query(query)\n",
    "\n",
    "results.show_in_notebook()"
   ]
  }
 ],
 "metadata": {
  "kernelspec": {
   "display_name": "Python 3",
   "language": "python",
   "name": "python3"
  },
  "language_info": {
   "codemirror_mode": {
    "name": "ipython",
    "version": 3
   },
   "file_extension": ".py",
   "mimetype": "text/x-python",
   "name": "python",
   "nbconvert_exporter": "python",
   "pygments_lexer": "ipython3",
   "version": "3.6.1"
  }
 },
 "nbformat": 4,
 "nbformat_minor": 2
}
